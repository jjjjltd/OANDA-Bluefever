{
 "cells": [
  {
   "cell_type": "markdown",
   "metadata": {},
   "source": [
    "https://www.youtube.com/watch?v=l99baVWtf30&list=PLZ1QII7yudbecO6a-zAI6cuGP1LLnmW8e&index=15"
   ]
  },
  {
   "cell_type": "code",
   "execution_count": 29,
   "metadata": {},
   "outputs": [],
   "source": [
    "import pandas as pd\n",
    "import utils\n",
    "import plotly.graph_objects as go"
   ]
  },
  {
   "cell_type": "code",
   "execution_count": 30,
   "metadata": {},
   "outputs": [],
   "source": [
    "pair = \"EUR_USD\"\n",
    "granularity = \"H1\""
   ]
  },
  {
   "cell_type": "code",
   "execution_count": 31,
   "metadata": {},
   "outputs": [],
   "source": [
    "\n",
    "df = pd.read_csv(utils.get_hist_data_filename(pair, granularity), index_col=False)"
   ]
  },
  {
   "cell_type": "markdown",
   "metadata": {},
   "source": [
    "We want most of the columns in our dataframe to be numeric so that we can do maths.  non_cols is the only 2 columns where we don't want to do this."
   ]
  },
  {
   "cell_type": "code",
   "execution_count": 32,
   "metadata": {},
   "outputs": [],
   "source": [
    "non_cols = [\"time\", \"volume\", \"ticker\"]\n",
    "mod_cols = [x for x in df.columns if x not in non_cols]"
   ]
  },
  {
   "cell_type": "code",
   "execution_count": 33,
   "metadata": {},
   "outputs": [],
   "source": [
    "df[mod_cols] = df[mod_cols].apply(pd.to_numeric)"
   ]
  },
  {
   "cell_type": "code",
   "execution_count": 34,
   "metadata": {},
   "outputs": [
    {
     "name": "stdout",
     "output_type": "stream",
     "text": [
      "<class 'pandas.core.frame.DataFrame'>\n",
      "RangeIndex: 3999 entries, 0 to 3998\n",
      "Data columns (total 16 columns):\n",
      " #   Column      Non-Null Count  Dtype  \n",
      "---  ------      --------------  -----  \n",
      " 0   Unnamed: 0  3999 non-null   int64  \n",
      " 1   ticker      3999 non-null   object \n",
      " 2   time        3999 non-null   object \n",
      " 3   volume      3999 non-null   int64  \n",
      " 4   bid_o       3999 non-null   float64\n",
      " 5   bid_h       3999 non-null   float64\n",
      " 6   bid_l       3999 non-null   float64\n",
      " 7   bid_c       3999 non-null   float64\n",
      " 8   mid_o       3999 non-null   float64\n",
      " 9   mid_h       3999 non-null   float64\n",
      " 10  mid_l       3999 non-null   float64\n",
      " 11  mid_c       3999 non-null   float64\n",
      " 12  ask_o       3999 non-null   float64\n",
      " 13  ask_h       3999 non-null   float64\n",
      " 14  ask_l       3999 non-null   float64\n",
      " 15  ask_c       3999 non-null   float64\n",
      "dtypes: float64(12), int64(2), object(2)\n",
      "memory usage: 500.0+ KB\n"
     ]
    }
   ],
   "source": [
    "df.info()"
   ]
  },
  {
   "cell_type": "code",
   "execution_count": 35,
   "metadata": {},
   "outputs": [],
   "source": [
    "df_plot = df.iloc[-100:].copy()"
   ]
  },
  {
   "cell_type": "markdown",
   "metadata": {},
   "source": [
    "First use(s) of plotly library.  Note: \"go\" acronym references 'graph_objects'.  Not to be confused with Golang - which I've also been playing with recently.  It's all fun!!"
   ]
  },
  {
   "cell_type": "code",
   "execution_count": 36,
   "metadata": {},
   "outputs": [
    {
     "data": {
      "application/vnd.plotly.v1+json": {
       "config": {
        "plotlyServerURL": "https://plot.ly"
       },
       "data": [
        {
         "close": [
          1.09546,
          1.09648,
          1.09619,
          1.09594,
          1.09539,
          1.0947,
          1.0967,
          1.09748,
          1.099,
          1.09894,
          1.09952,
          1.0999,
          1.0998,
          1.10012,
          1.10004,
          1.10015,
          1.10053,
          1.10068,
          1.10096,
          1.1019,
          1.10176,
          1.102,
          1.10072,
          1.10214,
          1.10082,
          1.10028,
          1.10064,
          1.10061,
          1.0984,
          1.0982,
          1.09872,
          1.09902,
          1.09918,
          1.10026,
          1.10068,
          1.09992,
          1.10061,
          1.10087,
          1.10073,
          1.10122,
          1.10138,
          1.10188,
          1.10272,
          1.10314,
          1.10297,
          1.10364,
          1.1026,
          1.1023,
          1.10275,
          1.10223,
          1.10249,
          1.10222,
          1.10149,
          1.10582,
          1.10979,
          1.11204,
          1.11222,
          1.11321,
          1.11298,
          1.11383,
          1.1137,
          1.11316,
          1.11295,
          1.11354,
          1.11408,
          1.11384,
          1.11451,
          1.11462,
          1.11457,
          1.1141,
          1.11312,
          1.11486,
          1.11554,
          1.1161,
          1.1173,
          1.11714,
          1.11744,
          1.11798,
          1.11942,
          1.1196,
          1.11929,
          1.12058,
          1.12157,
          1.12224,
          1.12264,
          1.12264,
          1.12252,
          1.12247,
          1.12234,
          1.12228,
          1.1233,
          1.12354,
          1.12414,
          1.1233,
          1.12193,
          1.12102,
          1.12218,
          1.12312,
          1.12266,
          1.12204
         ],
         "decreasing": {
          "fillcolor": "#CC2E3C",
          "line": {
           "color": "#FF3A4C"
          }
         },
         "high": [
          1.09656,
          1.09658,
          1.09733,
          1.09653,
          1.09622,
          1.09582,
          1.09713,
          1.09804,
          1.09928,
          1.09914,
          1.09968,
          1.09994,
          1.10005,
          1.10016,
          1.10018,
          1.1003,
          1.1006,
          1.10088,
          1.10132,
          1.10202,
          1.10194,
          1.10203,
          1.10223,
          1.10274,
          1.1023,
          1.10156,
          1.10087,
          1.10128,
          1.10064,
          1.09904,
          1.09939,
          1.09936,
          1.09946,
          1.10033,
          1.10093,
          1.10078,
          1.10074,
          1.10088,
          1.10091,
          1.10124,
          1.10146,
          1.10217,
          1.10318,
          1.10338,
          1.10316,
          1.10369,
          1.10364,
          1.10356,
          1.103,
          1.10306,
          1.10281,
          1.10254,
          1.10248,
          1.1072,
          1.11007,
          1.11234,
          1.11254,
          1.11335,
          1.11328,
          1.11401,
          1.11405,
          1.11381,
          1.11347,
          1.11372,
          1.11408,
          1.11452,
          1.11457,
          1.11478,
          1.11489,
          1.11486,
          1.11434,
          1.11501,
          1.11578,
          1.11702,
          1.11746,
          1.11736,
          1.1178,
          1.11906,
          1.11952,
          1.11962,
          1.11966,
          1.12092,
          1.12186,
          1.12228,
          1.12275,
          1.1228,
          1.12262,
          1.12298,
          1.1228,
          1.12248,
          1.12338,
          1.12386,
          1.12432,
          1.12412,
          1.12354,
          1.12258,
          1.12218,
          1.12361,
          1.12451,
          1.12268
         ],
         "increasing": {
          "fillcolor": "#24A06B",
          "line": {
           "color": "#2EC886"
          }
         },
         "line": {
          "width": 1
         },
         "low": [
          1.09484,
          1.0953,
          1.0961,
          1.09546,
          1.09533,
          1.09436,
          1.09473,
          1.09665,
          1.0975,
          1.09826,
          1.09874,
          1.09913,
          1.09964,
          1.0997,
          1.09966,
          1.09996,
          1.10014,
          1.10015,
          1.10058,
          1.10062,
          1.10121,
          1.10152,
          1.10061,
          1.10073,
          1.10076,
          1.10022,
          1.09972,
          1.1004,
          1.0983,
          1.09769,
          1.09795,
          1.09784,
          1.09863,
          1.0991,
          1.10022,
          1.09976,
          1.09992,
          1.1005,
          1.10034,
          1.10074,
          1.10112,
          1.1012,
          1.10186,
          1.10253,
          1.10266,
          1.10294,
          1.10254,
          1.10206,
          1.10218,
          1.10216,
          1.10184,
          1.10186,
          1.10138,
          1.10149,
          1.10564,
          1.10889,
          1.11108,
          1.11206,
          1.11247,
          1.11278,
          1.11334,
          1.11307,
          1.11281,
          1.11295,
          1.11343,
          1.11379,
          1.11364,
          1.11394,
          1.11424,
          1.11407,
          1.11299,
          1.11309,
          1.11363,
          1.11503,
          1.11551,
          1.11596,
          1.11684,
          1.11616,
          1.11763,
          1.11807,
          1.11858,
          1.11919,
          1.12022,
          1.1213,
          1.12195,
          1.12242,
          1.12142,
          1.1224,
          1.12217,
          1.12135,
          1.12223,
          1.12314,
          1.12337,
          1.12328,
          1.12184,
          1.12057,
          1.12041,
          1.12214,
          1.12263,
          1.12155
         ],
         "opacity": 1,
         "open": [
          1.09504,
          1.09545,
          1.09647,
          1.0962,
          1.09596,
          1.09542,
          1.09473,
          1.09672,
          1.0975,
          1.09901,
          1.09892,
          1.09954,
          1.09991,
          1.09983,
          1.10016,
          1.10004,
          1.10016,
          1.10056,
          1.10067,
          1.10096,
          1.10188,
          1.10174,
          1.10197,
          1.10075,
          1.10214,
          1.10081,
          1.10028,
          1.10065,
          1.10058,
          1.09839,
          1.09818,
          1.09874,
          1.09898,
          1.09922,
          1.10028,
          1.10065,
          1.09995,
          1.10064,
          1.10043,
          1.10078,
          1.10124,
          1.10137,
          1.10188,
          1.10274,
          1.10312,
          1.10298,
          1.10363,
          1.10264,
          1.10229,
          1.10274,
          1.1022,
          1.10248,
          1.1022,
          1.1015,
          1.10583,
          1.10973,
          1.11205,
          1.11219,
          1.11317,
          1.113,
          1.11384,
          1.1137,
          1.11329,
          1.113,
          1.11354,
          1.11408,
          1.11386,
          1.11453,
          1.1146,
          1.11457,
          1.1141,
          1.1131,
          1.11485,
          1.11549,
          1.1161,
          1.11728,
          1.11716,
          1.11746,
          1.11799,
          1.11944,
          1.11959,
          1.11928,
          1.12059,
          1.12156,
          1.12224,
          1.12263,
          1.12153,
          1.12252,
          1.12247,
          1.12236,
          1.12229,
          1.1233,
          1.12356,
          1.12412,
          1.12332,
          1.12199,
          1.12102,
          1.12217,
          1.12312,
          1.12268
         ],
         "type": "candlestick",
         "x": [
          "2023-07-10T07:00:00.000000000Z",
          "2023-07-10T08:00:00.000000000Z",
          "2023-07-10T09:00:00.000000000Z",
          "2023-07-10T10:00:00.000000000Z",
          "2023-07-10T11:00:00.000000000Z",
          "2023-07-10T12:00:00.000000000Z",
          "2023-07-10T13:00:00.000000000Z",
          "2023-07-10T14:00:00.000000000Z",
          "2023-07-10T15:00:00.000000000Z",
          "2023-07-10T16:00:00.000000000Z",
          "2023-07-10T17:00:00.000000000Z",
          "2023-07-10T18:00:00.000000000Z",
          "2023-07-10T19:00:00.000000000Z",
          "2023-07-10T20:00:00.000000000Z",
          "2023-07-10T21:00:00.000000000Z",
          "2023-07-10T22:00:00.000000000Z",
          "2023-07-10T23:00:00.000000000Z",
          "2023-07-11T00:00:00.000000000Z",
          "2023-07-11T01:00:00.000000000Z",
          "2023-07-11T02:00:00.000000000Z",
          "2023-07-11T03:00:00.000000000Z",
          "2023-07-11T04:00:00.000000000Z",
          "2023-07-11T05:00:00.000000000Z",
          "2023-07-11T06:00:00.000000000Z",
          "2023-07-11T07:00:00.000000000Z",
          "2023-07-11T08:00:00.000000000Z",
          "2023-07-11T09:00:00.000000000Z",
          "2023-07-11T10:00:00.000000000Z",
          "2023-07-11T11:00:00.000000000Z",
          "2023-07-11T12:00:00.000000000Z",
          "2023-07-11T13:00:00.000000000Z",
          "2023-07-11T14:00:00.000000000Z",
          "2023-07-11T15:00:00.000000000Z",
          "2023-07-11T16:00:00.000000000Z",
          "2023-07-11T17:00:00.000000000Z",
          "2023-07-11T18:00:00.000000000Z",
          "2023-07-11T19:00:00.000000000Z",
          "2023-07-11T20:00:00.000000000Z",
          "2023-07-11T21:00:00.000000000Z",
          "2023-07-11T22:00:00.000000000Z",
          "2023-07-11T23:00:00.000000000Z",
          "2023-07-12T00:00:00.000000000Z",
          "2023-07-12T01:00:00.000000000Z",
          "2023-07-12T02:00:00.000000000Z",
          "2023-07-12T03:00:00.000000000Z",
          "2023-07-12T04:00:00.000000000Z",
          "2023-07-12T05:00:00.000000000Z",
          "2023-07-12T06:00:00.000000000Z",
          "2023-07-12T07:00:00.000000000Z",
          "2023-07-12T08:00:00.000000000Z",
          "2023-07-12T09:00:00.000000000Z",
          "2023-07-12T10:00:00.000000000Z",
          "2023-07-12T11:00:00.000000000Z",
          "2023-07-12T12:00:00.000000000Z",
          "2023-07-12T13:00:00.000000000Z",
          "2023-07-12T14:00:00.000000000Z",
          "2023-07-12T15:00:00.000000000Z",
          "2023-07-12T16:00:00.000000000Z",
          "2023-07-12T17:00:00.000000000Z",
          "2023-07-12T18:00:00.000000000Z",
          "2023-07-12T19:00:00.000000000Z",
          "2023-07-12T20:00:00.000000000Z",
          "2023-07-12T21:00:00.000000000Z",
          "2023-07-12T22:00:00.000000000Z",
          "2023-07-12T23:00:00.000000000Z",
          "2023-07-13T00:00:00.000000000Z",
          "2023-07-13T01:00:00.000000000Z",
          "2023-07-13T02:00:00.000000000Z",
          "2023-07-13T03:00:00.000000000Z",
          "2023-07-13T04:00:00.000000000Z",
          "2023-07-13T05:00:00.000000000Z",
          "2023-07-13T06:00:00.000000000Z",
          "2023-07-13T07:00:00.000000000Z",
          "2023-07-13T08:00:00.000000000Z",
          "2023-07-13T09:00:00.000000000Z",
          "2023-07-13T10:00:00.000000000Z",
          "2023-07-13T11:00:00.000000000Z",
          "2023-07-13T12:00:00.000000000Z",
          "2023-07-13T13:00:00.000000000Z",
          "2023-07-13T14:00:00.000000000Z",
          "2023-07-13T15:00:00.000000000Z",
          "2023-07-13T16:00:00.000000000Z",
          "2023-07-13T17:00:00.000000000Z",
          "2023-07-13T18:00:00.000000000Z",
          "2023-07-13T19:00:00.000000000Z",
          "2023-07-13T20:00:00.000000000Z",
          "2023-07-13T21:00:00.000000000Z",
          "2023-07-13T22:00:00.000000000Z",
          "2023-07-13T23:00:00.000000000Z",
          "2023-07-14T00:00:00.000000000Z",
          "2023-07-14T01:00:00.000000000Z",
          "2023-07-14T02:00:00.000000000Z",
          "2023-07-14T03:00:00.000000000Z",
          "2023-07-14T04:00:00.000000000Z",
          "2023-07-14T05:00:00.000000000Z",
          "2023-07-14T06:00:00.000000000Z",
          "2023-07-14T07:00:00.000000000Z",
          "2023-07-14T08:00:00.000000000Z",
          "2023-07-14T09:00:00.000000000Z",
          "2023-07-14T10:00:00.000000000Z"
         ]
        }
       ],
       "layout": {
        "font": {
         "color": "#e1e1e1",
         "size": 10
        },
        "height": 400,
        "margin": {
         "b": 10,
         "l": 10,
         "r": 10,
         "t": 10
        },
        "paper_bgcolor": "#1e1e1e",
        "plot_bgcolor": "#1e1e1e",
        "template": {
         "data": {
          "bar": [
           {
            "error_x": {
             "color": "#2a3f5f"
            },
            "error_y": {
             "color": "#2a3f5f"
            },
            "marker": {
             "line": {
              "color": "#E5ECF6",
              "width": 0.5
             },
             "pattern": {
              "fillmode": "overlay",
              "size": 10,
              "solidity": 0.2
             }
            },
            "type": "bar"
           }
          ],
          "barpolar": [
           {
            "marker": {
             "line": {
              "color": "#E5ECF6",
              "width": 0.5
             },
             "pattern": {
              "fillmode": "overlay",
              "size": 10,
              "solidity": 0.2
             }
            },
            "type": "barpolar"
           }
          ],
          "carpet": [
           {
            "aaxis": {
             "endlinecolor": "#2a3f5f",
             "gridcolor": "white",
             "linecolor": "white",
             "minorgridcolor": "white",
             "startlinecolor": "#2a3f5f"
            },
            "baxis": {
             "endlinecolor": "#2a3f5f",
             "gridcolor": "white",
             "linecolor": "white",
             "minorgridcolor": "white",
             "startlinecolor": "#2a3f5f"
            },
            "type": "carpet"
           }
          ],
          "choropleth": [
           {
            "colorbar": {
             "outlinewidth": 0,
             "ticks": ""
            },
            "type": "choropleth"
           }
          ],
          "contour": [
           {
            "colorbar": {
             "outlinewidth": 0,
             "ticks": ""
            },
            "colorscale": [
             [
              0,
              "#0d0887"
             ],
             [
              0.1111111111111111,
              "#46039f"
             ],
             [
              0.2222222222222222,
              "#7201a8"
             ],
             [
              0.3333333333333333,
              "#9c179e"
             ],
             [
              0.4444444444444444,
              "#bd3786"
             ],
             [
              0.5555555555555556,
              "#d8576b"
             ],
             [
              0.6666666666666666,
              "#ed7953"
             ],
             [
              0.7777777777777778,
              "#fb9f3a"
             ],
             [
              0.8888888888888888,
              "#fdca26"
             ],
             [
              1,
              "#f0f921"
             ]
            ],
            "type": "contour"
           }
          ],
          "contourcarpet": [
           {
            "colorbar": {
             "outlinewidth": 0,
             "ticks": ""
            },
            "type": "contourcarpet"
           }
          ],
          "heatmap": [
           {
            "colorbar": {
             "outlinewidth": 0,
             "ticks": ""
            },
            "colorscale": [
             [
              0,
              "#0d0887"
             ],
             [
              0.1111111111111111,
              "#46039f"
             ],
             [
              0.2222222222222222,
              "#7201a8"
             ],
             [
              0.3333333333333333,
              "#9c179e"
             ],
             [
              0.4444444444444444,
              "#bd3786"
             ],
             [
              0.5555555555555556,
              "#d8576b"
             ],
             [
              0.6666666666666666,
              "#ed7953"
             ],
             [
              0.7777777777777778,
              "#fb9f3a"
             ],
             [
              0.8888888888888888,
              "#fdca26"
             ],
             [
              1,
              "#f0f921"
             ]
            ],
            "type": "heatmap"
           }
          ],
          "heatmapgl": [
           {
            "colorbar": {
             "outlinewidth": 0,
             "ticks": ""
            },
            "colorscale": [
             [
              0,
              "#0d0887"
             ],
             [
              0.1111111111111111,
              "#46039f"
             ],
             [
              0.2222222222222222,
              "#7201a8"
             ],
             [
              0.3333333333333333,
              "#9c179e"
             ],
             [
              0.4444444444444444,
              "#bd3786"
             ],
             [
              0.5555555555555556,
              "#d8576b"
             ],
             [
              0.6666666666666666,
              "#ed7953"
             ],
             [
              0.7777777777777778,
              "#fb9f3a"
             ],
             [
              0.8888888888888888,
              "#fdca26"
             ],
             [
              1,
              "#f0f921"
             ]
            ],
            "type": "heatmapgl"
           }
          ],
          "histogram": [
           {
            "marker": {
             "pattern": {
              "fillmode": "overlay",
              "size": 10,
              "solidity": 0.2
             }
            },
            "type": "histogram"
           }
          ],
          "histogram2d": [
           {
            "colorbar": {
             "outlinewidth": 0,
             "ticks": ""
            },
            "colorscale": [
             [
              0,
              "#0d0887"
             ],
             [
              0.1111111111111111,
              "#46039f"
             ],
             [
              0.2222222222222222,
              "#7201a8"
             ],
             [
              0.3333333333333333,
              "#9c179e"
             ],
             [
              0.4444444444444444,
              "#bd3786"
             ],
             [
              0.5555555555555556,
              "#d8576b"
             ],
             [
              0.6666666666666666,
              "#ed7953"
             ],
             [
              0.7777777777777778,
              "#fb9f3a"
             ],
             [
              0.8888888888888888,
              "#fdca26"
             ],
             [
              1,
              "#f0f921"
             ]
            ],
            "type": "histogram2d"
           }
          ],
          "histogram2dcontour": [
           {
            "colorbar": {
             "outlinewidth": 0,
             "ticks": ""
            },
            "colorscale": [
             [
              0,
              "#0d0887"
             ],
             [
              0.1111111111111111,
              "#46039f"
             ],
             [
              0.2222222222222222,
              "#7201a8"
             ],
             [
              0.3333333333333333,
              "#9c179e"
             ],
             [
              0.4444444444444444,
              "#bd3786"
             ],
             [
              0.5555555555555556,
              "#d8576b"
             ],
             [
              0.6666666666666666,
              "#ed7953"
             ],
             [
              0.7777777777777778,
              "#fb9f3a"
             ],
             [
              0.8888888888888888,
              "#fdca26"
             ],
             [
              1,
              "#f0f921"
             ]
            ],
            "type": "histogram2dcontour"
           }
          ],
          "mesh3d": [
           {
            "colorbar": {
             "outlinewidth": 0,
             "ticks": ""
            },
            "type": "mesh3d"
           }
          ],
          "parcoords": [
           {
            "line": {
             "colorbar": {
              "outlinewidth": 0,
              "ticks": ""
             }
            },
            "type": "parcoords"
           }
          ],
          "pie": [
           {
            "automargin": true,
            "type": "pie"
           }
          ],
          "scatter": [
           {
            "fillpattern": {
             "fillmode": "overlay",
             "size": 10,
             "solidity": 0.2
            },
            "type": "scatter"
           }
          ],
          "scatter3d": [
           {
            "line": {
             "colorbar": {
              "outlinewidth": 0,
              "ticks": ""
             }
            },
            "marker": {
             "colorbar": {
              "outlinewidth": 0,
              "ticks": ""
             }
            },
            "type": "scatter3d"
           }
          ],
          "scattercarpet": [
           {
            "marker": {
             "colorbar": {
              "outlinewidth": 0,
              "ticks": ""
             }
            },
            "type": "scattercarpet"
           }
          ],
          "scattergeo": [
           {
            "marker": {
             "colorbar": {
              "outlinewidth": 0,
              "ticks": ""
             }
            },
            "type": "scattergeo"
           }
          ],
          "scattergl": [
           {
            "marker": {
             "colorbar": {
              "outlinewidth": 0,
              "ticks": ""
             }
            },
            "type": "scattergl"
           }
          ],
          "scattermapbox": [
           {
            "marker": {
             "colorbar": {
              "outlinewidth": 0,
              "ticks": ""
             }
            },
            "type": "scattermapbox"
           }
          ],
          "scatterpolar": [
           {
            "marker": {
             "colorbar": {
              "outlinewidth": 0,
              "ticks": ""
             }
            },
            "type": "scatterpolar"
           }
          ],
          "scatterpolargl": [
           {
            "marker": {
             "colorbar": {
              "outlinewidth": 0,
              "ticks": ""
             }
            },
            "type": "scatterpolargl"
           }
          ],
          "scatterternary": [
           {
            "marker": {
             "colorbar": {
              "outlinewidth": 0,
              "ticks": ""
             }
            },
            "type": "scatterternary"
           }
          ],
          "surface": [
           {
            "colorbar": {
             "outlinewidth": 0,
             "ticks": ""
            },
            "colorscale": [
             [
              0,
              "#0d0887"
             ],
             [
              0.1111111111111111,
              "#46039f"
             ],
             [
              0.2222222222222222,
              "#7201a8"
             ],
             [
              0.3333333333333333,
              "#9c179e"
             ],
             [
              0.4444444444444444,
              "#bd3786"
             ],
             [
              0.5555555555555556,
              "#d8576b"
             ],
             [
              0.6666666666666666,
              "#ed7953"
             ],
             [
              0.7777777777777778,
              "#fb9f3a"
             ],
             [
              0.8888888888888888,
              "#fdca26"
             ],
             [
              1,
              "#f0f921"
             ]
            ],
            "type": "surface"
           }
          ],
          "table": [
           {
            "cells": {
             "fill": {
              "color": "#EBF0F8"
             },
             "line": {
              "color": "white"
             }
            },
            "header": {
             "fill": {
              "color": "#C8D4E3"
             },
             "line": {
              "color": "white"
             }
            },
            "type": "table"
           }
          ]
         },
         "layout": {
          "annotationdefaults": {
           "arrowcolor": "#2a3f5f",
           "arrowhead": 0,
           "arrowwidth": 1
          },
          "autotypenumbers": "strict",
          "coloraxis": {
           "colorbar": {
            "outlinewidth": 0,
            "ticks": ""
           }
          },
          "colorscale": {
           "diverging": [
            [
             0,
             "#8e0152"
            ],
            [
             0.1,
             "#c51b7d"
            ],
            [
             0.2,
             "#de77ae"
            ],
            [
             0.3,
             "#f1b6da"
            ],
            [
             0.4,
             "#fde0ef"
            ],
            [
             0.5,
             "#f7f7f7"
            ],
            [
             0.6,
             "#e6f5d0"
            ],
            [
             0.7,
             "#b8e186"
            ],
            [
             0.8,
             "#7fbc41"
            ],
            [
             0.9,
             "#4d9221"
            ],
            [
             1,
             "#276419"
            ]
           ],
           "sequential": [
            [
             0,
             "#0d0887"
            ],
            [
             0.1111111111111111,
             "#46039f"
            ],
            [
             0.2222222222222222,
             "#7201a8"
            ],
            [
             0.3333333333333333,
             "#9c179e"
            ],
            [
             0.4444444444444444,
             "#bd3786"
            ],
            [
             0.5555555555555556,
             "#d8576b"
            ],
            [
             0.6666666666666666,
             "#ed7953"
            ],
            [
             0.7777777777777778,
             "#fb9f3a"
            ],
            [
             0.8888888888888888,
             "#fdca26"
            ],
            [
             1,
             "#f0f921"
            ]
           ],
           "sequentialminus": [
            [
             0,
             "#0d0887"
            ],
            [
             0.1111111111111111,
             "#46039f"
            ],
            [
             0.2222222222222222,
             "#7201a8"
            ],
            [
             0.3333333333333333,
             "#9c179e"
            ],
            [
             0.4444444444444444,
             "#bd3786"
            ],
            [
             0.5555555555555556,
             "#d8576b"
            ],
            [
             0.6666666666666666,
             "#ed7953"
            ],
            [
             0.7777777777777778,
             "#fb9f3a"
            ],
            [
             0.8888888888888888,
             "#fdca26"
            ],
            [
             1,
             "#f0f921"
            ]
           ]
          },
          "colorway": [
           "#636efa",
           "#EF553B",
           "#00cc96",
           "#ab63fa",
           "#FFA15A",
           "#19d3f3",
           "#FF6692",
           "#B6E880",
           "#FF97FF",
           "#FECB52"
          ],
          "font": {
           "color": "#2a3f5f"
          },
          "geo": {
           "bgcolor": "white",
           "lakecolor": "white",
           "landcolor": "#E5ECF6",
           "showlakes": true,
           "showland": true,
           "subunitcolor": "white"
          },
          "hoverlabel": {
           "align": "left"
          },
          "hovermode": "closest",
          "mapbox": {
           "style": "light"
          },
          "paper_bgcolor": "white",
          "plot_bgcolor": "#E5ECF6",
          "polar": {
           "angularaxis": {
            "gridcolor": "white",
            "linecolor": "white",
            "ticks": ""
           },
           "bgcolor": "#E5ECF6",
           "radialaxis": {
            "gridcolor": "white",
            "linecolor": "white",
            "ticks": ""
           }
          },
          "scene": {
           "xaxis": {
            "backgroundcolor": "#E5ECF6",
            "gridcolor": "white",
            "gridwidth": 2,
            "linecolor": "white",
            "showbackground": true,
            "ticks": "",
            "zerolinecolor": "white"
           },
           "yaxis": {
            "backgroundcolor": "#E5ECF6",
            "gridcolor": "white",
            "gridwidth": 2,
            "linecolor": "white",
            "showbackground": true,
            "ticks": "",
            "zerolinecolor": "white"
           },
           "zaxis": {
            "backgroundcolor": "#E5ECF6",
            "gridcolor": "white",
            "gridwidth": 2,
            "linecolor": "white",
            "showbackground": true,
            "ticks": "",
            "zerolinecolor": "white"
           }
          },
          "shapedefaults": {
           "line": {
            "color": "#2a3f5f"
           }
          },
          "ternary": {
           "aaxis": {
            "gridcolor": "white",
            "linecolor": "white",
            "ticks": ""
           },
           "baxis": {
            "gridcolor": "white",
            "linecolor": "white",
            "ticks": ""
           },
           "bgcolor": "#E5ECF6",
           "caxis": {
            "gridcolor": "white",
            "linecolor": "white",
            "ticks": ""
           }
          },
          "title": {
           "x": 0.05
          },
          "xaxis": {
           "automargin": true,
           "gridcolor": "white",
           "linecolor": "white",
           "ticks": "",
           "title": {
            "standoff": 15
           },
           "zerolinecolor": "white",
           "zerolinewidth": 2
          },
          "yaxis": {
           "automargin": true,
           "gridcolor": "white",
           "linecolor": "white",
           "ticks": "",
           "title": {
            "standoff": 15
           },
           "zerolinecolor": "white",
           "zerolinewidth": 2
          }
         }
        },
        "width": 1000,
        "xaxis": {
         "fixedrange": true,
         "gridcolor": "#1f292f",
         "rangeslider": {
          "visible": false
         },
         "showgrid": true
        },
        "yaxis": {
         "gridcolor": "#1f292f",
         "showgrid": true
        }
       }
      }
     },
     "metadata": {},
     "output_type": "display_data"
    }
   ],
   "source": [
    "fig = go.Figure()\n",
    "fig.add_trace(go.Candlestick(\n",
    "    x=df_plot.time, open=df_plot.mid_o, high=df_plot.mid_h, low = df_plot.mid_l, close=df_plot.mid_c,\n",
    "    line=dict(width=1), opacity=1,\n",
    "    increasing_fillcolor=\"#24A06B\",\n",
    "    decreasing_fillcolor=\"#CC2E3C\",\n",
    "    increasing_line_color=\"#2EC886\",\n",
    "    decreasing_line_color=\"#FF3A4C\"\n",
    "    ))\n",
    "fig.update_layout(width=1000, height=400, paper_bgcolor = \"#1e1e1e\", plot_bgcolor = \"#1e1e1e\",\n",
    "                margin=dict(l=10, b=10, t=10, r=10), \n",
    "                font=dict(size=10, color=\"#e1e1e1\"))\n",
    "fig.update_xaxes(gridcolor=\"#1f292f\",\n",
    "                 showgrid=True,\n",
    "                 fixedrange=True,\n",
    "                 rangeslider=dict(visible=False))\n",
    "fig.update_yaxes(gridcolor=\"#1f292f\",\n",
    "                 showgrid=True)\n",
    "fig.show()"
   ]
  },
  {
   "cell_type": "markdown",
   "metadata": {},
   "source": [
    "OK, so far so good.  Time to start building some indicators, starting with Moving Average (MA)"
   ]
  },
  {
   "cell_type": "code",
   "execution_count": 37,
   "metadata": {},
   "outputs": [
    {
     "data": {
      "text/plain": [
       "(3999, 6)"
      ]
     },
     "execution_count": 37,
     "metadata": {},
     "output_type": "execute_result"
    }
   ],
   "source": [
    "df_ma = df[[\"time\", \"ticker\", \"mid_o\", \"mid_h\", \"mid_l\", \"mid_c\"]].copy()\n",
    "df_ma.shape"
   ]
  },
  {
   "cell_type": "code",
   "execution_count": 38,
   "metadata": {},
   "outputs": [],
   "source": [
    "df_ma[\"MA_8\"] = df_ma.mid_c.rolling(window=8).mean()"
   ]
  },
  {
   "cell_type": "code",
   "execution_count": 39,
   "metadata": {},
   "outputs": [
    {
     "data": {
      "text/html": [
       "<div>\n",
       "<style scoped>\n",
       "    .dataframe tbody tr th:only-of-type {\n",
       "        vertical-align: middle;\n",
       "    }\n",
       "\n",
       "    .dataframe tbody tr th {\n",
       "        vertical-align: top;\n",
       "    }\n",
       "\n",
       "    .dataframe thead th {\n",
       "        text-align: right;\n",
       "    }\n",
       "</style>\n",
       "<table border=\"1\" class=\"dataframe\">\n",
       "  <thead>\n",
       "    <tr style=\"text-align: right;\">\n",
       "      <th></th>\n",
       "      <th>time</th>\n",
       "      <th>ticker</th>\n",
       "      <th>mid_o</th>\n",
       "      <th>mid_h</th>\n",
       "      <th>mid_l</th>\n",
       "      <th>mid_c</th>\n",
       "      <th>MA_8</th>\n",
       "    </tr>\n",
       "  </thead>\n",
       "  <tbody>\n",
       "    <tr>\n",
       "      <th>0</th>\n",
       "      <td>2022-11-22T20:00:00.000000000Z</td>\n",
       "      <td>EUR_USD</td>\n",
       "      <td>1.02954</td>\n",
       "      <td>1.03045</td>\n",
       "      <td>1.02938</td>\n",
       "      <td>1.03006</td>\n",
       "      <td>NaN</td>\n",
       "    </tr>\n",
       "    <tr>\n",
       "      <th>1</th>\n",
       "      <td>2022-11-22T21:00:00.000000000Z</td>\n",
       "      <td>EUR_USD</td>\n",
       "      <td>1.03004</td>\n",
       "      <td>1.03062</td>\n",
       "      <td>1.02990</td>\n",
       "      <td>1.03026</td>\n",
       "      <td>NaN</td>\n",
       "    </tr>\n",
       "    <tr>\n",
       "      <th>2</th>\n",
       "      <td>2022-11-22T22:00:00.000000000Z</td>\n",
       "      <td>EUR_USD</td>\n",
       "      <td>1.03035</td>\n",
       "      <td>1.03062</td>\n",
       "      <td>1.03018</td>\n",
       "      <td>1.03041</td>\n",
       "      <td>NaN</td>\n",
       "    </tr>\n",
       "    <tr>\n",
       "      <th>3</th>\n",
       "      <td>2022-11-22T23:00:00.000000000Z</td>\n",
       "      <td>EUR_USD</td>\n",
       "      <td>1.03042</td>\n",
       "      <td>1.03109</td>\n",
       "      <td>1.03024</td>\n",
       "      <td>1.03108</td>\n",
       "      <td>NaN</td>\n",
       "    </tr>\n",
       "    <tr>\n",
       "      <th>4</th>\n",
       "      <td>2022-11-23T00:00:00.000000000Z</td>\n",
       "      <td>EUR_USD</td>\n",
       "      <td>1.03109</td>\n",
       "      <td>1.03214</td>\n",
       "      <td>1.03040</td>\n",
       "      <td>1.03055</td>\n",
       "      <td>NaN</td>\n",
       "    </tr>\n",
       "    <tr>\n",
       "      <th>5</th>\n",
       "      <td>2022-11-23T01:00:00.000000000Z</td>\n",
       "      <td>EUR_USD</td>\n",
       "      <td>1.03057</td>\n",
       "      <td>1.03137</td>\n",
       "      <td>1.03004</td>\n",
       "      <td>1.03111</td>\n",
       "      <td>NaN</td>\n",
       "    </tr>\n",
       "    <tr>\n",
       "      <th>6</th>\n",
       "      <td>2022-11-23T02:00:00.000000000Z</td>\n",
       "      <td>EUR_USD</td>\n",
       "      <td>1.03110</td>\n",
       "      <td>1.03249</td>\n",
       "      <td>1.03082</td>\n",
       "      <td>1.03240</td>\n",
       "      <td>NaN</td>\n",
       "    </tr>\n",
       "    <tr>\n",
       "      <th>7</th>\n",
       "      <td>2022-11-23T03:00:00.000000000Z</td>\n",
       "      <td>EUR_USD</td>\n",
       "      <td>1.03240</td>\n",
       "      <td>1.03240</td>\n",
       "      <td>1.03120</td>\n",
       "      <td>1.03157</td>\n",
       "      <td>1.030930</td>\n",
       "    </tr>\n",
       "    <tr>\n",
       "      <th>8</th>\n",
       "      <td>2022-11-23T04:00:00.000000000Z</td>\n",
       "      <td>EUR_USD</td>\n",
       "      <td>1.03155</td>\n",
       "      <td>1.03172</td>\n",
       "      <td>1.03102</td>\n",
       "      <td>1.03170</td>\n",
       "      <td>1.031135</td>\n",
       "    </tr>\n",
       "    <tr>\n",
       "      <th>9</th>\n",
       "      <td>2022-11-23T05:00:00.000000000Z</td>\n",
       "      <td>EUR_USD</td>\n",
       "      <td>1.03169</td>\n",
       "      <td>1.03312</td>\n",
       "      <td>1.03142</td>\n",
       "      <td>1.03275</td>\n",
       "      <td>1.031446</td>\n",
       "    </tr>\n",
       "  </tbody>\n",
       "</table>\n",
       "</div>"
      ],
      "text/plain": [
       "                             time   ticker    mid_o    mid_h    mid_l  \\\n",
       "0  2022-11-22T20:00:00.000000000Z  EUR_USD  1.02954  1.03045  1.02938   \n",
       "1  2022-11-22T21:00:00.000000000Z  EUR_USD  1.03004  1.03062  1.02990   \n",
       "2  2022-11-22T22:00:00.000000000Z  EUR_USD  1.03035  1.03062  1.03018   \n",
       "3  2022-11-22T23:00:00.000000000Z  EUR_USD  1.03042  1.03109  1.03024   \n",
       "4  2022-11-23T00:00:00.000000000Z  EUR_USD  1.03109  1.03214  1.03040   \n",
       "5  2022-11-23T01:00:00.000000000Z  EUR_USD  1.03057  1.03137  1.03004   \n",
       "6  2022-11-23T02:00:00.000000000Z  EUR_USD  1.03110  1.03249  1.03082   \n",
       "7  2022-11-23T03:00:00.000000000Z  EUR_USD  1.03240  1.03240  1.03120   \n",
       "8  2022-11-23T04:00:00.000000000Z  EUR_USD  1.03155  1.03172  1.03102   \n",
       "9  2022-11-23T05:00:00.000000000Z  EUR_USD  1.03169  1.03312  1.03142   \n",
       "\n",
       "     mid_c      MA_8  \n",
       "0  1.03006       NaN  \n",
       "1  1.03026       NaN  \n",
       "2  1.03041       NaN  \n",
       "3  1.03108       NaN  \n",
       "4  1.03055       NaN  \n",
       "5  1.03111       NaN  \n",
       "6  1.03240       NaN  \n",
       "7  1.03157  1.030930  \n",
       "8  1.03170  1.031135  \n",
       "9  1.03275  1.031446  "
      ]
     },
     "execution_count": 39,
     "metadata": {},
     "output_type": "execute_result"
    }
   ],
   "source": [
    "df_ma.head(10)"
   ]
  },
  {
   "cell_type": "markdown",
   "metadata": {},
   "source": [
    "This is just me being silly:  calculate 100 (note: 99, yes I know!!) Moving Averages and store to CSV.  Probably not the most efficient way to do this - but interesting that it can be done so easily."
   ]
  },
  {
   "cell_type": "code",
   "execution_count": 40,
   "metadata": {},
   "outputs": [
    {
     "name": "stderr",
     "output_type": "stream",
     "text": [
      "C:\\Users\\johnj\\AppData\\Local\\Temp\\ipykernel_4172\\2932637.py:4: PerformanceWarning:\n",
      "\n",
      "DataFrame is highly fragmented.  This is usually the result of calling `frame.insert` many times, which has poor performance.  Consider joining all columns at once using pd.concat(axis=1) instead. To get a de-fragmented frame, use `newframe = frame.copy()`\n",
      "\n"
     ]
    }
   ],
   "source": [
    "df_ma2 = df_ma.copy()\n",
    "for p in range(1, 100):\n",
    "    MA_Period = f\"MA_{p}\"\n",
    "    df_ma2[MA_Period] = df_ma.mid_c.rolling(window=p).mean()"
   ]
  },
  {
   "cell_type": "code",
   "execution_count": 41,
   "metadata": {},
   "outputs": [],
   "source": [
    "df_ma2.to_csv(\"./Data/Silly 100 MAs calc.csv\")"
   ]
  },
  {
   "cell_type": "markdown",
   "metadata": {},
   "source": [
    "Back on piste with the MA_8 work...  We don't have MA for the first 8 periods, so..."
   ]
  },
  {
   "cell_type": "code",
   "execution_count": 42,
   "metadata": {},
   "outputs": [],
   "source": [
    "df_ma.dropna(inplace=True)"
   ]
  },
  {
   "cell_type": "code",
   "execution_count": 43,
   "metadata": {},
   "outputs": [
    {
     "data": {
      "text/html": [
       "<div>\n",
       "<style scoped>\n",
       "    .dataframe tbody tr th:only-of-type {\n",
       "        vertical-align: middle;\n",
       "    }\n",
       "\n",
       "    .dataframe tbody tr th {\n",
       "        vertical-align: top;\n",
       "    }\n",
       "\n",
       "    .dataframe thead th {\n",
       "        text-align: right;\n",
       "    }\n",
       "</style>\n",
       "<table border=\"1\" class=\"dataframe\">\n",
       "  <thead>\n",
       "    <tr style=\"text-align: right;\">\n",
       "      <th></th>\n",
       "      <th>time</th>\n",
       "      <th>ticker</th>\n",
       "      <th>mid_o</th>\n",
       "      <th>mid_h</th>\n",
       "      <th>mid_l</th>\n",
       "      <th>mid_c</th>\n",
       "      <th>MA_8</th>\n",
       "    </tr>\n",
       "  </thead>\n",
       "  <tbody>\n",
       "    <tr>\n",
       "      <th>7</th>\n",
       "      <td>2022-11-23T03:00:00.000000000Z</td>\n",
       "      <td>EUR_USD</td>\n",
       "      <td>1.03240</td>\n",
       "      <td>1.03240</td>\n",
       "      <td>1.03120</td>\n",
       "      <td>1.03157</td>\n",
       "      <td>1.030930</td>\n",
       "    </tr>\n",
       "    <tr>\n",
       "      <th>8</th>\n",
       "      <td>2022-11-23T04:00:00.000000000Z</td>\n",
       "      <td>EUR_USD</td>\n",
       "      <td>1.03155</td>\n",
       "      <td>1.03172</td>\n",
       "      <td>1.03102</td>\n",
       "      <td>1.03170</td>\n",
       "      <td>1.031135</td>\n",
       "    </tr>\n",
       "    <tr>\n",
       "      <th>9</th>\n",
       "      <td>2022-11-23T05:00:00.000000000Z</td>\n",
       "      <td>EUR_USD</td>\n",
       "      <td>1.03169</td>\n",
       "      <td>1.03312</td>\n",
       "      <td>1.03142</td>\n",
       "      <td>1.03275</td>\n",
       "      <td>1.031446</td>\n",
       "    </tr>\n",
       "    <tr>\n",
       "      <th>10</th>\n",
       "      <td>2022-11-23T06:00:00.000000000Z</td>\n",
       "      <td>EUR_USD</td>\n",
       "      <td>1.03275</td>\n",
       "      <td>1.03362</td>\n",
       "      <td>1.03221</td>\n",
       "      <td>1.03314</td>\n",
       "      <td>1.031788</td>\n",
       "    </tr>\n",
       "    <tr>\n",
       "      <th>11</th>\n",
       "      <td>2022-11-23T07:00:00.000000000Z</td>\n",
       "      <td>EUR_USD</td>\n",
       "      <td>1.03312</td>\n",
       "      <td>1.03488</td>\n",
       "      <td>1.03281</td>\n",
       "      <td>1.03432</td>\n",
       "      <td>1.032193</td>\n",
       "    </tr>\n",
       "  </tbody>\n",
       "</table>\n",
       "</div>"
      ],
      "text/plain": [
       "                              time   ticker    mid_o    mid_h    mid_l  \\\n",
       "7   2022-11-23T03:00:00.000000000Z  EUR_USD  1.03240  1.03240  1.03120   \n",
       "8   2022-11-23T04:00:00.000000000Z  EUR_USD  1.03155  1.03172  1.03102   \n",
       "9   2022-11-23T05:00:00.000000000Z  EUR_USD  1.03169  1.03312  1.03142   \n",
       "10  2022-11-23T06:00:00.000000000Z  EUR_USD  1.03275  1.03362  1.03221   \n",
       "11  2022-11-23T07:00:00.000000000Z  EUR_USD  1.03312  1.03488  1.03281   \n",
       "\n",
       "      mid_c      MA_8  \n",
       "7   1.03157  1.030930  \n",
       "8   1.03170  1.031135  \n",
       "9   1.03275  1.031446  \n",
       "10  1.03314  1.031788  \n",
       "11  1.03432  1.032193  "
      ]
     },
     "execution_count": 43,
     "metadata": {},
     "output_type": "execute_result"
    }
   ],
   "source": [
    "df_ma.head()"
   ]
  },
  {
   "cell_type": "code",
   "execution_count": 44,
   "metadata": {},
   "outputs": [],
   "source": [
    "df_plot = df_ma.iloc[-100:].copy()"
   ]
  },
  {
   "cell_type": "code",
   "execution_count": 45,
   "metadata": {},
   "outputs": [
    {
     "data": {
      "application/vnd.plotly.v1+json": {
       "config": {
        "plotlyServerURL": "https://plot.ly"
       },
       "data": [
        {
         "close": [
          1.09546,
          1.09648,
          1.09619,
          1.09594,
          1.09539,
          1.0947,
          1.0967,
          1.09748,
          1.099,
          1.09894,
          1.09952,
          1.0999,
          1.0998,
          1.10012,
          1.10004,
          1.10015,
          1.10053,
          1.10068,
          1.10096,
          1.1019,
          1.10176,
          1.102,
          1.10072,
          1.10214,
          1.10082,
          1.10028,
          1.10064,
          1.10061,
          1.0984,
          1.0982,
          1.09872,
          1.09902,
          1.09918,
          1.10026,
          1.10068,
          1.09992,
          1.10061,
          1.10087,
          1.10073,
          1.10122,
          1.10138,
          1.10188,
          1.10272,
          1.10314,
          1.10297,
          1.10364,
          1.1026,
          1.1023,
          1.10275,
          1.10223,
          1.10249,
          1.10222,
          1.10149,
          1.10582,
          1.10979,
          1.11204,
          1.11222,
          1.11321,
          1.11298,
          1.11383,
          1.1137,
          1.11316,
          1.11295,
          1.11354,
          1.11408,
          1.11384,
          1.11451,
          1.11462,
          1.11457,
          1.1141,
          1.11312,
          1.11486,
          1.11554,
          1.1161,
          1.1173,
          1.11714,
          1.11744,
          1.11798,
          1.11942,
          1.1196,
          1.11929,
          1.12058,
          1.12157,
          1.12224,
          1.12264,
          1.12264,
          1.12252,
          1.12247,
          1.12234,
          1.12228,
          1.1233,
          1.12354,
          1.12414,
          1.1233,
          1.12193,
          1.12102,
          1.12218,
          1.12312,
          1.12266,
          1.12204
         ],
         "decreasing": {
          "fillcolor": "#CC2E3C",
          "line": {
           "color": "#FF3A4C"
          }
         },
         "high": [
          1.09656,
          1.09658,
          1.09733,
          1.09653,
          1.09622,
          1.09582,
          1.09713,
          1.09804,
          1.09928,
          1.09914,
          1.09968,
          1.09994,
          1.10005,
          1.10016,
          1.10018,
          1.1003,
          1.1006,
          1.10088,
          1.10132,
          1.10202,
          1.10194,
          1.10203,
          1.10223,
          1.10274,
          1.1023,
          1.10156,
          1.10087,
          1.10128,
          1.10064,
          1.09904,
          1.09939,
          1.09936,
          1.09946,
          1.10033,
          1.10093,
          1.10078,
          1.10074,
          1.10088,
          1.10091,
          1.10124,
          1.10146,
          1.10217,
          1.10318,
          1.10338,
          1.10316,
          1.10369,
          1.10364,
          1.10356,
          1.103,
          1.10306,
          1.10281,
          1.10254,
          1.10248,
          1.1072,
          1.11007,
          1.11234,
          1.11254,
          1.11335,
          1.11328,
          1.11401,
          1.11405,
          1.11381,
          1.11347,
          1.11372,
          1.11408,
          1.11452,
          1.11457,
          1.11478,
          1.11489,
          1.11486,
          1.11434,
          1.11501,
          1.11578,
          1.11702,
          1.11746,
          1.11736,
          1.1178,
          1.11906,
          1.11952,
          1.11962,
          1.11966,
          1.12092,
          1.12186,
          1.12228,
          1.12275,
          1.1228,
          1.12262,
          1.12298,
          1.1228,
          1.12248,
          1.12338,
          1.12386,
          1.12432,
          1.12412,
          1.12354,
          1.12258,
          1.12218,
          1.12361,
          1.12451,
          1.12268
         ],
         "increasing": {
          "fillcolor": "#24A06B",
          "line": {
           "color": "#2EC886"
          }
         },
         "line": {
          "width": 1
         },
         "low": [
          1.09484,
          1.0953,
          1.0961,
          1.09546,
          1.09533,
          1.09436,
          1.09473,
          1.09665,
          1.0975,
          1.09826,
          1.09874,
          1.09913,
          1.09964,
          1.0997,
          1.09966,
          1.09996,
          1.10014,
          1.10015,
          1.10058,
          1.10062,
          1.10121,
          1.10152,
          1.10061,
          1.10073,
          1.10076,
          1.10022,
          1.09972,
          1.1004,
          1.0983,
          1.09769,
          1.09795,
          1.09784,
          1.09863,
          1.0991,
          1.10022,
          1.09976,
          1.09992,
          1.1005,
          1.10034,
          1.10074,
          1.10112,
          1.1012,
          1.10186,
          1.10253,
          1.10266,
          1.10294,
          1.10254,
          1.10206,
          1.10218,
          1.10216,
          1.10184,
          1.10186,
          1.10138,
          1.10149,
          1.10564,
          1.10889,
          1.11108,
          1.11206,
          1.11247,
          1.11278,
          1.11334,
          1.11307,
          1.11281,
          1.11295,
          1.11343,
          1.11379,
          1.11364,
          1.11394,
          1.11424,
          1.11407,
          1.11299,
          1.11309,
          1.11363,
          1.11503,
          1.11551,
          1.11596,
          1.11684,
          1.11616,
          1.11763,
          1.11807,
          1.11858,
          1.11919,
          1.12022,
          1.1213,
          1.12195,
          1.12242,
          1.12142,
          1.1224,
          1.12217,
          1.12135,
          1.12223,
          1.12314,
          1.12337,
          1.12328,
          1.12184,
          1.12057,
          1.12041,
          1.12214,
          1.12263,
          1.12155
         ],
         "opacity": 1,
         "open": [
          1.09504,
          1.09545,
          1.09647,
          1.0962,
          1.09596,
          1.09542,
          1.09473,
          1.09672,
          1.0975,
          1.09901,
          1.09892,
          1.09954,
          1.09991,
          1.09983,
          1.10016,
          1.10004,
          1.10016,
          1.10056,
          1.10067,
          1.10096,
          1.10188,
          1.10174,
          1.10197,
          1.10075,
          1.10214,
          1.10081,
          1.10028,
          1.10065,
          1.10058,
          1.09839,
          1.09818,
          1.09874,
          1.09898,
          1.09922,
          1.10028,
          1.10065,
          1.09995,
          1.10064,
          1.10043,
          1.10078,
          1.10124,
          1.10137,
          1.10188,
          1.10274,
          1.10312,
          1.10298,
          1.10363,
          1.10264,
          1.10229,
          1.10274,
          1.1022,
          1.10248,
          1.1022,
          1.1015,
          1.10583,
          1.10973,
          1.11205,
          1.11219,
          1.11317,
          1.113,
          1.11384,
          1.1137,
          1.11329,
          1.113,
          1.11354,
          1.11408,
          1.11386,
          1.11453,
          1.1146,
          1.11457,
          1.1141,
          1.1131,
          1.11485,
          1.11549,
          1.1161,
          1.11728,
          1.11716,
          1.11746,
          1.11799,
          1.11944,
          1.11959,
          1.11928,
          1.12059,
          1.12156,
          1.12224,
          1.12263,
          1.12153,
          1.12252,
          1.12247,
          1.12236,
          1.12229,
          1.1233,
          1.12356,
          1.12412,
          1.12332,
          1.12199,
          1.12102,
          1.12217,
          1.12312,
          1.12268
         ],
         "type": "candlestick",
         "x": [
          "2023-07-10T07:00:00.000000000Z",
          "2023-07-10T08:00:00.000000000Z",
          "2023-07-10T09:00:00.000000000Z",
          "2023-07-10T10:00:00.000000000Z",
          "2023-07-10T11:00:00.000000000Z",
          "2023-07-10T12:00:00.000000000Z",
          "2023-07-10T13:00:00.000000000Z",
          "2023-07-10T14:00:00.000000000Z",
          "2023-07-10T15:00:00.000000000Z",
          "2023-07-10T16:00:00.000000000Z",
          "2023-07-10T17:00:00.000000000Z",
          "2023-07-10T18:00:00.000000000Z",
          "2023-07-10T19:00:00.000000000Z",
          "2023-07-10T20:00:00.000000000Z",
          "2023-07-10T21:00:00.000000000Z",
          "2023-07-10T22:00:00.000000000Z",
          "2023-07-10T23:00:00.000000000Z",
          "2023-07-11T00:00:00.000000000Z",
          "2023-07-11T01:00:00.000000000Z",
          "2023-07-11T02:00:00.000000000Z",
          "2023-07-11T03:00:00.000000000Z",
          "2023-07-11T04:00:00.000000000Z",
          "2023-07-11T05:00:00.000000000Z",
          "2023-07-11T06:00:00.000000000Z",
          "2023-07-11T07:00:00.000000000Z",
          "2023-07-11T08:00:00.000000000Z",
          "2023-07-11T09:00:00.000000000Z",
          "2023-07-11T10:00:00.000000000Z",
          "2023-07-11T11:00:00.000000000Z",
          "2023-07-11T12:00:00.000000000Z",
          "2023-07-11T13:00:00.000000000Z",
          "2023-07-11T14:00:00.000000000Z",
          "2023-07-11T15:00:00.000000000Z",
          "2023-07-11T16:00:00.000000000Z",
          "2023-07-11T17:00:00.000000000Z",
          "2023-07-11T18:00:00.000000000Z",
          "2023-07-11T19:00:00.000000000Z",
          "2023-07-11T20:00:00.000000000Z",
          "2023-07-11T21:00:00.000000000Z",
          "2023-07-11T22:00:00.000000000Z",
          "2023-07-11T23:00:00.000000000Z",
          "2023-07-12T00:00:00.000000000Z",
          "2023-07-12T01:00:00.000000000Z",
          "2023-07-12T02:00:00.000000000Z",
          "2023-07-12T03:00:00.000000000Z",
          "2023-07-12T04:00:00.000000000Z",
          "2023-07-12T05:00:00.000000000Z",
          "2023-07-12T06:00:00.000000000Z",
          "2023-07-12T07:00:00.000000000Z",
          "2023-07-12T08:00:00.000000000Z",
          "2023-07-12T09:00:00.000000000Z",
          "2023-07-12T10:00:00.000000000Z",
          "2023-07-12T11:00:00.000000000Z",
          "2023-07-12T12:00:00.000000000Z",
          "2023-07-12T13:00:00.000000000Z",
          "2023-07-12T14:00:00.000000000Z",
          "2023-07-12T15:00:00.000000000Z",
          "2023-07-12T16:00:00.000000000Z",
          "2023-07-12T17:00:00.000000000Z",
          "2023-07-12T18:00:00.000000000Z",
          "2023-07-12T19:00:00.000000000Z",
          "2023-07-12T20:00:00.000000000Z",
          "2023-07-12T21:00:00.000000000Z",
          "2023-07-12T22:00:00.000000000Z",
          "2023-07-12T23:00:00.000000000Z",
          "2023-07-13T00:00:00.000000000Z",
          "2023-07-13T01:00:00.000000000Z",
          "2023-07-13T02:00:00.000000000Z",
          "2023-07-13T03:00:00.000000000Z",
          "2023-07-13T04:00:00.000000000Z",
          "2023-07-13T05:00:00.000000000Z",
          "2023-07-13T06:00:00.000000000Z",
          "2023-07-13T07:00:00.000000000Z",
          "2023-07-13T08:00:00.000000000Z",
          "2023-07-13T09:00:00.000000000Z",
          "2023-07-13T10:00:00.000000000Z",
          "2023-07-13T11:00:00.000000000Z",
          "2023-07-13T12:00:00.000000000Z",
          "2023-07-13T13:00:00.000000000Z",
          "2023-07-13T14:00:00.000000000Z",
          "2023-07-13T15:00:00.000000000Z",
          "2023-07-13T16:00:00.000000000Z",
          "2023-07-13T17:00:00.000000000Z",
          "2023-07-13T18:00:00.000000000Z",
          "2023-07-13T19:00:00.000000000Z",
          "2023-07-13T20:00:00.000000000Z",
          "2023-07-13T21:00:00.000000000Z",
          "2023-07-13T22:00:00.000000000Z",
          "2023-07-13T23:00:00.000000000Z",
          "2023-07-14T00:00:00.000000000Z",
          "2023-07-14T01:00:00.000000000Z",
          "2023-07-14T02:00:00.000000000Z",
          "2023-07-14T03:00:00.000000000Z",
          "2023-07-14T04:00:00.000000000Z",
          "2023-07-14T05:00:00.000000000Z",
          "2023-07-14T06:00:00.000000000Z",
          "2023-07-14T07:00:00.000000000Z",
          "2023-07-14T08:00:00.000000000Z",
          "2023-07-14T09:00:00.000000000Z",
          "2023-07-14T10:00:00.000000000Z"
         ]
        },
        {
         "line": {
          "color": "#027FC3",
          "shape": "spline",
          "width": 2
         },
         "name": "MA_8",
         "type": "scatter",
         "x": [
          "2023-07-10T07:00:00.000000000Z",
          "2023-07-10T08:00:00.000000000Z",
          "2023-07-10T09:00:00.000000000Z",
          "2023-07-10T10:00:00.000000000Z",
          "2023-07-10T11:00:00.000000000Z",
          "2023-07-10T12:00:00.000000000Z",
          "2023-07-10T13:00:00.000000000Z",
          "2023-07-10T14:00:00.000000000Z",
          "2023-07-10T15:00:00.000000000Z",
          "2023-07-10T16:00:00.000000000Z",
          "2023-07-10T17:00:00.000000000Z",
          "2023-07-10T18:00:00.000000000Z",
          "2023-07-10T19:00:00.000000000Z",
          "2023-07-10T20:00:00.000000000Z",
          "2023-07-10T21:00:00.000000000Z",
          "2023-07-10T22:00:00.000000000Z",
          "2023-07-10T23:00:00.000000000Z",
          "2023-07-11T00:00:00.000000000Z",
          "2023-07-11T01:00:00.000000000Z",
          "2023-07-11T02:00:00.000000000Z",
          "2023-07-11T03:00:00.000000000Z",
          "2023-07-11T04:00:00.000000000Z",
          "2023-07-11T05:00:00.000000000Z",
          "2023-07-11T06:00:00.000000000Z",
          "2023-07-11T07:00:00.000000000Z",
          "2023-07-11T08:00:00.000000000Z",
          "2023-07-11T09:00:00.000000000Z",
          "2023-07-11T10:00:00.000000000Z",
          "2023-07-11T11:00:00.000000000Z",
          "2023-07-11T12:00:00.000000000Z",
          "2023-07-11T13:00:00.000000000Z",
          "2023-07-11T14:00:00.000000000Z",
          "2023-07-11T15:00:00.000000000Z",
          "2023-07-11T16:00:00.000000000Z",
          "2023-07-11T17:00:00.000000000Z",
          "2023-07-11T18:00:00.000000000Z",
          "2023-07-11T19:00:00.000000000Z",
          "2023-07-11T20:00:00.000000000Z",
          "2023-07-11T21:00:00.000000000Z",
          "2023-07-11T22:00:00.000000000Z",
          "2023-07-11T23:00:00.000000000Z",
          "2023-07-12T00:00:00.000000000Z",
          "2023-07-12T01:00:00.000000000Z",
          "2023-07-12T02:00:00.000000000Z",
          "2023-07-12T03:00:00.000000000Z",
          "2023-07-12T04:00:00.000000000Z",
          "2023-07-12T05:00:00.000000000Z",
          "2023-07-12T06:00:00.000000000Z",
          "2023-07-12T07:00:00.000000000Z",
          "2023-07-12T08:00:00.000000000Z",
          "2023-07-12T09:00:00.000000000Z",
          "2023-07-12T10:00:00.000000000Z",
          "2023-07-12T11:00:00.000000000Z",
          "2023-07-12T12:00:00.000000000Z",
          "2023-07-12T13:00:00.000000000Z",
          "2023-07-12T14:00:00.000000000Z",
          "2023-07-12T15:00:00.000000000Z",
          "2023-07-12T16:00:00.000000000Z",
          "2023-07-12T17:00:00.000000000Z",
          "2023-07-12T18:00:00.000000000Z",
          "2023-07-12T19:00:00.000000000Z",
          "2023-07-12T20:00:00.000000000Z",
          "2023-07-12T21:00:00.000000000Z",
          "2023-07-12T22:00:00.000000000Z",
          "2023-07-12T23:00:00.000000000Z",
          "2023-07-13T00:00:00.000000000Z",
          "2023-07-13T01:00:00.000000000Z",
          "2023-07-13T02:00:00.000000000Z",
          "2023-07-13T03:00:00.000000000Z",
          "2023-07-13T04:00:00.000000000Z",
          "2023-07-13T05:00:00.000000000Z",
          "2023-07-13T06:00:00.000000000Z",
          "2023-07-13T07:00:00.000000000Z",
          "2023-07-13T08:00:00.000000000Z",
          "2023-07-13T09:00:00.000000000Z",
          "2023-07-13T10:00:00.000000000Z",
          "2023-07-13T11:00:00.000000000Z",
          "2023-07-13T12:00:00.000000000Z",
          "2023-07-13T13:00:00.000000000Z",
          "2023-07-13T14:00:00.000000000Z",
          "2023-07-13T15:00:00.000000000Z",
          "2023-07-13T16:00:00.000000000Z",
          "2023-07-13T17:00:00.000000000Z",
          "2023-07-13T18:00:00.000000000Z",
          "2023-07-13T19:00:00.000000000Z",
          "2023-07-13T20:00:00.000000000Z",
          "2023-07-13T21:00:00.000000000Z",
          "2023-07-13T22:00:00.000000000Z",
          "2023-07-13T23:00:00.000000000Z",
          "2023-07-14T00:00:00.000000000Z",
          "2023-07-14T01:00:00.000000000Z",
          "2023-07-14T02:00:00.000000000Z",
          "2023-07-14T03:00:00.000000000Z",
          "2023-07-14T04:00:00.000000000Z",
          "2023-07-14T05:00:00.000000000Z",
          "2023-07-14T06:00:00.000000000Z",
          "2023-07-14T07:00:00.000000000Z",
          "2023-07-14T08:00:00.000000000Z",
          "2023-07-14T09:00:00.000000000Z",
          "2023-07-14T10:00:00.000000000Z"
         ],
         "y": [
          1.095575,
          1.09558,
          1.09559625,
          1.09558125,
          1.09555625,
          1.09548,
          1.09573875,
          1.0960425,
          1.096485,
          1.0967925,
          1.09720875,
          1.09770375,
          1.098255,
          1.0989325,
          1.09935,
          1.09968375,
          1.099875,
          1.1000925,
          1.1002725,
          1.1005225,
          1.1007675,
          1.1010025,
          1.1010875,
          1.1013362500000001,
          1.1013725,
          1.1013225,
          1.1012825,
          1.10112125,
          1.10070125,
          1.10022625,
          1.09997625,
          1.09958625,
          1.09938125,
          1.09937875,
          1.09938375,
          1.0992975,
          1.09957375,
          1.0999075,
          1.10015875,
          1.10043375,
          1.10070875,
          1.10091125,
          1.10116625,
          1.10156875,
          1.1018637500000001,
          1.10221,
          1.10244375,
          1.10257875,
          1.10275,
          1.10279375,
          1.102765,
          1.10265,
          1.102465,
          1.1027375,
          1.10363625,
          1.10485375,
          1.1060375,
          1.10741,
          1.1087212499999999,
          1.1101725,
          1.11169875,
          1.11261625,
          1.11301125,
          1.11319875,
          1.11343125,
          1.11351,
          1.11370125,
          1.1138,
          1.11390875,
          1.11402625,
          1.1140475,
          1.1142124999999998,
          1.114395,
          1.1146775,
          1.11502625,
          1.11534125,
          1.1157,
          1.116185,
          1.1169725000000001,
          1.117565,
          1.11803375,
          1.11859375,
          1.1191275,
          1.119765,
          1.120415,
          1.1209974999999999,
          1.121385,
          1.12174375,
          1.122125,
          1.1223375,
          1.12255375,
          1.1227162499999999,
          1.12290375,
          1.1229862499999999,
          1.1229125,
          1.12273125,
          1.12271125,
          1.1228162499999998,
          1.12273625,
          1.12254875
         ]
        }
       ],
       "layout": {
        "font": {
         "color": "#e1e1e1",
         "size": 10
        },
        "height": 400,
        "margin": {
         "b": 10,
         "l": 10,
         "r": 10,
         "t": 10
        },
        "paper_bgcolor": "#1e1e1e",
        "plot_bgcolor": "#1e1e1e",
        "template": {
         "data": {
          "bar": [
           {
            "error_x": {
             "color": "#2a3f5f"
            },
            "error_y": {
             "color": "#2a3f5f"
            },
            "marker": {
             "line": {
              "color": "#E5ECF6",
              "width": 0.5
             },
             "pattern": {
              "fillmode": "overlay",
              "size": 10,
              "solidity": 0.2
             }
            },
            "type": "bar"
           }
          ],
          "barpolar": [
           {
            "marker": {
             "line": {
              "color": "#E5ECF6",
              "width": 0.5
             },
             "pattern": {
              "fillmode": "overlay",
              "size": 10,
              "solidity": 0.2
             }
            },
            "type": "barpolar"
           }
          ],
          "carpet": [
           {
            "aaxis": {
             "endlinecolor": "#2a3f5f",
             "gridcolor": "white",
             "linecolor": "white",
             "minorgridcolor": "white",
             "startlinecolor": "#2a3f5f"
            },
            "baxis": {
             "endlinecolor": "#2a3f5f",
             "gridcolor": "white",
             "linecolor": "white",
             "minorgridcolor": "white",
             "startlinecolor": "#2a3f5f"
            },
            "type": "carpet"
           }
          ],
          "choropleth": [
           {
            "colorbar": {
             "outlinewidth": 0,
             "ticks": ""
            },
            "type": "choropleth"
           }
          ],
          "contour": [
           {
            "colorbar": {
             "outlinewidth": 0,
             "ticks": ""
            },
            "colorscale": [
             [
              0,
              "#0d0887"
             ],
             [
              0.1111111111111111,
              "#46039f"
             ],
             [
              0.2222222222222222,
              "#7201a8"
             ],
             [
              0.3333333333333333,
              "#9c179e"
             ],
             [
              0.4444444444444444,
              "#bd3786"
             ],
             [
              0.5555555555555556,
              "#d8576b"
             ],
             [
              0.6666666666666666,
              "#ed7953"
             ],
             [
              0.7777777777777778,
              "#fb9f3a"
             ],
             [
              0.8888888888888888,
              "#fdca26"
             ],
             [
              1,
              "#f0f921"
             ]
            ],
            "type": "contour"
           }
          ],
          "contourcarpet": [
           {
            "colorbar": {
             "outlinewidth": 0,
             "ticks": ""
            },
            "type": "contourcarpet"
           }
          ],
          "heatmap": [
           {
            "colorbar": {
             "outlinewidth": 0,
             "ticks": ""
            },
            "colorscale": [
             [
              0,
              "#0d0887"
             ],
             [
              0.1111111111111111,
              "#46039f"
             ],
             [
              0.2222222222222222,
              "#7201a8"
             ],
             [
              0.3333333333333333,
              "#9c179e"
             ],
             [
              0.4444444444444444,
              "#bd3786"
             ],
             [
              0.5555555555555556,
              "#d8576b"
             ],
             [
              0.6666666666666666,
              "#ed7953"
             ],
             [
              0.7777777777777778,
              "#fb9f3a"
             ],
             [
              0.8888888888888888,
              "#fdca26"
             ],
             [
              1,
              "#f0f921"
             ]
            ],
            "type": "heatmap"
           }
          ],
          "heatmapgl": [
           {
            "colorbar": {
             "outlinewidth": 0,
             "ticks": ""
            },
            "colorscale": [
             [
              0,
              "#0d0887"
             ],
             [
              0.1111111111111111,
              "#46039f"
             ],
             [
              0.2222222222222222,
              "#7201a8"
             ],
             [
              0.3333333333333333,
              "#9c179e"
             ],
             [
              0.4444444444444444,
              "#bd3786"
             ],
             [
              0.5555555555555556,
              "#d8576b"
             ],
             [
              0.6666666666666666,
              "#ed7953"
             ],
             [
              0.7777777777777778,
              "#fb9f3a"
             ],
             [
              0.8888888888888888,
              "#fdca26"
             ],
             [
              1,
              "#f0f921"
             ]
            ],
            "type": "heatmapgl"
           }
          ],
          "histogram": [
           {
            "marker": {
             "pattern": {
              "fillmode": "overlay",
              "size": 10,
              "solidity": 0.2
             }
            },
            "type": "histogram"
           }
          ],
          "histogram2d": [
           {
            "colorbar": {
             "outlinewidth": 0,
             "ticks": ""
            },
            "colorscale": [
             [
              0,
              "#0d0887"
             ],
             [
              0.1111111111111111,
              "#46039f"
             ],
             [
              0.2222222222222222,
              "#7201a8"
             ],
             [
              0.3333333333333333,
              "#9c179e"
             ],
             [
              0.4444444444444444,
              "#bd3786"
             ],
             [
              0.5555555555555556,
              "#d8576b"
             ],
             [
              0.6666666666666666,
              "#ed7953"
             ],
             [
              0.7777777777777778,
              "#fb9f3a"
             ],
             [
              0.8888888888888888,
              "#fdca26"
             ],
             [
              1,
              "#f0f921"
             ]
            ],
            "type": "histogram2d"
           }
          ],
          "histogram2dcontour": [
           {
            "colorbar": {
             "outlinewidth": 0,
             "ticks": ""
            },
            "colorscale": [
             [
              0,
              "#0d0887"
             ],
             [
              0.1111111111111111,
              "#46039f"
             ],
             [
              0.2222222222222222,
              "#7201a8"
             ],
             [
              0.3333333333333333,
              "#9c179e"
             ],
             [
              0.4444444444444444,
              "#bd3786"
             ],
             [
              0.5555555555555556,
              "#d8576b"
             ],
             [
              0.6666666666666666,
              "#ed7953"
             ],
             [
              0.7777777777777778,
              "#fb9f3a"
             ],
             [
              0.8888888888888888,
              "#fdca26"
             ],
             [
              1,
              "#f0f921"
             ]
            ],
            "type": "histogram2dcontour"
           }
          ],
          "mesh3d": [
           {
            "colorbar": {
             "outlinewidth": 0,
             "ticks": ""
            },
            "type": "mesh3d"
           }
          ],
          "parcoords": [
           {
            "line": {
             "colorbar": {
              "outlinewidth": 0,
              "ticks": ""
             }
            },
            "type": "parcoords"
           }
          ],
          "pie": [
           {
            "automargin": true,
            "type": "pie"
           }
          ],
          "scatter": [
           {
            "fillpattern": {
             "fillmode": "overlay",
             "size": 10,
             "solidity": 0.2
            },
            "type": "scatter"
           }
          ],
          "scatter3d": [
           {
            "line": {
             "colorbar": {
              "outlinewidth": 0,
              "ticks": ""
             }
            },
            "marker": {
             "colorbar": {
              "outlinewidth": 0,
              "ticks": ""
             }
            },
            "type": "scatter3d"
           }
          ],
          "scattercarpet": [
           {
            "marker": {
             "colorbar": {
              "outlinewidth": 0,
              "ticks": ""
             }
            },
            "type": "scattercarpet"
           }
          ],
          "scattergeo": [
           {
            "marker": {
             "colorbar": {
              "outlinewidth": 0,
              "ticks": ""
             }
            },
            "type": "scattergeo"
           }
          ],
          "scattergl": [
           {
            "marker": {
             "colorbar": {
              "outlinewidth": 0,
              "ticks": ""
             }
            },
            "type": "scattergl"
           }
          ],
          "scattermapbox": [
           {
            "marker": {
             "colorbar": {
              "outlinewidth": 0,
              "ticks": ""
             }
            },
            "type": "scattermapbox"
           }
          ],
          "scatterpolar": [
           {
            "marker": {
             "colorbar": {
              "outlinewidth": 0,
              "ticks": ""
             }
            },
            "type": "scatterpolar"
           }
          ],
          "scatterpolargl": [
           {
            "marker": {
             "colorbar": {
              "outlinewidth": 0,
              "ticks": ""
             }
            },
            "type": "scatterpolargl"
           }
          ],
          "scatterternary": [
           {
            "marker": {
             "colorbar": {
              "outlinewidth": 0,
              "ticks": ""
             }
            },
            "type": "scatterternary"
           }
          ],
          "surface": [
           {
            "colorbar": {
             "outlinewidth": 0,
             "ticks": ""
            },
            "colorscale": [
             [
              0,
              "#0d0887"
             ],
             [
              0.1111111111111111,
              "#46039f"
             ],
             [
              0.2222222222222222,
              "#7201a8"
             ],
             [
              0.3333333333333333,
              "#9c179e"
             ],
             [
              0.4444444444444444,
              "#bd3786"
             ],
             [
              0.5555555555555556,
              "#d8576b"
             ],
             [
              0.6666666666666666,
              "#ed7953"
             ],
             [
              0.7777777777777778,
              "#fb9f3a"
             ],
             [
              0.8888888888888888,
              "#fdca26"
             ],
             [
              1,
              "#f0f921"
             ]
            ],
            "type": "surface"
           }
          ],
          "table": [
           {
            "cells": {
             "fill": {
              "color": "#EBF0F8"
             },
             "line": {
              "color": "white"
             }
            },
            "header": {
             "fill": {
              "color": "#C8D4E3"
             },
             "line": {
              "color": "white"
             }
            },
            "type": "table"
           }
          ]
         },
         "layout": {
          "annotationdefaults": {
           "arrowcolor": "#2a3f5f",
           "arrowhead": 0,
           "arrowwidth": 1
          },
          "autotypenumbers": "strict",
          "coloraxis": {
           "colorbar": {
            "outlinewidth": 0,
            "ticks": ""
           }
          },
          "colorscale": {
           "diverging": [
            [
             0,
             "#8e0152"
            ],
            [
             0.1,
             "#c51b7d"
            ],
            [
             0.2,
             "#de77ae"
            ],
            [
             0.3,
             "#f1b6da"
            ],
            [
             0.4,
             "#fde0ef"
            ],
            [
             0.5,
             "#f7f7f7"
            ],
            [
             0.6,
             "#e6f5d0"
            ],
            [
             0.7,
             "#b8e186"
            ],
            [
             0.8,
             "#7fbc41"
            ],
            [
             0.9,
             "#4d9221"
            ],
            [
             1,
             "#276419"
            ]
           ],
           "sequential": [
            [
             0,
             "#0d0887"
            ],
            [
             0.1111111111111111,
             "#46039f"
            ],
            [
             0.2222222222222222,
             "#7201a8"
            ],
            [
             0.3333333333333333,
             "#9c179e"
            ],
            [
             0.4444444444444444,
             "#bd3786"
            ],
            [
             0.5555555555555556,
             "#d8576b"
            ],
            [
             0.6666666666666666,
             "#ed7953"
            ],
            [
             0.7777777777777778,
             "#fb9f3a"
            ],
            [
             0.8888888888888888,
             "#fdca26"
            ],
            [
             1,
             "#f0f921"
            ]
           ],
           "sequentialminus": [
            [
             0,
             "#0d0887"
            ],
            [
             0.1111111111111111,
             "#46039f"
            ],
            [
             0.2222222222222222,
             "#7201a8"
            ],
            [
             0.3333333333333333,
             "#9c179e"
            ],
            [
             0.4444444444444444,
             "#bd3786"
            ],
            [
             0.5555555555555556,
             "#d8576b"
            ],
            [
             0.6666666666666666,
             "#ed7953"
            ],
            [
             0.7777777777777778,
             "#fb9f3a"
            ],
            [
             0.8888888888888888,
             "#fdca26"
            ],
            [
             1,
             "#f0f921"
            ]
           ]
          },
          "colorway": [
           "#636efa",
           "#EF553B",
           "#00cc96",
           "#ab63fa",
           "#FFA15A",
           "#19d3f3",
           "#FF6692",
           "#B6E880",
           "#FF97FF",
           "#FECB52"
          ],
          "font": {
           "color": "#2a3f5f"
          },
          "geo": {
           "bgcolor": "white",
           "lakecolor": "white",
           "landcolor": "#E5ECF6",
           "showlakes": true,
           "showland": true,
           "subunitcolor": "white"
          },
          "hoverlabel": {
           "align": "left"
          },
          "hovermode": "closest",
          "mapbox": {
           "style": "light"
          },
          "paper_bgcolor": "white",
          "plot_bgcolor": "#E5ECF6",
          "polar": {
           "angularaxis": {
            "gridcolor": "white",
            "linecolor": "white",
            "ticks": ""
           },
           "bgcolor": "#E5ECF6",
           "radialaxis": {
            "gridcolor": "white",
            "linecolor": "white",
            "ticks": ""
           }
          },
          "scene": {
           "xaxis": {
            "backgroundcolor": "#E5ECF6",
            "gridcolor": "white",
            "gridwidth": 2,
            "linecolor": "white",
            "showbackground": true,
            "ticks": "",
            "zerolinecolor": "white"
           },
           "yaxis": {
            "backgroundcolor": "#E5ECF6",
            "gridcolor": "white",
            "gridwidth": 2,
            "linecolor": "white",
            "showbackground": true,
            "ticks": "",
            "zerolinecolor": "white"
           },
           "zaxis": {
            "backgroundcolor": "#E5ECF6",
            "gridcolor": "white",
            "gridwidth": 2,
            "linecolor": "white",
            "showbackground": true,
            "ticks": "",
            "zerolinecolor": "white"
           }
          },
          "shapedefaults": {
           "line": {
            "color": "#2a3f5f"
           }
          },
          "ternary": {
           "aaxis": {
            "gridcolor": "white",
            "linecolor": "white",
            "ticks": ""
           },
           "baxis": {
            "gridcolor": "white",
            "linecolor": "white",
            "ticks": ""
           },
           "bgcolor": "#E5ECF6",
           "caxis": {
            "gridcolor": "white",
            "linecolor": "white",
            "ticks": ""
           }
          },
          "title": {
           "x": 0.05
          },
          "xaxis": {
           "automargin": true,
           "gridcolor": "white",
           "linecolor": "white",
           "ticks": "",
           "title": {
            "standoff": 15
           },
           "zerolinecolor": "white",
           "zerolinewidth": 2
          },
          "yaxis": {
           "automargin": true,
           "gridcolor": "white",
           "linecolor": "white",
           "ticks": "",
           "title": {
            "standoff": 15
           },
           "zerolinecolor": "white",
           "zerolinewidth": 2
          }
         }
        },
        "width": 1000,
        "xaxis": {
         "fixedrange": true,
         "gridcolor": "#1f292f",
         "rangeslider": {
          "visible": false
         },
         "showgrid": true
        },
        "yaxis": {
         "gridcolor": "#1f292f",
         "showgrid": true
        }
       }
      }
     },
     "metadata": {},
     "output_type": "display_data"
    }
   ],
   "source": [
    "fig.add_trace(go.Scatter(x=df_plot.time, y=df_plot.MA_8, \n",
    "    line=dict(color=\"#027FC3\", width=2),\n",
    "    line_shape=\"spline\",\n",
    "    name=\"MA_8\"))\n",
    "fig.show()"
   ]
  },
  {
   "cell_type": "markdown",
   "metadata": {},
   "source": [
    "https://www.youtube.com/watch?v=0KQ-iqeKdKo&list=PLZ1QII7yudbecO6a-zAI6cuGP1LLnmW8e&index=19"
   ]
  },
  {
   "cell_type": "markdown",
   "metadata": {},
   "source": []
  }
 ],
 "metadata": {
  "kernelspec": {
   "display_name": "Python 3",
   "language": "python",
   "name": "python3"
  },
  "language_info": {
   "codemirror_mode": {
    "name": "ipython",
    "version": 3
   },
   "file_extension": ".py",
   "mimetype": "text/x-python",
   "name": "python",
   "nbconvert_exporter": "python",
   "pygments_lexer": "ipython3",
   "version": "3.10.4"
  },
  "orig_nbformat": 4
 },
 "nbformat": 4,
 "nbformat_minor": 2
}
