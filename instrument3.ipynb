{
 "cells": [
  {
   "cell_type": "code",
   "execution_count": 10,
   "metadata": {},
   "outputs": [],
   "source": [
    "import requests\n",
    "import defs\n",
    "import pandas as pd\n",
    "import datetime"
   ]
  },
  {
   "attachments": {},
   "cell_type": "markdown",
   "metadata": {},
   "source": [
    "Open a session so that requests don't have to re-connect each time"
   ]
  },
  {
   "cell_type": "code",
   "execution_count": 11,
   "metadata": {},
   "outputs": [],
   "source": [
    "session = requests.Session()"
   ]
  },
  {
   "attachments": {},
   "cell_type": "markdown",
   "metadata": {},
   "source": [
    "Consider turning instrument(s) into a list..."
   ]
  },
  {
   "cell_type": "code",
   "execution_count": 12,
   "metadata": {},
   "outputs": [
    {
     "data": {
      "text/html": [
       "<div>\n",
       "<style scoped>\n",
       "    .dataframe tbody tr th:only-of-type {\n",
       "        vertical-align: middle;\n",
       "    }\n",
       "\n",
       "    .dataframe tbody tr th {\n",
       "        vertical-align: top;\n",
       "    }\n",
       "\n",
       "    .dataframe thead th {\n",
       "        text-align: right;\n",
       "    }\n",
       "</style>\n",
       "<table border=\"1\" class=\"dataframe\">\n",
       "  <thead>\n",
       "    <tr style=\"text-align: right;\">\n",
       "      <th></th>\n",
       "      <th>name</th>\n",
       "      <th>type</th>\n",
       "      <th>displayName</th>\n",
       "      <th>pipLocation</th>\n",
       "      <th>marginRate</th>\n",
       "    </tr>\n",
       "  </thead>\n",
       "  <tbody>\n",
       "    <tr>\n",
       "      <th>0</th>\n",
       "      <td>NL25_EUR</td>\n",
       "      <td>CFD</td>\n",
       "      <td>Netherlands 25</td>\n",
       "      <td>-2</td>\n",
       "      <td>0.10</td>\n",
       "    </tr>\n",
       "    <tr>\n",
       "      <th>1</th>\n",
       "      <td>CHINAH_HKD</td>\n",
       "      <td>CFD</td>\n",
       "      <td>China H Shares</td>\n",
       "      <td>0</td>\n",
       "      <td>0.10</td>\n",
       "    </tr>\n",
       "    <tr>\n",
       "      <th>2</th>\n",
       "      <td>EUR_ZAR</td>\n",
       "      <td>CURRENCY</td>\n",
       "      <td>EUR/ZAR</td>\n",
       "      <td>-4</td>\n",
       "      <td>0.05</td>\n",
       "    </tr>\n",
       "    <tr>\n",
       "      <th>3</th>\n",
       "      <td>EUR_CHF</td>\n",
       "      <td>CURRENCY</td>\n",
       "      <td>EUR/CHF</td>\n",
       "      <td>-4</td>\n",
       "      <td>0.04</td>\n",
       "    </tr>\n",
       "    <tr>\n",
       "      <th>4</th>\n",
       "      <td>NAS100_USD</td>\n",
       "      <td>CFD</td>\n",
       "      <td>US Nas 100</td>\n",
       "      <td>0</td>\n",
       "      <td>0.05</td>\n",
       "    </tr>\n",
       "  </tbody>\n",
       "</table>\n",
       "</div>"
      ],
      "text/plain": [
       "         name      type     displayName  pipLocation  marginRate\n",
       "0    NL25_EUR       CFD  Netherlands 25           -2        0.10\n",
       "1  CHINAH_HKD       CFD  China H Shares            0        0.10\n",
       "2     EUR_ZAR  CURRENCY         EUR/ZAR           -4        0.05\n",
       "3     EUR_CHF  CURRENCY         EUR/CHF           -4        0.04\n",
       "4  NAS100_USD       CFD      US Nas 100            0        0.05"
      ]
     },
     "execution_count": 12,
     "metadata": {},
     "output_type": "execute_result"
    }
   ],
   "source": [
    "ins_df = pd.read_csv(\"./Data/available_instruments.csv\").drop([\"Unnamed: 0\"], axis=1)\n",
    "ins_df.head()"
   ]
  },
  {
   "cell_type": "code",
   "execution_count": 13,
   "metadata": {},
   "outputs": [],
   "source": [
    "our_curr = [\"GBP\", \"USD\", \"EUR\", \"JPY\", \"CHF\", \"NZD\", \"CAD\"]"
   ]
  },
  {
   "cell_type": "code",
   "execution_count": 14,
   "metadata": {},
   "outputs": [],
   "source": [
    "def fetch_candles(pair_name, count, granularity):\n",
    "    url = f\"{defs.OANDA_URL}/instruments/{pair_name}/candles\"\n",
    "    params = dict(\n",
    "        count = count,\n",
    "        granularity = granularity,\n",
    "        price=\"MBA\"\n",
    "    )\n",
    "    response = session.get(url, params=params, headers=defs.SECURE_HEADER)\n",
    "    return response.status_code, response.json()"
   ]
  },
  {
   "cell_type": "code",
   "execution_count": 15,
   "metadata": {},
   "outputs": [
    {
     "name": "stdout",
     "output_type": "stream",
     "text": [
      "200\n"
     ]
    }
   ],
   "source": [
    "\n",
    "status_code, res = fetch_candles(\"EUR_USD\", 10, \"H1\")\n",
    "print(status_code)"
   ]
  },
  {
   "cell_type": "code",
   "execution_count": 16,
   "metadata": {},
   "outputs": [],
   "source": [
    "def get_candles_df(response):\n",
    "\n",
    "    our_data =[]\n",
    "\n",
    "    prices = [\"bid\", \"mid\", \"ask\"]\n",
    "    ohlc = [\"o\", \"h\", \"l\", \"c\"]\n",
    "\n",
    "    for candle in response[\"candles\"]:\n",
    "        if candle[\"complete\"] == False:\n",
    "            continue\n",
    "\n",
    "        new_dict = {}\n",
    "        new_dict[\"ticker\"] = response[\"instrument\"]\n",
    "        new_dict[\"time\"] = candle[\"time\"]\n",
    "        new_dict[\"volume\"] = candle[\"volume\"]\n",
    "        \n",
    "        for price in prices:\n",
    "            for oh in ohlc:\n",
    "                new_dict[f\"{price}_{oh}\"] = candle[price][oh]\n",
    "\n",
    "        our_data.append(new_dict)\n",
    "        \n",
    "    return pd.DataFrame.from_dict(our_data)\n"
   ]
  },
  {
   "cell_type": "code",
   "execution_count": 17,
   "metadata": {},
   "outputs": [
    {
     "data": {
      "text/html": [
       "<div>\n",
       "<style scoped>\n",
       "    .dataframe tbody tr th:only-of-type {\n",
       "        vertical-align: middle;\n",
       "    }\n",
       "\n",
       "    .dataframe tbody tr th {\n",
       "        vertical-align: top;\n",
       "    }\n",
       "\n",
       "    .dataframe thead th {\n",
       "        text-align: right;\n",
       "    }\n",
       "</style>\n",
       "<table border=\"1\" class=\"dataframe\">\n",
       "  <thead>\n",
       "    <tr style=\"text-align: right;\">\n",
       "      <th></th>\n",
       "      <th>ticker</th>\n",
       "      <th>time</th>\n",
       "      <th>volume</th>\n",
       "      <th>bid_o</th>\n",
       "      <th>bid_h</th>\n",
       "      <th>bid_l</th>\n",
       "      <th>bid_c</th>\n",
       "      <th>mid_o</th>\n",
       "      <th>mid_h</th>\n",
       "      <th>mid_l</th>\n",
       "      <th>mid_c</th>\n",
       "      <th>ask_o</th>\n",
       "      <th>ask_h</th>\n",
       "      <th>ask_l</th>\n",
       "      <th>ask_c</th>\n",
       "    </tr>\n",
       "  </thead>\n",
       "  <tbody>\n",
       "    <tr>\n",
       "      <th>0</th>\n",
       "      <td>EUR_USD</td>\n",
       "      <td>2023-07-07T00:00:00.000000000Z</td>\n",
       "      <td>2362</td>\n",
       "      <td>1.08886</td>\n",
       "      <td>1.08904</td>\n",
       "      <td>1.08816</td>\n",
       "      <td>1.08845</td>\n",
       "      <td>1.08894</td>\n",
       "      <td>1.08912</td>\n",
       "      <td>1.08824</td>\n",
       "      <td>1.08852</td>\n",
       "      <td>1.08902</td>\n",
       "      <td>1.08920</td>\n",
       "      <td>1.08831</td>\n",
       "      <td>1.08859</td>\n",
       "    </tr>\n",
       "    <tr>\n",
       "      <th>1</th>\n",
       "      <td>EUR_USD</td>\n",
       "      <td>2023-07-07T01:00:00.000000000Z</td>\n",
       "      <td>3068</td>\n",
       "      <td>1.08843</td>\n",
       "      <td>1.08906</td>\n",
       "      <td>1.08840</td>\n",
       "      <td>1.08863</td>\n",
       "      <td>1.08850</td>\n",
       "      <td>1.08914</td>\n",
       "      <td>1.08848</td>\n",
       "      <td>1.08870</td>\n",
       "      <td>1.08858</td>\n",
       "      <td>1.08923</td>\n",
       "      <td>1.08855</td>\n",
       "      <td>1.08878</td>\n",
       "    </tr>\n",
       "    <tr>\n",
       "      <th>2</th>\n",
       "      <td>EUR_USD</td>\n",
       "      <td>2023-07-07T02:00:00.000000000Z</td>\n",
       "      <td>2287</td>\n",
       "      <td>1.08864</td>\n",
       "      <td>1.08879</td>\n",
       "      <td>1.08827</td>\n",
       "      <td>1.08853</td>\n",
       "      <td>1.08871</td>\n",
       "      <td>1.08886</td>\n",
       "      <td>1.08835</td>\n",
       "      <td>1.08861</td>\n",
       "      <td>1.08878</td>\n",
       "      <td>1.08893</td>\n",
       "      <td>1.08843</td>\n",
       "      <td>1.08869</td>\n",
       "    </tr>\n",
       "    <tr>\n",
       "      <th>3</th>\n",
       "      <td>EUR_USD</td>\n",
       "      <td>2023-07-07T03:00:00.000000000Z</td>\n",
       "      <td>2026</td>\n",
       "      <td>1.08855</td>\n",
       "      <td>1.08909</td>\n",
       "      <td>1.08853</td>\n",
       "      <td>1.08870</td>\n",
       "      <td>1.08862</td>\n",
       "      <td>1.08916</td>\n",
       "      <td>1.08861</td>\n",
       "      <td>1.08878</td>\n",
       "      <td>1.08870</td>\n",
       "      <td>1.08925</td>\n",
       "      <td>1.08868</td>\n",
       "      <td>1.08887</td>\n",
       "    </tr>\n",
       "    <tr>\n",
       "      <th>4</th>\n",
       "      <td>EUR_USD</td>\n",
       "      <td>2023-07-07T04:00:00.000000000Z</td>\n",
       "      <td>1323</td>\n",
       "      <td>1.08871</td>\n",
       "      <td>1.08946</td>\n",
       "      <td>1.08848</td>\n",
       "      <td>1.08903</td>\n",
       "      <td>1.08879</td>\n",
       "      <td>1.08954</td>\n",
       "      <td>1.08856</td>\n",
       "      <td>1.08912</td>\n",
       "      <td>1.08887</td>\n",
       "      <td>1.08962</td>\n",
       "      <td>1.08865</td>\n",
       "      <td>1.08920</td>\n",
       "    </tr>\n",
       "    <tr>\n",
       "      <th>5</th>\n",
       "      <td>EUR_USD</td>\n",
       "      <td>2023-07-07T05:00:00.000000000Z</td>\n",
       "      <td>2348</td>\n",
       "      <td>1.08905</td>\n",
       "      <td>1.08956</td>\n",
       "      <td>1.08858</td>\n",
       "      <td>1.08866</td>\n",
       "      <td>1.08912</td>\n",
       "      <td>1.08963</td>\n",
       "      <td>1.08865</td>\n",
       "      <td>1.08874</td>\n",
       "      <td>1.08920</td>\n",
       "      <td>1.08970</td>\n",
       "      <td>1.08872</td>\n",
       "      <td>1.08882</td>\n",
       "    </tr>\n",
       "    <tr>\n",
       "      <th>6</th>\n",
       "      <td>EUR_USD</td>\n",
       "      <td>2023-07-07T06:00:00.000000000Z</td>\n",
       "      <td>3778</td>\n",
       "      <td>1.08870</td>\n",
       "      <td>1.08996</td>\n",
       "      <td>1.08805</td>\n",
       "      <td>1.08823</td>\n",
       "      <td>1.08877</td>\n",
       "      <td>1.09004</td>\n",
       "      <td>1.08812</td>\n",
       "      <td>1.08831</td>\n",
       "      <td>1.08884</td>\n",
       "      <td>1.09012</td>\n",
       "      <td>1.08820</td>\n",
       "      <td>1.08839</td>\n",
       "    </tr>\n",
       "    <tr>\n",
       "      <th>7</th>\n",
       "      <td>EUR_USD</td>\n",
       "      <td>2023-07-07T07:00:00.000000000Z</td>\n",
       "      <td>5880</td>\n",
       "      <td>1.08822</td>\n",
       "      <td>1.08902</td>\n",
       "      <td>1.08709</td>\n",
       "      <td>1.08755</td>\n",
       "      <td>1.08830</td>\n",
       "      <td>1.08910</td>\n",
       "      <td>1.08716</td>\n",
       "      <td>1.08762</td>\n",
       "      <td>1.08837</td>\n",
       "      <td>1.08917</td>\n",
       "      <td>1.08723</td>\n",
       "      <td>1.08770</td>\n",
       "    </tr>\n",
       "    <tr>\n",
       "      <th>8</th>\n",
       "      <td>EUR_USD</td>\n",
       "      <td>2023-07-07T08:00:00.000000000Z</td>\n",
       "      <td>4368</td>\n",
       "      <td>1.08753</td>\n",
       "      <td>1.08802</td>\n",
       "      <td>1.08662</td>\n",
       "      <td>1.08773</td>\n",
       "      <td>1.08761</td>\n",
       "      <td>1.08810</td>\n",
       "      <td>1.08670</td>\n",
       "      <td>1.08780</td>\n",
       "      <td>1.08769</td>\n",
       "      <td>1.08818</td>\n",
       "      <td>1.08678</td>\n",
       "      <td>1.08787</td>\n",
       "    </tr>\n",
       "  </tbody>\n",
       "</table>\n",
       "</div>"
      ],
      "text/plain": [
       "    ticker                            time  volume    bid_o    bid_h    bid_l  \\\n",
       "0  EUR_USD  2023-07-07T00:00:00.000000000Z    2362  1.08886  1.08904  1.08816   \n",
       "1  EUR_USD  2023-07-07T01:00:00.000000000Z    3068  1.08843  1.08906  1.08840   \n",
       "2  EUR_USD  2023-07-07T02:00:00.000000000Z    2287  1.08864  1.08879  1.08827   \n",
       "3  EUR_USD  2023-07-07T03:00:00.000000000Z    2026  1.08855  1.08909  1.08853   \n",
       "4  EUR_USD  2023-07-07T04:00:00.000000000Z    1323  1.08871  1.08946  1.08848   \n",
       "5  EUR_USD  2023-07-07T05:00:00.000000000Z    2348  1.08905  1.08956  1.08858   \n",
       "6  EUR_USD  2023-07-07T06:00:00.000000000Z    3778  1.08870  1.08996  1.08805   \n",
       "7  EUR_USD  2023-07-07T07:00:00.000000000Z    5880  1.08822  1.08902  1.08709   \n",
       "8  EUR_USD  2023-07-07T08:00:00.000000000Z    4368  1.08753  1.08802  1.08662   \n",
       "\n",
       "     bid_c    mid_o    mid_h    mid_l    mid_c    ask_o    ask_h    ask_l  \\\n",
       "0  1.08845  1.08894  1.08912  1.08824  1.08852  1.08902  1.08920  1.08831   \n",
       "1  1.08863  1.08850  1.08914  1.08848  1.08870  1.08858  1.08923  1.08855   \n",
       "2  1.08853  1.08871  1.08886  1.08835  1.08861  1.08878  1.08893  1.08843   \n",
       "3  1.08870  1.08862  1.08916  1.08861  1.08878  1.08870  1.08925  1.08868   \n",
       "4  1.08903  1.08879  1.08954  1.08856  1.08912  1.08887  1.08962  1.08865   \n",
       "5  1.08866  1.08912  1.08963  1.08865  1.08874  1.08920  1.08970  1.08872   \n",
       "6  1.08823  1.08877  1.09004  1.08812  1.08831  1.08884  1.09012  1.08820   \n",
       "7  1.08755  1.08830  1.08910  1.08716  1.08762  1.08837  1.08917  1.08723   \n",
       "8  1.08773  1.08761  1.08810  1.08670  1.08780  1.08769  1.08818  1.08678   \n",
       "\n",
       "     ask_c  \n",
       "0  1.08859  \n",
       "1  1.08878  \n",
       "2  1.08869  \n",
       "3  1.08887  \n",
       "4  1.08920  \n",
       "5  1.08882  \n",
       "6  1.08839  \n",
       "7  1.08770  \n",
       "8  1.08787  "
      ]
     },
     "execution_count": 17,
     "metadata": {},
     "output_type": "execute_result"
    }
   ],
   "source": [
    "df = get_candles_df(res)\n",
    "df"
   ]
  },
  {
   "cell_type": "code",
   "execution_count": 18,
   "metadata": {},
   "outputs": [],
   "source": [
    "def save_file(candles_df, pair, granularity):\n",
    "    candles_df.to_csv(f\"./data/{pair}_{granularity} {datetime.datetime.now().strftime('%Y%m%d%H%M')}.csv\")"
   ]
  },
  {
   "cell_type": "code",
   "execution_count": 19,
   "metadata": {},
   "outputs": [],
   "source": [
    "save_file(df, \"EUR_USD\", \"H1\")"
   ]
  },
  {
   "cell_type": "code",
   "execution_count": 20,
   "metadata": {},
   "outputs": [],
   "source": [
    "def create_data(pair, granularity):\n",
    "    code, json_data = fetch_candles(pair, 4000, granularity)\n",
    "    if code != 200:\n",
    "        print(f\"{pair} Error: {code}\")\n",
    "        return\n",
    "    df = get_candles_df(json_data)\n",
    "    print(f\"{pair} loaded {df.shape[0]} candles from {df.time.min()} to {df.time.max()}\")\n",
    "    save_file(df, pair, granularity)"
   ]
  },
  {
   "cell_type": "code",
   "execution_count": 21,
   "metadata": {},
   "outputs": [
    {
     "name": "stdout",
     "output_type": "stream",
     "text": [
      "EUR_USD loaded 3999 candles from 2022-11-15T18:00:00.000000000Z to 2023-07-07T08:00:00.000000000Z\n"
     ]
    }
   ],
   "source": [
    "create_data(\"EUR_USD\", \"H1\")"
   ]
  },
  {
   "cell_type": "code",
   "execution_count": 22,
   "metadata": {},
   "outputs": [],
   "source": [
    "def our_pairs(our_curr):\n",
    "\n",
    "    pairs=[]\n",
    "    \n",
    "    for i in range(len(our_curr)):\n",
    "        if i== 0:\n",
    "            j=1\n",
    "        else:\n",
    "            j=0\n",
    "\n",
    "        while (j) < len(our_curr):\n",
    "            if i != j:\n",
    "                new_pair = f\"{our_curr[i]}_{our_curr[j]}\"\n",
    "                if new_pair in ins_df.name.unique():\n",
    "                    pairs.append(f\"{our_curr[i]}_{our_curr[j]}\")\n",
    "            j = j + 1\n",
    "    \n",
    "    return pairs\n"
   ]
  },
  {
   "cell_type": "code",
   "execution_count": 23,
   "metadata": {},
   "outputs": [
    {
     "name": "stdout",
     "output_type": "stream",
     "text": [
      "21\n"
     ]
    }
   ],
   "source": [
    "pairs = our_pairs(our_curr)\n",
    "print(len(pairs))"
   ]
  },
  {
   "cell_type": "code",
   "execution_count": 25,
   "metadata": {},
   "outputs": [
    {
     "name": "stdout",
     "output_type": "stream",
     "text": [
      "GBP_USD loaded 3999 candles from 2022-11-15T18:00:00.000000000Z to 2023-07-07T08:00:00.000000000Z\n",
      "GBP_JPY loaded 3999 candles from 2022-11-15T18:00:00.000000000Z to 2023-07-07T08:00:00.000000000Z\n",
      "GBP_CHF loaded 3999 candles from 2022-11-15T18:00:00.000000000Z to 2023-07-07T08:00:00.000000000Z\n",
      "GBP_NZD loaded 3999 candles from 2022-11-15T18:00:00.000000000Z to 2023-07-07T08:00:00.000000000Z\n",
      "GBP_CAD loaded 3999 candles from 2022-11-15T18:00:00.000000000Z to 2023-07-07T08:00:00.000000000Z\n",
      "USD_JPY loaded 3999 candles from 2022-11-15T18:00:00.000000000Z to 2023-07-07T08:00:00.000000000Z\n",
      "USD_CHF loaded 3999 candles from 2022-11-15T18:00:00.000000000Z to 2023-07-07T08:00:00.000000000Z\n",
      "USD_CAD loaded 3999 candles from 2022-11-15T18:00:00.000000000Z to 2023-07-07T08:00:00.000000000Z\n",
      "EUR_GBP loaded 3999 candles from 2022-11-15T18:00:00.000000000Z to 2023-07-07T08:00:00.000000000Z\n",
      "EUR_USD loaded 3999 candles from 2022-11-15T18:00:00.000000000Z to 2023-07-07T08:00:00.000000000Z\n",
      "EUR_JPY loaded 3999 candles from 2022-11-15T18:00:00.000000000Z to 2023-07-07T08:00:00.000000000Z\n",
      "EUR_CHF loaded 3999 candles from 2022-11-15T18:00:00.000000000Z to 2023-07-07T08:00:00.000000000Z\n",
      "EUR_NZD loaded 3999 candles from 2022-11-15T18:00:00.000000000Z to 2023-07-07T08:00:00.000000000Z\n",
      "EUR_CAD loaded 3999 candles from 2022-11-15T18:00:00.000000000Z to 2023-07-07T08:00:00.000000000Z\n",
      "CHF_JPY loaded 3999 candles from 2022-11-15T18:00:00.000000000Z to 2023-07-07T08:00:00.000000000Z\n",
      "NZD_USD loaded 3999 candles from 2022-11-15T21:00:00.000000000Z to 2023-07-07T08:00:00.000000000Z\n",
      "NZD_JPY loaded 3999 candles from 2022-11-15T18:00:00.000000000Z to 2023-07-07T08:00:00.000000000Z\n",
      "NZD_CHF loaded 3999 candles from 2022-11-15T18:00:00.000000000Z to 2023-07-07T08:00:00.000000000Z\n",
      "NZD_CAD loaded 3999 candles from 2022-11-15T18:00:00.000000000Z to 2023-07-07T08:00:00.000000000Z\n",
      "CAD_JPY loaded 3999 candles from 2022-11-15T18:00:00.000000000Z to 2023-07-07T08:00:00.000000000Z\n",
      "CAD_CHF loaded 3999 candles from 2022-11-15T18:00:00.000000000Z to 2023-07-07T08:00:00.000000000Z\n"
     ]
    }
   ],
   "source": [
    "for pair in pairs:\n",
    "    create_data(pair, \"H1\")"
   ]
  },
  {
   "cell_type": "code",
   "execution_count": 30,
   "metadata": {},
   "outputs": [
    {
     "data": {
      "text/plain": [
       "<AxesSubplot:>"
      ]
     },
     "execution_count": 30,
     "metadata": {},
     "output_type": "execute_result"
    },
    {
     "data": {
      "image/png": "[encoded data removed]",
      "text/plain": [
       "<Figure size 432x288 with 1 Axes>"
      ]
     },
     "metadata": {
      "needs_background": "light"
     },
     "output_type": "display_data"
    }
   ],
   "source": [
    "import matplotlib.pyplot as plt\n",
    "\n",
    "testdf = pd.read_csv(\"./Data/CAD_CHF_H1 202307071009.csv\")\n",
    "testdf[\"bid_o\"].plot()"
   ]
  },
  {
   "cell_type": "code",
   "execution_count": null,
   "metadata": {},
   "outputs": [],
   "source": []
  }
 ],
 "metadata": {
  "kernelspec": {
   "display_name": "Python 3",
   "language": "python",
   "name": "python3"
  },
  "language_info": {
   "codemirror_mode": {
    "name": "ipython",
    "version": 3
   },
   "file_extension": ".py",
   "mimetype": "text/x-python",
   "name": "python",
   "nbconvert_exporter": "python",
   "pygments_lexer": "ipython3",
   "version": "3.10.4"
  },
  "orig_nbformat": 4
 },
 "nbformat": 4,
 "nbformat_minor": 2
}
