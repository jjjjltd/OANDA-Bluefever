{
 "cells": [
  {
   "cell_type": "code",
   "execution_count": null,
   "metadata": {},
   "outputs": [],
   "source": [
    "import requests\n",
    "import defs\n",
    "import pandas as pd\n",
    "import datetime"
   ]
  },
  {
   "attachments": {},
   "cell_type": "markdown",
   "metadata": {},
   "source": [
    "Open a session so that requests don't have to re-connect each time"
   ]
  },
  {
   "cell_type": "code",
   "execution_count": null,
   "metadata": {},
   "outputs": [],
   "source": [
    "session = requests.Session()"
   ]
  },
  {
   "attachments": {},
   "cell_type": "markdown",
   "metadata": {},
   "source": [
    "Consider turning instrument(s) into a list..."
   ]
  },
  {
   "cell_type": "code",
   "execution_count": null,
   "metadata": {},
   "outputs": [],
   "source": [
    "ins_df = pd.read_csv(\"./Data/available_instruments.csv\").drop([\"Unnamed: 0\"], axis=1)\n",
    "ins_df.head()"
   ]
  },
  {
   "cell_type": "code",
   "execution_count": null,
   "metadata": {},
   "outputs": [],
   "source": [
    "our_curr = [\"GBP\", \"USD\", \"EUR\", \"JPY\", \"CHF\", \"NZD\", \"CAD\"]"
   ]
  },
  {
   "cell_type": "code",
   "execution_count": null,
   "metadata": {},
   "outputs": [],
   "source": [
    "def fetch_candles(pair_name, count, granularity):\n",
    "    url = f\"{defs.OANDA_URL}/instruments/{pair_name}/candles\"\n",
    "    params = dict(\n",
    "        count = count,\n",
    "        granularity = granularity,\n",
    "        price=\"MBA\"\n",
    "    )\n",
    "    response = session.get(url, params=params, headers=defs.SECURE_HEADER)\n",
    "    return response.status_code, response.json()"
   ]
  },
  {
   "cell_type": "code",
   "execution_count": null,
   "metadata": {},
   "outputs": [],
   "source": [
    "\n",
    "status_code, res = fetch_candles(\"EUR_USD\", 10, \"H1\")\n",
    "print(status_code)"
   ]
  },
  {
   "cell_type": "code",
   "execution_count": null,
   "metadata": {},
   "outputs": [],
   "source": [
    "def get_candles_df(response):\n",
    "\n",
    "    our_data =[]\n",
    "\n",
    "    prices = [\"bid\", \"mid\", \"ask\"]\n",
    "    ohlc = [\"o\", \"h\", \"l\", \"c\"]\n",
    "\n",
    "    for candle in response[\"candles\"]:\n",
    "        if candle[\"complete\"] == False:\n",
    "            continue\n",
    "\n",
    "        new_dict = {}\n",
    "        new_dict[\"ticker\"] = response[\"instrument\"]\n",
    "        new_dict[\"time\"] = candle[\"time\"]\n",
    "        new_dict[\"volume\"] = candle[\"volume\"]\n",
    "        \n",
    "        for price in prices:\n",
    "            for oh in ohlc:\n",
    "                new_dict[f\"{price}_{oh}\"] = candle[price][oh]\n",
    "\n",
    "        our_data.append(new_dict)\n",
    "        \n",
    "    return pd.DataFrame.from_dict(our_data)\n"
   ]
  },
  {
   "cell_type": "code",
   "execution_count": null,
   "metadata": {},
   "outputs": [],
   "source": [
    "df = get_candles_df(res)\n",
    "df"
   ]
  },
  {
   "cell_type": "code",
   "execution_count": null,
   "metadata": {},
   "outputs": [],
   "source": [
    "def save_file(candles_df, pair, granularity):\n",
    "    # candles_df.to_csv(f\"./data/{pair}_{granularity} {datetime.datetime.now().strftime('%Y%m%d%H%M')}.csv\")\n",
    "    candles_df.to_csv(f\"./data/{pair}_{granularity}.csv\")"
   ]
  },
  {
   "cell_type": "code",
   "execution_count": null,
   "metadata": {},
   "outputs": [],
   "source": [
    "save_file(df, \"EUR_USD\", \"H1\")"
   ]
  },
  {
   "cell_type": "code",
   "execution_count": null,
   "metadata": {},
   "outputs": [],
   "source": [
    "def create_data(pair, granularity):\n",
    "    code, json_data = fetch_candles(pair, 4000, granularity)\n",
    "    if code != 200:\n",
    "        print(f\"{pair} Error: {code}\")\n",
    "        return\n",
    "    df = get_candles_df(json_data)\n",
    "    print(f\"{pair} loaded {df.shape[0]} candles from {df.time.min()} to {df.time.max()}\")\n",
    "    save_file(df, pair, granularity)"
   ]
  },
  {
   "cell_type": "code",
   "execution_count": null,
   "metadata": {},
   "outputs": [],
   "source": [
    "create_data(\"EUR_USD\", \"H1\")"
   ]
  },
  {
   "cell_type": "code",
   "execution_count": 19,
   "metadata": {},
   "outputs": [],
   "source": [
    "def our_pairs(our_curr):\n",
    "\n",
    "    pairs=[]\n",
    "    \n",
    "    for i in range(len(our_curr)):\n",
    "        if i== 0:\n",
    "            j=1\n",
    "        else:\n",
    "            j=0\n",
    "\n",
    "        while (j) < len(our_curr):\n",
    "            if i != j:\n",
    "                new_pair = f\"{our_curr[i]}_{our_curr[j]}\"\n",
    "                if new_pair in ins_df.name.unique():\n",
    "                    pairs.append(f\"{our_curr[i]}_{our_curr[j]}\")\n",
    "            j = j + 1\n",
    "    \n",
    "    return pairs\n"
   ]
  },
  {
   "cell_type": "code",
   "execution_count": 23,
   "metadata": {},
   "outputs": [
    {
     "data": {
      "text/plain": [
       "['GBP_USD',\n",
       " 'GBP_JPY',\n",
       " 'GBP_CHF',\n",
       " 'GBP_NZD',\n",
       " 'GBP_CAD',\n",
       " 'USD_JPY',\n",
       " 'USD_CHF',\n",
       " 'USD_CAD',\n",
       " 'EUR_GBP',\n",
       " 'EUR_USD',\n",
       " 'EUR_JPY',\n",
       " 'EUR_CHF',\n",
       " 'EUR_NZD',\n",
       " 'EUR_CAD',\n",
       " 'CHF_JPY',\n",
       " 'NZD_USD',\n",
       " 'NZD_JPY',\n",
       " 'NZD_CHF',\n",
       " 'NZD_CAD',\n",
       " 'CAD_JPY',\n",
       " 'CAD_CHF']"
      ]
     },
     "execution_count": 23,
     "metadata": {},
     "output_type": "execute_result"
    }
   ],
   "source": [
    "pairs = our_pairs(our_curr)\n",
    "pairs\n"
   ]
  },
  {
   "cell_type": "code",
   "execution_count": 24,
   "metadata": {},
   "outputs": [
    {
     "name": "stdout",
     "output_type": "stream",
     "text": [
      "GBP_USD loaded 3999 candles from 2022-11-22T20:00:00.000000000Z to 2023-07-14T10:00:00.000000000Z\n",
      "GBP_JPY loaded 3999 candles from 2022-11-22T20:00:00.000000000Z to 2023-07-14T10:00:00.000000000Z\n",
      "GBP_CHF loaded 3999 candles from 2022-11-22T20:00:00.000000000Z to 2023-07-14T10:00:00.000000000Z\n",
      "GBP_NZD loaded 3999 candles from 2022-11-22T20:00:00.000000000Z to 2023-07-14T10:00:00.000000000Z\n",
      "GBP_CAD loaded 3999 candles from 2022-11-22T20:00:00.000000000Z to 2023-07-14T10:00:00.000000000Z\n",
      "USD_JPY loaded 3999 candles from 2022-11-22T20:00:00.000000000Z to 2023-07-14T10:00:00.000000000Z\n",
      "USD_CHF loaded 3999 candles from 2022-11-22T20:00:00.000000000Z to 2023-07-14T10:00:00.000000000Z\n",
      "USD_CAD loaded 3999 candles from 2022-11-22T20:00:00.000000000Z to 2023-07-14T10:00:00.000000000Z\n",
      "EUR_GBP loaded 3999 candles from 2022-11-22T20:00:00.000000000Z to 2023-07-14T10:00:00.000000000Z\n",
      "EUR_USD loaded 3999 candles from 2022-11-22T20:00:00.000000000Z to 2023-07-14T10:00:00.000000000Z\n",
      "EUR_JPY loaded 3999 candles from 2022-11-22T20:00:00.000000000Z to 2023-07-14T10:00:00.000000000Z\n",
      "EUR_CHF loaded 3999 candles from 2022-11-22T20:00:00.000000000Z to 2023-07-14T10:00:00.000000000Z\n",
      "EUR_NZD loaded 3999 candles from 2022-11-22T20:00:00.000000000Z to 2023-07-14T10:00:00.000000000Z\n",
      "EUR_CAD loaded 3999 candles from 2022-11-22T20:00:00.000000000Z to 2023-07-14T10:00:00.000000000Z\n",
      "CHF_JPY loaded 3999 candles from 2022-11-22T20:00:00.000000000Z to 2023-07-14T10:00:00.000000000Z\n",
      "NZD_USD loaded 3999 candles from 2022-11-22T23:00:00.000000000Z to 2023-07-14T10:00:00.000000000Z\n",
      "NZD_JPY loaded 3999 candles from 2022-11-22T20:00:00.000000000Z to 2023-07-14T10:00:00.000000000Z\n",
      "NZD_CHF loaded 3999 candles from 2022-11-22T19:00:00.000000000Z to 2023-07-14T10:00:00.000000000Z\n",
      "NZD_CAD loaded 3999 candles from 2022-11-22T20:00:00.000000000Z to 2023-07-14T10:00:00.000000000Z\n",
      "CAD_JPY loaded 3999 candles from 2022-11-22T20:00:00.000000000Z to 2023-07-14T10:00:00.000000000Z\n",
      "CAD_CHF loaded 3999 candles from 2022-11-22T20:00:00.000000000Z to 2023-07-14T10:00:00.000000000Z\n"
     ]
    }
   ],
   "source": [
    "for pair in pairs:\n",
    "    create_data(pair, \"H1\")"
   ]
  },
  {
   "cell_type": "code",
   "execution_count": null,
   "metadata": {},
   "outputs": [],
   "source": [
    "for pair in pairs:\n",
    "    create_data(pair, \"H1\")"
   ]
  },
  {
   "cell_type": "code",
   "execution_count": null,
   "metadata": {},
   "outputs": [],
   "source": [
    "import matplotlib.pyplot as plt\n",
    "\n",
    "testdf = pd.read_csv(\"./Data/CAD_CHF_H1 202307071009.csv\")\n",
    "testdf[\"bid_o\"].plot()"
   ]
  },
  {
   "cell_type": "code",
   "execution_count": null,
   "metadata": {},
   "outputs": [],
   "source": []
  }
 ],
 "metadata": {
  "kernelspec": {
   "display_name": "Python 3",
   "language": "python",
   "name": "python3"
  },
  "language_info": {
   "codemirror_mode": {
    "name": "ipython",
    "version": 3
   },
   "file_extension": ".py",
   "mimetype": "text/x-python",
   "name": "python",
   "nbconvert_exporter": "python",
   "pygments_lexer": "ipython3",
   "version": "3.10.4"
  },
  "orig_nbformat": 4
 },
 "nbformat": 4,
 "nbformat_minor": 2
}
