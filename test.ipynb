{
 "cells": [
  {
   "cell_type": "code",
   "execution_count": 30,
   "metadata": {},
   "outputs": [],
   "source": [
    "import requests\n",
    "import defs"
   ]
  },
  {
   "cell_type": "code",
   "execution_count": 31,
   "metadata": {},
   "outputs": [],
   "source": [
    "session = requests.Session()"
   ]
  },
  {
   "cell_type": "code",
   "execution_count": 32,
   "metadata": {},
   "outputs": [],
   "source": [
    "instrument = \"EUR_USD\"\n",
    "count = 10\n",
    "granularity = \"H1\""
   ]
  },
  {
   "cell_type": "code",
   "execution_count": 33,
   "metadata": {},
   "outputs": [
    {
     "data": {
      "text/plain": [
       "{'count': 10, 'granularity': 'H1', 'price': 'MBA'}"
      ]
     },
     "execution_count": 33,
     "metadata": {},
     "output_type": "execute_result"
    }
   ],
   "source": [
    "params = dict(\n",
    "    count = count,\n",
    "    granularity = granularity,\n",
    "    price=\"MBA\"\n",
    ")\n",
    "params"
   ]
  },
  {
   "cell_type": "code",
   "execution_count": 34,
   "metadata": {},
   "outputs": [
    {
     "data": {
      "text/plain": [
       "'https://api-fxpractice.oanda.com/v3/instruments/EUR_USD/candles'"
      ]
     },
     "execution_count": 34,
     "metadata": {},
     "output_type": "execute_result"
    }
   ],
   "source": [
    "url = f\"{defs.OANDA_URL}/instruments/{instrument}/candles\"\n",
    "url"
   ]
  },
  {
   "cell_type": "code",
   "execution_count": 35,
   "metadata": {},
   "outputs": [
    {
     "data": {
      "text/plain": [
       "'https://api-fxpractice.oanda.com/v3'"
      ]
     },
     "execution_count": 35,
     "metadata": {},
     "output_type": "execute_result"
    }
   ],
   "source": [
    "defs.OANDA_URL"
   ]
  },
  {
   "cell_type": "code",
   "execution_count": 36,
   "metadata": {},
   "outputs": [
    {
     "data": {
      "text/plain": [
       "{'instrument': 'EUR_USD',\n",
       " 'granularity': 'H1',\n",
       " 'candles': [{'complete': True,\n",
       "   'volume': 3749,\n",
       "   'time': '2023-07-05T06:00:00.000000000Z',\n",
       "   'bid': {'o': '1.08810', 'h': '1.08883', 'l': '1.08707', 'c': '1.08820'},\n",
       "   'mid': {'o': '1.08817', 'h': '1.08890', 'l': '1.08716', 'c': '1.08826'},\n",
       "   'ask': {'o': '1.08824', 'h': '1.08897', 'l': '1.08723', 'c': '1.08833'}},\n",
       "  {'complete': True,\n",
       "   'volume': 5954,\n",
       "   'time': '2023-07-05T07:00:00.000000000Z',\n",
       "   'bid': {'o': '1.08820', 'h': '1.09073', 'l': '1.08817', 'c': '1.08861'},\n",
       "   'mid': {'o': '1.08827', 'h': '1.09080', 'l': '1.08824', 'c': '1.08868'},\n",
       "   'ask': {'o': '1.08834', 'h': '1.09087', 'l': '1.08832', 'c': '1.08876'}},\n",
       "  {'complete': True,\n",
       "   'volume': 6108,\n",
       "   'time': '2023-07-05T08:00:00.000000000Z',\n",
       "   'bid': {'o': '1.08858', 'h': '1.08937', 'l': '1.08657', 'c': '1.08874'},\n",
       "   'mid': {'o': '1.08866', 'h': '1.08944', 'l': '1.08664', 'c': '1.08881'},\n",
       "   'ask': {'o': '1.08873', 'h': '1.08951', 'l': '1.08671', 'c': '1.08888'}},\n",
       "  {'complete': True,\n",
       "   'volume': 3960,\n",
       "   'time': '2023-07-05T09:00:00.000000000Z',\n",
       "   'bid': {'o': '1.08873', 'h': '1.08951', 'l': '1.08745', 'c': '1.08936'},\n",
       "   'mid': {'o': '1.08880', 'h': '1.08958', 'l': '1.08754', 'c': '1.08943'},\n",
       "   'ask': {'o': '1.08887', 'h': '1.08965', 'l': '1.08762', 'c': '1.08950'}},\n",
       "  {'complete': True,\n",
       "   'volume': 3315,\n",
       "   'time': '2023-07-05T10:00:00.000000000Z',\n",
       "   'bid': {'o': '1.08935', 'h': '1.08942', 'l': '1.08767', 'c': '1.08775'},\n",
       "   'mid': {'o': '1.08942', 'h': '1.08950', 'l': '1.08774', 'c': '1.08782'},\n",
       "   'ask': {'o': '1.08949', 'h': '1.08958', 'l': '1.08782', 'c': '1.08789'}},\n",
       "  {'complete': True,\n",
       "   'volume': 3366,\n",
       "   'time': '2023-07-05T11:00:00.000000000Z',\n",
       "   'bid': {'o': '1.08774', 'h': '1.08817', 'l': '1.08748', 'c': '1.08785'},\n",
       "   'mid': {'o': '1.08781', 'h': '1.08824', 'l': '1.08754', 'c': '1.08792'},\n",
       "   'ask': {'o': '1.08788', 'h': '1.08831', 'l': '1.08761', 'c': '1.08799'}},\n",
       "  {'complete': True,\n",
       "   'volume': 4878,\n",
       "   'time': '2023-07-05T12:00:00.000000000Z',\n",
       "   'bid': {'o': '1.08784', 'h': '1.09015', 'l': '1.08750', 'c': '1.08936'},\n",
       "   'mid': {'o': '1.08791', 'h': '1.09022', 'l': '1.08757', 'c': '1.08942'},\n",
       "   'ask': {'o': '1.08798', 'h': '1.09028', 'l': '1.08764', 'c': '1.08949'}},\n",
       "  {'complete': True,\n",
       "   'volume': 6061,\n",
       "   'time': '2023-07-05T13:00:00.000000000Z',\n",
       "   'bid': {'o': '1.08938', 'h': '1.09008', 'l': '1.08850', 'c': '1.08907'},\n",
       "   'mid': {'o': '1.08946', 'h': '1.09014', 'l': '1.08857', 'c': '1.08916'},\n",
       "   'ask': {'o': '1.08953', 'h': '1.09021', 'l': '1.08864', 'c': '1.08924'}},\n",
       "  {'complete': True,\n",
       "   'volume': 7667,\n",
       "   'time': '2023-07-05T14:00:00.000000000Z',\n",
       "   'bid': {'o': '1.08910', 'h': '1.08945', 'l': '1.08663', 'c': '1.08732'},\n",
       "   'mid': {'o': '1.08918', 'h': '1.08952', 'l': '1.08670', 'c': '1.08738'},\n",
       "   'ask': {'o': '1.08927', 'h': '1.08959', 'l': '1.08678', 'c': '1.08745'}},\n",
       "  {'complete': False,\n",
       "   'volume': 493,\n",
       "   'time': '2023-07-05T15:00:00.000000000Z',\n",
       "   'bid': {'o': '1.08731', 'h': '1.08743', 'l': '1.08723', 'c': '1.08725'},\n",
       "   'mid': {'o': '1.08738', 'h': '1.08750', 'l': '1.08730', 'c': '1.08732'},\n",
       "   'ask': {'o': '1.08744', 'h': '1.08756', 'l': '1.08736', 'c': '1.08740'}}]}"
      ]
     },
     "execution_count": 36,
     "metadata": {},
     "output_type": "execute_result"
    }
   ],
   "source": [
    "response = session.get(url, params=params, headers=defs.SECURE_HEADER).json()\n",
    "response"
   ]
  },
  {
   "cell_type": "code",
   "execution_count": 37,
   "metadata": {},
   "outputs": [
    {
     "data": {
      "text/plain": [
       "'https://api-fxpractice.oanda.com/v3/instruments/EUR_USD/candles'"
      ]
     },
     "execution_count": 37,
     "metadata": {},
     "output_type": "execute_result"
    }
   ],
   "source": [
    "url"
   ]
  },
  {
   "cell_type": "code",
   "execution_count": 38,
   "metadata": {},
   "outputs": [
    {
     "name": "stdout",
     "output_type": "stream",
     "text": [
      "{'complete': True, 'volume': 3749, 'time': '2023-07-05T06:00:00.000000000Z', 'bid': {'o': '1.08810', 'h': '1.08883', 'l': '1.08707', 'c': '1.08820'}, 'mid': {'o': '1.08817', 'h': '1.08890', 'l': '1.08716', 'c': '1.08826'}, 'ask': {'o': '1.08824', 'h': '1.08897', 'l': '1.08723', 'c': '1.08833'}}\n",
      "{'complete': True, 'volume': 5954, 'time': '2023-07-05T07:00:00.000000000Z', 'bid': {'o': '1.08820', 'h': '1.09073', 'l': '1.08817', 'c': '1.08861'}, 'mid': {'o': '1.08827', 'h': '1.09080', 'l': '1.08824', 'c': '1.08868'}, 'ask': {'o': '1.08834', 'h': '1.09087', 'l': '1.08832', 'c': '1.08876'}}\n",
      "{'complete': True, 'volume': 6108, 'time': '2023-07-05T08:00:00.000000000Z', 'bid': {'o': '1.08858', 'h': '1.08937', 'l': '1.08657', 'c': '1.08874'}, 'mid': {'o': '1.08866', 'h': '1.08944', 'l': '1.08664', 'c': '1.08881'}, 'ask': {'o': '1.08873', 'h': '1.08951', 'l': '1.08671', 'c': '1.08888'}}\n",
      "{'complete': True, 'volume': 3960, 'time': '2023-07-05T09:00:00.000000000Z', 'bid': {'o': '1.08873', 'h': '1.08951', 'l': '1.08745', 'c': '1.08936'}, 'mid': {'o': '1.08880', 'h': '1.08958', 'l': '1.08754', 'c': '1.08943'}, 'ask': {'o': '1.08887', 'h': '1.08965', 'l': '1.08762', 'c': '1.08950'}}\n",
      "{'complete': True, 'volume': 3315, 'time': '2023-07-05T10:00:00.000000000Z', 'bid': {'o': '1.08935', 'h': '1.08942', 'l': '1.08767', 'c': '1.08775'}, 'mid': {'o': '1.08942', 'h': '1.08950', 'l': '1.08774', 'c': '1.08782'}, 'ask': {'o': '1.08949', 'h': '1.08958', 'l': '1.08782', 'c': '1.08789'}}\n",
      "{'complete': True, 'volume': 3366, 'time': '2023-07-05T11:00:00.000000000Z', 'bid': {'o': '1.08774', 'h': '1.08817', 'l': '1.08748', 'c': '1.08785'}, 'mid': {'o': '1.08781', 'h': '1.08824', 'l': '1.08754', 'c': '1.08792'}, 'ask': {'o': '1.08788', 'h': '1.08831', 'l': '1.08761', 'c': '1.08799'}}\n",
      "{'complete': True, 'volume': 4878, 'time': '2023-07-05T12:00:00.000000000Z', 'bid': {'o': '1.08784', 'h': '1.09015', 'l': '1.08750', 'c': '1.08936'}, 'mid': {'o': '1.08791', 'h': '1.09022', 'l': '1.08757', 'c': '1.08942'}, 'ask': {'o': '1.08798', 'h': '1.09028', 'l': '1.08764', 'c': '1.08949'}}\n",
      "{'complete': True, 'volume': 6061, 'time': '2023-07-05T13:00:00.000000000Z', 'bid': {'o': '1.08938', 'h': '1.09008', 'l': '1.08850', 'c': '1.08907'}, 'mid': {'o': '1.08946', 'h': '1.09014', 'l': '1.08857', 'c': '1.08916'}, 'ask': {'o': '1.08953', 'h': '1.09021', 'l': '1.08864', 'c': '1.08924'}}\n",
      "{'complete': True, 'volume': 7667, 'time': '2023-07-05T14:00:00.000000000Z', 'bid': {'o': '1.08910', 'h': '1.08945', 'l': '1.08663', 'c': '1.08732'}, 'mid': {'o': '1.08918', 'h': '1.08952', 'l': '1.08670', 'c': '1.08738'}, 'ask': {'o': '1.08927', 'h': '1.08959', 'l': '1.08678', 'c': '1.08745'}}\n",
      "{'complete': False, 'volume': 493, 'time': '2023-07-05T15:00:00.000000000Z', 'bid': {'o': '1.08731', 'h': '1.08743', 'l': '1.08723', 'c': '1.08725'}, 'mid': {'o': '1.08738', 'h': '1.08750', 'l': '1.08730', 'c': '1.08732'}, 'ask': {'o': '1.08744', 'h': '1.08756', 'l': '1.08736', 'c': '1.08740'}}\n"
     ]
    }
   ],
   "source": [
    "for candle in response[\"candles\"]:\n",
    "    print(candle)\n"
   ]
  },
  {
   "cell_type": "code",
   "execution_count": 39,
   "metadata": {},
   "outputs": [
    {
     "name": "stdout",
     "output_type": "stream",
     "text": [
      "Volume 3749 at 2023-07-05T06:00:00.000000000Z\n",
      "Volume 5954 at 2023-07-05T07:00:00.000000000Z\n",
      "Volume 6108 at 2023-07-05T08:00:00.000000000Z\n",
      "Volume 3960 at 2023-07-05T09:00:00.000000000Z\n",
      "Volume 3315 at 2023-07-05T10:00:00.000000000Z\n",
      "Volume 3366 at 2023-07-05T11:00:00.000000000Z\n",
      "Volume 4878 at 2023-07-05T12:00:00.000000000Z\n",
      "Volume 6061 at 2023-07-05T13:00:00.000000000Z\n",
      "Volume 7667 at 2023-07-05T14:00:00.000000000Z\n",
      "Volume 493 at 2023-07-05T15:00:00.000000000Z\n"
     ]
    }
   ],
   "source": [
    "for candle in response[\"candles\"]:\n",
    "    print(f\"Volume {candle['volume']} at {candle['time']}\")"
   ]
  },
  {
   "cell_type": "code",
   "execution_count": 1,
   "metadata": {},
   "outputs": [
    {
     "data": {
      "text/plain": [
       "{8, 16, 32, 64, 96, 128, 256}"
      ]
     },
     "execution_count": 1,
     "metadata": {},
     "output_type": "execute_result"
    }
   ],
   "source": [
    "ma_short = [8, 16, 32, 64]\n",
    "ma_long = [32, 64, 96, 128, 256]\n",
    "\n",
    "ma_list = set(ma_short + ma_long)\n",
    "ma_list"
   ]
  },
  {
   "cell_type": "code",
   "execution_count": 19,
   "metadata": {},
   "outputs": [],
   "source": [
    "import instrument\n",
    "def get_existing_pairs(pair_str):\n",
    "    existing_pairs = instrument.Instrument.get_instruments_dict().keys()\n",
    "    pairs = pair_str.split(\",\")\n",
    "\n",
    "    test_list = []\n",
    "\n",
    "    # Loop through pairs list twice (each currency within each currency)\n",
    "    for p1 in pairs:\n",
    "        for p2 in pairs:\n",
    "            p = f\"{p1}_{p2}\"\n",
    "            if p in existing_pairs:\n",
    "                test_list.append(p)\n",
    "\n",
    "    return test_list"
   ]
  },
  {
   "cell_type": "code",
   "execution_count": 22,
   "metadata": {},
   "outputs": [
    {
     "name": "stdout",
     "output_type": "stream",
     "text": [
      "['GBP_JPY', 'GBP_USD', 'GBP_CHF', 'USD_JPY', 'USD_CHF', 'EUR_GBP', 'EUR_JPY', 'EUR_USD', 'EUR_CHF', 'CHF_JPY']\n"
     ]
    }
   ],
   "source": [
    "pair_str = \"GBP,JPY,USD,XXX,EUR,CHF\"\n",
    "list = get_existing_pairs(pair_str)\n"
   ]
  },
  {
   "cell_type": "code",
   "execution_count": null,
   "metadata": {},
   "outputs": [],
   "source": []
  }
 ],
 "metadata": {
  "kernelspec": {
   "display_name": "Python 3",
   "language": "python",
   "name": "python3"
  },
  "language_info": {
   "codemirror_mode": {
    "name": "ipython",
    "version": 3
   },
   "file_extension": ".py",
   "mimetype": "text/x-python",
   "name": "python",
   "nbconvert_exporter": "python",
   "pygments_lexer": "ipython3",
   "version": "3.10.4"
  },
  "orig_nbformat": 4
 },
 "nbformat": 4,
 "nbformat_minor": 2
}
