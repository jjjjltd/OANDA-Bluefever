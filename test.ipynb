{
 "cells": [
  {
   "cell_type": "code",
   "execution_count": null,
   "metadata": {},
   "outputs": [],
   "source": [
    "import requests\n",
    "import defs"
   ]
  },
  {
   "cell_type": "code",
   "execution_count": null,
   "metadata": {},
   "outputs": [],
   "source": [
    "session = requests.Session()"
   ]
  },
  {
   "cell_type": "code",
   "execution_count": null,
   "metadata": {},
   "outputs": [],
   "source": [
    "instrument = \"EUR_USD\"\n",
    "count = 10\n",
    "granularity = \"H1\""
   ]
  },
  {
   "cell_type": "code",
   "execution_count": null,
   "metadata": {},
   "outputs": [],
   "source": [
    "params = dict(\n",
    "    count = count,\n",
    "    granularity = granularity,\n",
    "    price=\"MBA\"\n",
    ")\n",
    "params"
   ]
  },
  {
   "cell_type": "code",
   "execution_count": null,
   "metadata": {},
   "outputs": [],
   "source": [
    "url = f\"{defs.OANDA_URL}/instruments/{instrument}/candles\"\n",
    "url"
   ]
  },
  {
   "cell_type": "code",
   "execution_count": null,
   "metadata": {},
   "outputs": [],
   "source": [
    "defs.OANDA_URL"
   ]
  },
  {
   "cell_type": "code",
   "execution_count": null,
   "metadata": {},
   "outputs": [],
   "source": [
    "response = session.get(url, params=params, headers=defs.SECURE_HEADER).json()\n",
    "response"
   ]
  },
  {
   "cell_type": "code",
   "execution_count": null,
   "metadata": {},
   "outputs": [],
   "source": [
    "url"
   ]
  },
  {
   "cell_type": "code",
   "execution_count": null,
   "metadata": {},
   "outputs": [],
   "source": [
    "for candle in response[\"candles\"]:\n",
    "    print(candle)\n"
   ]
  },
  {
   "cell_type": "code",
   "execution_count": null,
   "metadata": {},
   "outputs": [],
   "source": [
    "for candle in response[\"candles\"]:\n",
    "    print(f\"Volume {candle['volume']} at {candle['time']}\")"
   ]
  },
  {
   "cell_type": "code",
   "execution_count": null,
   "metadata": {},
   "outputs": [],
   "source": [
    "ma_short = [8, 16, 32, 64]\n",
    "ma_long = [32, 64, 96, 128, 256]\n",
    "\n",
    "ma_list = set(ma_short + ma_long)\n",
    "ma_list"
   ]
  },
  {
   "cell_type": "code",
   "execution_count": null,
   "metadata": {},
   "outputs": [],
   "source": [
    "import instrument\n",
    "def get_existing_pairs(pair_str):\n",
    "    existing_pairs = instrument.Instrument.get_instruments_dict().keys()\n",
    "    pairs = pair_str.split(\",\")\n",
    "\n",
    "    test_list = []\n",
    "\n",
    "    # Loop through pairs list twice (each currency within each currency)\n",
    "    for p1 in pairs:\n",
    "        for p2 in pairs:\n",
    "            p = f\"{p1}_{p2}\"\n",
    "            if p in existing_pairs:\n",
    "                test_list.append(p)\n",
    "\n",
    "    return test_list"
   ]
  },
  {
   "cell_type": "code",
   "execution_count": null,
   "metadata": {},
   "outputs": [],
   "source": [
    "pair_str = \"GBP,JPY,USD,XXX,EUR,CHF\"\n",
    "list = get_existing_pairs(pair_str)\n"
   ]
  },
  {
   "cell_type": "code",
   "execution_count": null,
   "metadata": {},
   "outputs": [],
   "source": [
    "import pandas as pd\n",
    "ma_test_res = pd.read_csv(\"./Data/ma_test_results.csv\")\n",
    "\n",
    "print(\"df info 1:\")\n",
    "print(ma_test_res.info())\n",
    "\n",
    "ma_test_res[\"CROSS\"] = \"MA_\" + ma_test_res.mashort.map(str) + \"_\" + ma_test_res.malong.map(str)\n",
    "\n",
    "print(\"df info 2:\")\n",
    "print(ma_test_res.info())\n",
    "\n",
    "    "
   ]
  },
  {
   "cell_type": "code",
   "execution_count": 2,
   "metadata": {},
   "outputs": [
    {
     "name": "stdout",
     "output_type": "stream",
     "text": [
      "400\n"
     ]
    }
   ],
   "source": [
    "from oanda_api import OandaAPI\n",
    "api=OandaAPI()\n",
    "print(api.candles_count)\n"
   ]
  },
  {
   "cell_type": "code",
   "execution_count": 2,
   "metadata": {},
   "outputs": [
    {
     "name": "stdout",
     "output_type": "stream",
     "text": [
      "<class 'pandas.core.frame.DataFrame'>\n",
      "RangeIndex: 224097 entries, 0 to 224096\n",
      "Data columns (total 15 columns):\n",
      " #   Column      Non-Null Count   Dtype                  \n",
      "---  ------      --------------   -----                  \n",
      " 0   Unnamed: 0  224097 non-null  int64                  \n",
      " 1   time        224097 non-null  datetime64[ns, tzutc()]\n",
      " 2   volume      224097 non-null  int64                  \n",
      " 3   bid_o       224097 non-null  float64                \n",
      " 4   bid_h       224097 non-null  float64                \n",
      " 5   bid_l       224097 non-null  float64                \n",
      " 6   bid_c       224097 non-null  float64                \n",
      " 7   mid_o       224097 non-null  float64                \n",
      " 8   mid_h       224097 non-null  float64                \n",
      " 9   mid_l       224097 non-null  float64                \n",
      " 10  mid_c       224097 non-null  float64                \n",
      " 11  ask_o       224097 non-null  float64                \n",
      " 12  ask_h       224097 non-null  float64                \n",
      " 13  ask_l       224097 non-null  float64                \n",
      " 14  ask_c       224097 non-null  float64                \n",
      "dtypes: datetime64[ns, tzutc()](1), float64(12), int64(2)\n",
      "memory usage: 25.6 MB\n"
     ]
    }
   ],
   "source": [
    "import pandas as pd\n",
    "import utils\n",
    "from dateutil.parser import *\n",
    "\n",
    "df = pd.read_csv(utils.get_hist_data_filename(\"GBP_JPY\", \"M5\"))\n",
    "df['time'] = [parse(x) for x in df.time]\n",
    "df.info()"
   ]
  },
  {
   "cell_type": "code",
   "execution_count": 3,
   "metadata": {},
   "outputs": [
    {
     "data": {
      "text/html": [
       "<div>\n",
       "<style scoped>\n",
       "    .dataframe tbody tr th:only-of-type {\n",
       "        vertical-align: middle;\n",
       "    }\n",
       "\n",
       "    .dataframe tbody tr th {\n",
       "        vertical-align: top;\n",
       "    }\n",
       "\n",
       "    .dataframe thead th {\n",
       "        text-align: right;\n",
       "    }\n",
       "</style>\n",
       "<table border=\"1\" class=\"dataframe\">\n",
       "  <thead>\n",
       "    <tr style=\"text-align: right;\">\n",
       "      <th></th>\n",
       "      <th>Unnamed: 0</th>\n",
       "      <th>time</th>\n",
       "      <th>volume</th>\n",
       "      <th>bid_o</th>\n",
       "      <th>bid_h</th>\n",
       "      <th>bid_l</th>\n",
       "      <th>bid_c</th>\n",
       "      <th>mid_o</th>\n",
       "      <th>mid_h</th>\n",
       "      <th>mid_l</th>\n",
       "      <th>mid_c</th>\n",
       "      <th>ask_o</th>\n",
       "      <th>ask_h</th>\n",
       "      <th>ask_l</th>\n",
       "      <th>ask_c</th>\n",
       "    </tr>\n",
       "  </thead>\n",
       "  <tbody>\n",
       "    <tr>\n",
       "      <th>0</th>\n",
       "      <td>0</td>\n",
       "      <td>2020-01-01 22:00:00+00:00</td>\n",
       "      <td>17</td>\n",
       "      <td>144.032</td>\n",
       "      <td>144.137</td>\n",
       "      <td>144.031</td>\n",
       "      <td>144.031</td>\n",
       "      <td>144.107</td>\n",
       "      <td>144.212</td>\n",
       "      <td>144.102</td>\n",
       "      <td>144.102</td>\n",
       "      <td>144.182</td>\n",
       "      <td>144.287</td>\n",
       "      <td>144.174</td>\n",
       "      <td>144.174</td>\n",
       "    </tr>\n",
       "    <tr>\n",
       "      <th>1</th>\n",
       "      <td>1</td>\n",
       "      <td>2020-01-01 22:05:00+00:00</td>\n",
       "      <td>28</td>\n",
       "      <td>144.039</td>\n",
       "      <td>144.048</td>\n",
       "      <td>144.020</td>\n",
       "      <td>144.030</td>\n",
       "      <td>144.114</td>\n",
       "      <td>144.118</td>\n",
       "      <td>144.084</td>\n",
       "      <td>144.084</td>\n",
       "      <td>144.188</td>\n",
       "      <td>144.188</td>\n",
       "      <td>144.139</td>\n",
       "      <td>144.139</td>\n",
       "    </tr>\n",
       "    <tr>\n",
       "      <th>2</th>\n",
       "      <td>2</td>\n",
       "      <td>2020-01-01 22:10:00+00:00</td>\n",
       "      <td>55</td>\n",
       "      <td>144.030</td>\n",
       "      <td>144.032</td>\n",
       "      <td>143.769</td>\n",
       "      <td>144.025</td>\n",
       "      <td>144.080</td>\n",
       "      <td>144.105</td>\n",
       "      <td>143.844</td>\n",
       "      <td>144.070</td>\n",
       "      <td>144.129</td>\n",
       "      <td>144.180</td>\n",
       "      <td>143.919</td>\n",
       "      <td>144.115</td>\n",
       "    </tr>\n",
       "    <tr>\n",
       "      <th>3</th>\n",
       "      <td>3</td>\n",
       "      <td>2020-01-01 22:15:00+00:00</td>\n",
       "      <td>96</td>\n",
       "      <td>144.029</td>\n",
       "      <td>144.034</td>\n",
       "      <td>143.861</td>\n",
       "      <td>143.917</td>\n",
       "      <td>144.074</td>\n",
       "      <td>144.079</td>\n",
       "      <td>143.936</td>\n",
       "      <td>143.992</td>\n",
       "      <td>144.119</td>\n",
       "      <td>144.145</td>\n",
       "      <td>144.011</td>\n",
       "      <td>144.067</td>\n",
       "    </tr>\n",
       "    <tr>\n",
       "      <th>4</th>\n",
       "      <td>4</td>\n",
       "      <td>2020-01-01 22:20:00+00:00</td>\n",
       "      <td>52</td>\n",
       "      <td>143.922</td>\n",
       "      <td>143.956</td>\n",
       "      <td>143.904</td>\n",
       "      <td>143.956</td>\n",
       "      <td>143.997</td>\n",
       "      <td>144.031</td>\n",
       "      <td>143.979</td>\n",
       "      <td>144.031</td>\n",
       "      <td>144.072</td>\n",
       "      <td>144.106</td>\n",
       "      <td>144.044</td>\n",
       "      <td>144.106</td>\n",
       "    </tr>\n",
       "  </tbody>\n",
       "</table>\n",
       "</div>"
      ],
      "text/plain": [
       "   Unnamed: 0                      time  volume    bid_o    bid_h    bid_l  \\\n",
       "0           0 2020-01-01 22:00:00+00:00      17  144.032  144.137  144.031   \n",
       "1           1 2020-01-01 22:05:00+00:00      28  144.039  144.048  144.020   \n",
       "2           2 2020-01-01 22:10:00+00:00      55  144.030  144.032  143.769   \n",
       "3           3 2020-01-01 22:15:00+00:00      96  144.029  144.034  143.861   \n",
       "4           4 2020-01-01 22:20:00+00:00      52  143.922  143.956  143.904   \n",
       "\n",
       "     bid_c    mid_o    mid_h    mid_l    mid_c    ask_o    ask_h    ask_l  \\\n",
       "0  144.031  144.107  144.212  144.102  144.102  144.182  144.287  144.174   \n",
       "1  144.030  144.114  144.118  144.084  144.084  144.188  144.188  144.139   \n",
       "2  144.025  144.080  144.105  143.844  144.070  144.129  144.180  143.919   \n",
       "3  143.917  144.074  144.079  143.936  143.992  144.119  144.145  144.011   \n",
       "4  143.956  143.997  144.031  143.979  144.031  144.072  144.106  144.044   \n",
       "\n",
       "     ask_c  \n",
       "0  144.174  \n",
       "1  144.139  \n",
       "2  144.115  \n",
       "3  144.067  \n",
       "4  144.106  "
      ]
     },
     "execution_count": 3,
     "metadata": {},
     "output_type": "execute_result"
    }
   ],
   "source": [
    "df.head()"
   ]
  },
  {
   "cell_type": "code",
   "execution_count": 4,
   "metadata": {},
   "outputs": [],
   "source": [
    "import datetime as dt\n",
    "\n",
    "df[\"next\"] =  df[\"time\"].shift(-1)\n",
    "df[\"trade_end\"] = df.next + dt.timedelta(hours=3, minutes=55)\n",
    "df[\"trade_start\"] = df.time + dt.timedelta(hours=4)"
   ]
  },
  {
   "cell_type": "code",
   "execution_count": 5,
   "metadata": {},
   "outputs": [
    {
     "name": "stdout",
     "output_type": "stream",
     "text": [
      "<class 'pandas.core.frame.DataFrame'>\n",
      "RangeIndex: 224097 entries, 0 to 224096\n",
      "Data columns (total 18 columns):\n",
      " #   Column       Non-Null Count   Dtype                  \n",
      "---  ------       --------------   -----                  \n",
      " 0   Unnamed: 0   224097 non-null  int64                  \n",
      " 1   time         224097 non-null  datetime64[ns, tzutc()]\n",
      " 2   volume       224097 non-null  int64                  \n",
      " 3   bid_o        224097 non-null  float64                \n",
      " 4   bid_h        224097 non-null  float64                \n",
      " 5   bid_l        224097 non-null  float64                \n",
      " 6   bid_c        224097 non-null  float64                \n",
      " 7   mid_o        224097 non-null  float64                \n",
      " 8   mid_h        224097 non-null  float64                \n",
      " 9   mid_l        224097 non-null  float64                \n",
      " 10  mid_c        224097 non-null  float64                \n",
      " 11  ask_o        224097 non-null  float64                \n",
      " 12  ask_h        224097 non-null  float64                \n",
      " 13  ask_l        224097 non-null  float64                \n",
      " 14  ask_c        224097 non-null  float64                \n",
      " 15  next         224096 non-null  datetime64[ns, tzutc()]\n",
      " 16  trade_end    224096 non-null  datetime64[ns, tzutc()]\n",
      " 17  trade_start  224097 non-null  datetime64[ns, tzutc()]\n",
      "dtypes: datetime64[ns, tzutc()](4), float64(12), int64(2)\n",
      "memory usage: 30.8 MB\n"
     ]
    }
   ],
   "source": [
    "df.info()"
   ]
  },
  {
   "cell_type": "code",
   "execution_count": 7,
   "metadata": {},
   "outputs": [
    {
     "data": {
      "text/html": [
       "<div>\n",
       "<style scoped>\n",
       "    .dataframe tbody tr th:only-of-type {\n",
       "        vertical-align: middle;\n",
       "    }\n",
       "\n",
       "    .dataframe tbody tr th {\n",
       "        vertical-align: top;\n",
       "    }\n",
       "\n",
       "    .dataframe thead th {\n",
       "        text-align: right;\n",
       "    }\n",
       "</style>\n",
       "<table border=\"1\" class=\"dataframe\">\n",
       "  <thead>\n",
       "    <tr style=\"text-align: right;\">\n",
       "      <th></th>\n",
       "      <th>time</th>\n",
       "      <th>next</th>\n",
       "      <th>trade_end</th>\n",
       "      <th>trade_start</th>\n",
       "    </tr>\n",
       "  </thead>\n",
       "  <tbody>\n",
       "    <tr>\n",
       "      <th>0</th>\n",
       "      <td>2020-01-01 22:00:00+00:00</td>\n",
       "      <td>2020-01-01 22:05:00+00:00</td>\n",
       "      <td>2020-01-02 02:00:00+00:00</td>\n",
       "      <td>2020-01-02 02:00:00+00:00</td>\n",
       "    </tr>\n",
       "    <tr>\n",
       "      <th>1</th>\n",
       "      <td>2020-01-01 22:05:00+00:00</td>\n",
       "      <td>2020-01-01 22:10:00+00:00</td>\n",
       "      <td>2020-01-02 02:05:00+00:00</td>\n",
       "      <td>2020-01-02 02:05:00+00:00</td>\n",
       "    </tr>\n",
       "    <tr>\n",
       "      <th>2</th>\n",
       "      <td>2020-01-01 22:10:00+00:00</td>\n",
       "      <td>2020-01-01 22:15:00+00:00</td>\n",
       "      <td>2020-01-02 02:10:00+00:00</td>\n",
       "      <td>2020-01-02 02:10:00+00:00</td>\n",
       "    </tr>\n",
       "    <tr>\n",
       "      <th>3</th>\n",
       "      <td>2020-01-01 22:15:00+00:00</td>\n",
       "      <td>2020-01-01 22:20:00+00:00</td>\n",
       "      <td>2020-01-02 02:15:00+00:00</td>\n",
       "      <td>2020-01-02 02:15:00+00:00</td>\n",
       "    </tr>\n",
       "    <tr>\n",
       "      <th>4</th>\n",
       "      <td>2020-01-01 22:20:00+00:00</td>\n",
       "      <td>2020-01-01 22:25:00+00:00</td>\n",
       "      <td>2020-01-02 02:20:00+00:00</td>\n",
       "      <td>2020-01-02 02:20:00+00:00</td>\n",
       "    </tr>\n",
       "    <tr>\n",
       "      <th>...</th>\n",
       "      <td>...</td>\n",
       "      <td>...</td>\n",
       "      <td>...</td>\n",
       "      <td>...</td>\n",
       "    </tr>\n",
       "    <tr>\n",
       "      <th>224092</th>\n",
       "      <td>2022-12-30 21:35:00+00:00</td>\n",
       "      <td>2022-12-30 21:40:00+00:00</td>\n",
       "      <td>2022-12-31 01:35:00+00:00</td>\n",
       "      <td>2022-12-31 01:35:00+00:00</td>\n",
       "    </tr>\n",
       "    <tr>\n",
       "      <th>224093</th>\n",
       "      <td>2022-12-30 21:40:00+00:00</td>\n",
       "      <td>2022-12-30 21:45:00+00:00</td>\n",
       "      <td>2022-12-31 01:40:00+00:00</td>\n",
       "      <td>2022-12-31 01:40:00+00:00</td>\n",
       "    </tr>\n",
       "    <tr>\n",
       "      <th>224094</th>\n",
       "      <td>2022-12-30 21:45:00+00:00</td>\n",
       "      <td>2022-12-30 21:50:00+00:00</td>\n",
       "      <td>2022-12-31 01:45:00+00:00</td>\n",
       "      <td>2022-12-31 01:45:00+00:00</td>\n",
       "    </tr>\n",
       "    <tr>\n",
       "      <th>224095</th>\n",
       "      <td>2022-12-30 21:50:00+00:00</td>\n",
       "      <td>2022-12-30 21:55:00+00:00</td>\n",
       "      <td>2022-12-31 01:50:00+00:00</td>\n",
       "      <td>2022-12-31 01:50:00+00:00</td>\n",
       "    </tr>\n",
       "    <tr>\n",
       "      <th>224096</th>\n",
       "      <td>2022-12-30 21:55:00+00:00</td>\n",
       "      <td>NaT</td>\n",
       "      <td>NaT</td>\n",
       "      <td>2022-12-31 01:55:00+00:00</td>\n",
       "    </tr>\n",
       "  </tbody>\n",
       "</table>\n",
       "<p>224097 rows × 4 columns</p>\n",
       "</div>"
      ],
      "text/plain": [
       "                            time                      next  \\\n",
       "0      2020-01-01 22:00:00+00:00 2020-01-01 22:05:00+00:00   \n",
       "1      2020-01-01 22:05:00+00:00 2020-01-01 22:10:00+00:00   \n",
       "2      2020-01-01 22:10:00+00:00 2020-01-01 22:15:00+00:00   \n",
       "3      2020-01-01 22:15:00+00:00 2020-01-01 22:20:00+00:00   \n",
       "4      2020-01-01 22:20:00+00:00 2020-01-01 22:25:00+00:00   \n",
       "...                          ...                       ...   \n",
       "224092 2022-12-30 21:35:00+00:00 2022-12-30 21:40:00+00:00   \n",
       "224093 2022-12-30 21:40:00+00:00 2022-12-30 21:45:00+00:00   \n",
       "224094 2022-12-30 21:45:00+00:00 2022-12-30 21:50:00+00:00   \n",
       "224095 2022-12-30 21:50:00+00:00 2022-12-30 21:55:00+00:00   \n",
       "224096 2022-12-30 21:55:00+00:00                       NaT   \n",
       "\n",
       "                       trade_end               trade_start  \n",
       "0      2020-01-02 02:00:00+00:00 2020-01-02 02:00:00+00:00  \n",
       "1      2020-01-02 02:05:00+00:00 2020-01-02 02:05:00+00:00  \n",
       "2      2020-01-02 02:10:00+00:00 2020-01-02 02:10:00+00:00  \n",
       "3      2020-01-02 02:15:00+00:00 2020-01-02 02:15:00+00:00  \n",
       "4      2020-01-02 02:20:00+00:00 2020-01-02 02:20:00+00:00  \n",
       "...                          ...                       ...  \n",
       "224092 2022-12-31 01:35:00+00:00 2022-12-31 01:35:00+00:00  \n",
       "224093 2022-12-31 01:40:00+00:00 2022-12-31 01:40:00+00:00  \n",
       "224094 2022-12-31 01:45:00+00:00 2022-12-31 01:45:00+00:00  \n",
       "224095 2022-12-31 01:50:00+00:00 2022-12-31 01:50:00+00:00  \n",
       "224096                       NaT 2022-12-31 01:55:00+00:00  \n",
       "\n",
       "[224097 rows x 4 columns]"
      ]
     },
     "execution_count": 7,
     "metadata": {},
     "output_type": "execute_result"
    }
   ],
   "source": [
    "df[[\"time\", \"next\", \"trade_end\", \"trade_start\"]]"
   ]
  },
  {
   "cell_type": "code",
   "execution_count": null,
   "metadata": {},
   "outputs": [],
   "source": []
  }
 ],
 "metadata": {
  "kernelspec": {
   "display_name": "Python 3",
   "language": "python",
   "name": "python3"
  },
  "language_info": {
   "codemirror_mode": {
    "name": "ipython",
    "version": 3
   },
   "file_extension": ".py",
   "mimetype": "text/x-python",
   "name": "python",
   "nbconvert_exporter": "python",
   "pygments_lexer": "ipython3",
   "version": "3.10.4"
  },
  "orig_nbformat": 4
 },
 "nbformat": 4,
 "nbformat_minor": 2
}
