{
 "cells": [
  {
   "cell_type": "markdown",
   "metadata": {},
   "source": [
    "First exploration of a new strategy: Inside Bar Momentum.  Simply:  if high-low of bar 2 within high-low of bar 1: signal..."
   ]
  },
  {
   "cell_type": "code",
   "execution_count": 1,
   "metadata": {},
   "outputs": [],
   "source": [
    "import pandas as pd\n",
    "import plotly.graph_objects as go\n",
    "import utils"
   ]
  },
  {
   "cell_type": "markdown",
   "metadata": {},
   "source": [
    "We know we are going to look for data on USD_JPY_H4, but we haven't yet tested collect_his_data with this pairing, so we need to run that first.  Might as well refresh while we're in the area...\n",
    "\n",
    "But, this takes a long time to run - so comment out after doing it once."
   ]
  },
  {
   "cell_type": "code",
   "execution_count": 2,
   "metadata": {
    "vscode": {
     "languageId": "shellscript"
    }
   },
   "outputs": [],
   "source": [
    "# import os\n",
    "# %run ./collect_his_data.py\n"
   ]
  },
  {
   "cell_type": "code",
   "execution_count": 3,
   "metadata": {
    "vscode": {
     "languageId": "shellscript"
    }
   },
   "outputs": [],
   "source": [
    "def plot_candles_mode(df_plot, mode=None):\n",
    "\n",
    "    if mode == None:\n",
    "        mode = \"markers\"\n",
    "\n",
    "    plot_colours_buy = ['#043ef9', '#eb5334', '#34eb37']\n",
    "    plot_colours_sell = ['white', 'red', 'yellow']\n",
    "\n",
    "    fig = go.Figure()\n",
    "    \n",
    "    fig.add_trace(go.Candlestick(\n",
    "        x=df_plot.time, open=df_plot.mid_o, high=df_plot.mid_h, low = df_plot.mid_l, close=df_plot.mid_c,\n",
    "        line=dict(width=1), opacity=1,\n",
    "        increasing_fillcolor=\"#24A06B\",\n",
    "        decreasing_fillcolor=\"#CC2E3C\",\n",
    "        increasing_line_color=\"#2EC886\",\n",
    "        decreasing_line_color=\"#FF3A4C\"\n",
    "        ))\n",
    "\n",
    "    # Loop through buys, and plot\n",
    "    for i in range(0, 3):\n",
    "        fig.add_trace(go.Scatter(\n",
    "            x=df_buys.time,\n",
    "            y=df_buys[plot_cols[i]],\n",
    "            mode=mode,\n",
    "            name=(f\"Buy {plot_cols[i]}\"),\n",
    "            marker=dict(color=plot_colours_buy[i], size=12),\n",
    "            \n",
    "        ))\n",
    "\n",
    "    # Loop through sells and plot\n",
    "    for i in range(0, 3):\n",
    "        fig.add_trace(go.Scatter(\n",
    "            x=df_sells.time,\n",
    "            y=df_sells[plot_cols[i]],\n",
    "            mode=mode,\n",
    "            name=(f\"Sell {plot_cols[i]}\"),\n",
    "            marker=dict(color=plot_colours_sell[i], size=12)\n",
    "        ))\n",
    "\n",
    "\n",
    "    fig.update_layout(width=1000, height=400, paper_bgcolor = \"#1e1e1e\", plot_bgcolor = \"#1e1e1e\",\n",
    "                    margin=dict(l=10, b=10, t=30, r=10), \n",
    "                    font=dict(size=10, color=\"#e1e1e1\"),\n",
    "                    title=f\"Buy/Sell {mode} Chart\")\n",
    "    fig.update_xaxes(gridcolor=\"#1f292f\",\n",
    "                    showgrid=True,\n",
    "                    fixedrange=True,\n",
    "                    rangeslider=dict(visible=False),\n",
    "                    rangebreaks=[\n",
    "                        dict(bounds=[\"sat\", \"mon\"])\n",
    "                        ]\n",
    "                    )\n",
    "    fig.update_yaxes(gridcolor=\"#1f292f\",\n",
    "                    showgrid=True)\n",
    "\n",
    "    fig.show()"
   ]
  },
  {
   "cell_type": "code",
   "execution_count": 4,
   "metadata": {},
   "outputs": [],
   "source": [
    "pair = \"USD_JPY\"\n",
    "granularity = \"H4\"\n",
    "df_raw = pd.read_csv(utils.get_hist_data_filename(pair, granularity))\n"
   ]
  },
  {
   "cell_type": "code",
   "execution_count": 5,
   "metadata": {},
   "outputs": [
    {
     "data": {
      "text/html": [
       "<div>\n",
       "<style scoped>\n",
       "    .dataframe tbody tr th:only-of-type {\n",
       "        vertical-align: middle;\n",
       "    }\n",
       "\n",
       "    .dataframe tbody tr th {\n",
       "        vertical-align: top;\n",
       "    }\n",
       "\n",
       "    .dataframe thead th {\n",
       "        text-align: right;\n",
       "    }\n",
       "</style>\n",
       "<table border=\"1\" class=\"dataframe\">\n",
       "  <thead>\n",
       "    <tr style=\"text-align: right;\">\n",
       "      <th></th>\n",
       "      <th>Unnamed: 0</th>\n",
       "      <th>volume</th>\n",
       "      <th>bid_o</th>\n",
       "      <th>bid_h</th>\n",
       "      <th>bid_l</th>\n",
       "      <th>bid_c</th>\n",
       "      <th>mid_o</th>\n",
       "      <th>mid_h</th>\n",
       "      <th>mid_l</th>\n",
       "      <th>mid_c</th>\n",
       "      <th>ask_o</th>\n",
       "      <th>ask_h</th>\n",
       "      <th>ask_l</th>\n",
       "      <th>ask_c</th>\n",
       "    </tr>\n",
       "  </thead>\n",
       "  <tbody>\n",
       "    <tr>\n",
       "      <th>count</th>\n",
       "      <td>4675.000000</td>\n",
       "      <td>4675.000000</td>\n",
       "      <td>4675.000000</td>\n",
       "      <td>4675.000000</td>\n",
       "      <td>4675.000000</td>\n",
       "      <td>4675.000000</td>\n",
       "      <td>4675.000000</td>\n",
       "      <td>4675.000000</td>\n",
       "      <td>4675.000000</td>\n",
       "      <td>4675.000000</td>\n",
       "      <td>4675.000000</td>\n",
       "      <td>4675.000000</td>\n",
       "      <td>4675.000000</td>\n",
       "      <td>4675.000000</td>\n",
       "    </tr>\n",
       "    <tr>\n",
       "      <th>mean</th>\n",
       "      <td>667.013904</td>\n",
       "      <td>17061.963422</td>\n",
       "      <td>116.006735</td>\n",
       "      <td>116.177761</td>\n",
       "      <td>115.836413</td>\n",
       "      <td>116.015489</td>\n",
       "      <td>116.019676</td>\n",
       "      <td>116.186209</td>\n",
       "      <td>115.847156</td>\n",
       "      <td>116.025663</td>\n",
       "      <td>116.032627</td>\n",
       "      <td>116.196451</td>\n",
       "      <td>115.855979</td>\n",
       "      <td>116.035833</td>\n",
       "    </tr>\n",
       "    <tr>\n",
       "      <th>std</th>\n",
       "      <td>419.124282</td>\n",
       "      <td>13381.055089</td>\n",
       "      <td>12.734903</td>\n",
       "      <td>12.797093</td>\n",
       "      <td>12.658796</td>\n",
       "      <td>12.737169</td>\n",
       "      <td>12.735869</td>\n",
       "      <td>12.797949</td>\n",
       "      <td>12.659539</td>\n",
       "      <td>12.737199</td>\n",
       "      <td>12.736837</td>\n",
       "      <td>12.798409</td>\n",
       "      <td>12.660817</td>\n",
       "      <td>12.737247</td>\n",
       "    </tr>\n",
       "    <tr>\n",
       "      <th>min</th>\n",
       "      <td>0.000000</td>\n",
       "      <td>8.000000</td>\n",
       "      <td>102.064000</td>\n",
       "      <td>102.556000</td>\n",
       "      <td>101.170000</td>\n",
       "      <td>102.063000</td>\n",
       "      <td>102.072000</td>\n",
       "      <td>102.566000</td>\n",
       "      <td>101.180000</td>\n",
       "      <td>102.070000</td>\n",
       "      <td>102.079000</td>\n",
       "      <td>102.579000</td>\n",
       "      <td>101.190000</td>\n",
       "      <td>102.077000</td>\n",
       "    </tr>\n",
       "    <tr>\n",
       "      <th>25%</th>\n",
       "      <td>292.000000</td>\n",
       "      <td>7905.500000</td>\n",
       "      <td>107.191000</td>\n",
       "      <td>107.317000</td>\n",
       "      <td>107.072000</td>\n",
       "      <td>107.195000</td>\n",
       "      <td>107.202500</td>\n",
       "      <td>107.325000</td>\n",
       "      <td>107.086000</td>\n",
       "      <td>107.206000</td>\n",
       "      <td>107.215000</td>\n",
       "      <td>107.334000</td>\n",
       "      <td>107.094000</td>\n",
       "      <td>107.217500</td>\n",
       "    </tr>\n",
       "    <tr>\n",
       "      <th>50%</th>\n",
       "      <td>643.000000</td>\n",
       "      <td>13316.000000</td>\n",
       "      <td>109.985000</td>\n",
       "      <td>110.099000</td>\n",
       "      <td>109.884000</td>\n",
       "      <td>109.995000</td>\n",
       "      <td>110.002000</td>\n",
       "      <td>110.107000</td>\n",
       "      <td>109.892000</td>\n",
       "      <td>110.001000</td>\n",
       "      <td>110.010000</td>\n",
       "      <td>110.117000</td>\n",
       "      <td>109.898000</td>\n",
       "      <td>110.007000</td>\n",
       "    </tr>\n",
       "    <tr>\n",
       "      <th>75%</th>\n",
       "      <td>1033.000000</td>\n",
       "      <td>21582.000000</td>\n",
       "      <td>122.641500</td>\n",
       "      <td>122.949000</td>\n",
       "      <td>122.472000</td>\n",
       "      <td>122.697000</td>\n",
       "      <td>122.648000</td>\n",
       "      <td>122.957000</td>\n",
       "      <td>122.482000</td>\n",
       "      <td>122.705000</td>\n",
       "      <td>122.665500</td>\n",
       "      <td>122.966000</td>\n",
       "      <td>122.492000</td>\n",
       "      <td>122.712500</td>\n",
       "    </tr>\n",
       "    <tr>\n",
       "      <th>max</th>\n",
       "      <td>1424.000000</td>\n",
       "      <td>114647.000000</td>\n",
       "      <td>151.467000</td>\n",
       "      <td>151.938000</td>\n",
       "      <td>150.767000</td>\n",
       "      <td>151.465000</td>\n",
       "      <td>151.480000</td>\n",
       "      <td>151.946000</td>\n",
       "      <td>150.780000</td>\n",
       "      <td>151.478000</td>\n",
       "      <td>151.494000</td>\n",
       "      <td>151.956000</td>\n",
       "      <td>150.793000</td>\n",
       "      <td>151.492000</td>\n",
       "    </tr>\n",
       "  </tbody>\n",
       "</table>\n",
       "</div>"
      ],
      "text/plain": [
       "        Unnamed: 0         volume        bid_o        bid_h        bid_l  \\\n",
       "count  4675.000000    4675.000000  4675.000000  4675.000000  4675.000000   \n",
       "mean    667.013904   17061.963422   116.006735   116.177761   115.836413   \n",
       "std     419.124282   13381.055089    12.734903    12.797093    12.658796   \n",
       "min       0.000000       8.000000   102.064000   102.556000   101.170000   \n",
       "25%     292.000000    7905.500000   107.191000   107.317000   107.072000   \n",
       "50%     643.000000   13316.000000   109.985000   110.099000   109.884000   \n",
       "75%    1033.000000   21582.000000   122.641500   122.949000   122.472000   \n",
       "max    1424.000000  114647.000000   151.467000   151.938000   150.767000   \n",
       "\n",
       "             bid_c        mid_o        mid_h        mid_l        mid_c  \\\n",
       "count  4675.000000  4675.000000  4675.000000  4675.000000  4675.000000   \n",
       "mean    116.015489   116.019676   116.186209   115.847156   116.025663   \n",
       "std      12.737169    12.735869    12.797949    12.659539    12.737199   \n",
       "min     102.063000   102.072000   102.566000   101.180000   102.070000   \n",
       "25%     107.195000   107.202500   107.325000   107.086000   107.206000   \n",
       "50%     109.995000   110.002000   110.107000   109.892000   110.001000   \n",
       "75%     122.697000   122.648000   122.957000   122.482000   122.705000   \n",
       "max     151.465000   151.480000   151.946000   150.780000   151.478000   \n",
       "\n",
       "             ask_o        ask_h        ask_l        ask_c  \n",
       "count  4675.000000  4675.000000  4675.000000  4675.000000  \n",
       "mean    116.032627   116.196451   115.855979   116.035833  \n",
       "std      12.736837    12.798409    12.660817    12.737247  \n",
       "min     102.079000   102.579000   101.190000   102.077000  \n",
       "25%     107.215000   107.334000   107.094000   107.217500  \n",
       "50%     110.010000   110.117000   109.898000   110.007000  \n",
       "75%     122.665500   122.966000   122.492000   122.712500  \n",
       "max     151.494000   151.956000   150.793000   151.492000  "
      ]
     },
     "execution_count": 5,
     "metadata": {},
     "output_type": "execute_result"
    }
   ],
   "source": [
    "df_raw.describe()"
   ]
  },
  {
   "cell_type": "code",
   "execution_count": 6,
   "metadata": {},
   "outputs": [],
   "source": [
    "non_nums = ['ticker', 'time', 'volume']\n",
    "num_cols = [x for x in df_raw.columns if x not in non_nums]\n",
    "df_raw[num_cols] = df_raw[num_cols].apply(pd.to_numeric)\n",
    "\n"
   ]
  },
  {
   "cell_type": "code",
   "execution_count": 7,
   "metadata": {},
   "outputs": [
    {
     "data": {
      "text/plain": [
       "Index(['Unnamed: 0', 'ticker', 'time', 'volume', 'bid_o', 'bid_h', 'bid_l',\n",
       "       'bid_c', 'mid_o', 'mid_h', 'mid_l', 'mid_c', 'ask_o', 'ask_h', 'ask_l',\n",
       "       'ask_c'],\n",
       "      dtype='object')"
      ]
     },
     "execution_count": 7,
     "metadata": {},
     "output_type": "execute_result"
    }
   ],
   "source": [
    "df_raw.columns"
   ]
  },
  {
   "cell_type": "code",
   "execution_count": 8,
   "metadata": {},
   "outputs": [],
   "source": [
    "df = df_raw[['ticker', 'time', 'mid_o', 'mid_h', 'mid_l', 'mid_c', 'ask_c']].copy()"
   ]
  },
  {
   "cell_type": "code",
   "execution_count": 9,
   "metadata": {},
   "outputs": [],
   "source": [
    "def direction(row):\n",
    "    \"\"\" Return price direction based on close vs open price i.e. if close higher, upwards (1)...\"\"\"\n",
    "    if row.mid_c > row.mid_o:\n",
    "        return 1\n",
    "    return -1"
   ]
  },
  {
   "cell_type": "code",
   "execution_count": 10,
   "metadata": {},
   "outputs": [],
   "source": [
    "def direction(row):\n",
    "    \"\"\" Return price direction based on close vs open price i.e. if close higher, upwards (1)...\"\"\"\n",
    "    if row.mid_c > row.mid_o:\n",
    "        return 1\n",
    "    return -1"
   ]
  },
  {
   "cell_type": "code",
   "execution_count": 11,
   "metadata": {},
   "outputs": [],
   "source": [
    "SLOSS = 0.4\n",
    "TPROFIT = 0.8\n",
    "ENTRY_PRC = 0.1\n",
    "\n",
    "def direction(row):\n",
    "    \"\"\" Return price direction based on close vs open price i.e. if close higher, upwards (1)...\"\"\"\n",
    "    if row.mid_c > row.mid_o:\n",
    "        return 1\n",
    "    return -1\n",
    "\n",
    "def get_signal(row):\n",
    "    \"\"\"  Identify encapsulation in previous candle and return direction.  Pass back zero if no encapsulation.  \n",
    "    1 = Buy, -1=Sell:  Buy if encapsulated in a previously upward candle...      \"\"\"\n",
    "    if row.mid_h_prev > row.mid_h and row.mid_l_prev > row.mid_l:\n",
    "        return row.DIRECTION_prev\n",
    "    return 0\n",
    "\n",
    "def get_entry_stop(row):\n",
    "    if row.SIGNAL == 1:\n",
    "        return (row.RANGE_prev * ENTRY_PRC) + row.ask_h_prev\n",
    "    elif row.SIGNAL == -1:\n",
    "        return row.bid_l_prev - (row.RANGE_prev * ENTRY_PRC)\n",
    "    else:\n",
    "        return 0\n",
    "    \n",
    "def get_stop_loss(row):\n",
    "    if row.SIGNAL == 1:\n",
    "        return row.ENTRY - (row.RANGE_prev * SLOSS)\n",
    "    if row.SIGNAL == -1:\n",
    "        return row.ENTRY + (row.RANGE_prev * SLOSS)\n",
    "    else:\n",
    "        return 0\n",
    "    \n",
    "def get_take_profit(row):\n",
    "    if row.SIGNAL == 1:\n",
    "        return row.ENTRY + (row.RANGE_prev * TPROFIT)\n",
    "    if row.SIGNAL == -1:\n",
    "        return row.ENTRY - (row.RANGE_prev * TPROFIT)\n",
    "    else:\n",
    "        return 0"
   ]
  },
  {
   "cell_type": "markdown",
   "metadata": {},
   "source": [
    "## Additional column capture/derivation.\n",
    "\n",
    "* The range of a candle is the difference between the high and low price.\n",
    "* To track whether the high and low and enclosed in previous candle, we need high and low values from previous.\n",
    "\n"
   ]
  },
  {
   "cell_type": "code",
   "execution_count": 12,
   "metadata": {},
   "outputs": [
    {
     "data": {
      "text/html": [
       "<div>\n",
       "<style scoped>\n",
       "    .dataframe tbody tr th:only-of-type {\n",
       "        vertical-align: middle;\n",
       "    }\n",
       "\n",
       "    .dataframe tbody tr th {\n",
       "        vertical-align: top;\n",
       "    }\n",
       "\n",
       "    .dataframe thead th {\n",
       "        text-align: right;\n",
       "    }\n",
       "</style>\n",
       "<table border=\"1\" class=\"dataframe\">\n",
       "  <thead>\n",
       "    <tr style=\"text-align: right;\">\n",
       "      <th></th>\n",
       "      <th>Unnamed: 0</th>\n",
       "      <th>ticker</th>\n",
       "      <th>time</th>\n",
       "      <th>volume</th>\n",
       "      <th>bid_o</th>\n",
       "      <th>bid_h</th>\n",
       "      <th>bid_l</th>\n",
       "      <th>bid_c</th>\n",
       "      <th>mid_o</th>\n",
       "      <th>mid_h</th>\n",
       "      <th>...</th>\n",
       "      <th>ask_c</th>\n",
       "      <th>RANGE</th>\n",
       "      <th>mid_h_prev</th>\n",
       "      <th>mid_l_prev</th>\n",
       "      <th>ask_h_prev</th>\n",
       "      <th>bid_l_prev</th>\n",
       "      <th>RANGE_prev</th>\n",
       "      <th>DIRECTION</th>\n",
       "      <th>DIRECTION_prev</th>\n",
       "      <th>SIGNAL</th>\n",
       "    </tr>\n",
       "  </thead>\n",
       "  <tbody>\n",
       "    <tr>\n",
       "      <th>0</th>\n",
       "      <td>1</td>\n",
       "      <td>USD_JPY</td>\n",
       "      <td>2020-01-02T02:00:00.000000000Z</td>\n",
       "      <td>579</td>\n",
       "      <td>108.664</td>\n",
       "      <td>108.751</td>\n",
       "      <td>108.652</td>\n",
       "      <td>108.736</td>\n",
       "      <td>108.671</td>\n",
       "      <td>108.758</td>\n",
       "      <td>...</td>\n",
       "      <td>108.747</td>\n",
       "      <td>0.100</td>\n",
       "      <td>108.761</td>\n",
       "      <td>108.607</td>\n",
       "      <td>108.808</td>\n",
       "      <td>108.586</td>\n",
       "      <td>0.154</td>\n",
       "      <td>1</td>\n",
       "      <td>1</td>\n",
       "      <td>0</td>\n",
       "    </tr>\n",
       "    <tr>\n",
       "      <th>1</th>\n",
       "      <td>2</td>\n",
       "      <td>USD_JPY</td>\n",
       "      <td>2020-01-02T06:00:00.000000000Z</td>\n",
       "      <td>1418</td>\n",
       "      <td>108.738</td>\n",
       "      <td>108.836</td>\n",
       "      <td>108.688</td>\n",
       "      <td>108.833</td>\n",
       "      <td>108.744</td>\n",
       "      <td>108.842</td>\n",
       "      <td>...</td>\n",
       "      <td>108.845</td>\n",
       "      <td>0.146</td>\n",
       "      <td>108.758</td>\n",
       "      <td>108.658</td>\n",
       "      <td>108.764</td>\n",
       "      <td>108.652</td>\n",
       "      <td>0.100</td>\n",
       "      <td>1</td>\n",
       "      <td>1</td>\n",
       "      <td>0</td>\n",
       "    </tr>\n",
       "    <tr>\n",
       "      <th>2</th>\n",
       "      <td>3</td>\n",
       "      <td>USD_JPY</td>\n",
       "      <td>2020-01-02T10:00:00.000000000Z</td>\n",
       "      <td>1134</td>\n",
       "      <td>108.830</td>\n",
       "      <td>108.859</td>\n",
       "      <td>108.652</td>\n",
       "      <td>108.688</td>\n",
       "      <td>108.836</td>\n",
       "      <td>108.866</td>\n",
       "      <td>...</td>\n",
       "      <td>108.700</td>\n",
       "      <td>0.208</td>\n",
       "      <td>108.842</td>\n",
       "      <td>108.696</td>\n",
       "      <td>108.848</td>\n",
       "      <td>108.688</td>\n",
       "      <td>0.146</td>\n",
       "      <td>-1</td>\n",
       "      <td>1</td>\n",
       "      <td>0</td>\n",
       "    </tr>\n",
       "    <tr>\n",
       "      <th>3</th>\n",
       "      <td>4</td>\n",
       "      <td>USD_JPY</td>\n",
       "      <td>2020-01-02T14:00:00.000000000Z</td>\n",
       "      <td>3273</td>\n",
       "      <td>108.691</td>\n",
       "      <td>108.742</td>\n",
       "      <td>108.206</td>\n",
       "      <td>108.523</td>\n",
       "      <td>108.697</td>\n",
       "      <td>108.748</td>\n",
       "      <td>...</td>\n",
       "      <td>108.535</td>\n",
       "      <td>0.536</td>\n",
       "      <td>108.866</td>\n",
       "      <td>108.658</td>\n",
       "      <td>108.872</td>\n",
       "      <td>108.652</td>\n",
       "      <td>0.208</td>\n",
       "      <td>-1</td>\n",
       "      <td>-1</td>\n",
       "      <td>-1</td>\n",
       "    </tr>\n",
       "    <tr>\n",
       "      <th>4</th>\n",
       "      <td>5</td>\n",
       "      <td>USD_JPY</td>\n",
       "      <td>2020-01-02T18:00:00.000000000Z</td>\n",
       "      <td>1029</td>\n",
       "      <td>108.520</td>\n",
       "      <td>108.566</td>\n",
       "      <td>108.488</td>\n",
       "      <td>108.511</td>\n",
       "      <td>108.526</td>\n",
       "      <td>108.572</td>\n",
       "      <td>...</td>\n",
       "      <td>108.611</td>\n",
       "      <td>0.078</td>\n",
       "      <td>108.748</td>\n",
       "      <td>108.212</td>\n",
       "      <td>108.754</td>\n",
       "      <td>108.206</td>\n",
       "      <td>0.536</td>\n",
       "      <td>1</td>\n",
       "      <td>-1</td>\n",
       "      <td>0</td>\n",
       "    </tr>\n",
       "  </tbody>\n",
       "</table>\n",
       "<p>5 rows × 25 columns</p>\n",
       "</div>"
      ],
      "text/plain": [
       "   Unnamed: 0   ticker                            time  volume    bid_o  \\\n",
       "0           1  USD_JPY  2020-01-02T02:00:00.000000000Z     579  108.664   \n",
       "1           2  USD_JPY  2020-01-02T06:00:00.000000000Z    1418  108.738   \n",
       "2           3  USD_JPY  2020-01-02T10:00:00.000000000Z    1134  108.830   \n",
       "3           4  USD_JPY  2020-01-02T14:00:00.000000000Z    3273  108.691   \n",
       "4           5  USD_JPY  2020-01-02T18:00:00.000000000Z    1029  108.520   \n",
       "\n",
       "     bid_h    bid_l    bid_c    mid_o    mid_h  ...    ask_c  RANGE  \\\n",
       "0  108.751  108.652  108.736  108.671  108.758  ...  108.747  0.100   \n",
       "1  108.836  108.688  108.833  108.744  108.842  ...  108.845  0.146   \n",
       "2  108.859  108.652  108.688  108.836  108.866  ...  108.700  0.208   \n",
       "3  108.742  108.206  108.523  108.697  108.748  ...  108.535  0.536   \n",
       "4  108.566  108.488  108.511  108.526  108.572  ...  108.611  0.078   \n",
       "\n",
       "   mid_h_prev  mid_l_prev  ask_h_prev  bid_l_prev  RANGE_prev  DIRECTION  \\\n",
       "0     108.761     108.607     108.808     108.586       0.154          1   \n",
       "1     108.758     108.658     108.764     108.652       0.100          1   \n",
       "2     108.842     108.696     108.848     108.688       0.146         -1   \n",
       "3     108.866     108.658     108.872     108.652       0.208         -1   \n",
       "4     108.748     108.212     108.754     108.206       0.536          1   \n",
       "\n",
       "   DIRECTION_prev  SIGNAL  \n",
       "0               1       0  \n",
       "1               1       0  \n",
       "2               1       0  \n",
       "3              -1      -1  \n",
       "4              -1       0  \n",
       "\n",
       "[5 rows x 25 columns]"
      ]
     },
     "execution_count": 12,
     "metadata": {},
     "output_type": "execute_result"
    }
   ],
   "source": [
    "#TODO:  Create a new dataframe/sheet to capture Data Dictionary and some metadata...\n",
    "\n",
    "df = df_raw.copy()\n",
    "df['RANGE'] = df.mid_h - df.mid_l\n",
    "df['mid_h_prev'] = df.mid_h.shift(1)\n",
    "df['mid_l_prev'] = df.mid_l.shift(1)\n",
    "df['ask_h_prev'] = df.ask_h.shift(1)\n",
    "df['bid_l_prev'] = df.bid_l.shift(1)\n",
    "df['RANGE_prev'] = df.RANGE.shift(1)\n",
    "df['DIRECTION'] = df.apply(direction, axis=1)\n",
    "df['DIRECTION_prev'] = df.DIRECTION.shift(1).fillna(0).astype(int)\n",
    "df.dropna(inplace=True)\n",
    "df['SIGNAL'] = df.apply(get_signal, axis=1)\n",
    "df.reset_index(drop=True, inplace=True)\n",
    "df.head()\n"
   ]
  },
  {
   "cell_type": "markdown",
   "metadata": {},
   "source": [
    "Capture how many rows in our dataframe, and count how many buy/sell signals we're getting."
   ]
  },
  {
   "cell_type": "code",
   "execution_count": 13,
   "metadata": {},
   "outputs": [
    {
     "name": "stdout",
     "output_type": "stream",
     "text": [
      "total number of rows:  4674\n"
     ]
    },
    {
     "data": {
      "text/html": [
       "<div>\n",
       "<style scoped>\n",
       "    .dataframe tbody tr th:only-of-type {\n",
       "        vertical-align: middle;\n",
       "    }\n",
       "\n",
       "    .dataframe tbody tr th {\n",
       "        vertical-align: top;\n",
       "    }\n",
       "\n",
       "    .dataframe thead th {\n",
       "        text-align: right;\n",
       "    }\n",
       "</style>\n",
       "<table border=\"1\" class=\"dataframe\">\n",
       "  <thead>\n",
       "    <tr style=\"text-align: right;\">\n",
       "      <th></th>\n",
       "      <th>Unnamed: 0</th>\n",
       "      <th>ticker</th>\n",
       "      <th>time</th>\n",
       "      <th>volume</th>\n",
       "      <th>bid_o</th>\n",
       "      <th>bid_h</th>\n",
       "      <th>bid_l</th>\n",
       "      <th>bid_c</th>\n",
       "      <th>mid_o</th>\n",
       "      <th>mid_h</th>\n",
       "      <th>...</th>\n",
       "      <th>ask_l</th>\n",
       "      <th>ask_c</th>\n",
       "      <th>RANGE</th>\n",
       "      <th>mid_h_prev</th>\n",
       "      <th>mid_l_prev</th>\n",
       "      <th>ask_h_prev</th>\n",
       "      <th>bid_l_prev</th>\n",
       "      <th>RANGE_prev</th>\n",
       "      <th>DIRECTION</th>\n",
       "      <th>DIRECTION_prev</th>\n",
       "    </tr>\n",
       "    <tr>\n",
       "      <th>SIGNAL</th>\n",
       "      <th></th>\n",
       "      <th></th>\n",
       "      <th></th>\n",
       "      <th></th>\n",
       "      <th></th>\n",
       "      <th></th>\n",
       "      <th></th>\n",
       "      <th></th>\n",
       "      <th></th>\n",
       "      <th></th>\n",
       "      <th></th>\n",
       "      <th></th>\n",
       "      <th></th>\n",
       "      <th></th>\n",
       "      <th></th>\n",
       "      <th></th>\n",
       "      <th></th>\n",
       "      <th></th>\n",
       "      <th></th>\n",
       "      <th></th>\n",
       "      <th></th>\n",
       "    </tr>\n",
       "  </thead>\n",
       "  <tbody>\n",
       "    <tr>\n",
       "      <th>-1</th>\n",
       "      <td>1112</td>\n",
       "      <td>1112</td>\n",
       "      <td>1112</td>\n",
       "      <td>1112</td>\n",
       "      <td>1112</td>\n",
       "      <td>1112</td>\n",
       "      <td>1112</td>\n",
       "      <td>1112</td>\n",
       "      <td>1112</td>\n",
       "      <td>1112</td>\n",
       "      <td>...</td>\n",
       "      <td>1112</td>\n",
       "      <td>1112</td>\n",
       "      <td>1112</td>\n",
       "      <td>1112</td>\n",
       "      <td>1112</td>\n",
       "      <td>1112</td>\n",
       "      <td>1112</td>\n",
       "      <td>1112</td>\n",
       "      <td>1112</td>\n",
       "      <td>1112</td>\n",
       "    </tr>\n",
       "    <tr>\n",
       "      <th>0</th>\n",
       "      <td>3161</td>\n",
       "      <td>3161</td>\n",
       "      <td>3161</td>\n",
       "      <td>3161</td>\n",
       "      <td>3161</td>\n",
       "      <td>3161</td>\n",
       "      <td>3161</td>\n",
       "      <td>3161</td>\n",
       "      <td>3161</td>\n",
       "      <td>3161</td>\n",
       "      <td>...</td>\n",
       "      <td>3161</td>\n",
       "      <td>3161</td>\n",
       "      <td>3161</td>\n",
       "      <td>3161</td>\n",
       "      <td>3161</td>\n",
       "      <td>3161</td>\n",
       "      <td>3161</td>\n",
       "      <td>3161</td>\n",
       "      <td>3161</td>\n",
       "      <td>3161</td>\n",
       "    </tr>\n",
       "    <tr>\n",
       "      <th>1</th>\n",
       "      <td>401</td>\n",
       "      <td>401</td>\n",
       "      <td>401</td>\n",
       "      <td>401</td>\n",
       "      <td>401</td>\n",
       "      <td>401</td>\n",
       "      <td>401</td>\n",
       "      <td>401</td>\n",
       "      <td>401</td>\n",
       "      <td>401</td>\n",
       "      <td>...</td>\n",
       "      <td>401</td>\n",
       "      <td>401</td>\n",
       "      <td>401</td>\n",
       "      <td>401</td>\n",
       "      <td>401</td>\n",
       "      <td>401</td>\n",
       "      <td>401</td>\n",
       "      <td>401</td>\n",
       "      <td>401</td>\n",
       "      <td>401</td>\n",
       "    </tr>\n",
       "  </tbody>\n",
       "</table>\n",
       "<p>3 rows × 24 columns</p>\n",
       "</div>"
      ],
      "text/plain": [
       "        Unnamed: 0  ticker  time  volume  bid_o  bid_h  bid_l  bid_c  mid_o  \\\n",
       "SIGNAL                                                                        \n",
       "-1            1112    1112  1112    1112   1112   1112   1112   1112   1112   \n",
       " 0            3161    3161  3161    3161   3161   3161   3161   3161   3161   \n",
       " 1             401     401   401     401    401    401    401    401    401   \n",
       "\n",
       "        mid_h  ...  ask_l  ask_c  RANGE  mid_h_prev  mid_l_prev  ask_h_prev  \\\n",
       "SIGNAL         ...                                                            \n",
       "-1       1112  ...   1112   1112   1112        1112        1112        1112   \n",
       " 0       3161  ...   3161   3161   3161        3161        3161        3161   \n",
       " 1        401  ...    401    401    401         401         401         401   \n",
       "\n",
       "        bid_l_prev  RANGE_prev  DIRECTION  DIRECTION_prev  \n",
       "SIGNAL                                                     \n",
       "-1            1112        1112       1112            1112  \n",
       " 0            3161        3161       3161            3161  \n",
       " 1             401         401        401             401  \n",
       "\n",
       "[3 rows x 24 columns]"
      ]
     },
     "execution_count": 13,
     "metadata": {},
     "output_type": "execute_result"
    }
   ],
   "source": [
    "print(f\"total number of rows:  {df.shape[0]}\")\n",
    "df.groupby(by=\"SIGNAL\").count()"
   ]
  },
  {
   "cell_type": "code",
   "execution_count": 14,
   "metadata": {},
   "outputs": [],
   "source": [
    "df['ENTRY'] = df.apply(get_entry_stop, axis=1)\n",
    "df['STOPLOSS'] = df.apply(get_stop_loss, axis=1)\n",
    "df['TAKEPROFIT'] = df.apply(get_take_profit, axis=1)\n",
    "\n",
    "df_plot = df.iloc[0:60]\n",
    "df_buys = df_plot[df_plot.SIGNAL == 1]\n",
    "df_sells = df_plot[df_plot.SIGNAL == -1]\n",
    "\n",
    "plot_cols = ['ENTRY', 'STOPLOSS', 'TAKEPROFIT']\n",
    "\n",
    "\n",
    "\n"
   ]
  },
  {
   "cell_type": "code",
   "execution_count": 15,
   "metadata": {},
   "outputs": [
    {
     "data": {
      "text/html": [
       "<div>\n",
       "<style scoped>\n",
       "    .dataframe tbody tr th:only-of-type {\n",
       "        vertical-align: middle;\n",
       "    }\n",
       "\n",
       "    .dataframe tbody tr th {\n",
       "        vertical-align: top;\n",
       "    }\n",
       "\n",
       "    .dataframe thead th {\n",
       "        text-align: right;\n",
       "    }\n",
       "</style>\n",
       "<table border=\"1\" class=\"dataframe\">\n",
       "  <thead>\n",
       "    <tr style=\"text-align: right;\">\n",
       "      <th></th>\n",
       "      <th>Unnamed: 0</th>\n",
       "      <th>ticker</th>\n",
       "      <th>time</th>\n",
       "      <th>volume</th>\n",
       "      <th>bid_o</th>\n",
       "      <th>bid_h</th>\n",
       "      <th>bid_l</th>\n",
       "      <th>bid_c</th>\n",
       "      <th>mid_o</th>\n",
       "      <th>mid_h</th>\n",
       "      <th>...</th>\n",
       "      <th>mid_l_prev</th>\n",
       "      <th>ask_h_prev</th>\n",
       "      <th>bid_l_prev</th>\n",
       "      <th>RANGE_prev</th>\n",
       "      <th>DIRECTION</th>\n",
       "      <th>DIRECTION_prev</th>\n",
       "      <th>SIGNAL</th>\n",
       "      <th>ENTRY</th>\n",
       "      <th>STOPLOSS</th>\n",
       "      <th>TAKEPROFIT</th>\n",
       "    </tr>\n",
       "  </thead>\n",
       "  <tbody>\n",
       "    <tr>\n",
       "      <th>11</th>\n",
       "      <td>12</td>\n",
       "      <td>USD_JPY</td>\n",
       "      <td>2020-01-05T22:00:00.000000000Z</td>\n",
       "      <td>4564</td>\n",
       "      <td>107.854</td>\n",
       "      <td>108.115</td>\n",
       "      <td>107.764</td>\n",
       "      <td>107.941</td>\n",
       "      <td>107.879</td>\n",
       "      <td>108.122</td>\n",
       "      <td>...</td>\n",
       "      <td>107.842</td>\n",
       "      <td>108.160</td>\n",
       "      <td>107.835</td>\n",
       "      <td>0.284</td>\n",
       "      <td>1</td>\n",
       "      <td>1</td>\n",
       "      <td>1</td>\n",
       "      <td>108.1884</td>\n",
       "      <td>108.0748</td>\n",
       "      <td>108.4156</td>\n",
       "    </tr>\n",
       "    <tr>\n",
       "      <th>17</th>\n",
       "      <td>18</td>\n",
       "      <td>USD_JPY</td>\n",
       "      <td>2020-01-06T22:00:00.000000000Z</td>\n",
       "      <td>1722</td>\n",
       "      <td>108.303</td>\n",
       "      <td>108.455</td>\n",
       "      <td>108.280</td>\n",
       "      <td>108.429</td>\n",
       "      <td>108.353</td>\n",
       "      <td>108.461</td>\n",
       "      <td>...</td>\n",
       "      <td>108.342</td>\n",
       "      <td>108.513</td>\n",
       "      <td>108.335</td>\n",
       "      <td>0.164</td>\n",
       "      <td>1</td>\n",
       "      <td>1</td>\n",
       "      <td>1</td>\n",
       "      <td>108.5294</td>\n",
       "      <td>108.4638</td>\n",
       "      <td>108.6606</td>\n",
       "    </tr>\n",
       "    <tr>\n",
       "      <th>19</th>\n",
       "      <td>20</td>\n",
       "      <td>USD_JPY</td>\n",
       "      <td>2020-01-07T06:00:00.000000000Z</td>\n",
       "      <td>3475</td>\n",
       "      <td>108.432</td>\n",
       "      <td>108.494</td>\n",
       "      <td>108.255</td>\n",
       "      <td>108.462</td>\n",
       "      <td>108.438</td>\n",
       "      <td>108.500</td>\n",
       "      <td>...</td>\n",
       "      <td>108.423</td>\n",
       "      <td>108.513</td>\n",
       "      <td>108.417</td>\n",
       "      <td>0.083</td>\n",
       "      <td>1</td>\n",
       "      <td>1</td>\n",
       "      <td>1</td>\n",
       "      <td>108.5213</td>\n",
       "      <td>108.4881</td>\n",
       "      <td>108.5877</td>\n",
       "    </tr>\n",
       "    <tr>\n",
       "      <th>34</th>\n",
       "      <td>35</td>\n",
       "      <td>USD_JPY</td>\n",
       "      <td>2020-01-09T18:00:00.000000000Z</td>\n",
       "      <td>1707</td>\n",
       "      <td>109.503</td>\n",
       "      <td>109.532</td>\n",
       "      <td>109.385</td>\n",
       "      <td>109.515</td>\n",
       "      <td>109.510</td>\n",
       "      <td>109.538</td>\n",
       "      <td>...</td>\n",
       "      <td>109.429</td>\n",
       "      <td>109.588</td>\n",
       "      <td>109.422</td>\n",
       "      <td>0.151</td>\n",
       "      <td>1</td>\n",
       "      <td>1</td>\n",
       "      <td>1</td>\n",
       "      <td>109.6031</td>\n",
       "      <td>109.5427</td>\n",
       "      <td>109.7239</td>\n",
       "    </tr>\n",
       "    <tr>\n",
       "      <th>62</th>\n",
       "      <td>63</td>\n",
       "      <td>USD_JPY</td>\n",
       "      <td>2020-01-16T10:00:00.000000000Z</td>\n",
       "      <td>6412</td>\n",
       "      <td>109.997</td>\n",
       "      <td>110.049</td>\n",
       "      <td>109.918</td>\n",
       "      <td>110.007</td>\n",
       "      <td>110.002</td>\n",
       "      <td>110.054</td>\n",
       "      <td>...</td>\n",
       "      <td>109.932</td>\n",
       "      <td>110.075</td>\n",
       "      <td>109.926</td>\n",
       "      <td>0.134</td>\n",
       "      <td>1</td>\n",
       "      <td>1</td>\n",
       "      <td>1</td>\n",
       "      <td>110.0884</td>\n",
       "      <td>110.0348</td>\n",
       "      <td>110.1956</td>\n",
       "    </tr>\n",
       "  </tbody>\n",
       "</table>\n",
       "<p>5 rows × 28 columns</p>\n",
       "</div>"
      ],
      "text/plain": [
       "    Unnamed: 0   ticker                            time  volume    bid_o  \\\n",
       "11          12  USD_JPY  2020-01-05T22:00:00.000000000Z    4564  107.854   \n",
       "17          18  USD_JPY  2020-01-06T22:00:00.000000000Z    1722  108.303   \n",
       "19          20  USD_JPY  2020-01-07T06:00:00.000000000Z    3475  108.432   \n",
       "34          35  USD_JPY  2020-01-09T18:00:00.000000000Z    1707  109.503   \n",
       "62          63  USD_JPY  2020-01-16T10:00:00.000000000Z    6412  109.997   \n",
       "\n",
       "      bid_h    bid_l    bid_c    mid_o    mid_h  ...  mid_l_prev  ask_h_prev  \\\n",
       "11  108.115  107.764  107.941  107.879  108.122  ...     107.842     108.160   \n",
       "17  108.455  108.280  108.429  108.353  108.461  ...     108.342     108.513   \n",
       "19  108.494  108.255  108.462  108.438  108.500  ...     108.423     108.513   \n",
       "34  109.532  109.385  109.515  109.510  109.538  ...     109.429     109.588   \n",
       "62  110.049  109.918  110.007  110.002  110.054  ...     109.932     110.075   \n",
       "\n",
       "    bid_l_prev  RANGE_prev  DIRECTION  DIRECTION_prev  SIGNAL     ENTRY  \\\n",
       "11     107.835       0.284          1               1       1  108.1884   \n",
       "17     108.335       0.164          1               1       1  108.5294   \n",
       "19     108.417       0.083          1               1       1  108.5213   \n",
       "34     109.422       0.151          1               1       1  109.6031   \n",
       "62     109.926       0.134          1               1       1  110.0884   \n",
       "\n",
       "    STOPLOSS  TAKEPROFIT  \n",
       "11  108.0748    108.4156  \n",
       "17  108.4638    108.6606  \n",
       "19  108.4881    108.5877  \n",
       "34  109.5427    109.7239  \n",
       "62  110.0348    110.1956  \n",
       "\n",
       "[5 rows x 28 columns]"
      ]
     },
     "execution_count": 15,
     "metadata": {},
     "output_type": "execute_result"
    }
   ],
   "source": [
    "df['ENTRY'] = df.apply(get_entry_stop, axis=1)\n",
    "df['STOPLOSS'] = df.apply(get_stop_loss, axis=1)\n",
    "df['TAKEPROFIT'] = df.apply(get_take_profit, axis=1)\n",
    "df[df.SIGNAL==1].head()\n"
   ]
  },
  {
   "cell_type": "code",
   "execution_count": 16,
   "metadata": {},
   "outputs": [
    {
     "name": "stdout",
     "output_type": "stream",
     "text": [
      "<class 'pandas.core.frame.DataFrame'>\n",
      "Int64Index: 4 entries, 11 to 34\n",
      "Data columns (total 28 columns):\n",
      " #   Column          Non-Null Count  Dtype  \n",
      "---  ------          --------------  -----  \n",
      " 0   Unnamed: 0      4 non-null      int64  \n",
      " 1   ticker          4 non-null      object \n",
      " 2   time            4 non-null      object \n",
      " 3   volume          4 non-null      int64  \n",
      " 4   bid_o           4 non-null      float64\n",
      " 5   bid_h           4 non-null      float64\n",
      " 6   bid_l           4 non-null      float64\n",
      " 7   bid_c           4 non-null      float64\n",
      " 8   mid_o           4 non-null      float64\n",
      " 9   mid_h           4 non-null      float64\n",
      " 10  mid_l           4 non-null      float64\n",
      " 11  mid_c           4 non-null      float64\n",
      " 12  ask_o           4 non-null      float64\n",
      " 13  ask_h           4 non-null      float64\n",
      " 14  ask_l           4 non-null      float64\n",
      " 15  ask_c           4 non-null      float64\n",
      " 16  RANGE           4 non-null      float64\n",
      " 17  mid_h_prev      4 non-null      float64\n",
      " 18  mid_l_prev      4 non-null      float64\n",
      " 19  ask_h_prev      4 non-null      float64\n",
      " 20  bid_l_prev      4 non-null      float64\n",
      " 21  RANGE_prev      4 non-null      float64\n",
      " 22  DIRECTION       4 non-null      int64  \n",
      " 23  DIRECTION_prev  4 non-null      int32  \n",
      " 24  SIGNAL          4 non-null      int64  \n",
      " 25  ENTRY           4 non-null      float64\n",
      " 26  STOPLOSS        4 non-null      float64\n",
      " 27  TAKEPROFIT      4 non-null      float64\n",
      "dtypes: float64(21), int32(1), int64(4), object(2)\n",
      "memory usage: 912.0+ bytes\n"
     ]
    }
   ],
   "source": [
    "df_buys.info()\n"
   ]
  },
  {
   "cell_type": "code",
   "execution_count": 17,
   "metadata": {},
   "outputs": [],
   "source": [
    "class Trade():\n",
    "    def __init__(self, row):\n",
    "        self.candle_date = row.time\n",
    "        self.direction = row.SIGNAL\n",
    "        self.entry = row.ENTRY\n",
    "        self.TP = row.TAKEPROFIT\n",
    "        self.SL = row.STOPLOSS\n",
    "        self.running = False\n",
    "        self.result = None\n",
    "        self.stopped = None\n",
    "\n",
    "    def update(self, row):\n",
    "        if self.running == True:\n",
    "            self.update_result(row)\n",
    "        else:\n",
    "            self.check_entry(row)\n",
    "\n",
    "    def check_entry(self, row):\n",
    "        if self.direction == 1 and row.mid_c >= self.entry or self.direction == -1 and row.mid_c <= self.entry:\n",
    "            self.index = row.name\n",
    "            self.opened = row.time\n",
    "            self.running = True\n",
    "\n",
    "    def update_result(self, row):\n",
    "        if self.direction == 1:\n",
    "            if row.mid_c >= self.TP:\n",
    "                self.result = 2.0\n",
    "            elif row.mid_c <= self.SL:\n",
    "                self.result = -1.0\n",
    "        else:\n",
    "            if row.mid_c <= self.TP:\n",
    "                self.result = 2.0\n",
    "            elif row.mid_c >= self.SL:\n",
    "                self.result = -1.0\n",
    "\n",
    "        if self.result is not None:\n",
    "            self.running = False\n",
    "            self.stopped = row.time\n",
    "\n"
   ]
  },
  {
   "cell_type": "code",
   "execution_count": 18,
   "metadata": {},
   "outputs": [],
   "source": [
    "open_trades = []\n",
    "closed_trades = []\n",
    "\n",
    "for index, row in df.iterrows():\n",
    "    for ot in open_trades:\n",
    "        ot.update(row)\n",
    "        if ot.stopped is not None:\n",
    "            closed_trades.append(ot)\n",
    "\n",
    "    open_trades = [x for x in open_trades if x.stopped is None]\n",
    "\n",
    "    if row.SIGNAL != 0:\n",
    "        open_trades = [x for x in open_trades if x.running == True]\n",
    "        open_trades.append(Trade(row))\n",
    "\n",
    "\n",
    "    "
   ]
  },
  {
   "cell_type": "code",
   "execution_count": 19,
   "metadata": {},
   "outputs": [
    {
     "data": {
      "text/plain": [
       "780"
      ]
     },
     "execution_count": 19,
     "metadata": {},
     "output_type": "execute_result"
    }
   ],
   "source": [
    "len(closed_trades)"
   ]
  },
  {
   "cell_type": "code",
   "execution_count": 20,
   "metadata": {},
   "outputs": [
    {
     "data": {
      "text/html": [
       "<div>\n",
       "<style scoped>\n",
       "    .dataframe tbody tr th:only-of-type {\n",
       "        vertical-align: middle;\n",
       "    }\n",
       "\n",
       "    .dataframe tbody tr th {\n",
       "        vertical-align: top;\n",
       "    }\n",
       "\n",
       "    .dataframe thead th {\n",
       "        text-align: right;\n",
       "    }\n",
       "</style>\n",
       "<table border=\"1\" class=\"dataframe\">\n",
       "  <thead>\n",
       "    <tr style=\"text-align: right;\">\n",
       "      <th></th>\n",
       "      <th>candle_date</th>\n",
       "      <th>direction</th>\n",
       "      <th>entry</th>\n",
       "      <th>TP</th>\n",
       "      <th>SL</th>\n",
       "      <th>running</th>\n",
       "      <th>result</th>\n",
       "      <th>stopped</th>\n",
       "      <th>index</th>\n",
       "      <th>opened</th>\n",
       "    </tr>\n",
       "  </thead>\n",
       "  <tbody>\n",
       "    <tr>\n",
       "      <th>0</th>\n",
       "      <td>2020-01-02T14:00:00.000000000Z</td>\n",
       "      <td>-1</td>\n",
       "      <td>108.6312</td>\n",
       "      <td>108.4648</td>\n",
       "      <td>108.7144</td>\n",
       "      <td>False</td>\n",
       "      <td>2.0</td>\n",
       "      <td>2020-01-02T22:00:00.000000000Z</td>\n",
       "      <td>4</td>\n",
       "      <td>2020-01-02T18:00:00.000000000Z</td>\n",
       "    </tr>\n",
       "    <tr>\n",
       "      <th>1</th>\n",
       "      <td>2020-01-03T06:00:00.000000000Z</td>\n",
       "      <td>-1</td>\n",
       "      <td>107.9698</td>\n",
       "      <td>107.7762</td>\n",
       "      <td>108.0666</td>\n",
       "      <td>False</td>\n",
       "      <td>-1.0</td>\n",
       "      <td>2020-01-03T18:00:00.000000000Z</td>\n",
       "      <td>9</td>\n",
       "      <td>2020-01-03T14:00:00.000000000Z</td>\n",
       "    </tr>\n",
       "    <tr>\n",
       "      <th>2</th>\n",
       "      <td>2020-01-03T02:00:00.000000000Z</td>\n",
       "      <td>-1</td>\n",
       "      <td>108.1138</td>\n",
       "      <td>107.7442</td>\n",
       "      <td>108.2986</td>\n",
       "      <td>False</td>\n",
       "      <td>-1.0</td>\n",
       "      <td>2020-01-06T14:00:00.000000000Z</td>\n",
       "      <td>7</td>\n",
       "      <td>2020-01-03T06:00:00.000000000Z</td>\n",
       "    </tr>\n",
       "    <tr>\n",
       "      <th>3</th>\n",
       "      <td>2020-01-05T22:00:00.000000000Z</td>\n",
       "      <td>1</td>\n",
       "      <td>108.1884</td>\n",
       "      <td>108.4156</td>\n",
       "      <td>108.0748</td>\n",
       "      <td>False</td>\n",
       "      <td>2.0</td>\n",
       "      <td>2020-01-06T22:00:00.000000000Z</td>\n",
       "      <td>15</td>\n",
       "      <td>2020-01-06T14:00:00.000000000Z</td>\n",
       "    </tr>\n",
       "    <tr>\n",
       "      <th>4</th>\n",
       "      <td>2020-01-07T06:00:00.000000000Z</td>\n",
       "      <td>1</td>\n",
       "      <td>108.5213</td>\n",
       "      <td>108.5877</td>\n",
       "      <td>108.4881</td>\n",
       "      <td>False</td>\n",
       "      <td>-1.0</td>\n",
       "      <td>2020-01-07T18:00:00.000000000Z</td>\n",
       "      <td>21</td>\n",
       "      <td>2020-01-07T14:00:00.000000000Z</td>\n",
       "    </tr>\n",
       "  </tbody>\n",
       "</table>\n",
       "</div>"
      ],
      "text/plain": [
       "                      candle_date  direction     entry        TP        SL  \\\n",
       "0  2020-01-02T14:00:00.000000000Z         -1  108.6312  108.4648  108.7144   \n",
       "1  2020-01-03T06:00:00.000000000Z         -1  107.9698  107.7762  108.0666   \n",
       "2  2020-01-03T02:00:00.000000000Z         -1  108.1138  107.7442  108.2986   \n",
       "3  2020-01-05T22:00:00.000000000Z          1  108.1884  108.4156  108.0748   \n",
       "4  2020-01-07T06:00:00.000000000Z          1  108.5213  108.5877  108.4881   \n",
       "\n",
       "   running  result                         stopped  index  \\\n",
       "0    False     2.0  2020-01-02T22:00:00.000000000Z      4   \n",
       "1    False    -1.0  2020-01-03T18:00:00.000000000Z      9   \n",
       "2    False    -1.0  2020-01-06T14:00:00.000000000Z      7   \n",
       "3    False     2.0  2020-01-06T22:00:00.000000000Z     15   \n",
       "4    False    -1.0  2020-01-07T18:00:00.000000000Z     21   \n",
       "\n",
       "                           opened  \n",
       "0  2020-01-02T18:00:00.000000000Z  \n",
       "1  2020-01-03T14:00:00.000000000Z  \n",
       "2  2020-01-03T06:00:00.000000000Z  \n",
       "3  2020-01-06T14:00:00.000000000Z  \n",
       "4  2020-01-07T14:00:00.000000000Z  "
      ]
     },
     "execution_count": 20,
     "metadata": {},
     "output_type": "execute_result"
    }
   ],
   "source": [
    "df_trades = pd.DataFrame.from_dict([vars(x) for x in closed_trades])\n",
    "df_trades.head()"
   ]
  },
  {
   "cell_type": "code",
   "execution_count": 21,
   "metadata": {},
   "outputs": [
    {
     "data": {
      "text/plain": [
       "744.0"
      ]
     },
     "execution_count": 21,
     "metadata": {},
     "output_type": "execute_result"
    }
   ],
   "source": [
    "df_trades.result.sum()"
   ]
  },
  {
   "cell_type": "code",
   "execution_count": 22,
   "metadata": {},
   "outputs": [
    {
     "data": {
      "text/html": [
       "<div>\n",
       "<style scoped>\n",
       "    .dataframe tbody tr th:only-of-type {\n",
       "        vertical-align: middle;\n",
       "    }\n",
       "\n",
       "    .dataframe tbody tr th {\n",
       "        vertical-align: top;\n",
       "    }\n",
       "\n",
       "    .dataframe thead th {\n",
       "        text-align: right;\n",
       "    }\n",
       "</style>\n",
       "<table border=\"1\" class=\"dataframe\">\n",
       "  <thead>\n",
       "    <tr style=\"text-align: right;\">\n",
       "      <th></th>\n",
       "      <th>Unnamed: 0</th>\n",
       "      <th>ticker</th>\n",
       "      <th>time</th>\n",
       "      <th>volume</th>\n",
       "      <th>bid_o</th>\n",
       "      <th>bid_h</th>\n",
       "      <th>bid_l</th>\n",
       "      <th>bid_c</th>\n",
       "      <th>mid_o</th>\n",
       "      <th>mid_h</th>\n",
       "      <th>...</th>\n",
       "      <th>mid_l_prev</th>\n",
       "      <th>ask_h_prev</th>\n",
       "      <th>bid_l_prev</th>\n",
       "      <th>RANGE_prev</th>\n",
       "      <th>DIRECTION</th>\n",
       "      <th>DIRECTION_prev</th>\n",
       "      <th>SIGNAL</th>\n",
       "      <th>ENTRY</th>\n",
       "      <th>STOPLOSS</th>\n",
       "      <th>TAKEPROFIT</th>\n",
       "    </tr>\n",
       "  </thead>\n",
       "  <tbody>\n",
       "    <tr>\n",
       "      <th>11</th>\n",
       "      <td>12</td>\n",
       "      <td>USD_JPY</td>\n",
       "      <td>2020-01-05T22:00:00.000000000Z</td>\n",
       "      <td>4564</td>\n",
       "      <td>107.854</td>\n",
       "      <td>108.115</td>\n",
       "      <td>107.764</td>\n",
       "      <td>107.941</td>\n",
       "      <td>107.879</td>\n",
       "      <td>108.122</td>\n",
       "      <td>...</td>\n",
       "      <td>107.842</td>\n",
       "      <td>108.160</td>\n",
       "      <td>107.835</td>\n",
       "      <td>0.284</td>\n",
       "      <td>1</td>\n",
       "      <td>1</td>\n",
       "      <td>1</td>\n",
       "      <td>108.1884</td>\n",
       "      <td>108.0748</td>\n",
       "      <td>108.4156</td>\n",
       "    </tr>\n",
       "    <tr>\n",
       "      <th>17</th>\n",
       "      <td>18</td>\n",
       "      <td>USD_JPY</td>\n",
       "      <td>2020-01-06T22:00:00.000000000Z</td>\n",
       "      <td>1722</td>\n",
       "      <td>108.303</td>\n",
       "      <td>108.455</td>\n",
       "      <td>108.280</td>\n",
       "      <td>108.429</td>\n",
       "      <td>108.353</td>\n",
       "      <td>108.461</td>\n",
       "      <td>...</td>\n",
       "      <td>108.342</td>\n",
       "      <td>108.513</td>\n",
       "      <td>108.335</td>\n",
       "      <td>0.164</td>\n",
       "      <td>1</td>\n",
       "      <td>1</td>\n",
       "      <td>1</td>\n",
       "      <td>108.5294</td>\n",
       "      <td>108.4638</td>\n",
       "      <td>108.6606</td>\n",
       "    </tr>\n",
       "    <tr>\n",
       "      <th>19</th>\n",
       "      <td>20</td>\n",
       "      <td>USD_JPY</td>\n",
       "      <td>2020-01-07T06:00:00.000000000Z</td>\n",
       "      <td>3475</td>\n",
       "      <td>108.432</td>\n",
       "      <td>108.494</td>\n",
       "      <td>108.255</td>\n",
       "      <td>108.462</td>\n",
       "      <td>108.438</td>\n",
       "      <td>108.500</td>\n",
       "      <td>...</td>\n",
       "      <td>108.423</td>\n",
       "      <td>108.513</td>\n",
       "      <td>108.417</td>\n",
       "      <td>0.083</td>\n",
       "      <td>1</td>\n",
       "      <td>1</td>\n",
       "      <td>1</td>\n",
       "      <td>108.5213</td>\n",
       "      <td>108.4881</td>\n",
       "      <td>108.5877</td>\n",
       "    </tr>\n",
       "    <tr>\n",
       "      <th>34</th>\n",
       "      <td>35</td>\n",
       "      <td>USD_JPY</td>\n",
       "      <td>2020-01-09T18:00:00.000000000Z</td>\n",
       "      <td>1707</td>\n",
       "      <td>109.503</td>\n",
       "      <td>109.532</td>\n",
       "      <td>109.385</td>\n",
       "      <td>109.515</td>\n",
       "      <td>109.510</td>\n",
       "      <td>109.538</td>\n",
       "      <td>...</td>\n",
       "      <td>109.429</td>\n",
       "      <td>109.588</td>\n",
       "      <td>109.422</td>\n",
       "      <td>0.151</td>\n",
       "      <td>1</td>\n",
       "      <td>1</td>\n",
       "      <td>1</td>\n",
       "      <td>109.6031</td>\n",
       "      <td>109.5427</td>\n",
       "      <td>109.7239</td>\n",
       "    </tr>\n",
       "    <tr>\n",
       "      <th>62</th>\n",
       "      <td>63</td>\n",
       "      <td>USD_JPY</td>\n",
       "      <td>2020-01-16T10:00:00.000000000Z</td>\n",
       "      <td>6412</td>\n",
       "      <td>109.997</td>\n",
       "      <td>110.049</td>\n",
       "      <td>109.918</td>\n",
       "      <td>110.007</td>\n",
       "      <td>110.002</td>\n",
       "      <td>110.054</td>\n",
       "      <td>...</td>\n",
       "      <td>109.932</td>\n",
       "      <td>110.075</td>\n",
       "      <td>109.926</td>\n",
       "      <td>0.134</td>\n",
       "      <td>1</td>\n",
       "      <td>1</td>\n",
       "      <td>1</td>\n",
       "      <td>110.0884</td>\n",
       "      <td>110.0348</td>\n",
       "      <td>110.1956</td>\n",
       "    </tr>\n",
       "  </tbody>\n",
       "</table>\n",
       "<p>5 rows × 28 columns</p>\n",
       "</div>"
      ],
      "text/plain": [
       "    Unnamed: 0   ticker                            time  volume    bid_o  \\\n",
       "11          12  USD_JPY  2020-01-05T22:00:00.000000000Z    4564  107.854   \n",
       "17          18  USD_JPY  2020-01-06T22:00:00.000000000Z    1722  108.303   \n",
       "19          20  USD_JPY  2020-01-07T06:00:00.000000000Z    3475  108.432   \n",
       "34          35  USD_JPY  2020-01-09T18:00:00.000000000Z    1707  109.503   \n",
       "62          63  USD_JPY  2020-01-16T10:00:00.000000000Z    6412  109.997   \n",
       "\n",
       "      bid_h    bid_l    bid_c    mid_o    mid_h  ...  mid_l_prev  ask_h_prev  \\\n",
       "11  108.115  107.764  107.941  107.879  108.122  ...     107.842     108.160   \n",
       "17  108.455  108.280  108.429  108.353  108.461  ...     108.342     108.513   \n",
       "19  108.494  108.255  108.462  108.438  108.500  ...     108.423     108.513   \n",
       "34  109.532  109.385  109.515  109.510  109.538  ...     109.429     109.588   \n",
       "62  110.049  109.918  110.007  110.002  110.054  ...     109.932     110.075   \n",
       "\n",
       "    bid_l_prev  RANGE_prev  DIRECTION  DIRECTION_prev  SIGNAL     ENTRY  \\\n",
       "11     107.835       0.284          1               1       1  108.1884   \n",
       "17     108.335       0.164          1               1       1  108.5294   \n",
       "19     108.417       0.083          1               1       1  108.5213   \n",
       "34     109.422       0.151          1               1       1  109.6031   \n",
       "62     109.926       0.134          1               1       1  110.0884   \n",
       "\n",
       "    STOPLOSS  TAKEPROFIT  \n",
       "11  108.0748    108.4156  \n",
       "17  108.4638    108.6606  \n",
       "19  108.4881    108.5877  \n",
       "34  109.5427    109.7239  \n",
       "62  110.0348    110.1956  \n",
       "\n",
       "[5 rows x 28 columns]"
      ]
     },
     "execution_count": 22,
     "metadata": {},
     "output_type": "execute_result"
    }
   ],
   "source": [
    "df[df.SIGNAL==1].head()"
   ]
  },
  {
   "cell_type": "code",
   "execution_count": 23,
   "metadata": {},
   "outputs": [],
   "source": [
    "df[df.SIGNAL==1].to_csv(\"./Data/Pairs/USD_JPY_H4_trades.csv\")"
   ]
  },
  {
   "cell_type": "code",
   "execution_count": 24,
   "metadata": {},
   "outputs": [
    {
     "data": {
      "application/vnd.plotly.v1+json": {
       "config": {
        "plotlyServerURL": "https://plot.ly"
       },
       "data": [
        {
         "close": [
          108.742,
          108.839,
          108.694,
          108.529,
          108.561,
          108.204,
          108.123,
          108.068,
          108.158,
          107.968,
          108.11,
          107.948,
          108.058,
          107.986,
          108.12,
          108.348,
          108.372,
          108.434,
          108.436,
          108.468,
          108.438,
          108.546,
          108.46,
          108.033,
          108.305,
          108.449,
          108.67,
          109.096,
          109.134,
          109.238,
          109.275,
          109.434,
          109.432,
          109.512,
          109.524,
          109.543,
          109.563,
          109.64,
          109.652,
          109.479,
          109.471,
          109.602,
          109.637,
          109.85,
          109.849,
          109.918,
          109.944,
          110.066,
          110.06,
          110.02,
          110.008,
          110.095,
          109.996,
          109.95,
          109.92,
          109.869,
          109.833,
          109.887,
          109.9,
          109.93
         ],
         "decreasing": {
          "fillcolor": "#CC2E3C",
          "line": {
           "color": "#FF3A4C"
          }
         },
         "high": [
          108.758,
          108.842,
          108.866,
          108.748,
          108.572,
          108.63,
          108.244,
          108.152,
          108.164,
          108.268,
          108.126,
          108.122,
          108.104,
          108.179,
          108.164,
          108.416,
          108.506,
          108.461,
          108.506,
          108.5,
          108.483,
          108.63,
          108.594,
          108.522,
          108.461,
          108.489,
          108.816,
          109.134,
          109.246,
          109.256,
          109.284,
          109.434,
          109.489,
          109.58,
          109.538,
          109.58,
          109.606,
          109.649,
          109.688,
          109.688,
          109.556,
          109.636,
          109.649,
          109.882,
          109.924,
          109.946,
          109.947,
          110.214,
          110.11,
          110.134,
          110.113,
          110.11,
          110.114,
          110.01,
          109.962,
          109.95,
          109.919,
          110.002,
          109.928,
          109.99
         ],
         "increasing": {
          "fillcolor": "#24A06B",
          "line": {
           "color": "#2EC886"
          }
         },
         "line": {
          "width": 1
         },
         "low": [
          108.658,
          108.696,
          108.658,
          108.212,
          108.494,
          108.168,
          108.002,
          107.916,
          107.999,
          107.916,
          107.842,
          107.772,
          107.932,
          107.926,
          107.982,
          108.065,
          108.342,
          108.33,
          108.423,
          108.262,
          108.368,
          108.32,
          108.354,
          107.65,
          108.007,
          108.276,
          108.424,
          108.616,
          109,
          109.014,
          109.15,
          109.252,
          109.317,
          109.429,
          109.392,
          109.456,
          109.508,
          109.554,
          109.504,
          109.433,
          109.463,
          109.512,
          109.586,
          109.618,
          109.828,
          109.8,
          109.892,
          109.915,
          110.016,
          109.885,
          109.948,
          109.932,
          109.854,
          109.816,
          109.868,
          109.848,
          109.822,
          109.79,
          109.85,
          109.857
         ],
         "opacity": 1,
         "open": [
          108.671,
          108.744,
          108.836,
          108.697,
          108.526,
          108.568,
          108.202,
          108.126,
          108.071,
          108.156,
          107.966,
          107.879,
          107.95,
          108.06,
          107.988,
          108.118,
          108.351,
          108.353,
          108.431,
          108.438,
          108.466,
          108.441,
          108.549,
          108.455,
          108.03,
          108.308,
          108.446,
          108.673,
          109.099,
          109.092,
          109.236,
          109.278,
          109.432,
          109.43,
          109.51,
          109.517,
          109.546,
          109.566,
          109.643,
          109.654,
          109.482,
          109.528,
          109.601,
          109.638,
          109.848,
          109.848,
          109.917,
          109.946,
          110.068,
          110.061,
          110.02,
          110.006,
          110.096,
          109.99,
          109.952,
          109.922,
          109.868,
          109.832,
          109.888,
          109.896
         ],
         "type": "candlestick",
         "x": [
          "2020-01-02T02:00:00.000000000Z",
          "2020-01-02T06:00:00.000000000Z",
          "2020-01-02T10:00:00.000000000Z",
          "2020-01-02T14:00:00.000000000Z",
          "2020-01-02T18:00:00.000000000Z",
          "2020-01-02T22:00:00.000000000Z",
          "2020-01-03T02:00:00.000000000Z",
          "2020-01-03T06:00:00.000000000Z",
          "2020-01-03T10:00:00.000000000Z",
          "2020-01-03T14:00:00.000000000Z",
          "2020-01-03T18:00:00.000000000Z",
          "2020-01-05T22:00:00.000000000Z",
          "2020-01-06T02:00:00.000000000Z",
          "2020-01-06T06:00:00.000000000Z",
          "2020-01-06T10:00:00.000000000Z",
          "2020-01-06T14:00:00.000000000Z",
          "2020-01-06T18:00:00.000000000Z",
          "2020-01-06T22:00:00.000000000Z",
          "2020-01-07T02:00:00.000000000Z",
          "2020-01-07T06:00:00.000000000Z",
          "2020-01-07T10:00:00.000000000Z",
          "2020-01-07T14:00:00.000000000Z",
          "2020-01-07T18:00:00.000000000Z",
          "2020-01-07T22:00:00.000000000Z",
          "2020-01-08T02:00:00.000000000Z",
          "2020-01-08T06:00:00.000000000Z",
          "2020-01-08T10:00:00.000000000Z",
          "2020-01-08T14:00:00.000000000Z",
          "2020-01-08T18:00:00.000000000Z",
          "2020-01-08T22:00:00.000000000Z",
          "2020-01-09T02:00:00.000000000Z",
          "2020-01-09T06:00:00.000000000Z",
          "2020-01-09T10:00:00.000000000Z",
          "2020-01-09T14:00:00.000000000Z",
          "2020-01-09T18:00:00.000000000Z",
          "2020-01-09T22:00:00.000000000Z",
          "2020-01-10T02:00:00.000000000Z",
          "2020-01-10T06:00:00.000000000Z",
          "2020-01-10T10:00:00.000000000Z",
          "2020-01-10T14:00:00.000000000Z",
          "2020-01-10T18:00:00.000000000Z",
          "2020-01-12T22:00:00.000000000Z",
          "2020-01-13T02:00:00.000000000Z",
          "2020-01-13T06:00:00.000000000Z",
          "2020-01-13T10:00:00.000000000Z",
          "2020-01-13T14:00:00.000000000Z",
          "2020-01-13T18:00:00.000000000Z",
          "2020-01-13T22:00:00.000000000Z",
          "2020-01-14T02:00:00.000000000Z",
          "2020-01-14T06:00:00.000000000Z",
          "2020-01-14T10:00:00.000000000Z",
          "2020-01-14T14:00:00.000000000Z",
          "2020-01-14T18:00:00.000000000Z",
          "2020-01-14T22:00:00.000000000Z",
          "2020-01-15T02:00:00.000000000Z",
          "2020-01-15T06:00:00.000000000Z",
          "2020-01-15T10:00:00.000000000Z",
          "2020-01-15T14:00:00.000000000Z",
          "2020-01-15T18:00:00.000000000Z",
          "2020-01-15T22:00:00.000000000Z"
         ]
        },
        {
         "marker": {
          "color": "#043ef9",
          "size": 12
         },
         "mode": "markers",
         "name": "Buy ENTRY",
         "type": "scatter",
         "x": [
          "2020-01-05T22:00:00.000000000Z",
          "2020-01-06T22:00:00.000000000Z",
          "2020-01-07T06:00:00.000000000Z",
          "2020-01-09T18:00:00.000000000Z"
         ],
         "y": [
          108.1884,
          108.52940000000001,
          108.52130000000001,
          109.6031
         ]
        },
        {
         "marker": {
          "color": "#eb5334",
          "size": 12
         },
         "mode": "markers",
         "name": "Buy STOPLOSS",
         "type": "scatter",
         "x": [
          "2020-01-05T22:00:00.000000000Z",
          "2020-01-06T22:00:00.000000000Z",
          "2020-01-07T06:00:00.000000000Z",
          "2020-01-09T18:00:00.000000000Z"
         ],
         "y": [
          108.0748,
          108.4638,
          108.48810000000002,
          109.5427
         ]
        },
        {
         "marker": {
          "color": "#34eb37",
          "size": 12
         },
         "mode": "markers",
         "name": "Buy TAKEPROFIT",
         "type": "scatter",
         "x": [
          "2020-01-05T22:00:00.000000000Z",
          "2020-01-06T22:00:00.000000000Z",
          "2020-01-07T06:00:00.000000000Z",
          "2020-01-09T18:00:00.000000000Z"
         ],
         "y": [
          108.41560000000001,
          108.66060000000002,
          108.58770000000001,
          109.7239
         ]
        },
        {
         "marker": {
          "color": "white",
          "size": 12
         },
         "mode": "markers",
         "name": "Sell ENTRY",
         "type": "scatter",
         "x": [
          "2020-01-02T14:00:00.000000000Z",
          "2020-01-03T02:00:00.000000000Z",
          "2020-01-03T06:00:00.000000000Z",
          "2020-01-03T18:00:00.000000000Z",
          "2020-01-07T22:00:00.000000000Z",
          "2020-01-14T14:00:00.000000000Z",
          "2020-01-14T22:00:00.000000000Z",
          "2020-01-15T06:00:00.000000000Z",
          "2020-01-15T10:00:00.000000000Z"
         ],
         "y": [
          108.6312,
          108.1138,
          107.96979999999999,
          107.8748,
          108.321,
          109.9265,
          109.82000000000001,
          109.8526,
          109.8308
         ]
        },
        {
         "marker": {
          "color": "red",
          "size": 12
         },
         "mode": "markers",
         "name": "Sell STOPLOSS",
         "type": "scatter",
         "x": [
          "2020-01-02T14:00:00.000000000Z",
          "2020-01-03T02:00:00.000000000Z",
          "2020-01-03T06:00:00.000000000Z",
          "2020-01-03T18:00:00.000000000Z",
          "2020-01-07T22:00:00.000000000Z",
          "2020-01-14T14:00:00.000000000Z",
          "2020-01-14T22:00:00.000000000Z",
          "2020-01-15T06:00:00.000000000Z",
          "2020-01-15T10:00:00.000000000Z"
         ],
         "y": [
          108.71440000000001,
          108.2986,
          108.0666,
          108.01559999999999,
          108.417,
          109.9925,
          109.924,
          109.8902,
          109.8716
         ]
        },
        {
         "marker": {
          "color": "yellow",
          "size": 12
         },
         "mode": "markers",
         "name": "Sell TAKEPROFIT",
         "type": "scatter",
         "x": [
          "2020-01-02T14:00:00.000000000Z",
          "2020-01-03T02:00:00.000000000Z",
          "2020-01-03T06:00:00.000000000Z",
          "2020-01-03T18:00:00.000000000Z",
          "2020-01-07T22:00:00.000000000Z",
          "2020-01-14T14:00:00.000000000Z",
          "2020-01-14T22:00:00.000000000Z",
          "2020-01-15T06:00:00.000000000Z",
          "2020-01-15T10:00:00.000000000Z"
         ],
         "y": [
          108.46480000000001,
          107.7442,
          107.77619999999999,
          107.5932,
          108.129,
          109.7945,
          109.61200000000001,
          109.77739999999999,
          109.74919999999999
         ]
        }
       ],
       "layout": {
        "font": {
         "color": "#e1e1e1",
         "size": 10
        },
        "height": 400,
        "margin": {
         "b": 10,
         "l": 10,
         "r": 10,
         "t": 30
        },
        "paper_bgcolor": "#1e1e1e",
        "plot_bgcolor": "#1e1e1e",
        "template": {
         "data": {
          "bar": [
           {
            "error_x": {
             "color": "#2a3f5f"
            },
            "error_y": {
             "color": "#2a3f5f"
            },
            "marker": {
             "line": {
              "color": "#E5ECF6",
              "width": 0.5
             },
             "pattern": {
              "fillmode": "overlay",
              "size": 10,
              "solidity": 0.2
             }
            },
            "type": "bar"
           }
          ],
          "barpolar": [
           {
            "marker": {
             "line": {
              "color": "#E5ECF6",
              "width": 0.5
             },
             "pattern": {
              "fillmode": "overlay",
              "size": 10,
              "solidity": 0.2
             }
            },
            "type": "barpolar"
           }
          ],
          "carpet": [
           {
            "aaxis": {
             "endlinecolor": "#2a3f5f",
             "gridcolor": "white",
             "linecolor": "white",
             "minorgridcolor": "white",
             "startlinecolor": "#2a3f5f"
            },
            "baxis": {
             "endlinecolor": "#2a3f5f",
             "gridcolor": "white",
             "linecolor": "white",
             "minorgridcolor": "white",
             "startlinecolor": "#2a3f5f"
            },
            "type": "carpet"
           }
          ],
          "choropleth": [
           {
            "colorbar": {
             "outlinewidth": 0,
             "ticks": ""
            },
            "type": "choropleth"
           }
          ],
          "contour": [
           {
            "colorbar": {
             "outlinewidth": 0,
             "ticks": ""
            },
            "colorscale": [
             [
              0,
              "#0d0887"
             ],
             [
              0.1111111111111111,
              "#46039f"
             ],
             [
              0.2222222222222222,
              "#7201a8"
             ],
             [
              0.3333333333333333,
              "#9c179e"
             ],
             [
              0.4444444444444444,
              "#bd3786"
             ],
             [
              0.5555555555555556,
              "#d8576b"
             ],
             [
              0.6666666666666666,
              "#ed7953"
             ],
             [
              0.7777777777777778,
              "#fb9f3a"
             ],
             [
              0.8888888888888888,
              "#fdca26"
             ],
             [
              1,
              "#f0f921"
             ]
            ],
            "type": "contour"
           }
          ],
          "contourcarpet": [
           {
            "colorbar": {
             "outlinewidth": 0,
             "ticks": ""
            },
            "type": "contourcarpet"
           }
          ],
          "heatmap": [
           {
            "colorbar": {
             "outlinewidth": 0,
             "ticks": ""
            },
            "colorscale": [
             [
              0,
              "#0d0887"
             ],
             [
              0.1111111111111111,
              "#46039f"
             ],
             [
              0.2222222222222222,
              "#7201a8"
             ],
             [
              0.3333333333333333,
              "#9c179e"
             ],
             [
              0.4444444444444444,
              "#bd3786"
             ],
             [
              0.5555555555555556,
              "#d8576b"
             ],
             [
              0.6666666666666666,
              "#ed7953"
             ],
             [
              0.7777777777777778,
              "#fb9f3a"
             ],
             [
              0.8888888888888888,
              "#fdca26"
             ],
             [
              1,
              "#f0f921"
             ]
            ],
            "type": "heatmap"
           }
          ],
          "heatmapgl": [
           {
            "colorbar": {
             "outlinewidth": 0,
             "ticks": ""
            },
            "colorscale": [
             [
              0,
              "#0d0887"
             ],
             [
              0.1111111111111111,
              "#46039f"
             ],
             [
              0.2222222222222222,
              "#7201a8"
             ],
             [
              0.3333333333333333,
              "#9c179e"
             ],
             [
              0.4444444444444444,
              "#bd3786"
             ],
             [
              0.5555555555555556,
              "#d8576b"
             ],
             [
              0.6666666666666666,
              "#ed7953"
             ],
             [
              0.7777777777777778,
              "#fb9f3a"
             ],
             [
              0.8888888888888888,
              "#fdca26"
             ],
             [
              1,
              "#f0f921"
             ]
            ],
            "type": "heatmapgl"
           }
          ],
          "histogram": [
           {
            "marker": {
             "pattern": {
              "fillmode": "overlay",
              "size": 10,
              "solidity": 0.2
             }
            },
            "type": "histogram"
           }
          ],
          "histogram2d": [
           {
            "colorbar": {
             "outlinewidth": 0,
             "ticks": ""
            },
            "colorscale": [
             [
              0,
              "#0d0887"
             ],
             [
              0.1111111111111111,
              "#46039f"
             ],
             [
              0.2222222222222222,
              "#7201a8"
             ],
             [
              0.3333333333333333,
              "#9c179e"
             ],
             [
              0.4444444444444444,
              "#bd3786"
             ],
             [
              0.5555555555555556,
              "#d8576b"
             ],
             [
              0.6666666666666666,
              "#ed7953"
             ],
             [
              0.7777777777777778,
              "#fb9f3a"
             ],
             [
              0.8888888888888888,
              "#fdca26"
             ],
             [
              1,
              "#f0f921"
             ]
            ],
            "type": "histogram2d"
           }
          ],
          "histogram2dcontour": [
           {
            "colorbar": {
             "outlinewidth": 0,
             "ticks": ""
            },
            "colorscale": [
             [
              0,
              "#0d0887"
             ],
             [
              0.1111111111111111,
              "#46039f"
             ],
             [
              0.2222222222222222,
              "#7201a8"
             ],
             [
              0.3333333333333333,
              "#9c179e"
             ],
             [
              0.4444444444444444,
              "#bd3786"
             ],
             [
              0.5555555555555556,
              "#d8576b"
             ],
             [
              0.6666666666666666,
              "#ed7953"
             ],
             [
              0.7777777777777778,
              "#fb9f3a"
             ],
             [
              0.8888888888888888,
              "#fdca26"
             ],
             [
              1,
              "#f0f921"
             ]
            ],
            "type": "histogram2dcontour"
           }
          ],
          "mesh3d": [
           {
            "colorbar": {
             "outlinewidth": 0,
             "ticks": ""
            },
            "type": "mesh3d"
           }
          ],
          "parcoords": [
           {
            "line": {
             "colorbar": {
              "outlinewidth": 0,
              "ticks": ""
             }
            },
            "type": "parcoords"
           }
          ],
          "pie": [
           {
            "automargin": true,
            "type": "pie"
           }
          ],
          "scatter": [
           {
            "fillpattern": {
             "fillmode": "overlay",
             "size": 10,
             "solidity": 0.2
            },
            "type": "scatter"
           }
          ],
          "scatter3d": [
           {
            "line": {
             "colorbar": {
              "outlinewidth": 0,
              "ticks": ""
             }
            },
            "marker": {
             "colorbar": {
              "outlinewidth": 0,
              "ticks": ""
             }
            },
            "type": "scatter3d"
           }
          ],
          "scattercarpet": [
           {
            "marker": {
             "colorbar": {
              "outlinewidth": 0,
              "ticks": ""
             }
            },
            "type": "scattercarpet"
           }
          ],
          "scattergeo": [
           {
            "marker": {
             "colorbar": {
              "outlinewidth": 0,
              "ticks": ""
             }
            },
            "type": "scattergeo"
           }
          ],
          "scattergl": [
           {
            "marker": {
             "colorbar": {
              "outlinewidth": 0,
              "ticks": ""
             }
            },
            "type": "scattergl"
           }
          ],
          "scattermapbox": [
           {
            "marker": {
             "colorbar": {
              "outlinewidth": 0,
              "ticks": ""
             }
            },
            "type": "scattermapbox"
           }
          ],
          "scatterpolar": [
           {
            "marker": {
             "colorbar": {
              "outlinewidth": 0,
              "ticks": ""
             }
            },
            "type": "scatterpolar"
           }
          ],
          "scatterpolargl": [
           {
            "marker": {
             "colorbar": {
              "outlinewidth": 0,
              "ticks": ""
             }
            },
            "type": "scatterpolargl"
           }
          ],
          "scatterternary": [
           {
            "marker": {
             "colorbar": {
              "outlinewidth": 0,
              "ticks": ""
             }
            },
            "type": "scatterternary"
           }
          ],
          "surface": [
           {
            "colorbar": {
             "outlinewidth": 0,
             "ticks": ""
            },
            "colorscale": [
             [
              0,
              "#0d0887"
             ],
             [
              0.1111111111111111,
              "#46039f"
             ],
             [
              0.2222222222222222,
              "#7201a8"
             ],
             [
              0.3333333333333333,
              "#9c179e"
             ],
             [
              0.4444444444444444,
              "#bd3786"
             ],
             [
              0.5555555555555556,
              "#d8576b"
             ],
             [
              0.6666666666666666,
              "#ed7953"
             ],
             [
              0.7777777777777778,
              "#fb9f3a"
             ],
             [
              0.8888888888888888,
              "#fdca26"
             ],
             [
              1,
              "#f0f921"
             ]
            ],
            "type": "surface"
           }
          ],
          "table": [
           {
            "cells": {
             "fill": {
              "color": "#EBF0F8"
             },
             "line": {
              "color": "white"
             }
            },
            "header": {
             "fill": {
              "color": "#C8D4E3"
             },
             "line": {
              "color": "white"
             }
            },
            "type": "table"
           }
          ]
         },
         "layout": {
          "annotationdefaults": {
           "arrowcolor": "#2a3f5f",
           "arrowhead": 0,
           "arrowwidth": 1
          },
          "autotypenumbers": "strict",
          "coloraxis": {
           "colorbar": {
            "outlinewidth": 0,
            "ticks": ""
           }
          },
          "colorscale": {
           "diverging": [
            [
             0,
             "#8e0152"
            ],
            [
             0.1,
             "#c51b7d"
            ],
            [
             0.2,
             "#de77ae"
            ],
            [
             0.3,
             "#f1b6da"
            ],
            [
             0.4,
             "#fde0ef"
            ],
            [
             0.5,
             "#f7f7f7"
            ],
            [
             0.6,
             "#e6f5d0"
            ],
            [
             0.7,
             "#b8e186"
            ],
            [
             0.8,
             "#7fbc41"
            ],
            [
             0.9,
             "#4d9221"
            ],
            [
             1,
             "#276419"
            ]
           ],
           "sequential": [
            [
             0,
             "#0d0887"
            ],
            [
             0.1111111111111111,
             "#46039f"
            ],
            [
             0.2222222222222222,
             "#7201a8"
            ],
            [
             0.3333333333333333,
             "#9c179e"
            ],
            [
             0.4444444444444444,
             "#bd3786"
            ],
            [
             0.5555555555555556,
             "#d8576b"
            ],
            [
             0.6666666666666666,
             "#ed7953"
            ],
            [
             0.7777777777777778,
             "#fb9f3a"
            ],
            [
             0.8888888888888888,
             "#fdca26"
            ],
            [
             1,
             "#f0f921"
            ]
           ],
           "sequentialminus": [
            [
             0,
             "#0d0887"
            ],
            [
             0.1111111111111111,
             "#46039f"
            ],
            [
             0.2222222222222222,
             "#7201a8"
            ],
            [
             0.3333333333333333,
             "#9c179e"
            ],
            [
             0.4444444444444444,
             "#bd3786"
            ],
            [
             0.5555555555555556,
             "#d8576b"
            ],
            [
             0.6666666666666666,
             "#ed7953"
            ],
            [
             0.7777777777777778,
             "#fb9f3a"
            ],
            [
             0.8888888888888888,
             "#fdca26"
            ],
            [
             1,
             "#f0f921"
            ]
           ]
          },
          "colorway": [
           "#636efa",
           "#EF553B",
           "#00cc96",
           "#ab63fa",
           "#FFA15A",
           "#19d3f3",
           "#FF6692",
           "#B6E880",
           "#FF97FF",
           "#FECB52"
          ],
          "font": {
           "color": "#2a3f5f"
          },
          "geo": {
           "bgcolor": "white",
           "lakecolor": "white",
           "landcolor": "#E5ECF6",
           "showlakes": true,
           "showland": true,
           "subunitcolor": "white"
          },
          "hoverlabel": {
           "align": "left"
          },
          "hovermode": "closest",
          "mapbox": {
           "style": "light"
          },
          "paper_bgcolor": "white",
          "plot_bgcolor": "#E5ECF6",
          "polar": {
           "angularaxis": {
            "gridcolor": "white",
            "linecolor": "white",
            "ticks": ""
           },
           "bgcolor": "#E5ECF6",
           "radialaxis": {
            "gridcolor": "white",
            "linecolor": "white",
            "ticks": ""
           }
          },
          "scene": {
           "xaxis": {
            "backgroundcolor": "#E5ECF6",
            "gridcolor": "white",
            "gridwidth": 2,
            "linecolor": "white",
            "showbackground": true,
            "ticks": "",
            "zerolinecolor": "white"
           },
           "yaxis": {
            "backgroundcolor": "#E5ECF6",
            "gridcolor": "white",
            "gridwidth": 2,
            "linecolor": "white",
            "showbackground": true,
            "ticks": "",
            "zerolinecolor": "white"
           },
           "zaxis": {
            "backgroundcolor": "#E5ECF6",
            "gridcolor": "white",
            "gridwidth": 2,
            "linecolor": "white",
            "showbackground": true,
            "ticks": "",
            "zerolinecolor": "white"
           }
          },
          "shapedefaults": {
           "line": {
            "color": "#2a3f5f"
           }
          },
          "ternary": {
           "aaxis": {
            "gridcolor": "white",
            "linecolor": "white",
            "ticks": ""
           },
           "baxis": {
            "gridcolor": "white",
            "linecolor": "white",
            "ticks": ""
           },
           "bgcolor": "#E5ECF6",
           "caxis": {
            "gridcolor": "white",
            "linecolor": "white",
            "ticks": ""
           }
          },
          "title": {
           "x": 0.05
          },
          "xaxis": {
           "automargin": true,
           "gridcolor": "white",
           "linecolor": "white",
           "ticks": "",
           "title": {
            "standoff": 15
           },
           "zerolinecolor": "white",
           "zerolinewidth": 2
          },
          "yaxis": {
           "automargin": true,
           "gridcolor": "white",
           "linecolor": "white",
           "ticks": "",
           "title": {
            "standoff": 15
           },
           "zerolinecolor": "white",
           "zerolinewidth": 2
          }
         }
        },
        "title": {
         "text": "Buy/Sell markers Chart"
        },
        "width": 1000,
        "xaxis": {
         "fixedrange": true,
         "gridcolor": "#1f292f",
         "rangebreaks": [
          {
           "bounds": [
            "sat",
            "mon"
           ]
          }
         ],
         "rangeslider": {
          "visible": false
         },
         "showgrid": true
        },
        "yaxis": {
         "gridcolor": "#1f292f",
         "showgrid": true
        }
       }
      }
     },
     "metadata": {},
     "output_type": "display_data"
    }
   ],
   "source": [
    "plot_candles_mode(df_plot, \"markers\")"
   ]
  },
  {
   "cell_type": "code",
   "execution_count": 25,
   "metadata": {},
   "outputs": [
    {
     "data": {
      "application/vnd.plotly.v1+json": {
       "config": {
        "plotlyServerURL": "https://plot.ly"
       },
       "data": [
        {
         "close": [
          108.742,
          108.839,
          108.694,
          108.529,
          108.561,
          108.204,
          108.123,
          108.068,
          108.158,
          107.968,
          108.11,
          107.948,
          108.058,
          107.986,
          108.12,
          108.348,
          108.372,
          108.434,
          108.436,
          108.468,
          108.438,
          108.546,
          108.46,
          108.033,
          108.305,
          108.449,
          108.67,
          109.096,
          109.134,
          109.238,
          109.275,
          109.434,
          109.432,
          109.512,
          109.524,
          109.543,
          109.563,
          109.64,
          109.652,
          109.479,
          109.471,
          109.602,
          109.637,
          109.85,
          109.849,
          109.918,
          109.944,
          110.066,
          110.06,
          110.02,
          110.008,
          110.095,
          109.996,
          109.95,
          109.92,
          109.869,
          109.833,
          109.887,
          109.9,
          109.93
         ],
         "decreasing": {
          "fillcolor": "#CC2E3C",
          "line": {
           "color": "#FF3A4C"
          }
         },
         "high": [
          108.758,
          108.842,
          108.866,
          108.748,
          108.572,
          108.63,
          108.244,
          108.152,
          108.164,
          108.268,
          108.126,
          108.122,
          108.104,
          108.179,
          108.164,
          108.416,
          108.506,
          108.461,
          108.506,
          108.5,
          108.483,
          108.63,
          108.594,
          108.522,
          108.461,
          108.489,
          108.816,
          109.134,
          109.246,
          109.256,
          109.284,
          109.434,
          109.489,
          109.58,
          109.538,
          109.58,
          109.606,
          109.649,
          109.688,
          109.688,
          109.556,
          109.636,
          109.649,
          109.882,
          109.924,
          109.946,
          109.947,
          110.214,
          110.11,
          110.134,
          110.113,
          110.11,
          110.114,
          110.01,
          109.962,
          109.95,
          109.919,
          110.002,
          109.928,
          109.99
         ],
         "increasing": {
          "fillcolor": "#24A06B",
          "line": {
           "color": "#2EC886"
          }
         },
         "line": {
          "width": 1
         },
         "low": [
          108.658,
          108.696,
          108.658,
          108.212,
          108.494,
          108.168,
          108.002,
          107.916,
          107.999,
          107.916,
          107.842,
          107.772,
          107.932,
          107.926,
          107.982,
          108.065,
          108.342,
          108.33,
          108.423,
          108.262,
          108.368,
          108.32,
          108.354,
          107.65,
          108.007,
          108.276,
          108.424,
          108.616,
          109,
          109.014,
          109.15,
          109.252,
          109.317,
          109.429,
          109.392,
          109.456,
          109.508,
          109.554,
          109.504,
          109.433,
          109.463,
          109.512,
          109.586,
          109.618,
          109.828,
          109.8,
          109.892,
          109.915,
          110.016,
          109.885,
          109.948,
          109.932,
          109.854,
          109.816,
          109.868,
          109.848,
          109.822,
          109.79,
          109.85,
          109.857
         ],
         "opacity": 1,
         "open": [
          108.671,
          108.744,
          108.836,
          108.697,
          108.526,
          108.568,
          108.202,
          108.126,
          108.071,
          108.156,
          107.966,
          107.879,
          107.95,
          108.06,
          107.988,
          108.118,
          108.351,
          108.353,
          108.431,
          108.438,
          108.466,
          108.441,
          108.549,
          108.455,
          108.03,
          108.308,
          108.446,
          108.673,
          109.099,
          109.092,
          109.236,
          109.278,
          109.432,
          109.43,
          109.51,
          109.517,
          109.546,
          109.566,
          109.643,
          109.654,
          109.482,
          109.528,
          109.601,
          109.638,
          109.848,
          109.848,
          109.917,
          109.946,
          110.068,
          110.061,
          110.02,
          110.006,
          110.096,
          109.99,
          109.952,
          109.922,
          109.868,
          109.832,
          109.888,
          109.896
         ],
         "type": "candlestick",
         "x": [
          "2020-01-02T02:00:00.000000000Z",
          "2020-01-02T06:00:00.000000000Z",
          "2020-01-02T10:00:00.000000000Z",
          "2020-01-02T14:00:00.000000000Z",
          "2020-01-02T18:00:00.000000000Z",
          "2020-01-02T22:00:00.000000000Z",
          "2020-01-03T02:00:00.000000000Z",
          "2020-01-03T06:00:00.000000000Z",
          "2020-01-03T10:00:00.000000000Z",
          "2020-01-03T14:00:00.000000000Z",
          "2020-01-03T18:00:00.000000000Z",
          "2020-01-05T22:00:00.000000000Z",
          "2020-01-06T02:00:00.000000000Z",
          "2020-01-06T06:00:00.000000000Z",
          "2020-01-06T10:00:00.000000000Z",
          "2020-01-06T14:00:00.000000000Z",
          "2020-01-06T18:00:00.000000000Z",
          "2020-01-06T22:00:00.000000000Z",
          "2020-01-07T02:00:00.000000000Z",
          "2020-01-07T06:00:00.000000000Z",
          "2020-01-07T10:00:00.000000000Z",
          "2020-01-07T14:00:00.000000000Z",
          "2020-01-07T18:00:00.000000000Z",
          "2020-01-07T22:00:00.000000000Z",
          "2020-01-08T02:00:00.000000000Z",
          "2020-01-08T06:00:00.000000000Z",
          "2020-01-08T10:00:00.000000000Z",
          "2020-01-08T14:00:00.000000000Z",
          "2020-01-08T18:00:00.000000000Z",
          "2020-01-08T22:00:00.000000000Z",
          "2020-01-09T02:00:00.000000000Z",
          "2020-01-09T06:00:00.000000000Z",
          "2020-01-09T10:00:00.000000000Z",
          "2020-01-09T14:00:00.000000000Z",
          "2020-01-09T18:00:00.000000000Z",
          "2020-01-09T22:00:00.000000000Z",
          "2020-01-10T02:00:00.000000000Z",
          "2020-01-10T06:00:00.000000000Z",
          "2020-01-10T10:00:00.000000000Z",
          "2020-01-10T14:00:00.000000000Z",
          "2020-01-10T18:00:00.000000000Z",
          "2020-01-12T22:00:00.000000000Z",
          "2020-01-13T02:00:00.000000000Z",
          "2020-01-13T06:00:00.000000000Z",
          "2020-01-13T10:00:00.000000000Z",
          "2020-01-13T14:00:00.000000000Z",
          "2020-01-13T18:00:00.000000000Z",
          "2020-01-13T22:00:00.000000000Z",
          "2020-01-14T02:00:00.000000000Z",
          "2020-01-14T06:00:00.000000000Z",
          "2020-01-14T10:00:00.000000000Z",
          "2020-01-14T14:00:00.000000000Z",
          "2020-01-14T18:00:00.000000000Z",
          "2020-01-14T22:00:00.000000000Z",
          "2020-01-15T02:00:00.000000000Z",
          "2020-01-15T06:00:00.000000000Z",
          "2020-01-15T10:00:00.000000000Z",
          "2020-01-15T14:00:00.000000000Z",
          "2020-01-15T18:00:00.000000000Z",
          "2020-01-15T22:00:00.000000000Z"
         ]
        },
        {
         "marker": {
          "color": "#043ef9",
          "size": 12
         },
         "mode": "lines",
         "name": "Buy ENTRY",
         "type": "scatter",
         "x": [
          "2020-01-05T22:00:00.000000000Z",
          "2020-01-06T22:00:00.000000000Z",
          "2020-01-07T06:00:00.000000000Z",
          "2020-01-09T18:00:00.000000000Z"
         ],
         "y": [
          108.1884,
          108.52940000000001,
          108.52130000000001,
          109.6031
         ]
        },
        {
         "marker": {
          "color": "#eb5334",
          "size": 12
         },
         "mode": "lines",
         "name": "Buy STOPLOSS",
         "type": "scatter",
         "x": [
          "2020-01-05T22:00:00.000000000Z",
          "2020-01-06T22:00:00.000000000Z",
          "2020-01-07T06:00:00.000000000Z",
          "2020-01-09T18:00:00.000000000Z"
         ],
         "y": [
          108.0748,
          108.4638,
          108.48810000000002,
          109.5427
         ]
        },
        {
         "marker": {
          "color": "#34eb37",
          "size": 12
         },
         "mode": "lines",
         "name": "Buy TAKEPROFIT",
         "type": "scatter",
         "x": [
          "2020-01-05T22:00:00.000000000Z",
          "2020-01-06T22:00:00.000000000Z",
          "2020-01-07T06:00:00.000000000Z",
          "2020-01-09T18:00:00.000000000Z"
         ],
         "y": [
          108.41560000000001,
          108.66060000000002,
          108.58770000000001,
          109.7239
         ]
        },
        {
         "marker": {
          "color": "white",
          "size": 12
         },
         "mode": "lines",
         "name": "Sell ENTRY",
         "type": "scatter",
         "x": [
          "2020-01-02T14:00:00.000000000Z",
          "2020-01-03T02:00:00.000000000Z",
          "2020-01-03T06:00:00.000000000Z",
          "2020-01-03T18:00:00.000000000Z",
          "2020-01-07T22:00:00.000000000Z",
          "2020-01-14T14:00:00.000000000Z",
          "2020-01-14T22:00:00.000000000Z",
          "2020-01-15T06:00:00.000000000Z",
          "2020-01-15T10:00:00.000000000Z"
         ],
         "y": [
          108.6312,
          108.1138,
          107.96979999999999,
          107.8748,
          108.321,
          109.9265,
          109.82000000000001,
          109.8526,
          109.8308
         ]
        },
        {
         "marker": {
          "color": "red",
          "size": 12
         },
         "mode": "lines",
         "name": "Sell STOPLOSS",
         "type": "scatter",
         "x": [
          "2020-01-02T14:00:00.000000000Z",
          "2020-01-03T02:00:00.000000000Z",
          "2020-01-03T06:00:00.000000000Z",
          "2020-01-03T18:00:00.000000000Z",
          "2020-01-07T22:00:00.000000000Z",
          "2020-01-14T14:00:00.000000000Z",
          "2020-01-14T22:00:00.000000000Z",
          "2020-01-15T06:00:00.000000000Z",
          "2020-01-15T10:00:00.000000000Z"
         ],
         "y": [
          108.71440000000001,
          108.2986,
          108.0666,
          108.01559999999999,
          108.417,
          109.9925,
          109.924,
          109.8902,
          109.8716
         ]
        },
        {
         "marker": {
          "color": "yellow",
          "size": 12
         },
         "mode": "lines",
         "name": "Sell TAKEPROFIT",
         "type": "scatter",
         "x": [
          "2020-01-02T14:00:00.000000000Z",
          "2020-01-03T02:00:00.000000000Z",
          "2020-01-03T06:00:00.000000000Z",
          "2020-01-03T18:00:00.000000000Z",
          "2020-01-07T22:00:00.000000000Z",
          "2020-01-14T14:00:00.000000000Z",
          "2020-01-14T22:00:00.000000000Z",
          "2020-01-15T06:00:00.000000000Z",
          "2020-01-15T10:00:00.000000000Z"
         ],
         "y": [
          108.46480000000001,
          107.7442,
          107.77619999999999,
          107.5932,
          108.129,
          109.7945,
          109.61200000000001,
          109.77739999999999,
          109.74919999999999
         ]
        }
       ],
       "layout": {
        "font": {
         "color": "#e1e1e1",
         "size": 10
        },
        "height": 400,
        "margin": {
         "b": 10,
         "l": 10,
         "r": 10,
         "t": 30
        },
        "paper_bgcolor": "#1e1e1e",
        "plot_bgcolor": "#1e1e1e",
        "template": {
         "data": {
          "bar": [
           {
            "error_x": {
             "color": "#2a3f5f"
            },
            "error_y": {
             "color": "#2a3f5f"
            },
            "marker": {
             "line": {
              "color": "#E5ECF6",
              "width": 0.5
             },
             "pattern": {
              "fillmode": "overlay",
              "size": 10,
              "solidity": 0.2
             }
            },
            "type": "bar"
           }
          ],
          "barpolar": [
           {
            "marker": {
             "line": {
              "color": "#E5ECF6",
              "width": 0.5
             },
             "pattern": {
              "fillmode": "overlay",
              "size": 10,
              "solidity": 0.2
             }
            },
            "type": "barpolar"
           }
          ],
          "carpet": [
           {
            "aaxis": {
             "endlinecolor": "#2a3f5f",
             "gridcolor": "white",
             "linecolor": "white",
             "minorgridcolor": "white",
             "startlinecolor": "#2a3f5f"
            },
            "baxis": {
             "endlinecolor": "#2a3f5f",
             "gridcolor": "white",
             "linecolor": "white",
             "minorgridcolor": "white",
             "startlinecolor": "#2a3f5f"
            },
            "type": "carpet"
           }
          ],
          "choropleth": [
           {
            "colorbar": {
             "outlinewidth": 0,
             "ticks": ""
            },
            "type": "choropleth"
           }
          ],
          "contour": [
           {
            "colorbar": {
             "outlinewidth": 0,
             "ticks": ""
            },
            "colorscale": [
             [
              0,
              "#0d0887"
             ],
             [
              0.1111111111111111,
              "#46039f"
             ],
             [
              0.2222222222222222,
              "#7201a8"
             ],
             [
              0.3333333333333333,
              "#9c179e"
             ],
             [
              0.4444444444444444,
              "#bd3786"
             ],
             [
              0.5555555555555556,
              "#d8576b"
             ],
             [
              0.6666666666666666,
              "#ed7953"
             ],
             [
              0.7777777777777778,
              "#fb9f3a"
             ],
             [
              0.8888888888888888,
              "#fdca26"
             ],
             [
              1,
              "#f0f921"
             ]
            ],
            "type": "contour"
           }
          ],
          "contourcarpet": [
           {
            "colorbar": {
             "outlinewidth": 0,
             "ticks": ""
            },
            "type": "contourcarpet"
           }
          ],
          "heatmap": [
           {
            "colorbar": {
             "outlinewidth": 0,
             "ticks": ""
            },
            "colorscale": [
             [
              0,
              "#0d0887"
             ],
             [
              0.1111111111111111,
              "#46039f"
             ],
             [
              0.2222222222222222,
              "#7201a8"
             ],
             [
              0.3333333333333333,
              "#9c179e"
             ],
             [
              0.4444444444444444,
              "#bd3786"
             ],
             [
              0.5555555555555556,
              "#d8576b"
             ],
             [
              0.6666666666666666,
              "#ed7953"
             ],
             [
              0.7777777777777778,
              "#fb9f3a"
             ],
             [
              0.8888888888888888,
              "#fdca26"
             ],
             [
              1,
              "#f0f921"
             ]
            ],
            "type": "heatmap"
           }
          ],
          "heatmapgl": [
           {
            "colorbar": {
             "outlinewidth": 0,
             "ticks": ""
            },
            "colorscale": [
             [
              0,
              "#0d0887"
             ],
             [
              0.1111111111111111,
              "#46039f"
             ],
             [
              0.2222222222222222,
              "#7201a8"
             ],
             [
              0.3333333333333333,
              "#9c179e"
             ],
             [
              0.4444444444444444,
              "#bd3786"
             ],
             [
              0.5555555555555556,
              "#d8576b"
             ],
             [
              0.6666666666666666,
              "#ed7953"
             ],
             [
              0.7777777777777778,
              "#fb9f3a"
             ],
             [
              0.8888888888888888,
              "#fdca26"
             ],
             [
              1,
              "#f0f921"
             ]
            ],
            "type": "heatmapgl"
           }
          ],
          "histogram": [
           {
            "marker": {
             "pattern": {
              "fillmode": "overlay",
              "size": 10,
              "solidity": 0.2
             }
            },
            "type": "histogram"
           }
          ],
          "histogram2d": [
           {
            "colorbar": {
             "outlinewidth": 0,
             "ticks": ""
            },
            "colorscale": [
             [
              0,
              "#0d0887"
             ],
             [
              0.1111111111111111,
              "#46039f"
             ],
             [
              0.2222222222222222,
              "#7201a8"
             ],
             [
              0.3333333333333333,
              "#9c179e"
             ],
             [
              0.4444444444444444,
              "#bd3786"
             ],
             [
              0.5555555555555556,
              "#d8576b"
             ],
             [
              0.6666666666666666,
              "#ed7953"
             ],
             [
              0.7777777777777778,
              "#fb9f3a"
             ],
             [
              0.8888888888888888,
              "#fdca26"
             ],
             [
              1,
              "#f0f921"
             ]
            ],
            "type": "histogram2d"
           }
          ],
          "histogram2dcontour": [
           {
            "colorbar": {
             "outlinewidth": 0,
             "ticks": ""
            },
            "colorscale": [
             [
              0,
              "#0d0887"
             ],
             [
              0.1111111111111111,
              "#46039f"
             ],
             [
              0.2222222222222222,
              "#7201a8"
             ],
             [
              0.3333333333333333,
              "#9c179e"
             ],
             [
              0.4444444444444444,
              "#bd3786"
             ],
             [
              0.5555555555555556,
              "#d8576b"
             ],
             [
              0.6666666666666666,
              "#ed7953"
             ],
             [
              0.7777777777777778,
              "#fb9f3a"
             ],
             [
              0.8888888888888888,
              "#fdca26"
             ],
             [
              1,
              "#f0f921"
             ]
            ],
            "type": "histogram2dcontour"
           }
          ],
          "mesh3d": [
           {
            "colorbar": {
             "outlinewidth": 0,
             "ticks": ""
            },
            "type": "mesh3d"
           }
          ],
          "parcoords": [
           {
            "line": {
             "colorbar": {
              "outlinewidth": 0,
              "ticks": ""
             }
            },
            "type": "parcoords"
           }
          ],
          "pie": [
           {
            "automargin": true,
            "type": "pie"
           }
          ],
          "scatter": [
           {
            "fillpattern": {
             "fillmode": "overlay",
             "size": 10,
             "solidity": 0.2
            },
            "type": "scatter"
           }
          ],
          "scatter3d": [
           {
            "line": {
             "colorbar": {
              "outlinewidth": 0,
              "ticks": ""
             }
            },
            "marker": {
             "colorbar": {
              "outlinewidth": 0,
              "ticks": ""
             }
            },
            "type": "scatter3d"
           }
          ],
          "scattercarpet": [
           {
            "marker": {
             "colorbar": {
              "outlinewidth": 0,
              "ticks": ""
             }
            },
            "type": "scattercarpet"
           }
          ],
          "scattergeo": [
           {
            "marker": {
             "colorbar": {
              "outlinewidth": 0,
              "ticks": ""
             }
            },
            "type": "scattergeo"
           }
          ],
          "scattergl": [
           {
            "marker": {
             "colorbar": {
              "outlinewidth": 0,
              "ticks": ""
             }
            },
            "type": "scattergl"
           }
          ],
          "scattermapbox": [
           {
            "marker": {
             "colorbar": {
              "outlinewidth": 0,
              "ticks": ""
             }
            },
            "type": "scattermapbox"
           }
          ],
          "scatterpolar": [
           {
            "marker": {
             "colorbar": {
              "outlinewidth": 0,
              "ticks": ""
             }
            },
            "type": "scatterpolar"
           }
          ],
          "scatterpolargl": [
           {
            "marker": {
             "colorbar": {
              "outlinewidth": 0,
              "ticks": ""
             }
            },
            "type": "scatterpolargl"
           }
          ],
          "scatterternary": [
           {
            "marker": {
             "colorbar": {
              "outlinewidth": 0,
              "ticks": ""
             }
            },
            "type": "scatterternary"
           }
          ],
          "surface": [
           {
            "colorbar": {
             "outlinewidth": 0,
             "ticks": ""
            },
            "colorscale": [
             [
              0,
              "#0d0887"
             ],
             [
              0.1111111111111111,
              "#46039f"
             ],
             [
              0.2222222222222222,
              "#7201a8"
             ],
             [
              0.3333333333333333,
              "#9c179e"
             ],
             [
              0.4444444444444444,
              "#bd3786"
             ],
             [
              0.5555555555555556,
              "#d8576b"
             ],
             [
              0.6666666666666666,
              "#ed7953"
             ],
             [
              0.7777777777777778,
              "#fb9f3a"
             ],
             [
              0.8888888888888888,
              "#fdca26"
             ],
             [
              1,
              "#f0f921"
             ]
            ],
            "type": "surface"
           }
          ],
          "table": [
           {
            "cells": {
             "fill": {
              "color": "#EBF0F8"
             },
             "line": {
              "color": "white"
             }
            },
            "header": {
             "fill": {
              "color": "#C8D4E3"
             },
             "line": {
              "color": "white"
             }
            },
            "type": "table"
           }
          ]
         },
         "layout": {
          "annotationdefaults": {
           "arrowcolor": "#2a3f5f",
           "arrowhead": 0,
           "arrowwidth": 1
          },
          "autotypenumbers": "strict",
          "coloraxis": {
           "colorbar": {
            "outlinewidth": 0,
            "ticks": ""
           }
          },
          "colorscale": {
           "diverging": [
            [
             0,
             "#8e0152"
            ],
            [
             0.1,
             "#c51b7d"
            ],
            [
             0.2,
             "#de77ae"
            ],
            [
             0.3,
             "#f1b6da"
            ],
            [
             0.4,
             "#fde0ef"
            ],
            [
             0.5,
             "#f7f7f7"
            ],
            [
             0.6,
             "#e6f5d0"
            ],
            [
             0.7,
             "#b8e186"
            ],
            [
             0.8,
             "#7fbc41"
            ],
            [
             0.9,
             "#4d9221"
            ],
            [
             1,
             "#276419"
            ]
           ],
           "sequential": [
            [
             0,
             "#0d0887"
            ],
            [
             0.1111111111111111,
             "#46039f"
            ],
            [
             0.2222222222222222,
             "#7201a8"
            ],
            [
             0.3333333333333333,
             "#9c179e"
            ],
            [
             0.4444444444444444,
             "#bd3786"
            ],
            [
             0.5555555555555556,
             "#d8576b"
            ],
            [
             0.6666666666666666,
             "#ed7953"
            ],
            [
             0.7777777777777778,
             "#fb9f3a"
            ],
            [
             0.8888888888888888,
             "#fdca26"
            ],
            [
             1,
             "#f0f921"
            ]
           ],
           "sequentialminus": [
            [
             0,
             "#0d0887"
            ],
            [
             0.1111111111111111,
             "#46039f"
            ],
            [
             0.2222222222222222,
             "#7201a8"
            ],
            [
             0.3333333333333333,
             "#9c179e"
            ],
            [
             0.4444444444444444,
             "#bd3786"
            ],
            [
             0.5555555555555556,
             "#d8576b"
            ],
            [
             0.6666666666666666,
             "#ed7953"
            ],
            [
             0.7777777777777778,
             "#fb9f3a"
            ],
            [
             0.8888888888888888,
             "#fdca26"
            ],
            [
             1,
             "#f0f921"
            ]
           ]
          },
          "colorway": [
           "#636efa",
           "#EF553B",
           "#00cc96",
           "#ab63fa",
           "#FFA15A",
           "#19d3f3",
           "#FF6692",
           "#B6E880",
           "#FF97FF",
           "#FECB52"
          ],
          "font": {
           "color": "#2a3f5f"
          },
          "geo": {
           "bgcolor": "white",
           "lakecolor": "white",
           "landcolor": "#E5ECF6",
           "showlakes": true,
           "showland": true,
           "subunitcolor": "white"
          },
          "hoverlabel": {
           "align": "left"
          },
          "hovermode": "closest",
          "mapbox": {
           "style": "light"
          },
          "paper_bgcolor": "white",
          "plot_bgcolor": "#E5ECF6",
          "polar": {
           "angularaxis": {
            "gridcolor": "white",
            "linecolor": "white",
            "ticks": ""
           },
           "bgcolor": "#E5ECF6",
           "radialaxis": {
            "gridcolor": "white",
            "linecolor": "white",
            "ticks": ""
           }
          },
          "scene": {
           "xaxis": {
            "backgroundcolor": "#E5ECF6",
            "gridcolor": "white",
            "gridwidth": 2,
            "linecolor": "white",
            "showbackground": true,
            "ticks": "",
            "zerolinecolor": "white"
           },
           "yaxis": {
            "backgroundcolor": "#E5ECF6",
            "gridcolor": "white",
            "gridwidth": 2,
            "linecolor": "white",
            "showbackground": true,
            "ticks": "",
            "zerolinecolor": "white"
           },
           "zaxis": {
            "backgroundcolor": "#E5ECF6",
            "gridcolor": "white",
            "gridwidth": 2,
            "linecolor": "white",
            "showbackground": true,
            "ticks": "",
            "zerolinecolor": "white"
           }
          },
          "shapedefaults": {
           "line": {
            "color": "#2a3f5f"
           }
          },
          "ternary": {
           "aaxis": {
            "gridcolor": "white",
            "linecolor": "white",
            "ticks": ""
           },
           "baxis": {
            "gridcolor": "white",
            "linecolor": "white",
            "ticks": ""
           },
           "bgcolor": "#E5ECF6",
           "caxis": {
            "gridcolor": "white",
            "linecolor": "white",
            "ticks": ""
           }
          },
          "title": {
           "x": 0.05
          },
          "xaxis": {
           "automargin": true,
           "gridcolor": "white",
           "linecolor": "white",
           "ticks": "",
           "title": {
            "standoff": 15
           },
           "zerolinecolor": "white",
           "zerolinewidth": 2
          },
          "yaxis": {
           "automargin": true,
           "gridcolor": "white",
           "linecolor": "white",
           "ticks": "",
           "title": {
            "standoff": 15
           },
           "zerolinecolor": "white",
           "zerolinewidth": 2
          }
         }
        },
        "title": {
         "text": "Buy/Sell lines Chart"
        },
        "width": 1000,
        "xaxis": {
         "fixedrange": true,
         "gridcolor": "#1f292f",
         "rangebreaks": [
          {
           "bounds": [
            "sat",
            "mon"
           ]
          }
         ],
         "rangeslider": {
          "visible": false
         },
         "showgrid": true
        },
        "yaxis": {
         "gridcolor": "#1f292f",
         "showgrid": true
        }
       }
      }
     },
     "metadata": {},
     "output_type": "display_data"
    }
   ],
   "source": [
    "plot_candles_mode(df_plot, \"lines\")"
   ]
  },
  {
   "cell_type": "code",
   "execution_count": null,
   "metadata": {},
   "outputs": [],
   "source": []
  }
 ],
 "metadata": {
  "kernelspec": {
   "display_name": "Python 3",
   "language": "python",
   "name": "python3"
  },
  "language_info": {
   "codemirror_mode": {
    "name": "ipython",
    "version": 3
   },
   "file_extension": ".py",
   "mimetype": "text/x-python",
   "name": "python",
   "nbconvert_exporter": "python",
   "pygments_lexer": "ipython3",
   "version": "3.10.4"
  },
  "orig_nbformat": 4
 },
 "nbformat": 4,
 "nbformat_minor": 2
}
