{
 "cells": [
  {
   "cell_type": "markdown",
   "metadata": {},
   "source": [
    "First exploration of a new strategy: Inside Bar Momentum.  Simply:  if high-low of bar 2 within high-low of bar 1: signal..."
   ]
  },
  {
   "cell_type": "code",
   "execution_count": 43,
   "metadata": {},
   "outputs": [],
   "source": [
    "import pandas as pd\n",
    "import plotly.graph_objects as go\n",
    "import utils"
   ]
  },
  {
   "cell_type": "markdown",
   "metadata": {},
   "source": [
    "We know we are going to look for data on USD_JPY_H4, but we haven't yet tested collect_his_data with this pairing, so we need to run that first.  Might as well refresh while we're in the area...\n",
    "\n",
    "But, this takes a long time to run - so comment out after doing it once."
   ]
  },
  {
   "cell_type": "code",
   "execution_count": 44,
   "metadata": {
    "vscode": {
     "languageId": "shellscript"
    }
   },
   "outputs": [],
   "source": [
    "# import os\n",
    "# %run ./collect_his_data.py\n"
   ]
  },
  {
   "cell_type": "code",
   "execution_count": 45,
   "metadata": {
    "vscode": {
     "languageId": "shellscript"
    }
   },
   "outputs": [],
   "source": [
    "def plot_candles_mode(df_plot, mode=None):\n",
    "\n",
    "    if mode == None:\n",
    "        mode = \"markers\"\n",
    "\n",
    "    plot_colours_buy = ['#043ef9', '#eb5334', '#34eb37']\n",
    "    plot_colours_sell = ['white', 'red', 'yellow']\n",
    "\n",
    "    fig = go.Figure()\n",
    "    \n",
    "    fig.add_trace(go.Candlestick(\n",
    "        x=df_plot.time, open=df_plot.mid_o, high=df_plot.mid_h, low = df_plot.mid_l, close=df_plot.mid_c,\n",
    "        line=dict(width=1), opacity=1,\n",
    "        increasing_fillcolor=\"#24A06B\",\n",
    "        decreasing_fillcolor=\"#CC2E3C\",\n",
    "        increasing_line_color=\"#2EC886\",\n",
    "        decreasing_line_color=\"#FF3A4C\"\n",
    "        ))\n",
    "\n",
    "    # Loop through buys, and plot\n",
    "    for i in range(0, 3):\n",
    "        fig.add_trace(go.Scatter(\n",
    "            x=df_buys.time,\n",
    "            y=df_buys[plot_cols[i]],\n",
    "            mode=mode,\n",
    "            name=(f\"Buy {plot_cols[i]}\"),\n",
    "            marker=dict(color=plot_colours_buy[i], size=12),\n",
    "            \n",
    "        ))\n",
    "\n",
    "    # Loop through sells and plot\n",
    "    for i in range(0, 3):\n",
    "        fig.add_trace(go.Scatter(\n",
    "            x=df_sells.time,\n",
    "            y=df_sells[plot_cols[i]],\n",
    "            mode=mode,\n",
    "            name=(f\"Sell {plot_cols[i]}\"),\n",
    "            marker=dict(color=plot_colours_sell[i], size=12)\n",
    "        ))\n",
    "\n",
    "\n",
    "    fig.update_layout(width=1000, height=400, paper_bgcolor = \"#1e1e1e\", plot_bgcolor = \"#1e1e1e\",\n",
    "                    margin=dict(l=10, b=10, t=30, r=10), \n",
    "                    font=dict(size=10, color=\"#e1e1e1\"),\n",
    "                    title=f\"Buy/Sell {mode} Chart\")\n",
    "    fig.update_xaxes(gridcolor=\"#1f292f\",\n",
    "                    showgrid=True,\n",
    "                    fixedrange=True,\n",
    "                    rangeslider=dict(visible=False),\n",
    "                    rangebreaks=[\n",
    "                        dict(bounds=[\"sat\", \"mon\"])\n",
    "                        ]\n",
    "                    )\n",
    "    fig.update_yaxes(gridcolor=\"#1f292f\",\n",
    "                    showgrid=True)\n",
    "\n",
    "    fig.show()"
   ]
  },
  {
   "cell_type": "code",
   "execution_count": 46,
   "metadata": {},
   "outputs": [],
   "source": [
    "pair = \"GBP_JPY\"\n",
    "granularity = \"M5\"\n",
    "df_raw = pd.read_csv(utils.get_hist_data_filename(pair, granularity))\n"
   ]
  },
  {
   "cell_type": "code",
   "execution_count": 47,
   "metadata": {},
   "outputs": [
    {
     "data": {
      "text/html": [
       "<div>\n",
       "<style scoped>\n",
       "    .dataframe tbody tr th:only-of-type {\n",
       "        vertical-align: middle;\n",
       "    }\n",
       "\n",
       "    .dataframe tbody tr th {\n",
       "        vertical-align: top;\n",
       "    }\n",
       "\n",
       "    .dataframe thead th {\n",
       "        text-align: right;\n",
       "    }\n",
       "</style>\n",
       "<table border=\"1\" class=\"dataframe\">\n",
       "  <thead>\n",
       "    <tr style=\"text-align: right;\">\n",
       "      <th></th>\n",
       "      <th>Unnamed: 0</th>\n",
       "      <th>volume</th>\n",
       "      <th>bid_o</th>\n",
       "      <th>bid_h</th>\n",
       "      <th>bid_l</th>\n",
       "      <th>bid_c</th>\n",
       "      <th>mid_o</th>\n",
       "      <th>mid_h</th>\n",
       "      <th>mid_l</th>\n",
       "      <th>mid_c</th>\n",
       "      <th>ask_o</th>\n",
       "      <th>ask_h</th>\n",
       "      <th>ask_l</th>\n",
       "      <th>ask_c</th>\n",
       "    </tr>\n",
       "  </thead>\n",
       "  <tbody>\n",
       "    <tr>\n",
       "      <th>count</th>\n",
       "      <td>224097.000000</td>\n",
       "      <td>224097.000000</td>\n",
       "      <td>224097.000000</td>\n",
       "      <td>224097.000000</td>\n",
       "      <td>224097.000000</td>\n",
       "      <td>224097.000000</td>\n",
       "      <td>224097.000000</td>\n",
       "      <td>224097.000000</td>\n",
       "      <td>224097.000000</td>\n",
       "      <td>224097.000000</td>\n",
       "      <td>224097.000000</td>\n",
       "      <td>224097.000000</td>\n",
       "      <td>224097.000000</td>\n",
       "      <td>224097.000000</td>\n",
       "    </tr>\n",
       "    <tr>\n",
       "      <th>mean</th>\n",
       "      <td>709.358354</td>\n",
       "      <td>474.704972</td>\n",
       "      <td>149.962573</td>\n",
       "      <td>150.000914</td>\n",
       "      <td>149.923802</td>\n",
       "      <td>149.962783</td>\n",
       "      <td>149.979455</td>\n",
       "      <td>150.017528</td>\n",
       "      <td>149.941182</td>\n",
       "      <td>149.979550</td>\n",
       "      <td>149.996339</td>\n",
       "      <td>150.034931</td>\n",
       "      <td>149.957796</td>\n",
       "      <td>149.996316</td>\n",
       "    </tr>\n",
       "    <tr>\n",
       "      <th>std</th>\n",
       "      <td>410.497432</td>\n",
       "      <td>599.004297</td>\n",
       "      <td>10.957041</td>\n",
       "      <td>10.960459</td>\n",
       "      <td>10.953283</td>\n",
       "      <td>10.957071</td>\n",
       "      <td>10.957420</td>\n",
       "      <td>10.960785</td>\n",
       "      <td>10.953683</td>\n",
       "      <td>10.957411</td>\n",
       "      <td>10.957813</td>\n",
       "      <td>10.961207</td>\n",
       "      <td>10.954028</td>\n",
       "      <td>10.957764</td>\n",
       "    </tr>\n",
       "    <tr>\n",
       "      <th>min</th>\n",
       "      <td>0.000000</td>\n",
       "      <td>1.000000</td>\n",
       "      <td>124.492000</td>\n",
       "      <td>124.782000</td>\n",
       "      <td>123.969000</td>\n",
       "      <td>124.488000</td>\n",
       "      <td>124.567000</td>\n",
       "      <td>124.857000</td>\n",
       "      <td>124.044000</td>\n",
       "      <td>124.563000</td>\n",
       "      <td>124.642000</td>\n",
       "      <td>124.932000</td>\n",
       "      <td>124.119000</td>\n",
       "      <td>124.638000</td>\n",
       "    </tr>\n",
       "    <tr>\n",
       "      <th>25%</th>\n",
       "      <td>354.000000</td>\n",
       "      <td>107.000000</td>\n",
       "      <td>139.614000</td>\n",
       "      <td>139.642000</td>\n",
       "      <td>139.586000</td>\n",
       "      <td>139.614000</td>\n",
       "      <td>139.631000</td>\n",
       "      <td>139.658000</td>\n",
       "      <td>139.604000</td>\n",
       "      <td>139.632000</td>\n",
       "      <td>139.646000</td>\n",
       "      <td>139.674000</td>\n",
       "      <td>139.619000</td>\n",
       "      <td>139.646000</td>\n",
       "    </tr>\n",
       "    <tr>\n",
       "      <th>50%</th>\n",
       "      <td>709.000000</td>\n",
       "      <td>238.000000</td>\n",
       "      <td>151.660000</td>\n",
       "      <td>151.687000</td>\n",
       "      <td>151.630000</td>\n",
       "      <td>151.660000</td>\n",
       "      <td>151.674000</td>\n",
       "      <td>151.702000</td>\n",
       "      <td>151.644000</td>\n",
       "      <td>151.673000</td>\n",
       "      <td>151.686000</td>\n",
       "      <td>151.715000</td>\n",
       "      <td>151.657000</td>\n",
       "      <td>151.686000</td>\n",
       "    </tr>\n",
       "    <tr>\n",
       "      <th>75%</th>\n",
       "      <td>1063.000000</td>\n",
       "      <td>622.000000</td>\n",
       "      <td>158.688000</td>\n",
       "      <td>158.751000</td>\n",
       "      <td>158.617000</td>\n",
       "      <td>158.689000</td>\n",
       "      <td>158.706000</td>\n",
       "      <td>158.768000</td>\n",
       "      <td>158.636000</td>\n",
       "      <td>158.704000</td>\n",
       "      <td>158.723000</td>\n",
       "      <td>158.787000</td>\n",
       "      <td>158.654000</td>\n",
       "      <td>158.721000</td>\n",
       "    </tr>\n",
       "    <tr>\n",
       "      <th>max</th>\n",
       "      <td>1439.000000</td>\n",
       "      <td>27801.000000</td>\n",
       "      <td>172.069000</td>\n",
       "      <td>172.118000</td>\n",
       "      <td>171.996000</td>\n",
       "      <td>172.074000</td>\n",
       "      <td>172.089000</td>\n",
       "      <td>172.136000</td>\n",
       "      <td>172.016000</td>\n",
       "      <td>172.092000</td>\n",
       "      <td>172.109000</td>\n",
       "      <td>172.153000</td>\n",
       "      <td>172.035000</td>\n",
       "      <td>172.110000</td>\n",
       "    </tr>\n",
       "  </tbody>\n",
       "</table>\n",
       "</div>"
      ],
      "text/plain": [
       "          Unnamed: 0         volume          bid_o          bid_h  \\\n",
       "count  224097.000000  224097.000000  224097.000000  224097.000000   \n",
       "mean      709.358354     474.704972     149.962573     150.000914   \n",
       "std       410.497432     599.004297      10.957041      10.960459   \n",
       "min         0.000000       1.000000     124.492000     124.782000   \n",
       "25%       354.000000     107.000000     139.614000     139.642000   \n",
       "50%       709.000000     238.000000     151.660000     151.687000   \n",
       "75%      1063.000000     622.000000     158.688000     158.751000   \n",
       "max      1439.000000   27801.000000     172.069000     172.118000   \n",
       "\n",
       "               bid_l          bid_c          mid_o          mid_h  \\\n",
       "count  224097.000000  224097.000000  224097.000000  224097.000000   \n",
       "mean      149.923802     149.962783     149.979455     150.017528   \n",
       "std        10.953283      10.957071      10.957420      10.960785   \n",
       "min       123.969000     124.488000     124.567000     124.857000   \n",
       "25%       139.586000     139.614000     139.631000     139.658000   \n",
       "50%       151.630000     151.660000     151.674000     151.702000   \n",
       "75%       158.617000     158.689000     158.706000     158.768000   \n",
       "max       171.996000     172.074000     172.089000     172.136000   \n",
       "\n",
       "               mid_l          mid_c          ask_o          ask_h  \\\n",
       "count  224097.000000  224097.000000  224097.000000  224097.000000   \n",
       "mean      149.941182     149.979550     149.996339     150.034931   \n",
       "std        10.953683      10.957411      10.957813      10.961207   \n",
       "min       124.044000     124.563000     124.642000     124.932000   \n",
       "25%       139.604000     139.632000     139.646000     139.674000   \n",
       "50%       151.644000     151.673000     151.686000     151.715000   \n",
       "75%       158.636000     158.704000     158.723000     158.787000   \n",
       "max       172.016000     172.092000     172.109000     172.153000   \n",
       "\n",
       "               ask_l          ask_c  \n",
       "count  224097.000000  224097.000000  \n",
       "mean      149.957796     149.996316  \n",
       "std        10.954028      10.957764  \n",
       "min       124.119000     124.638000  \n",
       "25%       139.619000     139.646000  \n",
       "50%       151.657000     151.686000  \n",
       "75%       158.654000     158.721000  \n",
       "max       172.035000     172.110000  "
      ]
     },
     "execution_count": 47,
     "metadata": {},
     "output_type": "execute_result"
    }
   ],
   "source": [
    "df_raw.describe()"
   ]
  },
  {
   "cell_type": "code",
   "execution_count": 48,
   "metadata": {},
   "outputs": [],
   "source": [
    "non_nums = ['time', 'volume']\n",
    "num_cols = [x for x in df_raw.columns if x not in non_nums]\n",
    "df_raw[num_cols] = df_raw[num_cols].apply(pd.to_numeric)\n",
    "\n"
   ]
  },
  {
   "cell_type": "code",
   "execution_count": 49,
   "metadata": {},
   "outputs": [
    {
     "data": {
      "text/plain": [
       "Index(['Unnamed: 0', 'time', 'volume', 'bid_o', 'bid_h', 'bid_l', 'bid_c',\n",
       "       'mid_o', 'mid_h', 'mid_l', 'mid_c', 'ask_o', 'ask_h', 'ask_l', 'ask_c'],\n",
       "      dtype='object')"
      ]
     },
     "execution_count": 49,
     "metadata": {},
     "output_type": "execute_result"
    }
   ],
   "source": [
    "df_raw.columns"
   ]
  },
  {
   "cell_type": "code",
   "execution_count": 50,
   "metadata": {},
   "outputs": [],
   "source": [
    "df = df_raw[['time', 'mid_o', 'mid_h', 'mid_l', 'mid_c', 'ask_c']].copy()"
   ]
  },
  {
   "cell_type": "code",
   "execution_count": 51,
   "metadata": {},
   "outputs": [],
   "source": [
    "def direction(row):\n",
    "    \"\"\" Return price direction based on close vs open price i.e. if close higher, upwards (1)...\"\"\"\n",
    "    if row.mid_c > row.mid_o:\n",
    "        return 1\n",
    "    return -1"
   ]
  },
  {
   "cell_type": "code",
   "execution_count": 52,
   "metadata": {},
   "outputs": [],
   "source": [
    "def direction(row):\n",
    "    \"\"\" Return price direction based on close vs open price i.e. if close higher, upwards (1)...\"\"\"\n",
    "    if row.mid_c > row.mid_o:\n",
    "        return 1\n",
    "    return -1"
   ]
  },
  {
   "cell_type": "code",
   "execution_count": 53,
   "metadata": {},
   "outputs": [],
   "source": [
    "SLOSS = 0.4\n",
    "TPROFIT = 0.8\n",
    "ENTRY_PRC = 0.1\n",
    "\n",
    "def direction(row):\n",
    "    \"\"\" Return price direction based on close vs open price i.e. if close higher, upwards (1)...\"\"\"\n",
    "    if row.mid_c > row.mid_o:\n",
    "        return 1\n",
    "    return -1\n",
    "\n",
    "def get_signal(row):\n",
    "    \"\"\"  Identify encapsulation in previous candle and return direction.  Pass back zero if no encapsulation.  \n",
    "    1 = Buy, -1=Sell:  Buy if encapsulated in a previously upward candle...      \"\"\"\n",
    "    if row.mid_h_prev > row.mid_h and row.mid_l_prev > row.mid_l:\n",
    "        return row.DIRECTION_prev\n",
    "    return 0\n",
    "\n",
    "def get_entry_stop(row):\n",
    "    if row.SIGNAL == 1:\n",
    "        return (row.RANGE_prev * ENTRY_PRC) + row.ask_h_prev\n",
    "    elif row.SIGNAL == -1:\n",
    "        return row.bid_l_prev - (row.RANGE_prev * ENTRY_PRC)\n",
    "    else:\n",
    "        return 0\n",
    "    \n",
    "def get_stop_loss(row):\n",
    "    if row.SIGNAL == 1:\n",
    "        return row.ENTRY - (row.RANGE_prev * SLOSS)\n",
    "    if row.SIGNAL == -1:\n",
    "        return row.ENTRY + (row.RANGE_prev * SLOSS)\n",
    "    else:\n",
    "        return 0\n",
    "    \n",
    "def get_take_profit(row):\n",
    "    if row.SIGNAL == 1:\n",
    "        return row.ENTRY + (row.RANGE_prev * TPROFIT)\n",
    "    if row.SIGNAL == -1:\n",
    "        return row.ENTRY - (row.RANGE_prev * TPROFIT)\n",
    "    else:\n",
    "        return 0"
   ]
  },
  {
   "cell_type": "markdown",
   "metadata": {},
   "source": [
    "## Additional column capture/derivation.\n",
    "\n",
    "* The range of a candle is the difference between the high and low price.\n",
    "* To track whether the high and low and enclosed in previous candle, we need high and low values from previous.\n",
    "\n"
   ]
  },
  {
   "cell_type": "code",
   "execution_count": 54,
   "metadata": {},
   "outputs": [
    {
     "data": {
      "text/html": [
       "<div>\n",
       "<style scoped>\n",
       "    .dataframe tbody tr th:only-of-type {\n",
       "        vertical-align: middle;\n",
       "    }\n",
       "\n",
       "    .dataframe tbody tr th {\n",
       "        vertical-align: top;\n",
       "    }\n",
       "\n",
       "    .dataframe thead th {\n",
       "        text-align: right;\n",
       "    }\n",
       "</style>\n",
       "<table border=\"1\" class=\"dataframe\">\n",
       "  <thead>\n",
       "    <tr style=\"text-align: right;\">\n",
       "      <th></th>\n",
       "      <th>Unnamed: 0</th>\n",
       "      <th>time</th>\n",
       "      <th>volume</th>\n",
       "      <th>bid_o</th>\n",
       "      <th>bid_h</th>\n",
       "      <th>bid_l</th>\n",
       "      <th>bid_c</th>\n",
       "      <th>mid_o</th>\n",
       "      <th>mid_h</th>\n",
       "      <th>mid_l</th>\n",
       "      <th>...</th>\n",
       "      <th>ask_c</th>\n",
       "      <th>RANGE</th>\n",
       "      <th>mid_h_prev</th>\n",
       "      <th>mid_l_prev</th>\n",
       "      <th>ask_h_prev</th>\n",
       "      <th>bid_l_prev</th>\n",
       "      <th>RANGE_prev</th>\n",
       "      <th>DIRECTION</th>\n",
       "      <th>DIRECTION_prev</th>\n",
       "      <th>SIGNAL</th>\n",
       "    </tr>\n",
       "  </thead>\n",
       "  <tbody>\n",
       "    <tr>\n",
       "      <th>0</th>\n",
       "      <td>1</td>\n",
       "      <td>2020-01-01 22:05:00+00:00</td>\n",
       "      <td>28</td>\n",
       "      <td>144.039</td>\n",
       "      <td>144.048</td>\n",
       "      <td>144.020</td>\n",
       "      <td>144.030</td>\n",
       "      <td>144.114</td>\n",
       "      <td>144.118</td>\n",
       "      <td>144.084</td>\n",
       "      <td>...</td>\n",
       "      <td>144.139</td>\n",
       "      <td>0.034</td>\n",
       "      <td>144.212</td>\n",
       "      <td>144.102</td>\n",
       "      <td>144.287</td>\n",
       "      <td>144.031</td>\n",
       "      <td>0.110</td>\n",
       "      <td>-1</td>\n",
       "      <td>-1</td>\n",
       "      <td>-1</td>\n",
       "    </tr>\n",
       "    <tr>\n",
       "      <th>1</th>\n",
       "      <td>2</td>\n",
       "      <td>2020-01-01 22:10:00+00:00</td>\n",
       "      <td>55</td>\n",
       "      <td>144.030</td>\n",
       "      <td>144.032</td>\n",
       "      <td>143.769</td>\n",
       "      <td>144.025</td>\n",
       "      <td>144.080</td>\n",
       "      <td>144.105</td>\n",
       "      <td>143.844</td>\n",
       "      <td>...</td>\n",
       "      <td>144.115</td>\n",
       "      <td>0.261</td>\n",
       "      <td>144.118</td>\n",
       "      <td>144.084</td>\n",
       "      <td>144.188</td>\n",
       "      <td>144.020</td>\n",
       "      <td>0.034</td>\n",
       "      <td>-1</td>\n",
       "      <td>-1</td>\n",
       "      <td>-1</td>\n",
       "    </tr>\n",
       "    <tr>\n",
       "      <th>2</th>\n",
       "      <td>3</td>\n",
       "      <td>2020-01-01 22:15:00+00:00</td>\n",
       "      <td>96</td>\n",
       "      <td>144.029</td>\n",
       "      <td>144.034</td>\n",
       "      <td>143.861</td>\n",
       "      <td>143.917</td>\n",
       "      <td>144.074</td>\n",
       "      <td>144.079</td>\n",
       "      <td>143.936</td>\n",
       "      <td>...</td>\n",
       "      <td>144.067</td>\n",
       "      <td>0.143</td>\n",
       "      <td>144.105</td>\n",
       "      <td>143.844</td>\n",
       "      <td>144.180</td>\n",
       "      <td>143.769</td>\n",
       "      <td>0.261</td>\n",
       "      <td>-1</td>\n",
       "      <td>-1</td>\n",
       "      <td>0</td>\n",
       "    </tr>\n",
       "    <tr>\n",
       "      <th>3</th>\n",
       "      <td>4</td>\n",
       "      <td>2020-01-01 22:20:00+00:00</td>\n",
       "      <td>52</td>\n",
       "      <td>143.922</td>\n",
       "      <td>143.956</td>\n",
       "      <td>143.904</td>\n",
       "      <td>143.956</td>\n",
       "      <td>143.997</td>\n",
       "      <td>144.031</td>\n",
       "      <td>143.979</td>\n",
       "      <td>...</td>\n",
       "      <td>144.106</td>\n",
       "      <td>0.052</td>\n",
       "      <td>144.079</td>\n",
       "      <td>143.936</td>\n",
       "      <td>144.145</td>\n",
       "      <td>143.861</td>\n",
       "      <td>0.143</td>\n",
       "      <td>1</td>\n",
       "      <td>-1</td>\n",
       "      <td>0</td>\n",
       "    </tr>\n",
       "    <tr>\n",
       "      <th>4</th>\n",
       "      <td>5</td>\n",
       "      <td>2020-01-01 22:25:00+00:00</td>\n",
       "      <td>311</td>\n",
       "      <td>143.950</td>\n",
       "      <td>144.007</td>\n",
       "      <td>143.923</td>\n",
       "      <td>143.998</td>\n",
       "      <td>144.025</td>\n",
       "      <td>144.082</td>\n",
       "      <td>143.998</td>\n",
       "      <td>...</td>\n",
       "      <td>144.148</td>\n",
       "      <td>0.084</td>\n",
       "      <td>144.031</td>\n",
       "      <td>143.979</td>\n",
       "      <td>144.106</td>\n",
       "      <td>143.904</td>\n",
       "      <td>0.052</td>\n",
       "      <td>1</td>\n",
       "      <td>1</td>\n",
       "      <td>0</td>\n",
       "    </tr>\n",
       "  </tbody>\n",
       "</table>\n",
       "<p>5 rows × 24 columns</p>\n",
       "</div>"
      ],
      "text/plain": [
       "   Unnamed: 0                       time  volume    bid_o    bid_h    bid_l  \\\n",
       "0           1  2020-01-01 22:05:00+00:00      28  144.039  144.048  144.020   \n",
       "1           2  2020-01-01 22:10:00+00:00      55  144.030  144.032  143.769   \n",
       "2           3  2020-01-01 22:15:00+00:00      96  144.029  144.034  143.861   \n",
       "3           4  2020-01-01 22:20:00+00:00      52  143.922  143.956  143.904   \n",
       "4           5  2020-01-01 22:25:00+00:00     311  143.950  144.007  143.923   \n",
       "\n",
       "     bid_c    mid_o    mid_h    mid_l  ...    ask_c  RANGE  mid_h_prev  \\\n",
       "0  144.030  144.114  144.118  144.084  ...  144.139  0.034     144.212   \n",
       "1  144.025  144.080  144.105  143.844  ...  144.115  0.261     144.118   \n",
       "2  143.917  144.074  144.079  143.936  ...  144.067  0.143     144.105   \n",
       "3  143.956  143.997  144.031  143.979  ...  144.106  0.052     144.079   \n",
       "4  143.998  144.025  144.082  143.998  ...  144.148  0.084     144.031   \n",
       "\n",
       "   mid_l_prev  ask_h_prev  bid_l_prev  RANGE_prev  DIRECTION  DIRECTION_prev  \\\n",
       "0     144.102     144.287     144.031       0.110         -1              -1   \n",
       "1     144.084     144.188     144.020       0.034         -1              -1   \n",
       "2     143.844     144.180     143.769       0.261         -1              -1   \n",
       "3     143.936     144.145     143.861       0.143          1              -1   \n",
       "4     143.979     144.106     143.904       0.052          1               1   \n",
       "\n",
       "   SIGNAL  \n",
       "0      -1  \n",
       "1      -1  \n",
       "2       0  \n",
       "3       0  \n",
       "4       0  \n",
       "\n",
       "[5 rows x 24 columns]"
      ]
     },
     "execution_count": 54,
     "metadata": {},
     "output_type": "execute_result"
    }
   ],
   "source": [
    "#TODO:  Create a new dataframe/sheet to capture Data Dictionary and some metadata...\n",
    "\n",
    "df = df_raw.copy()\n",
    "df['RANGE'] = df.mid_h - df.mid_l\n",
    "df['mid_h_prev'] = df.mid_h.shift(1)\n",
    "df['mid_l_prev'] = df.mid_l.shift(1)\n",
    "df['ask_h_prev'] = df.ask_h.shift(1)\n",
    "df['bid_l_prev'] = df.bid_l.shift(1)\n",
    "df['RANGE_prev'] = df.RANGE.shift(1)\n",
    "df['DIRECTION'] = df.apply(direction, axis=1)\n",
    "df['DIRECTION_prev'] = df.DIRECTION.shift(1).fillna(0).astype(int)\n",
    "df.dropna(inplace=True)\n",
    "df['SIGNAL'] = df.apply(get_signal, axis=1)\n",
    "df.reset_index(drop=True, inplace=True)\n",
    "df.head()\n"
   ]
  },
  {
   "cell_type": "markdown",
   "metadata": {},
   "source": [
    "Capture how many rows in our dataframe, and count how many buy/sell signals we're getting."
   ]
  },
  {
   "cell_type": "code",
   "execution_count": 55,
   "metadata": {},
   "outputs": [
    {
     "name": "stdout",
     "output_type": "stream",
     "text": [
      "total number of rows:  224096\n"
     ]
    },
    {
     "data": {
      "text/html": [
       "<div>\n",
       "<style scoped>\n",
       "    .dataframe tbody tr th:only-of-type {\n",
       "        vertical-align: middle;\n",
       "    }\n",
       "\n",
       "    .dataframe tbody tr th {\n",
       "        vertical-align: top;\n",
       "    }\n",
       "\n",
       "    .dataframe thead th {\n",
       "        text-align: right;\n",
       "    }\n",
       "</style>\n",
       "<table border=\"1\" class=\"dataframe\">\n",
       "  <thead>\n",
       "    <tr style=\"text-align: right;\">\n",
       "      <th></th>\n",
       "      <th>Unnamed: 0</th>\n",
       "      <th>time</th>\n",
       "      <th>volume</th>\n",
       "      <th>bid_o</th>\n",
       "      <th>bid_h</th>\n",
       "      <th>bid_l</th>\n",
       "      <th>bid_c</th>\n",
       "      <th>mid_o</th>\n",
       "      <th>mid_h</th>\n",
       "      <th>mid_l</th>\n",
       "      <th>...</th>\n",
       "      <th>ask_l</th>\n",
       "      <th>ask_c</th>\n",
       "      <th>RANGE</th>\n",
       "      <th>mid_h_prev</th>\n",
       "      <th>mid_l_prev</th>\n",
       "      <th>ask_h_prev</th>\n",
       "      <th>bid_l_prev</th>\n",
       "      <th>RANGE_prev</th>\n",
       "      <th>DIRECTION</th>\n",
       "      <th>DIRECTION_prev</th>\n",
       "    </tr>\n",
       "    <tr>\n",
       "      <th>SIGNAL</th>\n",
       "      <th></th>\n",
       "      <th></th>\n",
       "      <th></th>\n",
       "      <th></th>\n",
       "      <th></th>\n",
       "      <th></th>\n",
       "      <th></th>\n",
       "      <th></th>\n",
       "      <th></th>\n",
       "      <th></th>\n",
       "      <th></th>\n",
       "      <th></th>\n",
       "      <th></th>\n",
       "      <th></th>\n",
       "      <th></th>\n",
       "      <th></th>\n",
       "      <th></th>\n",
       "      <th></th>\n",
       "      <th></th>\n",
       "      <th></th>\n",
       "      <th></th>\n",
       "    </tr>\n",
       "  </thead>\n",
       "  <tbody>\n",
       "    <tr>\n",
       "      <th>-1</th>\n",
       "      <td>59778</td>\n",
       "      <td>59778</td>\n",
       "      <td>59778</td>\n",
       "      <td>59778</td>\n",
       "      <td>59778</td>\n",
       "      <td>59778</td>\n",
       "      <td>59778</td>\n",
       "      <td>59778</td>\n",
       "      <td>59778</td>\n",
       "      <td>59778</td>\n",
       "      <td>...</td>\n",
       "      <td>59778</td>\n",
       "      <td>59778</td>\n",
       "      <td>59778</td>\n",
       "      <td>59778</td>\n",
       "      <td>59778</td>\n",
       "      <td>59778</td>\n",
       "      <td>59778</td>\n",
       "      <td>59778</td>\n",
       "      <td>59778</td>\n",
       "      <td>59778</td>\n",
       "    </tr>\n",
       "    <tr>\n",
       "      <th>0</th>\n",
       "      <td>143952</td>\n",
       "      <td>143952</td>\n",
       "      <td>143952</td>\n",
       "      <td>143952</td>\n",
       "      <td>143952</td>\n",
       "      <td>143952</td>\n",
       "      <td>143952</td>\n",
       "      <td>143952</td>\n",
       "      <td>143952</td>\n",
       "      <td>143952</td>\n",
       "      <td>...</td>\n",
       "      <td>143952</td>\n",
       "      <td>143952</td>\n",
       "      <td>143952</td>\n",
       "      <td>143952</td>\n",
       "      <td>143952</td>\n",
       "      <td>143952</td>\n",
       "      <td>143952</td>\n",
       "      <td>143952</td>\n",
       "      <td>143952</td>\n",
       "      <td>143952</td>\n",
       "    </tr>\n",
       "    <tr>\n",
       "      <th>1</th>\n",
       "      <td>20366</td>\n",
       "      <td>20366</td>\n",
       "      <td>20366</td>\n",
       "      <td>20366</td>\n",
       "      <td>20366</td>\n",
       "      <td>20366</td>\n",
       "      <td>20366</td>\n",
       "      <td>20366</td>\n",
       "      <td>20366</td>\n",
       "      <td>20366</td>\n",
       "      <td>...</td>\n",
       "      <td>20366</td>\n",
       "      <td>20366</td>\n",
       "      <td>20366</td>\n",
       "      <td>20366</td>\n",
       "      <td>20366</td>\n",
       "      <td>20366</td>\n",
       "      <td>20366</td>\n",
       "      <td>20366</td>\n",
       "      <td>20366</td>\n",
       "      <td>20366</td>\n",
       "    </tr>\n",
       "  </tbody>\n",
       "</table>\n",
       "<p>3 rows × 23 columns</p>\n",
       "</div>"
      ],
      "text/plain": [
       "        Unnamed: 0    time  volume   bid_o   bid_h   bid_l   bid_c   mid_o  \\\n",
       "SIGNAL                                                                       \n",
       "-1           59778   59778   59778   59778   59778   59778   59778   59778   \n",
       " 0          143952  143952  143952  143952  143952  143952  143952  143952   \n",
       " 1           20366   20366   20366   20366   20366   20366   20366   20366   \n",
       "\n",
       "         mid_h   mid_l  ...   ask_l   ask_c   RANGE  mid_h_prev  mid_l_prev  \\\n",
       "SIGNAL                  ...                                                   \n",
       "-1       59778   59778  ...   59778   59778   59778       59778       59778   \n",
       " 0      143952  143952  ...  143952  143952  143952      143952      143952   \n",
       " 1       20366   20366  ...   20366   20366   20366       20366       20366   \n",
       "\n",
       "        ask_h_prev  bid_l_prev  RANGE_prev  DIRECTION  DIRECTION_prev  \n",
       "SIGNAL                                                                 \n",
       "-1           59778       59778       59778      59778           59778  \n",
       " 0          143952      143952      143952     143952          143952  \n",
       " 1           20366       20366       20366      20366           20366  \n",
       "\n",
       "[3 rows x 23 columns]"
      ]
     },
     "execution_count": 55,
     "metadata": {},
     "output_type": "execute_result"
    }
   ],
   "source": [
    "print(f\"total number of rows:  {df.shape[0]}\")\n",
    "df.groupby(by=\"SIGNAL\").count()"
   ]
  },
  {
   "cell_type": "code",
   "execution_count": 56,
   "metadata": {},
   "outputs": [],
   "source": [
    "df['ENTRY'] = df.apply(get_entry_stop, axis=1)\n",
    "df['STOPLOSS'] = df.apply(get_stop_loss, axis=1)\n",
    "df['TAKEPROFIT'] = df.apply(get_take_profit, axis=1)\n",
    "\n",
    "df_plot = df.iloc[0:60]\n",
    "df_buys = df_plot[df_plot.SIGNAL == 1]\n",
    "df_sells = df_plot[df_plot.SIGNAL == -1]\n",
    "\n",
    "plot_cols = ['ENTRY', 'STOPLOSS', 'TAKEPROFIT']\n",
    "\n",
    "\n",
    "\n"
   ]
  },
  {
   "cell_type": "code",
   "execution_count": 57,
   "metadata": {},
   "outputs": [
    {
     "data": {
      "text/html": [
       "<div>\n",
       "<style scoped>\n",
       "    .dataframe tbody tr th:only-of-type {\n",
       "        vertical-align: middle;\n",
       "    }\n",
       "\n",
       "    .dataframe tbody tr th {\n",
       "        vertical-align: top;\n",
       "    }\n",
       "\n",
       "    .dataframe thead th {\n",
       "        text-align: right;\n",
       "    }\n",
       "</style>\n",
       "<table border=\"1\" class=\"dataframe\">\n",
       "  <thead>\n",
       "    <tr style=\"text-align: right;\">\n",
       "      <th></th>\n",
       "      <th>Unnamed: 0</th>\n",
       "      <th>time</th>\n",
       "      <th>volume</th>\n",
       "      <th>bid_o</th>\n",
       "      <th>bid_h</th>\n",
       "      <th>bid_l</th>\n",
       "      <th>bid_c</th>\n",
       "      <th>mid_o</th>\n",
       "      <th>mid_h</th>\n",
       "      <th>mid_l</th>\n",
       "      <th>...</th>\n",
       "      <th>mid_l_prev</th>\n",
       "      <th>ask_h_prev</th>\n",
       "      <th>bid_l_prev</th>\n",
       "      <th>RANGE_prev</th>\n",
       "      <th>DIRECTION</th>\n",
       "      <th>DIRECTION_prev</th>\n",
       "      <th>SIGNAL</th>\n",
       "      <th>ENTRY</th>\n",
       "      <th>STOPLOSS</th>\n",
       "      <th>TAKEPROFIT</th>\n",
       "    </tr>\n",
       "  </thead>\n",
       "  <tbody>\n",
       "    <tr>\n",
       "      <th>16</th>\n",
       "      <td>17</td>\n",
       "      <td>2020-01-01 23:25:00+00:00</td>\n",
       "      <td>71</td>\n",
       "      <td>144.042</td>\n",
       "      <td>144.053</td>\n",
       "      <td>144.022</td>\n",
       "      <td>144.046</td>\n",
       "      <td>144.068</td>\n",
       "      <td>144.076</td>\n",
       "      <td>144.046</td>\n",
       "      <td>...</td>\n",
       "      <td>144.058</td>\n",
       "      <td>144.117</td>\n",
       "      <td>144.033</td>\n",
       "      <td>0.032</td>\n",
       "      <td>-1</td>\n",
       "      <td>1</td>\n",
       "      <td>1</td>\n",
       "      <td>144.1202</td>\n",
       "      <td>144.1074</td>\n",
       "      <td>144.1458</td>\n",
       "    </tr>\n",
       "    <tr>\n",
       "      <th>28</th>\n",
       "      <td>29</td>\n",
       "      <td>2020-01-02 00:25:00+00:00</td>\n",
       "      <td>70</td>\n",
       "      <td>144.023</td>\n",
       "      <td>144.035</td>\n",
       "      <td>144.004</td>\n",
       "      <td>144.011</td>\n",
       "      <td>144.042</td>\n",
       "      <td>144.052</td>\n",
       "      <td>144.022</td>\n",
       "      <td>...</td>\n",
       "      <td>144.026</td>\n",
       "      <td>144.141</td>\n",
       "      <td>144.010</td>\n",
       "      <td>0.094</td>\n",
       "      <td>-1</td>\n",
       "      <td>1</td>\n",
       "      <td>1</td>\n",
       "      <td>144.1504</td>\n",
       "      <td>144.1128</td>\n",
       "      <td>144.2256</td>\n",
       "    </tr>\n",
       "    <tr>\n",
       "      <th>38</th>\n",
       "      <td>39</td>\n",
       "      <td>2020-01-02 01:15:00+00:00</td>\n",
       "      <td>127</td>\n",
       "      <td>144.129</td>\n",
       "      <td>144.132</td>\n",
       "      <td>144.096</td>\n",
       "      <td>144.100</td>\n",
       "      <td>144.152</td>\n",
       "      <td>144.152</td>\n",
       "      <td>144.114</td>\n",
       "      <td>...</td>\n",
       "      <td>144.118</td>\n",
       "      <td>144.203</td>\n",
       "      <td>144.103</td>\n",
       "      <td>0.069</td>\n",
       "      <td>-1</td>\n",
       "      <td>1</td>\n",
       "      <td>1</td>\n",
       "      <td>144.2099</td>\n",
       "      <td>144.1823</td>\n",
       "      <td>144.2651</td>\n",
       "    </tr>\n",
       "    <tr>\n",
       "      <th>41</th>\n",
       "      <td>42</td>\n",
       "      <td>2020-01-02 01:30:00+00:00</td>\n",
       "      <td>102</td>\n",
       "      <td>144.118</td>\n",
       "      <td>144.121</td>\n",
       "      <td>144.074</td>\n",
       "      <td>144.091</td>\n",
       "      <td>144.132</td>\n",
       "      <td>144.136</td>\n",
       "      <td>144.090</td>\n",
       "      <td>...</td>\n",
       "      <td>144.122</td>\n",
       "      <td>144.161</td>\n",
       "      <td>144.105</td>\n",
       "      <td>0.022</td>\n",
       "      <td>-1</td>\n",
       "      <td>1</td>\n",
       "      <td>1</td>\n",
       "      <td>144.1632</td>\n",
       "      <td>144.1544</td>\n",
       "      <td>144.1808</td>\n",
       "    </tr>\n",
       "    <tr>\n",
       "      <th>53</th>\n",
       "      <td>54</td>\n",
       "      <td>2020-01-02 02:30:00+00:00</td>\n",
       "      <td>57</td>\n",
       "      <td>143.940</td>\n",
       "      <td>143.941</td>\n",
       "      <td>143.915</td>\n",
       "      <td>143.926</td>\n",
       "      <td>143.954</td>\n",
       "      <td>143.956</td>\n",
       "      <td>143.932</td>\n",
       "      <td>...</td>\n",
       "      <td>143.942</td>\n",
       "      <td>143.994</td>\n",
       "      <td>143.929</td>\n",
       "      <td>0.038</td>\n",
       "      <td>-1</td>\n",
       "      <td>1</td>\n",
       "      <td>1</td>\n",
       "      <td>143.9978</td>\n",
       "      <td>143.9826</td>\n",
       "      <td>144.0282</td>\n",
       "    </tr>\n",
       "  </tbody>\n",
       "</table>\n",
       "<p>5 rows × 27 columns</p>\n",
       "</div>"
      ],
      "text/plain": [
       "    Unnamed: 0                       time  volume    bid_o    bid_h    bid_l  \\\n",
       "16          17  2020-01-01 23:25:00+00:00      71  144.042  144.053  144.022   \n",
       "28          29  2020-01-02 00:25:00+00:00      70  144.023  144.035  144.004   \n",
       "38          39  2020-01-02 01:15:00+00:00     127  144.129  144.132  144.096   \n",
       "41          42  2020-01-02 01:30:00+00:00     102  144.118  144.121  144.074   \n",
       "53          54  2020-01-02 02:30:00+00:00      57  143.940  143.941  143.915   \n",
       "\n",
       "      bid_c    mid_o    mid_h    mid_l  ...  mid_l_prev  ask_h_prev  \\\n",
       "16  144.046  144.068  144.076  144.046  ...     144.058     144.117   \n",
       "28  144.011  144.042  144.052  144.022  ...     144.026     144.141   \n",
       "38  144.100  144.152  144.152  144.114  ...     144.118     144.203   \n",
       "41  144.091  144.132  144.136  144.090  ...     144.122     144.161   \n",
       "53  143.926  143.954  143.956  143.932  ...     143.942     143.994   \n",
       "\n",
       "    bid_l_prev  RANGE_prev  DIRECTION  DIRECTION_prev  SIGNAL     ENTRY  \\\n",
       "16     144.033       0.032         -1               1       1  144.1202   \n",
       "28     144.010       0.094         -1               1       1  144.1504   \n",
       "38     144.103       0.069         -1               1       1  144.2099   \n",
       "41     144.105       0.022         -1               1       1  144.1632   \n",
       "53     143.929       0.038         -1               1       1  143.9978   \n",
       "\n",
       "    STOPLOSS  TAKEPROFIT  \n",
       "16  144.1074    144.1458  \n",
       "28  144.1128    144.2256  \n",
       "38  144.1823    144.2651  \n",
       "41  144.1544    144.1808  \n",
       "53  143.9826    144.0282  \n",
       "\n",
       "[5 rows x 27 columns]"
      ]
     },
     "execution_count": 57,
     "metadata": {},
     "output_type": "execute_result"
    }
   ],
   "source": [
    "df['ENTRY'] = df.apply(get_entry_stop, axis=1)\n",
    "df['STOPLOSS'] = df.apply(get_stop_loss, axis=1)\n",
    "df['TAKEPROFIT'] = df.apply(get_take_profit, axis=1)\n",
    "df[df.SIGNAL==1].head()\n"
   ]
  },
  {
   "cell_type": "code",
   "execution_count": 58,
   "metadata": {},
   "outputs": [
    {
     "name": "stdout",
     "output_type": "stream",
     "text": [
      "<class 'pandas.core.frame.DataFrame'>\n",
      "Int64Index: 5 entries, 16 to 53\n",
      "Data columns (total 27 columns):\n",
      " #   Column          Non-Null Count  Dtype  \n",
      "---  ------          --------------  -----  \n",
      " 0   Unnamed: 0      5 non-null      int64  \n",
      " 1   time            5 non-null      object \n",
      " 2   volume          5 non-null      int64  \n",
      " 3   bid_o           5 non-null      float64\n",
      " 4   bid_h           5 non-null      float64\n",
      " 5   bid_l           5 non-null      float64\n",
      " 6   bid_c           5 non-null      float64\n",
      " 7   mid_o           5 non-null      float64\n",
      " 8   mid_h           5 non-null      float64\n",
      " 9   mid_l           5 non-null      float64\n",
      " 10  mid_c           5 non-null      float64\n",
      " 11  ask_o           5 non-null      float64\n",
      " 12  ask_h           5 non-null      float64\n",
      " 13  ask_l           5 non-null      float64\n",
      " 14  ask_c           5 non-null      float64\n",
      " 15  RANGE           5 non-null      float64\n",
      " 16  mid_h_prev      5 non-null      float64\n",
      " 17  mid_l_prev      5 non-null      float64\n",
      " 18  ask_h_prev      5 non-null      float64\n",
      " 19  bid_l_prev      5 non-null      float64\n",
      " 20  RANGE_prev      5 non-null      float64\n",
      " 21  DIRECTION       5 non-null      int64  \n",
      " 22  DIRECTION_prev  5 non-null      int32  \n",
      " 23  SIGNAL          5 non-null      int64  \n",
      " 24  ENTRY           5 non-null      float64\n",
      " 25  STOPLOSS        5 non-null      float64\n",
      " 26  TAKEPROFIT      5 non-null      float64\n",
      "dtypes: float64(21), int32(1), int64(4), object(1)\n",
      "memory usage: 1.1+ KB\n"
     ]
    }
   ],
   "source": [
    "df_buys.info()\n"
   ]
  },
  {
   "cell_type": "code",
   "execution_count": 59,
   "metadata": {},
   "outputs": [],
   "source": [
    "class Trade():\n",
    "    def __init__(self, row):\n",
    "        self.candle_date = row.time\n",
    "        self.direction = row.SIGNAL\n",
    "        self.entry = row.ENTRY\n",
    "        self.TP = row.TAKEPROFIT\n",
    "        self.SL = row.STOPLOSS\n",
    "        self.running = False\n",
    "        self.result = None\n",
    "        self.stopped = None\n",
    "\n",
    "    def update(self, row):\n",
    "        if self.running == True:\n",
    "            self.update_result(row)\n",
    "        else:\n",
    "            self.check_entry(row)\n",
    "\n",
    "    def check_entry(self, row):\n",
    "        if self.direction == 1 and row.mid_c >= self.entry or self.direction == -1 and row.mid_c <= self.entry:\n",
    "            self.index = row.name\n",
    "            self.opened = row.time\n",
    "            self.running = True\n",
    "\n",
    "    def update_result(self, row):\n",
    "        if self.direction == 1:\n",
    "            if row.mid_c >= self.TP:\n",
    "                self.result = 2.0\n",
    "            elif row.mid_c <= self.SL:\n",
    "                self.result = -1.0\n",
    "        else:\n",
    "            if row.mid_c <= self.TP:\n",
    "                self.result = 2.0\n",
    "            elif row.mid_c >= self.SL:\n",
    "                self.result = -1.0\n",
    "\n",
    "        if self.result is not None:\n",
    "            self.running = False\n",
    "            self.stopped = row.time\n",
    "\n"
   ]
  },
  {
   "cell_type": "code",
   "execution_count": 60,
   "metadata": {},
   "outputs": [],
   "source": [
    "open_trades = []\n",
    "closed_trades = []\n",
    "\n",
    "for index, row in df.iterrows():\n",
    "    for ot in open_trades:\n",
    "        ot.update(row)\n",
    "        if ot.stopped is not None:\n",
    "            closed_trades.append(ot)\n",
    "\n",
    "    open_trades = [x for x in open_trades if x.stopped is None]\n",
    "\n",
    "    if row.SIGNAL != 0:\n",
    "        open_trades = [x for x in open_trades if x.running == True]\n",
    "        open_trades.append(Trade(row))\n",
    "\n",
    "\n",
    "    "
   ]
  },
  {
   "cell_type": "code",
   "execution_count": 61,
   "metadata": {},
   "outputs": [
    {
     "data": {
      "text/plain": [
       "32776"
      ]
     },
     "execution_count": 61,
     "metadata": {},
     "output_type": "execute_result"
    }
   ],
   "source": [
    "len(closed_trades)"
   ]
  },
  {
   "cell_type": "code",
   "execution_count": 62,
   "metadata": {},
   "outputs": [
    {
     "data": {
      "text/html": [
       "<div>\n",
       "<style scoped>\n",
       "    .dataframe tbody tr th:only-of-type {\n",
       "        vertical-align: middle;\n",
       "    }\n",
       "\n",
       "    .dataframe tbody tr th {\n",
       "        vertical-align: top;\n",
       "    }\n",
       "\n",
       "    .dataframe thead th {\n",
       "        text-align: right;\n",
       "    }\n",
       "</style>\n",
       "<table border=\"1\" class=\"dataframe\">\n",
       "  <thead>\n",
       "    <tr style=\"text-align: right;\">\n",
       "      <th></th>\n",
       "      <th>candle_date</th>\n",
       "      <th>direction</th>\n",
       "      <th>entry</th>\n",
       "      <th>TP</th>\n",
       "      <th>SL</th>\n",
       "      <th>running</th>\n",
       "      <th>result</th>\n",
       "      <th>stopped</th>\n",
       "      <th>index</th>\n",
       "      <th>opened</th>\n",
       "    </tr>\n",
       "  </thead>\n",
       "  <tbody>\n",
       "    <tr>\n",
       "      <th>0</th>\n",
       "      <td>2020-01-01 22:10:00+00:00</td>\n",
       "      <td>-1</td>\n",
       "      <td>144.0166</td>\n",
       "      <td>143.9894</td>\n",
       "      <td>144.0302</td>\n",
       "      <td>False</td>\n",
       "      <td>-1.0</td>\n",
       "      <td>2020-01-01 22:20:00+00:00</td>\n",
       "      <td>2</td>\n",
       "      <td>2020-01-01 22:15:00+00:00</td>\n",
       "    </tr>\n",
       "    <tr>\n",
       "      <th>1</th>\n",
       "      <td>2020-01-02 00:25:00+00:00</td>\n",
       "      <td>1</td>\n",
       "      <td>144.1504</td>\n",
       "      <td>144.2256</td>\n",
       "      <td>144.1128</td>\n",
       "      <td>False</td>\n",
       "      <td>-1.0</td>\n",
       "      <td>2020-01-02 01:30:00+00:00</td>\n",
       "      <td>35</td>\n",
       "      <td>2020-01-02 01:00:00+00:00</td>\n",
       "    </tr>\n",
       "    <tr>\n",
       "      <th>2</th>\n",
       "      <td>2020-01-02 01:40:00+00:00</td>\n",
       "      <td>-1</td>\n",
       "      <td>144.0595</td>\n",
       "      <td>144.0395</td>\n",
       "      <td>144.0695</td>\n",
       "      <td>False</td>\n",
       "      <td>2.0</td>\n",
       "      <td>2020-01-02 01:50:00+00:00</td>\n",
       "      <td>44</td>\n",
       "      <td>2020-01-02 01:45:00+00:00</td>\n",
       "    </tr>\n",
       "    <tr>\n",
       "      <th>3</th>\n",
       "      <td>2020-01-02 01:45:00+00:00</td>\n",
       "      <td>-1</td>\n",
       "      <td>144.0454</td>\n",
       "      <td>144.0166</td>\n",
       "      <td>144.0598</td>\n",
       "      <td>False</td>\n",
       "      <td>2.0</td>\n",
       "      <td>2020-01-02 02:10:00+00:00</td>\n",
       "      <td>45</td>\n",
       "      <td>2020-01-02 01:50:00+00:00</td>\n",
       "    </tr>\n",
       "    <tr>\n",
       "      <th>4</th>\n",
       "      <td>2020-01-02 02:05:00+00:00</td>\n",
       "      <td>-1</td>\n",
       "      <td>144.0090</td>\n",
       "      <td>143.9770</td>\n",
       "      <td>144.0250</td>\n",
       "      <td>False</td>\n",
       "      <td>2.0</td>\n",
       "      <td>2020-01-02 02:15:00+00:00</td>\n",
       "      <td>49</td>\n",
       "      <td>2020-01-02 02:10:00+00:00</td>\n",
       "    </tr>\n",
       "  </tbody>\n",
       "</table>\n",
       "</div>"
      ],
      "text/plain": [
       "                 candle_date  direction     entry        TP        SL  \\\n",
       "0  2020-01-01 22:10:00+00:00         -1  144.0166  143.9894  144.0302   \n",
       "1  2020-01-02 00:25:00+00:00          1  144.1504  144.2256  144.1128   \n",
       "2  2020-01-02 01:40:00+00:00         -1  144.0595  144.0395  144.0695   \n",
       "3  2020-01-02 01:45:00+00:00         -1  144.0454  144.0166  144.0598   \n",
       "4  2020-01-02 02:05:00+00:00         -1  144.0090  143.9770  144.0250   \n",
       "\n",
       "   running  result                    stopped  index  \\\n",
       "0    False    -1.0  2020-01-01 22:20:00+00:00      2   \n",
       "1    False    -1.0  2020-01-02 01:30:00+00:00     35   \n",
       "2    False     2.0  2020-01-02 01:50:00+00:00     44   \n",
       "3    False     2.0  2020-01-02 02:10:00+00:00     45   \n",
       "4    False     2.0  2020-01-02 02:15:00+00:00     49   \n",
       "\n",
       "                      opened  \n",
       "0  2020-01-01 22:15:00+00:00  \n",
       "1  2020-01-02 01:00:00+00:00  \n",
       "2  2020-01-02 01:45:00+00:00  \n",
       "3  2020-01-02 01:50:00+00:00  \n",
       "4  2020-01-02 02:10:00+00:00  "
      ]
     },
     "execution_count": 62,
     "metadata": {},
     "output_type": "execute_result"
    }
   ],
   "source": [
    "df_trades = pd.DataFrame.from_dict([vars(x) for x in closed_trades])\n",
    "df_trades.head()"
   ]
  },
  {
   "cell_type": "code",
   "execution_count": 63,
   "metadata": {},
   "outputs": [
    {
     "data": {
      "text/plain": [
       "27806.0"
      ]
     },
     "execution_count": 63,
     "metadata": {},
     "output_type": "execute_result"
    }
   ],
   "source": [
    "df_trades.result.sum()"
   ]
  },
  {
   "cell_type": "code",
   "execution_count": 64,
   "metadata": {},
   "outputs": [
    {
     "data": {
      "text/html": [
       "<div>\n",
       "<style scoped>\n",
       "    .dataframe tbody tr th:only-of-type {\n",
       "        vertical-align: middle;\n",
       "    }\n",
       "\n",
       "    .dataframe tbody tr th {\n",
       "        vertical-align: top;\n",
       "    }\n",
       "\n",
       "    .dataframe thead th {\n",
       "        text-align: right;\n",
       "    }\n",
       "</style>\n",
       "<table border=\"1\" class=\"dataframe\">\n",
       "  <thead>\n",
       "    <tr style=\"text-align: right;\">\n",
       "      <th></th>\n",
       "      <th>Unnamed: 0</th>\n",
       "      <th>time</th>\n",
       "      <th>volume</th>\n",
       "      <th>bid_o</th>\n",
       "      <th>bid_h</th>\n",
       "      <th>bid_l</th>\n",
       "      <th>bid_c</th>\n",
       "      <th>mid_o</th>\n",
       "      <th>mid_h</th>\n",
       "      <th>mid_l</th>\n",
       "      <th>...</th>\n",
       "      <th>mid_l_prev</th>\n",
       "      <th>ask_h_prev</th>\n",
       "      <th>bid_l_prev</th>\n",
       "      <th>RANGE_prev</th>\n",
       "      <th>DIRECTION</th>\n",
       "      <th>DIRECTION_prev</th>\n",
       "      <th>SIGNAL</th>\n",
       "      <th>ENTRY</th>\n",
       "      <th>STOPLOSS</th>\n",
       "      <th>TAKEPROFIT</th>\n",
       "    </tr>\n",
       "  </thead>\n",
       "  <tbody>\n",
       "    <tr>\n",
       "      <th>16</th>\n",
       "      <td>17</td>\n",
       "      <td>2020-01-01 23:25:00+00:00</td>\n",
       "      <td>71</td>\n",
       "      <td>144.042</td>\n",
       "      <td>144.053</td>\n",
       "      <td>144.022</td>\n",
       "      <td>144.046</td>\n",
       "      <td>144.068</td>\n",
       "      <td>144.076</td>\n",
       "      <td>144.046</td>\n",
       "      <td>...</td>\n",
       "      <td>144.058</td>\n",
       "      <td>144.117</td>\n",
       "      <td>144.033</td>\n",
       "      <td>0.032</td>\n",
       "      <td>-1</td>\n",
       "      <td>1</td>\n",
       "      <td>1</td>\n",
       "      <td>144.1202</td>\n",
       "      <td>144.1074</td>\n",
       "      <td>144.1458</td>\n",
       "    </tr>\n",
       "    <tr>\n",
       "      <th>28</th>\n",
       "      <td>29</td>\n",
       "      <td>2020-01-02 00:25:00+00:00</td>\n",
       "      <td>70</td>\n",
       "      <td>144.023</td>\n",
       "      <td>144.035</td>\n",
       "      <td>144.004</td>\n",
       "      <td>144.011</td>\n",
       "      <td>144.042</td>\n",
       "      <td>144.052</td>\n",
       "      <td>144.022</td>\n",
       "      <td>...</td>\n",
       "      <td>144.026</td>\n",
       "      <td>144.141</td>\n",
       "      <td>144.010</td>\n",
       "      <td>0.094</td>\n",
       "      <td>-1</td>\n",
       "      <td>1</td>\n",
       "      <td>1</td>\n",
       "      <td>144.1504</td>\n",
       "      <td>144.1128</td>\n",
       "      <td>144.2256</td>\n",
       "    </tr>\n",
       "    <tr>\n",
       "      <th>38</th>\n",
       "      <td>39</td>\n",
       "      <td>2020-01-02 01:15:00+00:00</td>\n",
       "      <td>127</td>\n",
       "      <td>144.129</td>\n",
       "      <td>144.132</td>\n",
       "      <td>144.096</td>\n",
       "      <td>144.100</td>\n",
       "      <td>144.152</td>\n",
       "      <td>144.152</td>\n",
       "      <td>144.114</td>\n",
       "      <td>...</td>\n",
       "      <td>144.118</td>\n",
       "      <td>144.203</td>\n",
       "      <td>144.103</td>\n",
       "      <td>0.069</td>\n",
       "      <td>-1</td>\n",
       "      <td>1</td>\n",
       "      <td>1</td>\n",
       "      <td>144.2099</td>\n",
       "      <td>144.1823</td>\n",
       "      <td>144.2651</td>\n",
       "    </tr>\n",
       "    <tr>\n",
       "      <th>41</th>\n",
       "      <td>42</td>\n",
       "      <td>2020-01-02 01:30:00+00:00</td>\n",
       "      <td>102</td>\n",
       "      <td>144.118</td>\n",
       "      <td>144.121</td>\n",
       "      <td>144.074</td>\n",
       "      <td>144.091</td>\n",
       "      <td>144.132</td>\n",
       "      <td>144.136</td>\n",
       "      <td>144.090</td>\n",
       "      <td>...</td>\n",
       "      <td>144.122</td>\n",
       "      <td>144.161</td>\n",
       "      <td>144.105</td>\n",
       "      <td>0.022</td>\n",
       "      <td>-1</td>\n",
       "      <td>1</td>\n",
       "      <td>1</td>\n",
       "      <td>144.1632</td>\n",
       "      <td>144.1544</td>\n",
       "      <td>144.1808</td>\n",
       "    </tr>\n",
       "    <tr>\n",
       "      <th>53</th>\n",
       "      <td>54</td>\n",
       "      <td>2020-01-02 02:30:00+00:00</td>\n",
       "      <td>57</td>\n",
       "      <td>143.940</td>\n",
       "      <td>143.941</td>\n",
       "      <td>143.915</td>\n",
       "      <td>143.926</td>\n",
       "      <td>143.954</td>\n",
       "      <td>143.956</td>\n",
       "      <td>143.932</td>\n",
       "      <td>...</td>\n",
       "      <td>143.942</td>\n",
       "      <td>143.994</td>\n",
       "      <td>143.929</td>\n",
       "      <td>0.038</td>\n",
       "      <td>-1</td>\n",
       "      <td>1</td>\n",
       "      <td>1</td>\n",
       "      <td>143.9978</td>\n",
       "      <td>143.9826</td>\n",
       "      <td>144.0282</td>\n",
       "    </tr>\n",
       "  </tbody>\n",
       "</table>\n",
       "<p>5 rows × 27 columns</p>\n",
       "</div>"
      ],
      "text/plain": [
       "    Unnamed: 0                       time  volume    bid_o    bid_h    bid_l  \\\n",
       "16          17  2020-01-01 23:25:00+00:00      71  144.042  144.053  144.022   \n",
       "28          29  2020-01-02 00:25:00+00:00      70  144.023  144.035  144.004   \n",
       "38          39  2020-01-02 01:15:00+00:00     127  144.129  144.132  144.096   \n",
       "41          42  2020-01-02 01:30:00+00:00     102  144.118  144.121  144.074   \n",
       "53          54  2020-01-02 02:30:00+00:00      57  143.940  143.941  143.915   \n",
       "\n",
       "      bid_c    mid_o    mid_h    mid_l  ...  mid_l_prev  ask_h_prev  \\\n",
       "16  144.046  144.068  144.076  144.046  ...     144.058     144.117   \n",
       "28  144.011  144.042  144.052  144.022  ...     144.026     144.141   \n",
       "38  144.100  144.152  144.152  144.114  ...     144.118     144.203   \n",
       "41  144.091  144.132  144.136  144.090  ...     144.122     144.161   \n",
       "53  143.926  143.954  143.956  143.932  ...     143.942     143.994   \n",
       "\n",
       "    bid_l_prev  RANGE_prev  DIRECTION  DIRECTION_prev  SIGNAL     ENTRY  \\\n",
       "16     144.033       0.032         -1               1       1  144.1202   \n",
       "28     144.010       0.094         -1               1       1  144.1504   \n",
       "38     144.103       0.069         -1               1       1  144.2099   \n",
       "41     144.105       0.022         -1               1       1  144.1632   \n",
       "53     143.929       0.038         -1               1       1  143.9978   \n",
       "\n",
       "    STOPLOSS  TAKEPROFIT  \n",
       "16  144.1074    144.1458  \n",
       "28  144.1128    144.2256  \n",
       "38  144.1823    144.2651  \n",
       "41  144.1544    144.1808  \n",
       "53  143.9826    144.0282  \n",
       "\n",
       "[5 rows x 27 columns]"
      ]
     },
     "execution_count": 64,
     "metadata": {},
     "output_type": "execute_result"
    }
   ],
   "source": [
    "df[df.SIGNAL==1].head()"
   ]
  },
  {
   "cell_type": "code",
   "execution_count": 65,
   "metadata": {},
   "outputs": [],
   "source": [
    "df[df.SIGNAL==1].to_csv(\"./Data/Pairs/USD_JPY_H4_trades.csv\")"
   ]
  },
  {
   "cell_type": "code",
   "execution_count": 68,
   "metadata": {},
   "outputs": [
    {
     "data": {
      "application/vnd.plotly.v1+json": {
       "config": {
        "plotlyServerURL": "https://plot.ly"
       },
       "data": [
        {
         "close": [
          144.084,
          144.07,
          143.992,
          144.031,
          144.073,
          144.086,
          144.032,
          144.034,
          144.041,
          144.032,
          144.036,
          143.984,
          144.058,
          144.058,
          144.06,
          144.065,
          144.066,
          144.07,
          144.055,
          144.024,
          144.054,
          144.038,
          144.066,
          144.026,
          144.072,
          144.041,
          144.036,
          144.04,
          144.028,
          144.051,
          144.072,
          144.097,
          144.104,
          144.148,
          144.114,
          144.192,
          144.136,
          144.154,
          144.118,
          144.124,
          144.134,
          144.108,
          144.098,
          144.076,
          144.055,
          144.022,
          144.057,
          144.044,
          144.022,
          144.002,
          143.945,
          143.946,
          143.952,
          143.942,
          143.958,
          143.975,
          144.007,
          144.008,
          143.99,
          143.996
         ],
         "decreasing": {
          "fillcolor": "#CC2E3C",
          "line": {
           "color": "#FF3A4C"
          }
         },
         "high": [
          144.118,
          144.105,
          144.079,
          144.031,
          144.082,
          144.091,
          144.091,
          144.041,
          144.047,
          144.041,
          144.06,
          144.05,
          144.058,
          144.095,
          144.064,
          144.09,
          144.076,
          144.074,
          144.074,
          144.054,
          144.056,
          144.057,
          144.072,
          144.084,
          144.074,
          144.074,
          144.045,
          144.12,
          144.052,
          144.07,
          144.079,
          144.102,
          144.11,
          144.19,
          144.146,
          144.194,
          144.19,
          144.187,
          144.152,
          144.132,
          144.144,
          144.136,
          144.106,
          144.102,
          144.076,
          144.074,
          144.057,
          144.07,
          144.048,
          144.036,
          144.004,
          143.949,
          143.98,
          143.956,
          143.969,
          143.985,
          144.007,
          144.03,
          144.01,
          144.005
         ],
         "increasing": {
          "fillcolor": "#24A06B",
          "line": {
           "color": "#2EC886"
          }
         },
         "line": {
          "width": 1
         },
         "low": [
          144.084,
          143.844,
          143.936,
          143.979,
          143.998,
          144.014,
          144.027,
          144.019,
          144.032,
          144.032,
          144.036,
          143.946,
          143.976,
          144.054,
          144.044,
          144.058,
          144.046,
          144.059,
          144.042,
          144.02,
          144.025,
          144.036,
          144.034,
          144.026,
          144.018,
          144.029,
          144.022,
          144.026,
          144.022,
          144.03,
          144.052,
          144.07,
          144.09,
          144.106,
          144.109,
          144.111,
          144.125,
          144.118,
          144.114,
          144.082,
          144.122,
          144.09,
          144.081,
          144.066,
          144.04,
          144.016,
          144.012,
          144.03,
          144.02,
          144,
          143.93,
          143.924,
          143.942,
          143.932,
          143.934,
          143.948,
          143.978,
          144.005,
          143.986,
          143.978
         ],
         "opacity": 1,
         "open": [
          144.114,
          144.08,
          144.074,
          143.997,
          144.025,
          144.078,
          144.091,
          144.036,
          144.038,
          144.037,
          144.038,
          144.04,
          143.982,
          144.06,
          144.054,
          144.063,
          144.068,
          144.068,
          144.072,
          144.052,
          144.026,
          144.052,
          144.036,
          144.063,
          144.028,
          144.074,
          144.038,
          144.034,
          144.042,
          144.03,
          144.053,
          144.074,
          144.095,
          144.106,
          144.146,
          144.116,
          144.19,
          144.138,
          144.152,
          144.116,
          144.126,
          144.132,
          144.105,
          144.096,
          144.074,
          144.058,
          144.024,
          144.055,
          144.046,
          144.024,
          144,
          143.942,
          143.944,
          143.954,
          143.94,
          143.96,
          143.978,
          144.009,
          144.006,
          143.992
         ],
         "type": "candlestick",
         "x": [
          "2020-01-01 22:05:00+00:00",
          "2020-01-01 22:10:00+00:00",
          "2020-01-01 22:15:00+00:00",
          "2020-01-01 22:20:00+00:00",
          "2020-01-01 22:25:00+00:00",
          "2020-01-01 22:30:00+00:00",
          "2020-01-01 22:35:00+00:00",
          "2020-01-01 22:40:00+00:00",
          "2020-01-01 22:45:00+00:00",
          "2020-01-01 22:50:00+00:00",
          "2020-01-01 22:55:00+00:00",
          "2020-01-01 23:00:00+00:00",
          "2020-01-01 23:05:00+00:00",
          "2020-01-01 23:10:00+00:00",
          "2020-01-01 23:15:00+00:00",
          "2020-01-01 23:20:00+00:00",
          "2020-01-01 23:25:00+00:00",
          "2020-01-01 23:30:00+00:00",
          "2020-01-01 23:35:00+00:00",
          "2020-01-01 23:40:00+00:00",
          "2020-01-01 23:45:00+00:00",
          "2020-01-01 23:50:00+00:00",
          "2020-01-01 23:55:00+00:00",
          "2020-01-02 00:00:00+00:00",
          "2020-01-02 00:05:00+00:00",
          "2020-01-02 00:10:00+00:00",
          "2020-01-02 00:15:00+00:00",
          "2020-01-02 00:20:00+00:00",
          "2020-01-02 00:25:00+00:00",
          "2020-01-02 00:30:00+00:00",
          "2020-01-02 00:35:00+00:00",
          "2020-01-02 00:40:00+00:00",
          "2020-01-02 00:45:00+00:00",
          "2020-01-02 00:50:00+00:00",
          "2020-01-02 00:55:00+00:00",
          "2020-01-02 01:00:00+00:00",
          "2020-01-02 01:05:00+00:00",
          "2020-01-02 01:10:00+00:00",
          "2020-01-02 01:15:00+00:00",
          "2020-01-02 01:20:00+00:00",
          "2020-01-02 01:25:00+00:00",
          "2020-01-02 01:30:00+00:00",
          "2020-01-02 01:35:00+00:00",
          "2020-01-02 01:40:00+00:00",
          "2020-01-02 01:45:00+00:00",
          "2020-01-02 01:50:00+00:00",
          "2020-01-02 01:55:00+00:00",
          "2020-01-02 02:00:00+00:00",
          "2020-01-02 02:05:00+00:00",
          "2020-01-02 02:10:00+00:00",
          "2020-01-02 02:15:00+00:00",
          "2020-01-02 02:20:00+00:00",
          "2020-01-02 02:25:00+00:00",
          "2020-01-02 02:30:00+00:00",
          "2020-01-02 02:35:00+00:00",
          "2020-01-02 02:40:00+00:00",
          "2020-01-02 02:45:00+00:00",
          "2020-01-02 02:50:00+00:00",
          "2020-01-02 02:55:00+00:00",
          "2020-01-02 03:00:00+00:00"
         ]
        },
        {
         "marker": {
          "color": "#043ef9",
          "size": 12
         },
         "mode": "markers",
         "name": "Buy ENTRY",
         "type": "scatter",
         "x": [
          "2020-01-01 23:25:00+00:00",
          "2020-01-02 00:25:00+00:00",
          "2020-01-02 01:15:00+00:00",
          "2020-01-02 01:30:00+00:00",
          "2020-01-02 02:30:00+00:00"
         ],
         "y": [
          144.12019999999998,
          144.1504,
          144.2099,
          144.1632,
          143.99779999999998
         ]
        },
        {
         "marker": {
          "color": "#eb5334",
          "size": 12
         },
         "mode": "markers",
         "name": "Buy STOPLOSS",
         "type": "scatter",
         "x": [
          "2020-01-01 23:25:00+00:00",
          "2020-01-02 00:25:00+00:00",
          "2020-01-02 01:15:00+00:00",
          "2020-01-02 01:30:00+00:00",
          "2020-01-02 02:30:00+00:00"
         ],
         "y": [
          144.10739999999998,
          144.1128,
          144.1823,
          144.15439999999998,
          143.9826
         ]
        },
        {
         "marker": {
          "color": "#34eb37",
          "size": 12
         },
         "mode": "markers",
         "name": "Buy TAKEPROFIT",
         "type": "scatter",
         "x": [
          "2020-01-01 23:25:00+00:00",
          "2020-01-02 00:25:00+00:00",
          "2020-01-02 01:15:00+00:00",
          "2020-01-02 01:30:00+00:00",
          "2020-01-02 02:30:00+00:00"
         ],
         "y": [
          144.14579999999998,
          144.2256,
          144.26510000000002,
          144.18079999999998,
          144.02819999999997
         ]
        },
        {
         "marker": {
          "color": "white",
          "size": 12
         },
         "mode": "markers",
         "name": "Sell ENTRY",
         "type": "scatter",
         "x": [
          "2020-01-01 22:05:00+00:00",
          "2020-01-01 22:10:00+00:00",
          "2020-01-01 22:40:00+00:00",
          "2020-01-01 23:00:00+00:00",
          "2020-01-01 23:15:00+00:00",
          "2020-01-01 23:40:00+00:00",
          "2020-01-02 00:05:00+00:00",
          "2020-01-02 00:15:00+00:00",
          "2020-01-02 01:10:00+00:00",
          "2020-01-02 01:20:00+00:00",
          "2020-01-02 01:35:00+00:00",
          "2020-01-02 01:40:00+00:00",
          "2020-01-02 01:45:00+00:00",
          "2020-01-02 01:50:00+00:00",
          "2020-01-02 01:55:00+00:00",
          "2020-01-02 02:05:00+00:00",
          "2020-01-02 02:10:00+00:00",
          "2020-01-02 02:15:00+00:00",
          "2020-01-02 02:20:00+00:00",
          "2020-01-02 02:55:00+00:00",
          "2020-01-02 03:00:00+00:00"
         ],
         "y": [
          144.02,
          144.0166,
          143.94559999999998,
          143.95860000000002,
          144.0309,
          144.00480000000002,
          144.00220000000002,
          144.0075,
          144.0995,
          144.0922,
          144.0694,
          144.0595,
          144.0454,
          144.0194,
          143.9922,
          144.00900000000001,
          143.9992,
          143.9814,
          143.9066,
          143.98850000000002,
          143.9676
         ]
        },
        {
         "marker": {
          "color": "red",
          "size": 12
         },
         "mode": "markers",
         "name": "Sell STOPLOSS",
         "type": "scatter",
         "x": [
          "2020-01-01 22:05:00+00:00",
          "2020-01-01 22:10:00+00:00",
          "2020-01-01 22:40:00+00:00",
          "2020-01-01 23:00:00+00:00",
          "2020-01-01 23:15:00+00:00",
          "2020-01-01 23:40:00+00:00",
          "2020-01-02 00:05:00+00:00",
          "2020-01-02 00:15:00+00:00",
          "2020-01-02 01:10:00+00:00",
          "2020-01-02 01:20:00+00:00",
          "2020-01-02 01:35:00+00:00",
          "2020-01-02 01:40:00+00:00",
          "2020-01-02 01:45:00+00:00",
          "2020-01-02 01:50:00+00:00",
          "2020-01-02 01:55:00+00:00",
          "2020-01-02 02:05:00+00:00",
          "2020-01-02 02:10:00+00:00",
          "2020-01-02 02:15:00+00:00",
          "2020-01-02 02:20:00+00:00",
          "2020-01-02 02:55:00+00:00",
          "2020-01-02 03:00:00+00:00"
         ],
         "y": [
          144.064,
          144.0302,
          143.97119999999998,
          143.96820000000002,
          144.0473,
          144.01760000000002,
          144.02540000000002,
          144.0255,
          144.12550000000002,
          144.10739999999998,
          144.0878,
          144.0695,
          144.0598,
          144.03379999999999,
          144.0154,
          144.025,
          144.0104,
          143.9958,
          143.93619999999999,
          143.9985,
          143.9772
         ]
        },
        {
         "marker": {
          "color": "yellow",
          "size": 12
         },
         "mode": "markers",
         "name": "Sell TAKEPROFIT",
         "type": "scatter",
         "x": [
          "2020-01-01 22:05:00+00:00",
          "2020-01-01 22:10:00+00:00",
          "2020-01-01 22:40:00+00:00",
          "2020-01-01 23:00:00+00:00",
          "2020-01-01 23:15:00+00:00",
          "2020-01-01 23:40:00+00:00",
          "2020-01-02 00:05:00+00:00",
          "2020-01-02 00:15:00+00:00",
          "2020-01-02 01:10:00+00:00",
          "2020-01-02 01:20:00+00:00",
          "2020-01-02 01:35:00+00:00",
          "2020-01-02 01:40:00+00:00",
          "2020-01-02 01:45:00+00:00",
          "2020-01-02 01:50:00+00:00",
          "2020-01-02 01:55:00+00:00",
          "2020-01-02 02:05:00+00:00",
          "2020-01-02 02:10:00+00:00",
          "2020-01-02 02:15:00+00:00",
          "2020-01-02 02:20:00+00:00",
          "2020-01-02 02:55:00+00:00",
          "2020-01-02 03:00:00+00:00"
         ],
         "y": [
          143.93200000000002,
          143.98940000000002,
          143.89439999999996,
          143.9394,
          143.9981,
          143.97920000000002,
          143.9558,
          143.9715,
          144.0475,
          144.0618,
          144.0326,
          144.0395,
          144.0166,
          143.9906,
          143.9458,
          143.97700000000003,
          143.9768,
          143.95260000000002,
          143.84740000000002,
          143.9685,
          143.9484
         ]
        }
       ],
       "layout": {
        "font": {
         "color": "#e1e1e1",
         "size": 10
        },
        "height": 400,
        "margin": {
         "b": 10,
         "l": 10,
         "r": 10,
         "t": 30
        },
        "paper_bgcolor": "#1e1e1e",
        "plot_bgcolor": "#1e1e1e",
        "template": {
         "data": {
          "bar": [
           {
            "error_x": {
             "color": "#2a3f5f"
            },
            "error_y": {
             "color": "#2a3f5f"
            },
            "marker": {
             "line": {
              "color": "#E5ECF6",
              "width": 0.5
             },
             "pattern": {
              "fillmode": "overlay",
              "size": 10,
              "solidity": 0.2
             }
            },
            "type": "bar"
           }
          ],
          "barpolar": [
           {
            "marker": {
             "line": {
              "color": "#E5ECF6",
              "width": 0.5
             },
             "pattern": {
              "fillmode": "overlay",
              "size": 10,
              "solidity": 0.2
             }
            },
            "type": "barpolar"
           }
          ],
          "carpet": [
           {
            "aaxis": {
             "endlinecolor": "#2a3f5f",
             "gridcolor": "white",
             "linecolor": "white",
             "minorgridcolor": "white",
             "startlinecolor": "#2a3f5f"
            },
            "baxis": {
             "endlinecolor": "#2a3f5f",
             "gridcolor": "white",
             "linecolor": "white",
             "minorgridcolor": "white",
             "startlinecolor": "#2a3f5f"
            },
            "type": "carpet"
           }
          ],
          "choropleth": [
           {
            "colorbar": {
             "outlinewidth": 0,
             "ticks": ""
            },
            "type": "choropleth"
           }
          ],
          "contour": [
           {
            "colorbar": {
             "outlinewidth": 0,
             "ticks": ""
            },
            "colorscale": [
             [
              0,
              "#0d0887"
             ],
             [
              0.1111111111111111,
              "#46039f"
             ],
             [
              0.2222222222222222,
              "#7201a8"
             ],
             [
              0.3333333333333333,
              "#9c179e"
             ],
             [
              0.4444444444444444,
              "#bd3786"
             ],
             [
              0.5555555555555556,
              "#d8576b"
             ],
             [
              0.6666666666666666,
              "#ed7953"
             ],
             [
              0.7777777777777778,
              "#fb9f3a"
             ],
             [
              0.8888888888888888,
              "#fdca26"
             ],
             [
              1,
              "#f0f921"
             ]
            ],
            "type": "contour"
           }
          ],
          "contourcarpet": [
           {
            "colorbar": {
             "outlinewidth": 0,
             "ticks": ""
            },
            "type": "contourcarpet"
           }
          ],
          "heatmap": [
           {
            "colorbar": {
             "outlinewidth": 0,
             "ticks": ""
            },
            "colorscale": [
             [
              0,
              "#0d0887"
             ],
             [
              0.1111111111111111,
              "#46039f"
             ],
             [
              0.2222222222222222,
              "#7201a8"
             ],
             [
              0.3333333333333333,
              "#9c179e"
             ],
             [
              0.4444444444444444,
              "#bd3786"
             ],
             [
              0.5555555555555556,
              "#d8576b"
             ],
             [
              0.6666666666666666,
              "#ed7953"
             ],
             [
              0.7777777777777778,
              "#fb9f3a"
             ],
             [
              0.8888888888888888,
              "#fdca26"
             ],
             [
              1,
              "#f0f921"
             ]
            ],
            "type": "heatmap"
           }
          ],
          "heatmapgl": [
           {
            "colorbar": {
             "outlinewidth": 0,
             "ticks": ""
            },
            "colorscale": [
             [
              0,
              "#0d0887"
             ],
             [
              0.1111111111111111,
              "#46039f"
             ],
             [
              0.2222222222222222,
              "#7201a8"
             ],
             [
              0.3333333333333333,
              "#9c179e"
             ],
             [
              0.4444444444444444,
              "#bd3786"
             ],
             [
              0.5555555555555556,
              "#d8576b"
             ],
             [
              0.6666666666666666,
              "#ed7953"
             ],
             [
              0.7777777777777778,
              "#fb9f3a"
             ],
             [
              0.8888888888888888,
              "#fdca26"
             ],
             [
              1,
              "#f0f921"
             ]
            ],
            "type": "heatmapgl"
           }
          ],
          "histogram": [
           {
            "marker": {
             "pattern": {
              "fillmode": "overlay",
              "size": 10,
              "solidity": 0.2
             }
            },
            "type": "histogram"
           }
          ],
          "histogram2d": [
           {
            "colorbar": {
             "outlinewidth": 0,
             "ticks": ""
            },
            "colorscale": [
             [
              0,
              "#0d0887"
             ],
             [
              0.1111111111111111,
              "#46039f"
             ],
             [
              0.2222222222222222,
              "#7201a8"
             ],
             [
              0.3333333333333333,
              "#9c179e"
             ],
             [
              0.4444444444444444,
              "#bd3786"
             ],
             [
              0.5555555555555556,
              "#d8576b"
             ],
             [
              0.6666666666666666,
              "#ed7953"
             ],
             [
              0.7777777777777778,
              "#fb9f3a"
             ],
             [
              0.8888888888888888,
              "#fdca26"
             ],
             [
              1,
              "#f0f921"
             ]
            ],
            "type": "histogram2d"
           }
          ],
          "histogram2dcontour": [
           {
            "colorbar": {
             "outlinewidth": 0,
             "ticks": ""
            },
            "colorscale": [
             [
              0,
              "#0d0887"
             ],
             [
              0.1111111111111111,
              "#46039f"
             ],
             [
              0.2222222222222222,
              "#7201a8"
             ],
             [
              0.3333333333333333,
              "#9c179e"
             ],
             [
              0.4444444444444444,
              "#bd3786"
             ],
             [
              0.5555555555555556,
              "#d8576b"
             ],
             [
              0.6666666666666666,
              "#ed7953"
             ],
             [
              0.7777777777777778,
              "#fb9f3a"
             ],
             [
              0.8888888888888888,
              "#fdca26"
             ],
             [
              1,
              "#f0f921"
             ]
            ],
            "type": "histogram2dcontour"
           }
          ],
          "mesh3d": [
           {
            "colorbar": {
             "outlinewidth": 0,
             "ticks": ""
            },
            "type": "mesh3d"
           }
          ],
          "parcoords": [
           {
            "line": {
             "colorbar": {
              "outlinewidth": 0,
              "ticks": ""
             }
            },
            "type": "parcoords"
           }
          ],
          "pie": [
           {
            "automargin": true,
            "type": "pie"
           }
          ],
          "scatter": [
           {
            "fillpattern": {
             "fillmode": "overlay",
             "size": 10,
             "solidity": 0.2
            },
            "type": "scatter"
           }
          ],
          "scatter3d": [
           {
            "line": {
             "colorbar": {
              "outlinewidth": 0,
              "ticks": ""
             }
            },
            "marker": {
             "colorbar": {
              "outlinewidth": 0,
              "ticks": ""
             }
            },
            "type": "scatter3d"
           }
          ],
          "scattercarpet": [
           {
            "marker": {
             "colorbar": {
              "outlinewidth": 0,
              "ticks": ""
             }
            },
            "type": "scattercarpet"
           }
          ],
          "scattergeo": [
           {
            "marker": {
             "colorbar": {
              "outlinewidth": 0,
              "ticks": ""
             }
            },
            "type": "scattergeo"
           }
          ],
          "scattergl": [
           {
            "marker": {
             "colorbar": {
              "outlinewidth": 0,
              "ticks": ""
             }
            },
            "type": "scattergl"
           }
          ],
          "scattermapbox": [
           {
            "marker": {
             "colorbar": {
              "outlinewidth": 0,
              "ticks": ""
             }
            },
            "type": "scattermapbox"
           }
          ],
          "scatterpolar": [
           {
            "marker": {
             "colorbar": {
              "outlinewidth": 0,
              "ticks": ""
             }
            },
            "type": "scatterpolar"
           }
          ],
          "scatterpolargl": [
           {
            "marker": {
             "colorbar": {
              "outlinewidth": 0,
              "ticks": ""
             }
            },
            "type": "scatterpolargl"
           }
          ],
          "scatterternary": [
           {
            "marker": {
             "colorbar": {
              "outlinewidth": 0,
              "ticks": ""
             }
            },
            "type": "scatterternary"
           }
          ],
          "surface": [
           {
            "colorbar": {
             "outlinewidth": 0,
             "ticks": ""
            },
            "colorscale": [
             [
              0,
              "#0d0887"
             ],
             [
              0.1111111111111111,
              "#46039f"
             ],
             [
              0.2222222222222222,
              "#7201a8"
             ],
             [
              0.3333333333333333,
              "#9c179e"
             ],
             [
              0.4444444444444444,
              "#bd3786"
             ],
             [
              0.5555555555555556,
              "#d8576b"
             ],
             [
              0.6666666666666666,
              "#ed7953"
             ],
             [
              0.7777777777777778,
              "#fb9f3a"
             ],
             [
              0.8888888888888888,
              "#fdca26"
             ],
             [
              1,
              "#f0f921"
             ]
            ],
            "type": "surface"
           }
          ],
          "table": [
           {
            "cells": {
             "fill": {
              "color": "#EBF0F8"
             },
             "line": {
              "color": "white"
             }
            },
            "header": {
             "fill": {
              "color": "#C8D4E3"
             },
             "line": {
              "color": "white"
             }
            },
            "type": "table"
           }
          ]
         },
         "layout": {
          "annotationdefaults": {
           "arrowcolor": "#2a3f5f",
           "arrowhead": 0,
           "arrowwidth": 1
          },
          "autotypenumbers": "strict",
          "coloraxis": {
           "colorbar": {
            "outlinewidth": 0,
            "ticks": ""
           }
          },
          "colorscale": {
           "diverging": [
            [
             0,
             "#8e0152"
            ],
            [
             0.1,
             "#c51b7d"
            ],
            [
             0.2,
             "#de77ae"
            ],
            [
             0.3,
             "#f1b6da"
            ],
            [
             0.4,
             "#fde0ef"
            ],
            [
             0.5,
             "#f7f7f7"
            ],
            [
             0.6,
             "#e6f5d0"
            ],
            [
             0.7,
             "#b8e186"
            ],
            [
             0.8,
             "#7fbc41"
            ],
            [
             0.9,
             "#4d9221"
            ],
            [
             1,
             "#276419"
            ]
           ],
           "sequential": [
            [
             0,
             "#0d0887"
            ],
            [
             0.1111111111111111,
             "#46039f"
            ],
            [
             0.2222222222222222,
             "#7201a8"
            ],
            [
             0.3333333333333333,
             "#9c179e"
            ],
            [
             0.4444444444444444,
             "#bd3786"
            ],
            [
             0.5555555555555556,
             "#d8576b"
            ],
            [
             0.6666666666666666,
             "#ed7953"
            ],
            [
             0.7777777777777778,
             "#fb9f3a"
            ],
            [
             0.8888888888888888,
             "#fdca26"
            ],
            [
             1,
             "#f0f921"
            ]
           ],
           "sequentialminus": [
            [
             0,
             "#0d0887"
            ],
            [
             0.1111111111111111,
             "#46039f"
            ],
            [
             0.2222222222222222,
             "#7201a8"
            ],
            [
             0.3333333333333333,
             "#9c179e"
            ],
            [
             0.4444444444444444,
             "#bd3786"
            ],
            [
             0.5555555555555556,
             "#d8576b"
            ],
            [
             0.6666666666666666,
             "#ed7953"
            ],
            [
             0.7777777777777778,
             "#fb9f3a"
            ],
            [
             0.8888888888888888,
             "#fdca26"
            ],
            [
             1,
             "#f0f921"
            ]
           ]
          },
          "colorway": [
           "#636efa",
           "#EF553B",
           "#00cc96",
           "#ab63fa",
           "#FFA15A",
           "#19d3f3",
           "#FF6692",
           "#B6E880",
           "#FF97FF",
           "#FECB52"
          ],
          "font": {
           "color": "#2a3f5f"
          },
          "geo": {
           "bgcolor": "white",
           "lakecolor": "white",
           "landcolor": "#E5ECF6",
           "showlakes": true,
           "showland": true,
           "subunitcolor": "white"
          },
          "hoverlabel": {
           "align": "left"
          },
          "hovermode": "closest",
          "mapbox": {
           "style": "light"
          },
          "paper_bgcolor": "white",
          "plot_bgcolor": "#E5ECF6",
          "polar": {
           "angularaxis": {
            "gridcolor": "white",
            "linecolor": "white",
            "ticks": ""
           },
           "bgcolor": "#E5ECF6",
           "radialaxis": {
            "gridcolor": "white",
            "linecolor": "white",
            "ticks": ""
           }
          },
          "scene": {
           "xaxis": {
            "backgroundcolor": "#E5ECF6",
            "gridcolor": "white",
            "gridwidth": 2,
            "linecolor": "white",
            "showbackground": true,
            "ticks": "",
            "zerolinecolor": "white"
           },
           "yaxis": {
            "backgroundcolor": "#E5ECF6",
            "gridcolor": "white",
            "gridwidth": 2,
            "linecolor": "white",
            "showbackground": true,
            "ticks": "",
            "zerolinecolor": "white"
           },
           "zaxis": {
            "backgroundcolor": "#E5ECF6",
            "gridcolor": "white",
            "gridwidth": 2,
            "linecolor": "white",
            "showbackground": true,
            "ticks": "",
            "zerolinecolor": "white"
           }
          },
          "shapedefaults": {
           "line": {
            "color": "#2a3f5f"
           }
          },
          "ternary": {
           "aaxis": {
            "gridcolor": "white",
            "linecolor": "white",
            "ticks": ""
           },
           "baxis": {
            "gridcolor": "white",
            "linecolor": "white",
            "ticks": ""
           },
           "bgcolor": "#E5ECF6",
           "caxis": {
            "gridcolor": "white",
            "linecolor": "white",
            "ticks": ""
           }
          },
          "title": {
           "x": 0.05
          },
          "xaxis": {
           "automargin": true,
           "gridcolor": "white",
           "linecolor": "white",
           "ticks": "",
           "title": {
            "standoff": 15
           },
           "zerolinecolor": "white",
           "zerolinewidth": 2
          },
          "yaxis": {
           "automargin": true,
           "gridcolor": "white",
           "linecolor": "white",
           "ticks": "",
           "title": {
            "standoff": 15
           },
           "zerolinecolor": "white",
           "zerolinewidth": 2
          }
         }
        },
        "title": {
         "text": "Buy/Sell markers Chart"
        },
        "width": 1000,
        "xaxis": {
         "fixedrange": true,
         "gridcolor": "#1f292f",
         "rangebreaks": [
          {
           "bounds": [
            "sat",
            "mon"
           ]
          }
         ],
         "rangeslider": {
          "visible": false
         },
         "showgrid": true
        },
        "yaxis": {
         "gridcolor": "#1f292f",
         "showgrid": true
        }
       }
      }
     },
     "metadata": {},
     "output_type": "display_data"
    }
   ],
   "source": [
    "plot_candles_mode(df_plot, \"markers\")"
   ]
  },
  {
   "cell_type": "code",
   "execution_count": 67,
   "metadata": {},
   "outputs": [
    {
     "data": {
      "application/vnd.plotly.v1+json": {
       "config": {
        "plotlyServerURL": "https://plot.ly"
       },
       "data": [
        {
         "close": [
          144.084,
          144.07,
          143.992,
          144.031,
          144.073,
          144.086,
          144.032,
          144.034,
          144.041,
          144.032,
          144.036,
          143.984,
          144.058,
          144.058,
          144.06,
          144.065,
          144.066,
          144.07,
          144.055,
          144.024,
          144.054,
          144.038,
          144.066,
          144.026,
          144.072,
          144.041,
          144.036,
          144.04,
          144.028,
          144.051,
          144.072,
          144.097,
          144.104,
          144.148,
          144.114,
          144.192,
          144.136,
          144.154,
          144.118,
          144.124,
          144.134,
          144.108,
          144.098,
          144.076,
          144.055,
          144.022,
          144.057,
          144.044,
          144.022,
          144.002,
          143.945,
          143.946,
          143.952,
          143.942,
          143.958,
          143.975,
          144.007,
          144.008,
          143.99,
          143.996
         ],
         "decreasing": {
          "fillcolor": "#CC2E3C",
          "line": {
           "color": "#FF3A4C"
          }
         },
         "high": [
          144.118,
          144.105,
          144.079,
          144.031,
          144.082,
          144.091,
          144.091,
          144.041,
          144.047,
          144.041,
          144.06,
          144.05,
          144.058,
          144.095,
          144.064,
          144.09,
          144.076,
          144.074,
          144.074,
          144.054,
          144.056,
          144.057,
          144.072,
          144.084,
          144.074,
          144.074,
          144.045,
          144.12,
          144.052,
          144.07,
          144.079,
          144.102,
          144.11,
          144.19,
          144.146,
          144.194,
          144.19,
          144.187,
          144.152,
          144.132,
          144.144,
          144.136,
          144.106,
          144.102,
          144.076,
          144.074,
          144.057,
          144.07,
          144.048,
          144.036,
          144.004,
          143.949,
          143.98,
          143.956,
          143.969,
          143.985,
          144.007,
          144.03,
          144.01,
          144.005
         ],
         "increasing": {
          "fillcolor": "#24A06B",
          "line": {
           "color": "#2EC886"
          }
         },
         "line": {
          "width": 1
         },
         "low": [
          144.084,
          143.844,
          143.936,
          143.979,
          143.998,
          144.014,
          144.027,
          144.019,
          144.032,
          144.032,
          144.036,
          143.946,
          143.976,
          144.054,
          144.044,
          144.058,
          144.046,
          144.059,
          144.042,
          144.02,
          144.025,
          144.036,
          144.034,
          144.026,
          144.018,
          144.029,
          144.022,
          144.026,
          144.022,
          144.03,
          144.052,
          144.07,
          144.09,
          144.106,
          144.109,
          144.111,
          144.125,
          144.118,
          144.114,
          144.082,
          144.122,
          144.09,
          144.081,
          144.066,
          144.04,
          144.016,
          144.012,
          144.03,
          144.02,
          144,
          143.93,
          143.924,
          143.942,
          143.932,
          143.934,
          143.948,
          143.978,
          144.005,
          143.986,
          143.978
         ],
         "opacity": 1,
         "open": [
          144.114,
          144.08,
          144.074,
          143.997,
          144.025,
          144.078,
          144.091,
          144.036,
          144.038,
          144.037,
          144.038,
          144.04,
          143.982,
          144.06,
          144.054,
          144.063,
          144.068,
          144.068,
          144.072,
          144.052,
          144.026,
          144.052,
          144.036,
          144.063,
          144.028,
          144.074,
          144.038,
          144.034,
          144.042,
          144.03,
          144.053,
          144.074,
          144.095,
          144.106,
          144.146,
          144.116,
          144.19,
          144.138,
          144.152,
          144.116,
          144.126,
          144.132,
          144.105,
          144.096,
          144.074,
          144.058,
          144.024,
          144.055,
          144.046,
          144.024,
          144,
          143.942,
          143.944,
          143.954,
          143.94,
          143.96,
          143.978,
          144.009,
          144.006,
          143.992
         ],
         "type": "candlestick",
         "x": [
          "2020-01-01 22:05:00+00:00",
          "2020-01-01 22:10:00+00:00",
          "2020-01-01 22:15:00+00:00",
          "2020-01-01 22:20:00+00:00",
          "2020-01-01 22:25:00+00:00",
          "2020-01-01 22:30:00+00:00",
          "2020-01-01 22:35:00+00:00",
          "2020-01-01 22:40:00+00:00",
          "2020-01-01 22:45:00+00:00",
          "2020-01-01 22:50:00+00:00",
          "2020-01-01 22:55:00+00:00",
          "2020-01-01 23:00:00+00:00",
          "2020-01-01 23:05:00+00:00",
          "2020-01-01 23:10:00+00:00",
          "2020-01-01 23:15:00+00:00",
          "2020-01-01 23:20:00+00:00",
          "2020-01-01 23:25:00+00:00",
          "2020-01-01 23:30:00+00:00",
          "2020-01-01 23:35:00+00:00",
          "2020-01-01 23:40:00+00:00",
          "2020-01-01 23:45:00+00:00",
          "2020-01-01 23:50:00+00:00",
          "2020-01-01 23:55:00+00:00",
          "2020-01-02 00:00:00+00:00",
          "2020-01-02 00:05:00+00:00",
          "2020-01-02 00:10:00+00:00",
          "2020-01-02 00:15:00+00:00",
          "2020-01-02 00:20:00+00:00",
          "2020-01-02 00:25:00+00:00",
          "2020-01-02 00:30:00+00:00",
          "2020-01-02 00:35:00+00:00",
          "2020-01-02 00:40:00+00:00",
          "2020-01-02 00:45:00+00:00",
          "2020-01-02 00:50:00+00:00",
          "2020-01-02 00:55:00+00:00",
          "2020-01-02 01:00:00+00:00",
          "2020-01-02 01:05:00+00:00",
          "2020-01-02 01:10:00+00:00",
          "2020-01-02 01:15:00+00:00",
          "2020-01-02 01:20:00+00:00",
          "2020-01-02 01:25:00+00:00",
          "2020-01-02 01:30:00+00:00",
          "2020-01-02 01:35:00+00:00",
          "2020-01-02 01:40:00+00:00",
          "2020-01-02 01:45:00+00:00",
          "2020-01-02 01:50:00+00:00",
          "2020-01-02 01:55:00+00:00",
          "2020-01-02 02:00:00+00:00",
          "2020-01-02 02:05:00+00:00",
          "2020-01-02 02:10:00+00:00",
          "2020-01-02 02:15:00+00:00",
          "2020-01-02 02:20:00+00:00",
          "2020-01-02 02:25:00+00:00",
          "2020-01-02 02:30:00+00:00",
          "2020-01-02 02:35:00+00:00",
          "2020-01-02 02:40:00+00:00",
          "2020-01-02 02:45:00+00:00",
          "2020-01-02 02:50:00+00:00",
          "2020-01-02 02:55:00+00:00",
          "2020-01-02 03:00:00+00:00"
         ]
        },
        {
         "marker": {
          "color": "#043ef9",
          "size": 12
         },
         "mode": "lines",
         "name": "Buy ENTRY",
         "type": "scatter",
         "x": [
          "2020-01-01 23:25:00+00:00",
          "2020-01-02 00:25:00+00:00",
          "2020-01-02 01:15:00+00:00",
          "2020-01-02 01:30:00+00:00",
          "2020-01-02 02:30:00+00:00"
         ],
         "y": [
          144.12019999999998,
          144.1504,
          144.2099,
          144.1632,
          143.99779999999998
         ]
        },
        {
         "marker": {
          "color": "#eb5334",
          "size": 12
         },
         "mode": "lines",
         "name": "Buy STOPLOSS",
         "type": "scatter",
         "x": [
          "2020-01-01 23:25:00+00:00",
          "2020-01-02 00:25:00+00:00",
          "2020-01-02 01:15:00+00:00",
          "2020-01-02 01:30:00+00:00",
          "2020-01-02 02:30:00+00:00"
         ],
         "y": [
          144.10739999999998,
          144.1128,
          144.1823,
          144.15439999999998,
          143.9826
         ]
        },
        {
         "marker": {
          "color": "#34eb37",
          "size": 12
         },
         "mode": "lines",
         "name": "Buy TAKEPROFIT",
         "type": "scatter",
         "x": [
          "2020-01-01 23:25:00+00:00",
          "2020-01-02 00:25:00+00:00",
          "2020-01-02 01:15:00+00:00",
          "2020-01-02 01:30:00+00:00",
          "2020-01-02 02:30:00+00:00"
         ],
         "y": [
          144.14579999999998,
          144.2256,
          144.26510000000002,
          144.18079999999998,
          144.02819999999997
         ]
        },
        {
         "marker": {
          "color": "white",
          "size": 12
         },
         "mode": "lines",
         "name": "Sell ENTRY",
         "type": "scatter",
         "x": [
          "2020-01-01 22:05:00+00:00",
          "2020-01-01 22:10:00+00:00",
          "2020-01-01 22:40:00+00:00",
          "2020-01-01 23:00:00+00:00",
          "2020-01-01 23:15:00+00:00",
          "2020-01-01 23:40:00+00:00",
          "2020-01-02 00:05:00+00:00",
          "2020-01-02 00:15:00+00:00",
          "2020-01-02 01:10:00+00:00",
          "2020-01-02 01:20:00+00:00",
          "2020-01-02 01:35:00+00:00",
          "2020-01-02 01:40:00+00:00",
          "2020-01-02 01:45:00+00:00",
          "2020-01-02 01:50:00+00:00",
          "2020-01-02 01:55:00+00:00",
          "2020-01-02 02:05:00+00:00",
          "2020-01-02 02:10:00+00:00",
          "2020-01-02 02:15:00+00:00",
          "2020-01-02 02:20:00+00:00",
          "2020-01-02 02:55:00+00:00",
          "2020-01-02 03:00:00+00:00"
         ],
         "y": [
          144.02,
          144.0166,
          143.94559999999998,
          143.95860000000002,
          144.0309,
          144.00480000000002,
          144.00220000000002,
          144.0075,
          144.0995,
          144.0922,
          144.0694,
          144.0595,
          144.0454,
          144.0194,
          143.9922,
          144.00900000000001,
          143.9992,
          143.9814,
          143.9066,
          143.98850000000002,
          143.9676
         ]
        },
        {
         "marker": {
          "color": "red",
          "size": 12
         },
         "mode": "lines",
         "name": "Sell STOPLOSS",
         "type": "scatter",
         "x": [
          "2020-01-01 22:05:00+00:00",
          "2020-01-01 22:10:00+00:00",
          "2020-01-01 22:40:00+00:00",
          "2020-01-01 23:00:00+00:00",
          "2020-01-01 23:15:00+00:00",
          "2020-01-01 23:40:00+00:00",
          "2020-01-02 00:05:00+00:00",
          "2020-01-02 00:15:00+00:00",
          "2020-01-02 01:10:00+00:00",
          "2020-01-02 01:20:00+00:00",
          "2020-01-02 01:35:00+00:00",
          "2020-01-02 01:40:00+00:00",
          "2020-01-02 01:45:00+00:00",
          "2020-01-02 01:50:00+00:00",
          "2020-01-02 01:55:00+00:00",
          "2020-01-02 02:05:00+00:00",
          "2020-01-02 02:10:00+00:00",
          "2020-01-02 02:15:00+00:00",
          "2020-01-02 02:20:00+00:00",
          "2020-01-02 02:55:00+00:00",
          "2020-01-02 03:00:00+00:00"
         ],
         "y": [
          144.064,
          144.0302,
          143.97119999999998,
          143.96820000000002,
          144.0473,
          144.01760000000002,
          144.02540000000002,
          144.0255,
          144.12550000000002,
          144.10739999999998,
          144.0878,
          144.0695,
          144.0598,
          144.03379999999999,
          144.0154,
          144.025,
          144.0104,
          143.9958,
          143.93619999999999,
          143.9985,
          143.9772
         ]
        },
        {
         "marker": {
          "color": "yellow",
          "size": 12
         },
         "mode": "lines",
         "name": "Sell TAKEPROFIT",
         "type": "scatter",
         "x": [
          "2020-01-01 22:05:00+00:00",
          "2020-01-01 22:10:00+00:00",
          "2020-01-01 22:40:00+00:00",
          "2020-01-01 23:00:00+00:00",
          "2020-01-01 23:15:00+00:00",
          "2020-01-01 23:40:00+00:00",
          "2020-01-02 00:05:00+00:00",
          "2020-01-02 00:15:00+00:00",
          "2020-01-02 01:10:00+00:00",
          "2020-01-02 01:20:00+00:00",
          "2020-01-02 01:35:00+00:00",
          "2020-01-02 01:40:00+00:00",
          "2020-01-02 01:45:00+00:00",
          "2020-01-02 01:50:00+00:00",
          "2020-01-02 01:55:00+00:00",
          "2020-01-02 02:05:00+00:00",
          "2020-01-02 02:10:00+00:00",
          "2020-01-02 02:15:00+00:00",
          "2020-01-02 02:20:00+00:00",
          "2020-01-02 02:55:00+00:00",
          "2020-01-02 03:00:00+00:00"
         ],
         "y": [
          143.93200000000002,
          143.98940000000002,
          143.89439999999996,
          143.9394,
          143.9981,
          143.97920000000002,
          143.9558,
          143.9715,
          144.0475,
          144.0618,
          144.0326,
          144.0395,
          144.0166,
          143.9906,
          143.9458,
          143.97700000000003,
          143.9768,
          143.95260000000002,
          143.84740000000002,
          143.9685,
          143.9484
         ]
        }
       ],
       "layout": {
        "font": {
         "color": "#e1e1e1",
         "size": 10
        },
        "height": 400,
        "margin": {
         "b": 10,
         "l": 10,
         "r": 10,
         "t": 30
        },
        "paper_bgcolor": "#1e1e1e",
        "plot_bgcolor": "#1e1e1e",
        "template": {
         "data": {
          "bar": [
           {
            "error_x": {
             "color": "#2a3f5f"
            },
            "error_y": {
             "color": "#2a3f5f"
            },
            "marker": {
             "line": {
              "color": "#E5ECF6",
              "width": 0.5
             },
             "pattern": {
              "fillmode": "overlay",
              "size": 10,
              "solidity": 0.2
             }
            },
            "type": "bar"
           }
          ],
          "barpolar": [
           {
            "marker": {
             "line": {
              "color": "#E5ECF6",
              "width": 0.5
             },
             "pattern": {
              "fillmode": "overlay",
              "size": 10,
              "solidity": 0.2
             }
            },
            "type": "barpolar"
           }
          ],
          "carpet": [
           {
            "aaxis": {
             "endlinecolor": "#2a3f5f",
             "gridcolor": "white",
             "linecolor": "white",
             "minorgridcolor": "white",
             "startlinecolor": "#2a3f5f"
            },
            "baxis": {
             "endlinecolor": "#2a3f5f",
             "gridcolor": "white",
             "linecolor": "white",
             "minorgridcolor": "white",
             "startlinecolor": "#2a3f5f"
            },
            "type": "carpet"
           }
          ],
          "choropleth": [
           {
            "colorbar": {
             "outlinewidth": 0,
             "ticks": ""
            },
            "type": "choropleth"
           }
          ],
          "contour": [
           {
            "colorbar": {
             "outlinewidth": 0,
             "ticks": ""
            },
            "colorscale": [
             [
              0,
              "#0d0887"
             ],
             [
              0.1111111111111111,
              "#46039f"
             ],
             [
              0.2222222222222222,
              "#7201a8"
             ],
             [
              0.3333333333333333,
              "#9c179e"
             ],
             [
              0.4444444444444444,
              "#bd3786"
             ],
             [
              0.5555555555555556,
              "#d8576b"
             ],
             [
              0.6666666666666666,
              "#ed7953"
             ],
             [
              0.7777777777777778,
              "#fb9f3a"
             ],
             [
              0.8888888888888888,
              "#fdca26"
             ],
             [
              1,
              "#f0f921"
             ]
            ],
            "type": "contour"
           }
          ],
          "contourcarpet": [
           {
            "colorbar": {
             "outlinewidth": 0,
             "ticks": ""
            },
            "type": "contourcarpet"
           }
          ],
          "heatmap": [
           {
            "colorbar": {
             "outlinewidth": 0,
             "ticks": ""
            },
            "colorscale": [
             [
              0,
              "#0d0887"
             ],
             [
              0.1111111111111111,
              "#46039f"
             ],
             [
              0.2222222222222222,
              "#7201a8"
             ],
             [
              0.3333333333333333,
              "#9c179e"
             ],
             [
              0.4444444444444444,
              "#bd3786"
             ],
             [
              0.5555555555555556,
              "#d8576b"
             ],
             [
              0.6666666666666666,
              "#ed7953"
             ],
             [
              0.7777777777777778,
              "#fb9f3a"
             ],
             [
              0.8888888888888888,
              "#fdca26"
             ],
             [
              1,
              "#f0f921"
             ]
            ],
            "type": "heatmap"
           }
          ],
          "heatmapgl": [
           {
            "colorbar": {
             "outlinewidth": 0,
             "ticks": ""
            },
            "colorscale": [
             [
              0,
              "#0d0887"
             ],
             [
              0.1111111111111111,
              "#46039f"
             ],
             [
              0.2222222222222222,
              "#7201a8"
             ],
             [
              0.3333333333333333,
              "#9c179e"
             ],
             [
              0.4444444444444444,
              "#bd3786"
             ],
             [
              0.5555555555555556,
              "#d8576b"
             ],
             [
              0.6666666666666666,
              "#ed7953"
             ],
             [
              0.7777777777777778,
              "#fb9f3a"
             ],
             [
              0.8888888888888888,
              "#fdca26"
             ],
             [
              1,
              "#f0f921"
             ]
            ],
            "type": "heatmapgl"
           }
          ],
          "histogram": [
           {
            "marker": {
             "pattern": {
              "fillmode": "overlay",
              "size": 10,
              "solidity": 0.2
             }
            },
            "type": "histogram"
           }
          ],
          "histogram2d": [
           {
            "colorbar": {
             "outlinewidth": 0,
             "ticks": ""
            },
            "colorscale": [
             [
              0,
              "#0d0887"
             ],
             [
              0.1111111111111111,
              "#46039f"
             ],
             [
              0.2222222222222222,
              "#7201a8"
             ],
             [
              0.3333333333333333,
              "#9c179e"
             ],
             [
              0.4444444444444444,
              "#bd3786"
             ],
             [
              0.5555555555555556,
              "#d8576b"
             ],
             [
              0.6666666666666666,
              "#ed7953"
             ],
             [
              0.7777777777777778,
              "#fb9f3a"
             ],
             [
              0.8888888888888888,
              "#fdca26"
             ],
             [
              1,
              "#f0f921"
             ]
            ],
            "type": "histogram2d"
           }
          ],
          "histogram2dcontour": [
           {
            "colorbar": {
             "outlinewidth": 0,
             "ticks": ""
            },
            "colorscale": [
             [
              0,
              "#0d0887"
             ],
             [
              0.1111111111111111,
              "#46039f"
             ],
             [
              0.2222222222222222,
              "#7201a8"
             ],
             [
              0.3333333333333333,
              "#9c179e"
             ],
             [
              0.4444444444444444,
              "#bd3786"
             ],
             [
              0.5555555555555556,
              "#d8576b"
             ],
             [
              0.6666666666666666,
              "#ed7953"
             ],
             [
              0.7777777777777778,
              "#fb9f3a"
             ],
             [
              0.8888888888888888,
              "#fdca26"
             ],
             [
              1,
              "#f0f921"
             ]
            ],
            "type": "histogram2dcontour"
           }
          ],
          "mesh3d": [
           {
            "colorbar": {
             "outlinewidth": 0,
             "ticks": ""
            },
            "type": "mesh3d"
           }
          ],
          "parcoords": [
           {
            "line": {
             "colorbar": {
              "outlinewidth": 0,
              "ticks": ""
             }
            },
            "type": "parcoords"
           }
          ],
          "pie": [
           {
            "automargin": true,
            "type": "pie"
           }
          ],
          "scatter": [
           {
            "fillpattern": {
             "fillmode": "overlay",
             "size": 10,
             "solidity": 0.2
            },
            "type": "scatter"
           }
          ],
          "scatter3d": [
           {
            "line": {
             "colorbar": {
              "outlinewidth": 0,
              "ticks": ""
             }
            },
            "marker": {
             "colorbar": {
              "outlinewidth": 0,
              "ticks": ""
             }
            },
            "type": "scatter3d"
           }
          ],
          "scattercarpet": [
           {
            "marker": {
             "colorbar": {
              "outlinewidth": 0,
              "ticks": ""
             }
            },
            "type": "scattercarpet"
           }
          ],
          "scattergeo": [
           {
            "marker": {
             "colorbar": {
              "outlinewidth": 0,
              "ticks": ""
             }
            },
            "type": "scattergeo"
           }
          ],
          "scattergl": [
           {
            "marker": {
             "colorbar": {
              "outlinewidth": 0,
              "ticks": ""
             }
            },
            "type": "scattergl"
           }
          ],
          "scattermapbox": [
           {
            "marker": {
             "colorbar": {
              "outlinewidth": 0,
              "ticks": ""
             }
            },
            "type": "scattermapbox"
           }
          ],
          "scatterpolar": [
           {
            "marker": {
             "colorbar": {
              "outlinewidth": 0,
              "ticks": ""
             }
            },
            "type": "scatterpolar"
           }
          ],
          "scatterpolargl": [
           {
            "marker": {
             "colorbar": {
              "outlinewidth": 0,
              "ticks": ""
             }
            },
            "type": "scatterpolargl"
           }
          ],
          "scatterternary": [
           {
            "marker": {
             "colorbar": {
              "outlinewidth": 0,
              "ticks": ""
             }
            },
            "type": "scatterternary"
           }
          ],
          "surface": [
           {
            "colorbar": {
             "outlinewidth": 0,
             "ticks": ""
            },
            "colorscale": [
             [
              0,
              "#0d0887"
             ],
             [
              0.1111111111111111,
              "#46039f"
             ],
             [
              0.2222222222222222,
              "#7201a8"
             ],
             [
              0.3333333333333333,
              "#9c179e"
             ],
             [
              0.4444444444444444,
              "#bd3786"
             ],
             [
              0.5555555555555556,
              "#d8576b"
             ],
             [
              0.6666666666666666,
              "#ed7953"
             ],
             [
              0.7777777777777778,
              "#fb9f3a"
             ],
             [
              0.8888888888888888,
              "#fdca26"
             ],
             [
              1,
              "#f0f921"
             ]
            ],
            "type": "surface"
           }
          ],
          "table": [
           {
            "cells": {
             "fill": {
              "color": "#EBF0F8"
             },
             "line": {
              "color": "white"
             }
            },
            "header": {
             "fill": {
              "color": "#C8D4E3"
             },
             "line": {
              "color": "white"
             }
            },
            "type": "table"
           }
          ]
         },
         "layout": {
          "annotationdefaults": {
           "arrowcolor": "#2a3f5f",
           "arrowhead": 0,
           "arrowwidth": 1
          },
          "autotypenumbers": "strict",
          "coloraxis": {
           "colorbar": {
            "outlinewidth": 0,
            "ticks": ""
           }
          },
          "colorscale": {
           "diverging": [
            [
             0,
             "#8e0152"
            ],
            [
             0.1,
             "#c51b7d"
            ],
            [
             0.2,
             "#de77ae"
            ],
            [
             0.3,
             "#f1b6da"
            ],
            [
             0.4,
             "#fde0ef"
            ],
            [
             0.5,
             "#f7f7f7"
            ],
            [
             0.6,
             "#e6f5d0"
            ],
            [
             0.7,
             "#b8e186"
            ],
            [
             0.8,
             "#7fbc41"
            ],
            [
             0.9,
             "#4d9221"
            ],
            [
             1,
             "#276419"
            ]
           ],
           "sequential": [
            [
             0,
             "#0d0887"
            ],
            [
             0.1111111111111111,
             "#46039f"
            ],
            [
             0.2222222222222222,
             "#7201a8"
            ],
            [
             0.3333333333333333,
             "#9c179e"
            ],
            [
             0.4444444444444444,
             "#bd3786"
            ],
            [
             0.5555555555555556,
             "#d8576b"
            ],
            [
             0.6666666666666666,
             "#ed7953"
            ],
            [
             0.7777777777777778,
             "#fb9f3a"
            ],
            [
             0.8888888888888888,
             "#fdca26"
            ],
            [
             1,
             "#f0f921"
            ]
           ],
           "sequentialminus": [
            [
             0,
             "#0d0887"
            ],
            [
             0.1111111111111111,
             "#46039f"
            ],
            [
             0.2222222222222222,
             "#7201a8"
            ],
            [
             0.3333333333333333,
             "#9c179e"
            ],
            [
             0.4444444444444444,
             "#bd3786"
            ],
            [
             0.5555555555555556,
             "#d8576b"
            ],
            [
             0.6666666666666666,
             "#ed7953"
            ],
            [
             0.7777777777777778,
             "#fb9f3a"
            ],
            [
             0.8888888888888888,
             "#fdca26"
            ],
            [
             1,
             "#f0f921"
            ]
           ]
          },
          "colorway": [
           "#636efa",
           "#EF553B",
           "#00cc96",
           "#ab63fa",
           "#FFA15A",
           "#19d3f3",
           "#FF6692",
           "#B6E880",
           "#FF97FF",
           "#FECB52"
          ],
          "font": {
           "color": "#2a3f5f"
          },
          "geo": {
           "bgcolor": "white",
           "lakecolor": "white",
           "landcolor": "#E5ECF6",
           "showlakes": true,
           "showland": true,
           "subunitcolor": "white"
          },
          "hoverlabel": {
           "align": "left"
          },
          "hovermode": "closest",
          "mapbox": {
           "style": "light"
          },
          "paper_bgcolor": "white",
          "plot_bgcolor": "#E5ECF6",
          "polar": {
           "angularaxis": {
            "gridcolor": "white",
            "linecolor": "white",
            "ticks": ""
           },
           "bgcolor": "#E5ECF6",
           "radialaxis": {
            "gridcolor": "white",
            "linecolor": "white",
            "ticks": ""
           }
          },
          "scene": {
           "xaxis": {
            "backgroundcolor": "#E5ECF6",
            "gridcolor": "white",
            "gridwidth": 2,
            "linecolor": "white",
            "showbackground": true,
            "ticks": "",
            "zerolinecolor": "white"
           },
           "yaxis": {
            "backgroundcolor": "#E5ECF6",
            "gridcolor": "white",
            "gridwidth": 2,
            "linecolor": "white",
            "showbackground": true,
            "ticks": "",
            "zerolinecolor": "white"
           },
           "zaxis": {
            "backgroundcolor": "#E5ECF6",
            "gridcolor": "white",
            "gridwidth": 2,
            "linecolor": "white",
            "showbackground": true,
            "ticks": "",
            "zerolinecolor": "white"
           }
          },
          "shapedefaults": {
           "line": {
            "color": "#2a3f5f"
           }
          },
          "ternary": {
           "aaxis": {
            "gridcolor": "white",
            "linecolor": "white",
            "ticks": ""
           },
           "baxis": {
            "gridcolor": "white",
            "linecolor": "white",
            "ticks": ""
           },
           "bgcolor": "#E5ECF6",
           "caxis": {
            "gridcolor": "white",
            "linecolor": "white",
            "ticks": ""
           }
          },
          "title": {
           "x": 0.05
          },
          "xaxis": {
           "automargin": true,
           "gridcolor": "white",
           "linecolor": "white",
           "ticks": "",
           "title": {
            "standoff": 15
           },
           "zerolinecolor": "white",
           "zerolinewidth": 2
          },
          "yaxis": {
           "automargin": true,
           "gridcolor": "white",
           "linecolor": "white",
           "ticks": "",
           "title": {
            "standoff": 15
           },
           "zerolinecolor": "white",
           "zerolinewidth": 2
          }
         }
        },
        "title": {
         "text": "Buy/Sell lines Chart"
        },
        "width": 1000,
        "xaxis": {
         "fixedrange": true,
         "gridcolor": "#1f292f",
         "rangebreaks": [
          {
           "bounds": [
            "sat",
            "mon"
           ]
          }
         ],
         "rangeslider": {
          "visible": false
         },
         "showgrid": true
        },
        "yaxis": {
         "gridcolor": "#1f292f",
         "showgrid": true
        }
       }
      }
     },
     "metadata": {},
     "output_type": "display_data"
    }
   ],
   "source": [
    "plot_candles_mode(df_plot, \"lines\")"
   ]
  }
 ],
 "metadata": {
  "kernelspec": {
   "display_name": "Python 3",
   "language": "python",
   "name": "python3"
  },
  "language_info": {
   "codemirror_mode": {
    "name": "ipython",
    "version": 3
   },
   "file_extension": ".py",
   "mimetype": "text/x-python",
   "name": "python",
   "nbconvert_exporter": "python",
   "pygments_lexer": "ipython3",
   "version": "3.10.4"
  },
  "orig_nbformat": 4
 },
 "nbformat": 4,
 "nbformat_minor": 2
}
