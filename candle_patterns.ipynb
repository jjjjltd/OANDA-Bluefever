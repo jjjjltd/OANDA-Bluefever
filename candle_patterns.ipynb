{
 "cells": [
  {
   "cell_type": "code",
   "execution_count": 147,
   "metadata": {},
   "outputs": [],
   "source": [
    "import pandas as pd\n",
    "import plotly.graph_objects as go\n",
    "import utils"
   ]
  },
  {
   "cell_type": "code",
   "execution_count": 148,
   "metadata": {},
   "outputs": [],
   "source": [
    "def plot_candles(df_plot, df_markers = None):\n",
    "    \"\"\"  Create plot outputs, df_markers (markers/line) optional\"\"\"\n",
    "\n",
    "    plot_colours_buy = ['#043ef9', '#eb5334', '#34eb37']\n",
    "    plot_colours_sell = ['white', 'red', 'yellow']\n",
    "\n",
    "    fig = go.Figure()\n",
    "    \n",
    "    fig.add_trace(go.Candlestick(\n",
    "        x=df_plot.time, open=df_plot.mid_o, high=df_plot.mid_h, low = df_plot.mid_l, close=df_plot.mid_c,\n",
    "        line=dict(width=1), opacity=1,\n",
    "        increasing_fillcolor=\"#24A06B\",\n",
    "        decreasing_fillcolor=\"#CC2E3C\",\n",
    "        increasing_line_color=\"#2EC886\",\n",
    "        decreasing_line_color=\"#FF3A4C\"\n",
    "        ))\n",
    "\n",
    "\n",
    "    if df_markers is not None:\n",
    "        fig.add_trace(go.Candlestick(\n",
    "        x=df_markers.time, open=df_markers.mid_o, high=df_markers.mid_h, low = df_markers.mid_l, close=df_markers.mid_c,\n",
    "        line=dict(width=1), opacity=1,\n",
    "        increasing_fillcolor=\"#3480eb\",\n",
    "        decreasing_fillcolor=\"#3480eb\",\n",
    "        increasing_line_color=\"#3480eb\",\n",
    "        decreasing_line_color=\"#3480eb\"\n",
    "        ))        \n",
    "\n",
    "    \n",
    "    fig.update_layout(width=1000, height=400, paper_bgcolor = \"#1e1e1e\", plot_bgcolor = \"#1e1e1e\",\n",
    "                    margin=dict(l=10, b=10, t=30, r=10), \n",
    "                    font=dict(size=10, color=\"#e1e1e1\"),\n",
    "                    title=f\"Candle Chart - Blue Candle Indicators\")\n",
    "    fig.update_xaxes(gridcolor=\"#1f292f\",\n",
    "                    showgrid=True,\n",
    "                    fixedrange=True,\n",
    "                    rangeslider=dict(visible=False),\n",
    "                    rangebreaks=[\n",
    "                        dict(bounds=[\"sat\", \"mon\"])\n",
    "                        ]\n",
    "                    )\n",
    "    fig.update_yaxes(gridcolor=\"#1f292f\",\n",
    "                    showgrid=True)\n",
    "\n",
    "    fig.show()"
   ]
  },
  {
   "cell_type": "markdown",
   "metadata": {},
   "source": [
    "Note:  utils.get_histdf_fromcsv is new.  It, simply, returns DataFrame having parsed time \"string\" back to datetime format.  There are other - more efficient - ways we could do this..."
   ]
  },
  {
   "cell_type": "code",
   "execution_count": 149,
   "metadata": {},
   "outputs": [
    {
     "data": {
      "text/plain": [
       "(4675, 15)"
      ]
     },
     "execution_count": 149,
     "metadata": {},
     "output_type": "execute_result"
    }
   ],
   "source": [
    "pair = \"USD_JPY\"\n",
    "granularity = \"H4\"\n",
    "df_raw = utils.get_histdf_fromcsv(pair, granularity)\n",
    "df_raw.shape"
   ]
  },
  {
   "cell_type": "code",
   "execution_count": 150,
   "metadata": {},
   "outputs": [
    {
     "data": {
      "text/plain": [
       "Index(['Unnamed: 0', 'time', 'volume', 'bid_o', 'bid_h', 'bid_l', 'bid_c',\n",
       "       'mid_o', 'mid_h', 'mid_l', 'mid_c', 'ask_o', 'ask_h', 'ask_l', 'ask_c'],\n",
       "      dtype='object')"
      ]
     },
     "execution_count": 150,
     "metadata": {},
     "output_type": "execute_result"
    }
   ],
   "source": [
    "df_raw.columns"
   ]
  },
  {
   "cell_type": "code",
   "execution_count": 151,
   "metadata": {},
   "outputs": [],
   "source": [
    "cols = ['time', 'mid_o', 'mid_h', 'mid_l', 'mid_c']"
   ]
  },
  {
   "cell_type": "code",
   "execution_count": 152,
   "metadata": {},
   "outputs": [
    {
     "name": "stdout",
     "output_type": "stream",
     "text": [
      "<class 'pandas.core.frame.DataFrame'>\n",
      "RangeIndex: 4675 entries, 0 to 4674\n",
      "Data columns (total 5 columns):\n",
      " #   Column  Non-Null Count  Dtype                  \n",
      "---  ------  --------------  -----                  \n",
      " 0   time    4675 non-null   datetime64[ns, tzutc()]\n",
      " 1   mid_o   4675 non-null   float64                \n",
      " 2   mid_h   4675 non-null   float64                \n",
      " 3   mid_l   4675 non-null   float64                \n",
      " 4   mid_c   4675 non-null   float64                \n",
      "dtypes: datetime64[ns, tzutc()](1), float64(4)\n",
      "memory usage: 182.7 KB\n"
     ]
    }
   ],
   "source": [
    "df = df_raw[cols].copy()\n",
    "df.info()"
   ]
  },
  {
   "cell_type": "code",
   "execution_count": 153,
   "metadata": {},
   "outputs": [],
   "source": [
    "SMALL_BODY = 0.2\n",
    "CLOSE_DISTANCE = 0.15\n",
    "DOJI_BODY = 0.05\n",
    "FULL_BODY = 0.95\n",
    "CENTER_DISTANCE_HIGH = 0.55\n",
    "CENTER_DISTANCE_LOW = 0.45\n",
    "BIG_BODY = 0.6\n",
    "ENGULFING_FACTOR = 1.1\n",
    "\n",
    "\n",
    "def apply_top_end_distance(row):\n",
    "    if row.DIRECTION == 1:\n",
    "        return row.mid_h - row.mid_c\n",
    "    else:\n",
    "        return row.mid_h - row.mid_o\n",
    "\n",
    "def apply_bottom_end_distance(row):\n",
    "    if row.DIRECTION == 1:\n",
    "        return row.mid_o - row.mid_l\n",
    "    else:\n",
    "        return row.mid_c - row.mid_l\n",
    "    \n",
    "def apply_hammer(row):\n",
    "    if row.BODY_PERC < SMALL_BODY:\n",
    "        if row.DIST_TOP_PERC < CLOSE_DISTANCE or row.DIST_BOTTOM_PERC < CLOSE_DISTANCE:\n",
    "            return True\n",
    "    return False\n",
    "\n",
    "def apply_spinning_top(row):\n",
    "    if row.BODY_PERC < SMALL_BODY:\n",
    "        if row.DIST_TOP_PERC < CENTER_DISTANCE_HIGH and row.DIST_BOTTOM_PERC < CENTER_DISTANCE_LOW:\n",
    "            return True\n",
    "    return False\n",
    "\n",
    "def apply_engulfing(row):\n",
    "    if row.PREV_DIRECTION != row.DIRECTION:\n",
    "        if row.PREV_BODY_PERC > BIG_BODY and row.BODY_PERC > BIG_BODY:\n",
    "            if row.BODY_RANGE > row.PREV_BODY_RANGE * ENGULFING_FACTOR:\n",
    "                return True\n",
    "    return False\n",
    "\n",
    "\n",
    "\n",
    "def apply_stats(df):\n",
    "    df['RANGE'] = df.mid_h - df.mid_l\n",
    "    df['BODY_RANGE'] = abs(df.mid_c - df.mid_o)\n",
    "    df['CENTER'] = (df.mid_h - df.mid_l) / 2 + df.mid_l\n",
    "    df['BODY_PERC'] =  df.BODY_RANGE / df.RANGE\n",
    "    df['DIRECTION'] =  df.mid_c - df.mid_o\n",
    "    df['DIRECTION'] = df['DIRECTION'].apply(lambda x: 1 if x >= 0 else -1)\n",
    "    df['DIST_TOP'] = df.apply(apply_top_end_distance, axis = 1)\n",
    "    df['DIST_BOTTOM'] = df.apply(apply_bottom_end_distance, axis = 1)\n",
    "    df['DIST_TOP_PERC'] = df.DIST_TOP / df.RANGE\n",
    "    df['DIST_BOTTOM_PERC'] = df.DIST_BOTTOM / df.RANGE\n",
    "    df['PREV_BODY_RANGE'] = df.BODY_RANGE.shift(1)\n",
    "    df['PREV_BODY_PERC'] = df.BODY_PERC.shift(1)\n",
    "    df['PREV_DIRECTION'] = df.DIRECTION.shift(1)\n",
    "\n",
    "    df.dropna(inplace=True)\n",
    "    return df\n",
    "\n",
    "def apply_patterns(df):\n",
    "    df['HAMMER'] = df.apply(apply_hammer, axis = 1)\n",
    "    df['SPINNING_TOP'] = df.apply(apply_hammer, axis = 1)\n",
    "    df['DOJI'] = df['BODY_PERC'].apply(lambda x: True if x < DOJI_BODY else False)\n",
    "    df['MARUBOZU'] = df['BODY_PERC'].apply(lambda x: True if x > FULL_BODY else False)\n",
    "    df['ENGULFING'] = df.apply(apply_engulfing, axis = 1)\n",
    "\n",
    "    return df\n",
    "\n"
   ]
  },
  {
   "cell_type": "code",
   "execution_count": 154,
   "metadata": {},
   "outputs": [],
   "source": [
    "df = df_raw[cols].copy()\n",
    "df = apply_stats(df)\n",
    "df = apply_patterns(df)\n",
    "# df = df.iloc[700:750]"
   ]
  },
  {
   "cell_type": "code",
   "execution_count": 155,
   "metadata": {},
   "outputs": [
    {
     "data": {
      "text/html": [
       "<div>\n",
       "<style scoped>\n",
       "    .dataframe tbody tr th:only-of-type {\n",
       "        vertical-align: middle;\n",
       "    }\n",
       "\n",
       "    .dataframe tbody tr th {\n",
       "        vertical-align: top;\n",
       "    }\n",
       "\n",
       "    .dataframe thead th {\n",
       "        text-align: right;\n",
       "    }\n",
       "</style>\n",
       "<table border=\"1\" class=\"dataframe\">\n",
       "  <thead>\n",
       "    <tr style=\"text-align: right;\">\n",
       "      <th></th>\n",
       "      <th>time</th>\n",
       "      <th>mid_o</th>\n",
       "      <th>mid_h</th>\n",
       "      <th>mid_l</th>\n",
       "      <th>mid_c</th>\n",
       "      <th>RANGE</th>\n",
       "      <th>BODY_RANGE</th>\n",
       "      <th>CENTER</th>\n",
       "      <th>BODY_PERC</th>\n",
       "      <th>DIRECTION</th>\n",
       "      <th>...</th>\n",
       "      <th>DIST_TOP_PERC</th>\n",
       "      <th>DIST_BOTTOM_PERC</th>\n",
       "      <th>PREV_BODY_RANGE</th>\n",
       "      <th>PREV_BODY_PERC</th>\n",
       "      <th>PREV_DIRECTION</th>\n",
       "      <th>HAMMER</th>\n",
       "      <th>SPINNING_TOP</th>\n",
       "      <th>DOJI</th>\n",
       "      <th>MARUBOZU</th>\n",
       "      <th>ENGULFING</th>\n",
       "    </tr>\n",
       "  </thead>\n",
       "  <tbody>\n",
       "    <tr>\n",
       "      <th>33</th>\n",
       "      <td>2020-01-09 10:00:00+00:00</td>\n",
       "      <td>109.432</td>\n",
       "      <td>109.489</td>\n",
       "      <td>109.317</td>\n",
       "      <td>109.432</td>\n",
       "      <td>0.172</td>\n",
       "      <td>0.000</td>\n",
       "      <td>109.403</td>\n",
       "      <td>0.000000</td>\n",
       "      <td>1</td>\n",
       "      <td>...</td>\n",
       "      <td>0.331395</td>\n",
       "      <td>0.668605</td>\n",
       "      <td>0.156</td>\n",
       "      <td>0.857143</td>\n",
       "      <td>1.0</td>\n",
       "      <td>False</td>\n",
       "      <td>False</td>\n",
       "      <td>True</td>\n",
       "      <td>False</td>\n",
       "      <td>False</td>\n",
       "    </tr>\n",
       "    <tr>\n",
       "      <th>39</th>\n",
       "      <td>2020-01-10 10:00:00+00:00</td>\n",
       "      <td>109.643</td>\n",
       "      <td>109.688</td>\n",
       "      <td>109.504</td>\n",
       "      <td>109.652</td>\n",
       "      <td>0.184</td>\n",
       "      <td>0.009</td>\n",
       "      <td>109.596</td>\n",
       "      <td>0.048913</td>\n",
       "      <td>1</td>\n",
       "      <td>...</td>\n",
       "      <td>0.195652</td>\n",
       "      <td>0.755435</td>\n",
       "      <td>0.074</td>\n",
       "      <td>0.778947</td>\n",
       "      <td>1.0</td>\n",
       "      <td>False</td>\n",
       "      <td>False</td>\n",
       "      <td>True</td>\n",
       "      <td>False</td>\n",
       "      <td>False</td>\n",
       "    </tr>\n",
       "    <tr>\n",
       "      <th>45</th>\n",
       "      <td>2020-01-13 10:00:00+00:00</td>\n",
       "      <td>109.848</td>\n",
       "      <td>109.924</td>\n",
       "      <td>109.828</td>\n",
       "      <td>109.849</td>\n",
       "      <td>0.096</td>\n",
       "      <td>0.001</td>\n",
       "      <td>109.876</td>\n",
       "      <td>0.010417</td>\n",
       "      <td>1</td>\n",
       "      <td>...</td>\n",
       "      <td>0.781250</td>\n",
       "      <td>0.208333</td>\n",
       "      <td>0.212</td>\n",
       "      <td>0.803030</td>\n",
       "      <td>1.0</td>\n",
       "      <td>False</td>\n",
       "      <td>False</td>\n",
       "      <td>True</td>\n",
       "      <td>False</td>\n",
       "      <td>False</td>\n",
       "    </tr>\n",
       "    <tr>\n",
       "      <th>76</th>\n",
       "      <td>2020-01-20 14:00:00+00:00</td>\n",
       "      <td>110.184</td>\n",
       "      <td>110.192</td>\n",
       "      <td>110.136</td>\n",
       "      <td>110.182</td>\n",
       "      <td>0.056</td>\n",
       "      <td>0.002</td>\n",
       "      <td>110.164</td>\n",
       "      <td>0.035714</td>\n",
       "      <td>-1</td>\n",
       "      <td>...</td>\n",
       "      <td>0.142857</td>\n",
       "      <td>0.821429</td>\n",
       "      <td>0.019</td>\n",
       "      <td>0.452381</td>\n",
       "      <td>1.0</td>\n",
       "      <td>True</td>\n",
       "      <td>True</td>\n",
       "      <td>True</td>\n",
       "      <td>False</td>\n",
       "      <td>False</td>\n",
       "    </tr>\n",
       "    <tr>\n",
       "      <th>93</th>\n",
       "      <td>2020-01-23 10:00:00+00:00</td>\n",
       "      <td>109.532</td>\n",
       "      <td>109.652</td>\n",
       "      <td>109.500</td>\n",
       "      <td>109.530</td>\n",
       "      <td>0.152</td>\n",
       "      <td>0.002</td>\n",
       "      <td>109.576</td>\n",
       "      <td>0.013158</td>\n",
       "      <td>-1</td>\n",
       "      <td>...</td>\n",
       "      <td>0.789474</td>\n",
       "      <td>0.197368</td>\n",
       "      <td>0.052</td>\n",
       "      <td>0.382353</td>\n",
       "      <td>-1.0</td>\n",
       "      <td>False</td>\n",
       "      <td>False</td>\n",
       "      <td>True</td>\n",
       "      <td>False</td>\n",
       "      <td>False</td>\n",
       "    </tr>\n",
       "  </tbody>\n",
       "</table>\n",
       "<p>5 rows × 22 columns</p>\n",
       "</div>"
      ],
      "text/plain": [
       "                        time    mid_o    mid_h    mid_l    mid_c  RANGE  \\\n",
       "33 2020-01-09 10:00:00+00:00  109.432  109.489  109.317  109.432  0.172   \n",
       "39 2020-01-10 10:00:00+00:00  109.643  109.688  109.504  109.652  0.184   \n",
       "45 2020-01-13 10:00:00+00:00  109.848  109.924  109.828  109.849  0.096   \n",
       "76 2020-01-20 14:00:00+00:00  110.184  110.192  110.136  110.182  0.056   \n",
       "93 2020-01-23 10:00:00+00:00  109.532  109.652  109.500  109.530  0.152   \n",
       "\n",
       "    BODY_RANGE   CENTER  BODY_PERC  DIRECTION  ...  DIST_TOP_PERC  \\\n",
       "33       0.000  109.403   0.000000          1  ...       0.331395   \n",
       "39       0.009  109.596   0.048913          1  ...       0.195652   \n",
       "45       0.001  109.876   0.010417          1  ...       0.781250   \n",
       "76       0.002  110.164   0.035714         -1  ...       0.142857   \n",
       "93       0.002  109.576   0.013158         -1  ...       0.789474   \n",
       "\n",
       "    DIST_BOTTOM_PERC  PREV_BODY_RANGE  PREV_BODY_PERC  PREV_DIRECTION  HAMMER  \\\n",
       "33          0.668605            0.156        0.857143             1.0   False   \n",
       "39          0.755435            0.074        0.778947             1.0   False   \n",
       "45          0.208333            0.212        0.803030             1.0   False   \n",
       "76          0.821429            0.019        0.452381             1.0    True   \n",
       "93          0.197368            0.052        0.382353            -1.0   False   \n",
       "\n",
       "    SPINNING_TOP  DOJI  MARUBOZU  ENGULFING  \n",
       "33         False  True     False      False  \n",
       "39         False  True     False      False  \n",
       "45         False  True     False      False  \n",
       "76          True  True     False      False  \n",
       "93         False  True     False      False  \n",
       "\n",
       "[5 rows x 22 columns]"
      ]
     },
     "execution_count": 155,
     "metadata": {},
     "output_type": "execute_result"
    }
   ],
   "source": [
    "df[df.DOJI==True].head()"
   ]
  },
  {
   "cell_type": "code",
   "execution_count": 156,
   "metadata": {},
   "outputs": [],
   "source": [
    "df_plot = df.iloc[330:400]\n",
    "df_markers = df_plot[(df_plot.MARUBOZU==True) | (df_plot.HAMMER == True) | (df_plot.DOJI == True)]"
   ]
  },
  {
   "cell_type": "code",
   "execution_count": 157,
   "metadata": {},
   "outputs": [
    {
     "data": {
      "application/vnd.plotly.v1+json": {
       "config": {
        "plotlyServerURL": "https://plot.ly"
       },
       "data": [
        {
         "close": [
          109.072,
          108.914,
          109.78,
          110.196,
          110.707,
          111.146,
          109.946,
          109.908,
          110.366,
          111.464,
          110.793,
          110.542,
          110.086,
          110.184,
          110.222,
          111.229,
          111.242,
          110.458,
          110.288,
          110.712,
          110.787,
          111.478,
          111.221,
          111.01,
          111.324,
          111.31,
          111.349,
          111.422,
          111.208,
          110.748,
          110.73,
          110.103,
          109.654,
          109.456,
          109.627,
          109.048,
          108.35,
          108.918,
          108.79,
          107.995,
          108.014,
          107.514,
          107.606,
          107.63,
          108.272,
          107.914,
          107.778,
          108.53,
          108.262,
          108.516,
          108.408,
          107.78,
          107.557,
          107.492,
          107.76,
          107.476,
          107.391,
          107.085,
          107.172,
          107.415,
          107.486,
          107.309,
          107.19,
          107.968,
          107.884,
          108.064,
          107.979,
          108.264,
          108.585,
          108.486
         ],
         "decreasing": {
          "fillcolor": "#CC2E3C",
          "line": {
           "color": "#FF3A4C"
          }
         },
         "high": [
          109.554,
          109.241,
          110.002,
          110.208,
          110.956,
          111.366,
          111.202,
          110.098,
          110.393,
          111.48,
          111.508,
          111.252,
          110.73,
          110.296,
          110.888,
          111.596,
          111.572,
          111.332,
          110.576,
          110.774,
          111.006,
          111.629,
          111.717,
          111.537,
          111.35,
          111.568,
          111.482,
          111.682,
          111.517,
          111.298,
          110.856,
          110.749,
          110.172,
          110.084,
          109.628,
          109.747,
          109.083,
          109.005,
          109.07,
          108.902,
          108.178,
          107.976,
          107.708,
          108.247,
          108.296,
          108.288,
          108.106,
          108.73,
          108.706,
          108.614,
          108.728,
          108.486,
          107.936,
          107.768,
          107.941,
          107.815,
          107.672,
          107.474,
          107.328,
          107.487,
          107.572,
          107.484,
          107.445,
          108.095,
          108.002,
          108.201,
          108.122,
          108.296,
          108.596,
          108.678
         ],
         "increasing": {
          "fillcolor": "#24A06B",
          "line": {
           "color": "#2EC886"
          }
         },
         "line": {
          "width": 1
         },
         "low": [
          108.59,
          108.456,
          108.826,
          109.547,
          110.049,
          110.682,
          109.928,
          109.335,
          109.806,
          110.364,
          110.72,
          110.262,
          109.998,
          109.67,
          109.818,
          110.164,
          111.125,
          110.447,
          110.085,
          110.18,
          110.296,
          110.598,
          111.18,
          110.939,
          110.754,
          111.132,
          111.064,
          111.344,
          111.088,
          110.596,
          110.46,
          110.064,
          109.556,
          109.35,
          109.207,
          108.895,
          108.26,
          108.239,
          108.53,
          107.866,
          107.758,
          107.368,
          107.126,
          107.582,
          107.496,
          107.654,
          107.746,
          107.738,
          108.186,
          108.098,
          108.258,
          107.462,
          107.476,
          107.256,
          107.43,
          107.286,
          107.298,
          106.998,
          106.918,
          107.048,
          107.296,
          107.146,
          107.018,
          107.126,
          107.811,
          107.832,
          107.802,
          107.826,
          108.253,
          108.36
         ],
         "opacity": 1,
         "open": [
          108.809,
          109.073,
          108.912,
          109.782,
          110.195,
          110.711,
          111.148,
          109.944,
          109.906,
          110.365,
          111.465,
          110.823,
          110.544,
          110.088,
          110.186,
          110.22,
          111.227,
          111.242,
          110.456,
          110.29,
          110.71,
          110.788,
          111.48,
          111.221,
          111.007,
          111.326,
          111.311,
          111.351,
          111.423,
          111.208,
          110.746,
          110.731,
          110.105,
          109.656,
          109.458,
          109.627,
          109.046,
          108.348,
          108.92,
          108.789,
          107.994,
          107.725,
          107.516,
          107.604,
          107.628,
          108.274,
          107.916,
          107.778,
          108.532,
          108.26,
          108.517,
          108.41,
          107.778,
          107.557,
          107.494,
          107.762,
          107.474,
          107.392,
          107.084,
          107.172,
          107.416,
          107.484,
          107.31,
          107.188,
          107.969,
          107.884,
          108.066,
          107.978,
          108.264,
          108.587
         ],
         "type": "candlestick",
         "x": [
          "2020-03-19T01:00:00+00:00",
          "2020-03-19T05:00:00+00:00",
          "2020-03-19T09:00:00+00:00",
          "2020-03-19T13:00:00+00:00",
          "2020-03-19T17:00:00+00:00",
          "2020-03-19T21:00:00+00:00",
          "2020-03-20T01:00:00+00:00",
          "2020-03-20T05:00:00+00:00",
          "2020-03-20T09:00:00+00:00",
          "2020-03-20T13:00:00+00:00",
          "2020-03-20T17:00:00+00:00",
          "2020-03-22T21:00:00+00:00",
          "2020-03-23T01:00:00+00:00",
          "2020-03-23T05:00:00+00:00",
          "2020-03-23T09:00:00+00:00",
          "2020-03-23T13:00:00+00:00",
          "2020-03-23T17:00:00+00:00",
          "2020-03-23T21:00:00+00:00",
          "2020-03-24T01:00:00+00:00",
          "2020-03-24T05:00:00+00:00",
          "2020-03-24T09:00:00+00:00",
          "2020-03-24T13:00:00+00:00",
          "2020-03-24T17:00:00+00:00",
          "2020-03-24T21:00:00+00:00",
          "2020-03-25T01:00:00+00:00",
          "2020-03-25T05:00:00+00:00",
          "2020-03-25T09:00:00+00:00",
          "2020-03-25T13:00:00+00:00",
          "2020-03-25T17:00:00+00:00",
          "2020-03-25T21:00:00+00:00",
          "2020-03-26T01:00:00+00:00",
          "2020-03-26T05:00:00+00:00",
          "2020-03-26T09:00:00+00:00",
          "2020-03-26T13:00:00+00:00",
          "2020-03-26T17:00:00+00:00",
          "2020-03-26T21:00:00+00:00",
          "2020-03-27T01:00:00+00:00",
          "2020-03-27T05:00:00+00:00",
          "2020-03-27T09:00:00+00:00",
          "2020-03-27T13:00:00+00:00",
          "2020-03-27T17:00:00+00:00",
          "2020-03-29T21:00:00+00:00",
          "2020-03-30T01:00:00+00:00",
          "2020-03-30T05:00:00+00:00",
          "2020-03-30T09:00:00+00:00",
          "2020-03-30T13:00:00+00:00",
          "2020-03-30T17:00:00+00:00",
          "2020-03-30T21:00:00+00:00",
          "2020-03-31T01:00:00+00:00",
          "2020-03-31T05:00:00+00:00",
          "2020-03-31T09:00:00+00:00",
          "2020-03-31T13:00:00+00:00",
          "2020-03-31T17:00:00+00:00",
          "2020-03-31T21:00:00+00:00",
          "2020-04-01T01:00:00+00:00",
          "2020-04-01T05:00:00+00:00",
          "2020-04-01T09:00:00+00:00",
          "2020-04-01T13:00:00+00:00",
          "2020-04-01T17:00:00+00:00",
          "2020-04-01T21:00:00+00:00",
          "2020-04-02T01:00:00+00:00",
          "2020-04-02T05:00:00+00:00",
          "2020-04-02T09:00:00+00:00",
          "2020-04-02T13:00:00+00:00",
          "2020-04-02T17:00:00+00:00",
          "2020-04-02T21:00:00+00:00",
          "2020-04-03T01:00:00+00:00",
          "2020-04-03T05:00:00+00:00",
          "2020-04-03T09:00:00+00:00",
          "2020-04-03T13:00:00+00:00"
         ]
        },
        {
         "close": [
          109.908,
          111.464,
          110.222,
          111.242,
          111.31,
          110.73,
          108.014,
          107.63
         ],
         "decreasing": {
          "fillcolor": "#3480eb",
          "line": {
           "color": "#3480eb"
          }
         },
         "high": [
          110.098,
          111.48,
          110.888,
          111.572,
          111.568,
          110.856,
          108.178,
          108.247
         ],
         "increasing": {
          "fillcolor": "#3480eb",
          "line": {
           "color": "#3480eb"
          }
         },
         "line": {
          "width": 1
         },
         "low": [
          109.335,
          110.364,
          109.818,
          111.125,
          111.132,
          110.46,
          107.758,
          107.582
         ],
         "opacity": 1,
         "open": [
          109.944,
          110.365,
          110.186,
          111.227,
          111.326,
          110.746,
          107.994,
          107.604
         ],
         "type": "candlestick",
         "x": [
          "2020-03-20T05:00:00+00:00",
          "2020-03-20T13:00:00+00:00",
          "2020-03-23T09:00:00+00:00",
          "2020-03-23T17:00:00+00:00",
          "2020-03-25T05:00:00+00:00",
          "2020-03-26T01:00:00+00:00",
          "2020-03-27T17:00:00+00:00",
          "2020-03-30T05:00:00+00:00"
         ]
        }
       ],
       "layout": {
        "font": {
         "color": "#e1e1e1",
         "size": 10
        },
        "height": 400,
        "margin": {
         "b": 10,
         "l": 10,
         "r": 10,
         "t": 30
        },
        "paper_bgcolor": "#1e1e1e",
        "plot_bgcolor": "#1e1e1e",
        "template": {
         "data": {
          "bar": [
           {
            "error_x": {
             "color": "#2a3f5f"
            },
            "error_y": {
             "color": "#2a3f5f"
            },
            "marker": {
             "line": {
              "color": "#E5ECF6",
              "width": 0.5
             },
             "pattern": {
              "fillmode": "overlay",
              "size": 10,
              "solidity": 0.2
             }
            },
            "type": "bar"
           }
          ],
          "barpolar": [
           {
            "marker": {
             "line": {
              "color": "#E5ECF6",
              "width": 0.5
             },
             "pattern": {
              "fillmode": "overlay",
              "size": 10,
              "solidity": 0.2
             }
            },
            "type": "barpolar"
           }
          ],
          "carpet": [
           {
            "aaxis": {
             "endlinecolor": "#2a3f5f",
             "gridcolor": "white",
             "linecolor": "white",
             "minorgridcolor": "white",
             "startlinecolor": "#2a3f5f"
            },
            "baxis": {
             "endlinecolor": "#2a3f5f",
             "gridcolor": "white",
             "linecolor": "white",
             "minorgridcolor": "white",
             "startlinecolor": "#2a3f5f"
            },
            "type": "carpet"
           }
          ],
          "choropleth": [
           {
            "colorbar": {
             "outlinewidth": 0,
             "ticks": ""
            },
            "type": "choropleth"
           }
          ],
          "contour": [
           {
            "colorbar": {
             "outlinewidth": 0,
             "ticks": ""
            },
            "colorscale": [
             [
              0,
              "#0d0887"
             ],
             [
              0.1111111111111111,
              "#46039f"
             ],
             [
              0.2222222222222222,
              "#7201a8"
             ],
             [
              0.3333333333333333,
              "#9c179e"
             ],
             [
              0.4444444444444444,
              "#bd3786"
             ],
             [
              0.5555555555555556,
              "#d8576b"
             ],
             [
              0.6666666666666666,
              "#ed7953"
             ],
             [
              0.7777777777777778,
              "#fb9f3a"
             ],
             [
              0.8888888888888888,
              "#fdca26"
             ],
             [
              1,
              "#f0f921"
             ]
            ],
            "type": "contour"
           }
          ],
          "contourcarpet": [
           {
            "colorbar": {
             "outlinewidth": 0,
             "ticks": ""
            },
            "type": "contourcarpet"
           }
          ],
          "heatmap": [
           {
            "colorbar": {
             "outlinewidth": 0,
             "ticks": ""
            },
            "colorscale": [
             [
              0,
              "#0d0887"
             ],
             [
              0.1111111111111111,
              "#46039f"
             ],
             [
              0.2222222222222222,
              "#7201a8"
             ],
             [
              0.3333333333333333,
              "#9c179e"
             ],
             [
              0.4444444444444444,
              "#bd3786"
             ],
             [
              0.5555555555555556,
              "#d8576b"
             ],
             [
              0.6666666666666666,
              "#ed7953"
             ],
             [
              0.7777777777777778,
              "#fb9f3a"
             ],
             [
              0.8888888888888888,
              "#fdca26"
             ],
             [
              1,
              "#f0f921"
             ]
            ],
            "type": "heatmap"
           }
          ],
          "heatmapgl": [
           {
            "colorbar": {
             "outlinewidth": 0,
             "ticks": ""
            },
            "colorscale": [
             [
              0,
              "#0d0887"
             ],
             [
              0.1111111111111111,
              "#46039f"
             ],
             [
              0.2222222222222222,
              "#7201a8"
             ],
             [
              0.3333333333333333,
              "#9c179e"
             ],
             [
              0.4444444444444444,
              "#bd3786"
             ],
             [
              0.5555555555555556,
              "#d8576b"
             ],
             [
              0.6666666666666666,
              "#ed7953"
             ],
             [
              0.7777777777777778,
              "#fb9f3a"
             ],
             [
              0.8888888888888888,
              "#fdca26"
             ],
             [
              1,
              "#f0f921"
             ]
            ],
            "type": "heatmapgl"
           }
          ],
          "histogram": [
           {
            "marker": {
             "pattern": {
              "fillmode": "overlay",
              "size": 10,
              "solidity": 0.2
             }
            },
            "type": "histogram"
           }
          ],
          "histogram2d": [
           {
            "colorbar": {
             "outlinewidth": 0,
             "ticks": ""
            },
            "colorscale": [
             [
              0,
              "#0d0887"
             ],
             [
              0.1111111111111111,
              "#46039f"
             ],
             [
              0.2222222222222222,
              "#7201a8"
             ],
             [
              0.3333333333333333,
              "#9c179e"
             ],
             [
              0.4444444444444444,
              "#bd3786"
             ],
             [
              0.5555555555555556,
              "#d8576b"
             ],
             [
              0.6666666666666666,
              "#ed7953"
             ],
             [
              0.7777777777777778,
              "#fb9f3a"
             ],
             [
              0.8888888888888888,
              "#fdca26"
             ],
             [
              1,
              "#f0f921"
             ]
            ],
            "type": "histogram2d"
           }
          ],
          "histogram2dcontour": [
           {
            "colorbar": {
             "outlinewidth": 0,
             "ticks": ""
            },
            "colorscale": [
             [
              0,
              "#0d0887"
             ],
             [
              0.1111111111111111,
              "#46039f"
             ],
             [
              0.2222222222222222,
              "#7201a8"
             ],
             [
              0.3333333333333333,
              "#9c179e"
             ],
             [
              0.4444444444444444,
              "#bd3786"
             ],
             [
              0.5555555555555556,
              "#d8576b"
             ],
             [
              0.6666666666666666,
              "#ed7953"
             ],
             [
              0.7777777777777778,
              "#fb9f3a"
             ],
             [
              0.8888888888888888,
              "#fdca26"
             ],
             [
              1,
              "#f0f921"
             ]
            ],
            "type": "histogram2dcontour"
           }
          ],
          "mesh3d": [
           {
            "colorbar": {
             "outlinewidth": 0,
             "ticks": ""
            },
            "type": "mesh3d"
           }
          ],
          "parcoords": [
           {
            "line": {
             "colorbar": {
              "outlinewidth": 0,
              "ticks": ""
             }
            },
            "type": "parcoords"
           }
          ],
          "pie": [
           {
            "automargin": true,
            "type": "pie"
           }
          ],
          "scatter": [
           {
            "fillpattern": {
             "fillmode": "overlay",
             "size": 10,
             "solidity": 0.2
            },
            "type": "scatter"
           }
          ],
          "scatter3d": [
           {
            "line": {
             "colorbar": {
              "outlinewidth": 0,
              "ticks": ""
             }
            },
            "marker": {
             "colorbar": {
              "outlinewidth": 0,
              "ticks": ""
             }
            },
            "type": "scatter3d"
           }
          ],
          "scattercarpet": [
           {
            "marker": {
             "colorbar": {
              "outlinewidth": 0,
              "ticks": ""
             }
            },
            "type": "scattercarpet"
           }
          ],
          "scattergeo": [
           {
            "marker": {
             "colorbar": {
              "outlinewidth": 0,
              "ticks": ""
             }
            },
            "type": "scattergeo"
           }
          ],
          "scattergl": [
           {
            "marker": {
             "colorbar": {
              "outlinewidth": 0,
              "ticks": ""
             }
            },
            "type": "scattergl"
           }
          ],
          "scattermapbox": [
           {
            "marker": {
             "colorbar": {
              "outlinewidth": 0,
              "ticks": ""
             }
            },
            "type": "scattermapbox"
           }
          ],
          "scatterpolar": [
           {
            "marker": {
             "colorbar": {
              "outlinewidth": 0,
              "ticks": ""
             }
            },
            "type": "scatterpolar"
           }
          ],
          "scatterpolargl": [
           {
            "marker": {
             "colorbar": {
              "outlinewidth": 0,
              "ticks": ""
             }
            },
            "type": "scatterpolargl"
           }
          ],
          "scatterternary": [
           {
            "marker": {
             "colorbar": {
              "outlinewidth": 0,
              "ticks": ""
             }
            },
            "type": "scatterternary"
           }
          ],
          "surface": [
           {
            "colorbar": {
             "outlinewidth": 0,
             "ticks": ""
            },
            "colorscale": [
             [
              0,
              "#0d0887"
             ],
             [
              0.1111111111111111,
              "#46039f"
             ],
             [
              0.2222222222222222,
              "#7201a8"
             ],
             [
              0.3333333333333333,
              "#9c179e"
             ],
             [
              0.4444444444444444,
              "#bd3786"
             ],
             [
              0.5555555555555556,
              "#d8576b"
             ],
             [
              0.6666666666666666,
              "#ed7953"
             ],
             [
              0.7777777777777778,
              "#fb9f3a"
             ],
             [
              0.8888888888888888,
              "#fdca26"
             ],
             [
              1,
              "#f0f921"
             ]
            ],
            "type": "surface"
           }
          ],
          "table": [
           {
            "cells": {
             "fill": {
              "color": "#EBF0F8"
             },
             "line": {
              "color": "white"
             }
            },
            "header": {
             "fill": {
              "color": "#C8D4E3"
             },
             "line": {
              "color": "white"
             }
            },
            "type": "table"
           }
          ]
         },
         "layout": {
          "annotationdefaults": {
           "arrowcolor": "#2a3f5f",
           "arrowhead": 0,
           "arrowwidth": 1
          },
          "autotypenumbers": "strict",
          "coloraxis": {
           "colorbar": {
            "outlinewidth": 0,
            "ticks": ""
           }
          },
          "colorscale": {
           "diverging": [
            [
             0,
             "#8e0152"
            ],
            [
             0.1,
             "#c51b7d"
            ],
            [
             0.2,
             "#de77ae"
            ],
            [
             0.3,
             "#f1b6da"
            ],
            [
             0.4,
             "#fde0ef"
            ],
            [
             0.5,
             "#f7f7f7"
            ],
            [
             0.6,
             "#e6f5d0"
            ],
            [
             0.7,
             "#b8e186"
            ],
            [
             0.8,
             "#7fbc41"
            ],
            [
             0.9,
             "#4d9221"
            ],
            [
             1,
             "#276419"
            ]
           ],
           "sequential": [
            [
             0,
             "#0d0887"
            ],
            [
             0.1111111111111111,
             "#46039f"
            ],
            [
             0.2222222222222222,
             "#7201a8"
            ],
            [
             0.3333333333333333,
             "#9c179e"
            ],
            [
             0.4444444444444444,
             "#bd3786"
            ],
            [
             0.5555555555555556,
             "#d8576b"
            ],
            [
             0.6666666666666666,
             "#ed7953"
            ],
            [
             0.7777777777777778,
             "#fb9f3a"
            ],
            [
             0.8888888888888888,
             "#fdca26"
            ],
            [
             1,
             "#f0f921"
            ]
           ],
           "sequentialminus": [
            [
             0,
             "#0d0887"
            ],
            [
             0.1111111111111111,
             "#46039f"
            ],
            [
             0.2222222222222222,
             "#7201a8"
            ],
            [
             0.3333333333333333,
             "#9c179e"
            ],
            [
             0.4444444444444444,
             "#bd3786"
            ],
            [
             0.5555555555555556,
             "#d8576b"
            ],
            [
             0.6666666666666666,
             "#ed7953"
            ],
            [
             0.7777777777777778,
             "#fb9f3a"
            ],
            [
             0.8888888888888888,
             "#fdca26"
            ],
            [
             1,
             "#f0f921"
            ]
           ]
          },
          "colorway": [
           "#636efa",
           "#EF553B",
           "#00cc96",
           "#ab63fa",
           "#FFA15A",
           "#19d3f3",
           "#FF6692",
           "#B6E880",
           "#FF97FF",
           "#FECB52"
          ],
          "font": {
           "color": "#2a3f5f"
          },
          "geo": {
           "bgcolor": "white",
           "lakecolor": "white",
           "landcolor": "#E5ECF6",
           "showlakes": true,
           "showland": true,
           "subunitcolor": "white"
          },
          "hoverlabel": {
           "align": "left"
          },
          "hovermode": "closest",
          "mapbox": {
           "style": "light"
          },
          "paper_bgcolor": "white",
          "plot_bgcolor": "#E5ECF6",
          "polar": {
           "angularaxis": {
            "gridcolor": "white",
            "linecolor": "white",
            "ticks": ""
           },
           "bgcolor": "#E5ECF6",
           "radialaxis": {
            "gridcolor": "white",
            "linecolor": "white",
            "ticks": ""
           }
          },
          "scene": {
           "xaxis": {
            "backgroundcolor": "#E5ECF6",
            "gridcolor": "white",
            "gridwidth": 2,
            "linecolor": "white",
            "showbackground": true,
            "ticks": "",
            "zerolinecolor": "white"
           },
           "yaxis": {
            "backgroundcolor": "#E5ECF6",
            "gridcolor": "white",
            "gridwidth": 2,
            "linecolor": "white",
            "showbackground": true,
            "ticks": "",
            "zerolinecolor": "white"
           },
           "zaxis": {
            "backgroundcolor": "#E5ECF6",
            "gridcolor": "white",
            "gridwidth": 2,
            "linecolor": "white",
            "showbackground": true,
            "ticks": "",
            "zerolinecolor": "white"
           }
          },
          "shapedefaults": {
           "line": {
            "color": "#2a3f5f"
           }
          },
          "ternary": {
           "aaxis": {
            "gridcolor": "white",
            "linecolor": "white",
            "ticks": ""
           },
           "baxis": {
            "gridcolor": "white",
            "linecolor": "white",
            "ticks": ""
           },
           "bgcolor": "#E5ECF6",
           "caxis": {
            "gridcolor": "white",
            "linecolor": "white",
            "ticks": ""
           }
          },
          "title": {
           "x": 0.05
          },
          "xaxis": {
           "automargin": true,
           "gridcolor": "white",
           "linecolor": "white",
           "ticks": "",
           "title": {
            "standoff": 15
           },
           "zerolinecolor": "white",
           "zerolinewidth": 2
          },
          "yaxis": {
           "automargin": true,
           "gridcolor": "white",
           "linecolor": "white",
           "ticks": "",
           "title": {
            "standoff": 15
           },
           "zerolinecolor": "white",
           "zerolinewidth": 2
          }
         }
        },
        "title": {
         "text": "Candle Chart - Blue Candle Indicators"
        },
        "width": 1000,
        "xaxis": {
         "fixedrange": true,
         "gridcolor": "#1f292f",
         "rangebreaks": [
          {
           "bounds": [
            "sat",
            "mon"
           ]
          }
         ],
         "rangeslider": {
          "visible": false
         },
         "showgrid": true
        },
        "yaxis": {
         "gridcolor": "#1f292f",
         "showgrid": true
        }
       }
      }
     },
     "metadata": {},
     "output_type": "display_data"
    }
   ],
   "source": [
    "plot_candles(df_plot, df_markers)"
   ]
  },
  {
   "cell_type": "markdown",
   "metadata": {},
   "source": [
    "Double candle patterns"
   ]
  },
  {
   "cell_type": "code",
   "execution_count": 158,
   "metadata": {},
   "outputs": [],
   "source": [
    "df_plot = df.iloc[330:400]\n",
    "df_markers = df_plot[(df_plot.ENGULFING==True)]"
   ]
  },
  {
   "cell_type": "code",
   "execution_count": 159,
   "metadata": {},
   "outputs": [
    {
     "data": {
      "application/vnd.plotly.v1+json": {
       "config": {
        "plotlyServerURL": "https://plot.ly"
       },
       "data": [
        {
         "close": [
          109.072,
          108.914,
          109.78,
          110.196,
          110.707,
          111.146,
          109.946,
          109.908,
          110.366,
          111.464,
          110.793,
          110.542,
          110.086,
          110.184,
          110.222,
          111.229,
          111.242,
          110.458,
          110.288,
          110.712,
          110.787,
          111.478,
          111.221,
          111.01,
          111.324,
          111.31,
          111.349,
          111.422,
          111.208,
          110.748,
          110.73,
          110.103,
          109.654,
          109.456,
          109.627,
          109.048,
          108.35,
          108.918,
          108.79,
          107.995,
          108.014,
          107.514,
          107.606,
          107.63,
          108.272,
          107.914,
          107.778,
          108.53,
          108.262,
          108.516,
          108.408,
          107.78,
          107.557,
          107.492,
          107.76,
          107.476,
          107.391,
          107.085,
          107.172,
          107.415,
          107.486,
          107.309,
          107.19,
          107.968,
          107.884,
          108.064,
          107.979,
          108.264,
          108.585,
          108.486
         ],
         "decreasing": {
          "fillcolor": "#CC2E3C",
          "line": {
           "color": "#FF3A4C"
          }
         },
         "high": [
          109.554,
          109.241,
          110.002,
          110.208,
          110.956,
          111.366,
          111.202,
          110.098,
          110.393,
          111.48,
          111.508,
          111.252,
          110.73,
          110.296,
          110.888,
          111.596,
          111.572,
          111.332,
          110.576,
          110.774,
          111.006,
          111.629,
          111.717,
          111.537,
          111.35,
          111.568,
          111.482,
          111.682,
          111.517,
          111.298,
          110.856,
          110.749,
          110.172,
          110.084,
          109.628,
          109.747,
          109.083,
          109.005,
          109.07,
          108.902,
          108.178,
          107.976,
          107.708,
          108.247,
          108.296,
          108.288,
          108.106,
          108.73,
          108.706,
          108.614,
          108.728,
          108.486,
          107.936,
          107.768,
          107.941,
          107.815,
          107.672,
          107.474,
          107.328,
          107.487,
          107.572,
          107.484,
          107.445,
          108.095,
          108.002,
          108.201,
          108.122,
          108.296,
          108.596,
          108.678
         ],
         "increasing": {
          "fillcolor": "#24A06B",
          "line": {
           "color": "#2EC886"
          }
         },
         "line": {
          "width": 1
         },
         "low": [
          108.59,
          108.456,
          108.826,
          109.547,
          110.049,
          110.682,
          109.928,
          109.335,
          109.806,
          110.364,
          110.72,
          110.262,
          109.998,
          109.67,
          109.818,
          110.164,
          111.125,
          110.447,
          110.085,
          110.18,
          110.296,
          110.598,
          111.18,
          110.939,
          110.754,
          111.132,
          111.064,
          111.344,
          111.088,
          110.596,
          110.46,
          110.064,
          109.556,
          109.35,
          109.207,
          108.895,
          108.26,
          108.239,
          108.53,
          107.866,
          107.758,
          107.368,
          107.126,
          107.582,
          107.496,
          107.654,
          107.746,
          107.738,
          108.186,
          108.098,
          108.258,
          107.462,
          107.476,
          107.256,
          107.43,
          107.286,
          107.298,
          106.998,
          106.918,
          107.048,
          107.296,
          107.146,
          107.018,
          107.126,
          107.811,
          107.832,
          107.802,
          107.826,
          108.253,
          108.36
         ],
         "opacity": 1,
         "open": [
          108.809,
          109.073,
          108.912,
          109.782,
          110.195,
          110.711,
          111.148,
          109.944,
          109.906,
          110.365,
          111.465,
          110.823,
          110.544,
          110.088,
          110.186,
          110.22,
          111.227,
          111.242,
          110.456,
          110.29,
          110.71,
          110.788,
          111.48,
          111.221,
          111.007,
          111.326,
          111.311,
          111.351,
          111.423,
          111.208,
          110.746,
          110.731,
          110.105,
          109.656,
          109.458,
          109.627,
          109.046,
          108.348,
          108.92,
          108.789,
          107.994,
          107.725,
          107.516,
          107.604,
          107.628,
          108.274,
          107.916,
          107.778,
          108.532,
          108.26,
          108.517,
          108.41,
          107.778,
          107.557,
          107.494,
          107.762,
          107.474,
          107.392,
          107.084,
          107.172,
          107.416,
          107.484,
          107.31,
          107.188,
          107.969,
          107.884,
          108.066,
          107.978,
          108.264,
          108.587
         ],
         "type": "candlestick",
         "x": [
          "2020-03-19T01:00:00+00:00",
          "2020-03-19T05:00:00+00:00",
          "2020-03-19T09:00:00+00:00",
          "2020-03-19T13:00:00+00:00",
          "2020-03-19T17:00:00+00:00",
          "2020-03-19T21:00:00+00:00",
          "2020-03-20T01:00:00+00:00",
          "2020-03-20T05:00:00+00:00",
          "2020-03-20T09:00:00+00:00",
          "2020-03-20T13:00:00+00:00",
          "2020-03-20T17:00:00+00:00",
          "2020-03-22T21:00:00+00:00",
          "2020-03-23T01:00:00+00:00",
          "2020-03-23T05:00:00+00:00",
          "2020-03-23T09:00:00+00:00",
          "2020-03-23T13:00:00+00:00",
          "2020-03-23T17:00:00+00:00",
          "2020-03-23T21:00:00+00:00",
          "2020-03-24T01:00:00+00:00",
          "2020-03-24T05:00:00+00:00",
          "2020-03-24T09:00:00+00:00",
          "2020-03-24T13:00:00+00:00",
          "2020-03-24T17:00:00+00:00",
          "2020-03-24T21:00:00+00:00",
          "2020-03-25T01:00:00+00:00",
          "2020-03-25T05:00:00+00:00",
          "2020-03-25T09:00:00+00:00",
          "2020-03-25T13:00:00+00:00",
          "2020-03-25T17:00:00+00:00",
          "2020-03-25T21:00:00+00:00",
          "2020-03-26T01:00:00+00:00",
          "2020-03-26T05:00:00+00:00",
          "2020-03-26T09:00:00+00:00",
          "2020-03-26T13:00:00+00:00",
          "2020-03-26T17:00:00+00:00",
          "2020-03-26T21:00:00+00:00",
          "2020-03-27T01:00:00+00:00",
          "2020-03-27T05:00:00+00:00",
          "2020-03-27T09:00:00+00:00",
          "2020-03-27T13:00:00+00:00",
          "2020-03-27T17:00:00+00:00",
          "2020-03-29T21:00:00+00:00",
          "2020-03-30T01:00:00+00:00",
          "2020-03-30T05:00:00+00:00",
          "2020-03-30T09:00:00+00:00",
          "2020-03-30T13:00:00+00:00",
          "2020-03-30T17:00:00+00:00",
          "2020-03-30T21:00:00+00:00",
          "2020-03-31T01:00:00+00:00",
          "2020-03-31T05:00:00+00:00",
          "2020-03-31T09:00:00+00:00",
          "2020-03-31T13:00:00+00:00",
          "2020-03-31T17:00:00+00:00",
          "2020-03-31T21:00:00+00:00",
          "2020-04-01T01:00:00+00:00",
          "2020-04-01T05:00:00+00:00",
          "2020-04-01T09:00:00+00:00",
          "2020-04-01T13:00:00+00:00",
          "2020-04-01T17:00:00+00:00",
          "2020-04-01T21:00:00+00:00",
          "2020-04-02T01:00:00+00:00",
          "2020-04-02T05:00:00+00:00",
          "2020-04-02T09:00:00+00:00",
          "2020-04-02T13:00:00+00:00",
          "2020-04-02T17:00:00+00:00",
          "2020-04-02T21:00:00+00:00",
          "2020-04-03T01:00:00+00:00",
          "2020-04-03T05:00:00+00:00",
          "2020-04-03T09:00:00+00:00",
          "2020-04-03T13:00:00+00:00"
         ]
        },
        {
         "close": [
          109.946
         ],
         "decreasing": {
          "fillcolor": "#3480eb",
          "line": {
           "color": "#3480eb"
          }
         },
         "high": [
          111.202
         ],
         "increasing": {
          "fillcolor": "#3480eb",
          "line": {
           "color": "#3480eb"
          }
         },
         "line": {
          "width": 1
         },
         "low": [
          109.928
         ],
         "opacity": 1,
         "open": [
          111.148
         ],
         "type": "candlestick",
         "x": [
          "2020-03-20T01:00:00+00:00"
         ]
        }
       ],
       "layout": {
        "font": {
         "color": "#e1e1e1",
         "size": 10
        },
        "height": 400,
        "margin": {
         "b": 10,
         "l": 10,
         "r": 10,
         "t": 30
        },
        "paper_bgcolor": "#1e1e1e",
        "plot_bgcolor": "#1e1e1e",
        "template": {
         "data": {
          "bar": [
           {
            "error_x": {
             "color": "#2a3f5f"
            },
            "error_y": {
             "color": "#2a3f5f"
            },
            "marker": {
             "line": {
              "color": "#E5ECF6",
              "width": 0.5
             },
             "pattern": {
              "fillmode": "overlay",
              "size": 10,
              "solidity": 0.2
             }
            },
            "type": "bar"
           }
          ],
          "barpolar": [
           {
            "marker": {
             "line": {
              "color": "#E5ECF6",
              "width": 0.5
             },
             "pattern": {
              "fillmode": "overlay",
              "size": 10,
              "solidity": 0.2
             }
            },
            "type": "barpolar"
           }
          ],
          "carpet": [
           {
            "aaxis": {
             "endlinecolor": "#2a3f5f",
             "gridcolor": "white",
             "linecolor": "white",
             "minorgridcolor": "white",
             "startlinecolor": "#2a3f5f"
            },
            "baxis": {
             "endlinecolor": "#2a3f5f",
             "gridcolor": "white",
             "linecolor": "white",
             "minorgridcolor": "white",
             "startlinecolor": "#2a3f5f"
            },
            "type": "carpet"
           }
          ],
          "choropleth": [
           {
            "colorbar": {
             "outlinewidth": 0,
             "ticks": ""
            },
            "type": "choropleth"
           }
          ],
          "contour": [
           {
            "colorbar": {
             "outlinewidth": 0,
             "ticks": ""
            },
            "colorscale": [
             [
              0,
              "#0d0887"
             ],
             [
              0.1111111111111111,
              "#46039f"
             ],
             [
              0.2222222222222222,
              "#7201a8"
             ],
             [
              0.3333333333333333,
              "#9c179e"
             ],
             [
              0.4444444444444444,
              "#bd3786"
             ],
             [
              0.5555555555555556,
              "#d8576b"
             ],
             [
              0.6666666666666666,
              "#ed7953"
             ],
             [
              0.7777777777777778,
              "#fb9f3a"
             ],
             [
              0.8888888888888888,
              "#fdca26"
             ],
             [
              1,
              "#f0f921"
             ]
            ],
            "type": "contour"
           }
          ],
          "contourcarpet": [
           {
            "colorbar": {
             "outlinewidth": 0,
             "ticks": ""
            },
            "type": "contourcarpet"
           }
          ],
          "heatmap": [
           {
            "colorbar": {
             "outlinewidth": 0,
             "ticks": ""
            },
            "colorscale": [
             [
              0,
              "#0d0887"
             ],
             [
              0.1111111111111111,
              "#46039f"
             ],
             [
              0.2222222222222222,
              "#7201a8"
             ],
             [
              0.3333333333333333,
              "#9c179e"
             ],
             [
              0.4444444444444444,
              "#bd3786"
             ],
             [
              0.5555555555555556,
              "#d8576b"
             ],
             [
              0.6666666666666666,
              "#ed7953"
             ],
             [
              0.7777777777777778,
              "#fb9f3a"
             ],
             [
              0.8888888888888888,
              "#fdca26"
             ],
             [
              1,
              "#f0f921"
             ]
            ],
            "type": "heatmap"
           }
          ],
          "heatmapgl": [
           {
            "colorbar": {
             "outlinewidth": 0,
             "ticks": ""
            },
            "colorscale": [
             [
              0,
              "#0d0887"
             ],
             [
              0.1111111111111111,
              "#46039f"
             ],
             [
              0.2222222222222222,
              "#7201a8"
             ],
             [
              0.3333333333333333,
              "#9c179e"
             ],
             [
              0.4444444444444444,
              "#bd3786"
             ],
             [
              0.5555555555555556,
              "#d8576b"
             ],
             [
              0.6666666666666666,
              "#ed7953"
             ],
             [
              0.7777777777777778,
              "#fb9f3a"
             ],
             [
              0.8888888888888888,
              "#fdca26"
             ],
             [
              1,
              "#f0f921"
             ]
            ],
            "type": "heatmapgl"
           }
          ],
          "histogram": [
           {
            "marker": {
             "pattern": {
              "fillmode": "overlay",
              "size": 10,
              "solidity": 0.2
             }
            },
            "type": "histogram"
           }
          ],
          "histogram2d": [
           {
            "colorbar": {
             "outlinewidth": 0,
             "ticks": ""
            },
            "colorscale": [
             [
              0,
              "#0d0887"
             ],
             [
              0.1111111111111111,
              "#46039f"
             ],
             [
              0.2222222222222222,
              "#7201a8"
             ],
             [
              0.3333333333333333,
              "#9c179e"
             ],
             [
              0.4444444444444444,
              "#bd3786"
             ],
             [
              0.5555555555555556,
              "#d8576b"
             ],
             [
              0.6666666666666666,
              "#ed7953"
             ],
             [
              0.7777777777777778,
              "#fb9f3a"
             ],
             [
              0.8888888888888888,
              "#fdca26"
             ],
             [
              1,
              "#f0f921"
             ]
            ],
            "type": "histogram2d"
           }
          ],
          "histogram2dcontour": [
           {
            "colorbar": {
             "outlinewidth": 0,
             "ticks": ""
            },
            "colorscale": [
             [
              0,
              "#0d0887"
             ],
             [
              0.1111111111111111,
              "#46039f"
             ],
             [
              0.2222222222222222,
              "#7201a8"
             ],
             [
              0.3333333333333333,
              "#9c179e"
             ],
             [
              0.4444444444444444,
              "#bd3786"
             ],
             [
              0.5555555555555556,
              "#d8576b"
             ],
             [
              0.6666666666666666,
              "#ed7953"
             ],
             [
              0.7777777777777778,
              "#fb9f3a"
             ],
             [
              0.8888888888888888,
              "#fdca26"
             ],
             [
              1,
              "#f0f921"
             ]
            ],
            "type": "histogram2dcontour"
           }
          ],
          "mesh3d": [
           {
            "colorbar": {
             "outlinewidth": 0,
             "ticks": ""
            },
            "type": "mesh3d"
           }
          ],
          "parcoords": [
           {
            "line": {
             "colorbar": {
              "outlinewidth": 0,
              "ticks": ""
             }
            },
            "type": "parcoords"
           }
          ],
          "pie": [
           {
            "automargin": true,
            "type": "pie"
           }
          ],
          "scatter": [
           {
            "fillpattern": {
             "fillmode": "overlay",
             "size": 10,
             "solidity": 0.2
            },
            "type": "scatter"
           }
          ],
          "scatter3d": [
           {
            "line": {
             "colorbar": {
              "outlinewidth": 0,
              "ticks": ""
             }
            },
            "marker": {
             "colorbar": {
              "outlinewidth": 0,
              "ticks": ""
             }
            },
            "type": "scatter3d"
           }
          ],
          "scattercarpet": [
           {
            "marker": {
             "colorbar": {
              "outlinewidth": 0,
              "ticks": ""
             }
            },
            "type": "scattercarpet"
           }
          ],
          "scattergeo": [
           {
            "marker": {
             "colorbar": {
              "outlinewidth": 0,
              "ticks": ""
             }
            },
            "type": "scattergeo"
           }
          ],
          "scattergl": [
           {
            "marker": {
             "colorbar": {
              "outlinewidth": 0,
              "ticks": ""
             }
            },
            "type": "scattergl"
           }
          ],
          "scattermapbox": [
           {
            "marker": {
             "colorbar": {
              "outlinewidth": 0,
              "ticks": ""
             }
            },
            "type": "scattermapbox"
           }
          ],
          "scatterpolar": [
           {
            "marker": {
             "colorbar": {
              "outlinewidth": 0,
              "ticks": ""
             }
            },
            "type": "scatterpolar"
           }
          ],
          "scatterpolargl": [
           {
            "marker": {
             "colorbar": {
              "outlinewidth": 0,
              "ticks": ""
             }
            },
            "type": "scatterpolargl"
           }
          ],
          "scatterternary": [
           {
            "marker": {
             "colorbar": {
              "outlinewidth": 0,
              "ticks": ""
             }
            },
            "type": "scatterternary"
           }
          ],
          "surface": [
           {
            "colorbar": {
             "outlinewidth": 0,
             "ticks": ""
            },
            "colorscale": [
             [
              0,
              "#0d0887"
             ],
             [
              0.1111111111111111,
              "#46039f"
             ],
             [
              0.2222222222222222,
              "#7201a8"
             ],
             [
              0.3333333333333333,
              "#9c179e"
             ],
             [
              0.4444444444444444,
              "#bd3786"
             ],
             [
              0.5555555555555556,
              "#d8576b"
             ],
             [
              0.6666666666666666,
              "#ed7953"
             ],
             [
              0.7777777777777778,
              "#fb9f3a"
             ],
             [
              0.8888888888888888,
              "#fdca26"
             ],
             [
              1,
              "#f0f921"
             ]
            ],
            "type": "surface"
           }
          ],
          "table": [
           {
            "cells": {
             "fill": {
              "color": "#EBF0F8"
             },
             "line": {
              "color": "white"
             }
            },
            "header": {
             "fill": {
              "color": "#C8D4E3"
             },
             "line": {
              "color": "white"
             }
            },
            "type": "table"
           }
          ]
         },
         "layout": {
          "annotationdefaults": {
           "arrowcolor": "#2a3f5f",
           "arrowhead": 0,
           "arrowwidth": 1
          },
          "autotypenumbers": "strict",
          "coloraxis": {
           "colorbar": {
            "outlinewidth": 0,
            "ticks": ""
           }
          },
          "colorscale": {
           "diverging": [
            [
             0,
             "#8e0152"
            ],
            [
             0.1,
             "#c51b7d"
            ],
            [
             0.2,
             "#de77ae"
            ],
            [
             0.3,
             "#f1b6da"
            ],
            [
             0.4,
             "#fde0ef"
            ],
            [
             0.5,
             "#f7f7f7"
            ],
            [
             0.6,
             "#e6f5d0"
            ],
            [
             0.7,
             "#b8e186"
            ],
            [
             0.8,
             "#7fbc41"
            ],
            [
             0.9,
             "#4d9221"
            ],
            [
             1,
             "#276419"
            ]
           ],
           "sequential": [
            [
             0,
             "#0d0887"
            ],
            [
             0.1111111111111111,
             "#46039f"
            ],
            [
             0.2222222222222222,
             "#7201a8"
            ],
            [
             0.3333333333333333,
             "#9c179e"
            ],
            [
             0.4444444444444444,
             "#bd3786"
            ],
            [
             0.5555555555555556,
             "#d8576b"
            ],
            [
             0.6666666666666666,
             "#ed7953"
            ],
            [
             0.7777777777777778,
             "#fb9f3a"
            ],
            [
             0.8888888888888888,
             "#fdca26"
            ],
            [
             1,
             "#f0f921"
            ]
           ],
           "sequentialminus": [
            [
             0,
             "#0d0887"
            ],
            [
             0.1111111111111111,
             "#46039f"
            ],
            [
             0.2222222222222222,
             "#7201a8"
            ],
            [
             0.3333333333333333,
             "#9c179e"
            ],
            [
             0.4444444444444444,
             "#bd3786"
            ],
            [
             0.5555555555555556,
             "#d8576b"
            ],
            [
             0.6666666666666666,
             "#ed7953"
            ],
            [
             0.7777777777777778,
             "#fb9f3a"
            ],
            [
             0.8888888888888888,
             "#fdca26"
            ],
            [
             1,
             "#f0f921"
            ]
           ]
          },
          "colorway": [
           "#636efa",
           "#EF553B",
           "#00cc96",
           "#ab63fa",
           "#FFA15A",
           "#19d3f3",
           "#FF6692",
           "#B6E880",
           "#FF97FF",
           "#FECB52"
          ],
          "font": {
           "color": "#2a3f5f"
          },
          "geo": {
           "bgcolor": "white",
           "lakecolor": "white",
           "landcolor": "#E5ECF6",
           "showlakes": true,
           "showland": true,
           "subunitcolor": "white"
          },
          "hoverlabel": {
           "align": "left"
          },
          "hovermode": "closest",
          "mapbox": {
           "style": "light"
          },
          "paper_bgcolor": "white",
          "plot_bgcolor": "#E5ECF6",
          "polar": {
           "angularaxis": {
            "gridcolor": "white",
            "linecolor": "white",
            "ticks": ""
           },
           "bgcolor": "#E5ECF6",
           "radialaxis": {
            "gridcolor": "white",
            "linecolor": "white",
            "ticks": ""
           }
          },
          "scene": {
           "xaxis": {
            "backgroundcolor": "#E5ECF6",
            "gridcolor": "white",
            "gridwidth": 2,
            "linecolor": "white",
            "showbackground": true,
            "ticks": "",
            "zerolinecolor": "white"
           },
           "yaxis": {
            "backgroundcolor": "#E5ECF6",
            "gridcolor": "white",
            "gridwidth": 2,
            "linecolor": "white",
            "showbackground": true,
            "ticks": "",
            "zerolinecolor": "white"
           },
           "zaxis": {
            "backgroundcolor": "#E5ECF6",
            "gridcolor": "white",
            "gridwidth": 2,
            "linecolor": "white",
            "showbackground": true,
            "ticks": "",
            "zerolinecolor": "white"
           }
          },
          "shapedefaults": {
           "line": {
            "color": "#2a3f5f"
           }
          },
          "ternary": {
           "aaxis": {
            "gridcolor": "white",
            "linecolor": "white",
            "ticks": ""
           },
           "baxis": {
            "gridcolor": "white",
            "linecolor": "white",
            "ticks": ""
           },
           "bgcolor": "#E5ECF6",
           "caxis": {
            "gridcolor": "white",
            "linecolor": "white",
            "ticks": ""
           }
          },
          "title": {
           "x": 0.05
          },
          "xaxis": {
           "automargin": true,
           "gridcolor": "white",
           "linecolor": "white",
           "ticks": "",
           "title": {
            "standoff": 15
           },
           "zerolinecolor": "white",
           "zerolinewidth": 2
          },
          "yaxis": {
           "automargin": true,
           "gridcolor": "white",
           "linecolor": "white",
           "ticks": "",
           "title": {
            "standoff": 15
           },
           "zerolinecolor": "white",
           "zerolinewidth": 2
          }
         }
        },
        "title": {
         "text": "Candle Chart - Blue Candle Indicators"
        },
        "width": 1000,
        "xaxis": {
         "fixedrange": true,
         "gridcolor": "#1f292f",
         "rangebreaks": [
          {
           "bounds": [
            "sat",
            "mon"
           ]
          }
         ],
         "rangeslider": {
          "visible": false
         },
         "showgrid": true
        },
        "yaxis": {
         "gridcolor": "#1f292f",
         "showgrid": true
        }
       }
      }
     },
     "metadata": {},
     "output_type": "display_data"
    }
   ],
   "source": [
    "plot_candles(df_plot, df_markers)"
   ]
  },
  {
   "cell_type": "markdown",
   "metadata": {},
   "source": []
  }
 ],
 "metadata": {
  "kernelspec": {
   "display_name": "Python 3",
   "language": "python",
   "name": "python3"
  },
  "language_info": {
   "codemirror_mode": {
    "name": "ipython",
    "version": 3
   },
   "file_extension": ".py",
   "mimetype": "text/x-python",
   "name": "python",
   "nbconvert_exporter": "python",
   "pygments_lexer": "ipython3",
   "version": "3.10.4"
  },
  "orig_nbformat": 4
 },
 "nbformat": 4,
 "nbformat_minor": 2
}
