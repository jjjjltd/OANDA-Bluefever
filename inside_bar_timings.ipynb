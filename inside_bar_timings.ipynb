{
 "cells": [
  {
   "cell_type": "markdown",
   "metadata": {},
   "source": [
    "This notebook is a - kind of - continuation from: inside_bar_explore.ipynb"
   ]
  },
  {
   "cell_type": "code",
   "execution_count": 52,
   "metadata": {},
   "outputs": [],
   "source": [
    "import pandas as pd\n",
    "import plotly.graph_objects as go\n",
    "import utils\n",
    "import datetime as dt\n",
    "from dateutil.parser import *"
   ]
  },
  {
   "cell_type": "code",
   "execution_count": 53,
   "metadata": {},
   "outputs": [],
   "source": [
    "df_trades = pd.read_csv(\"./Data/Pairs/USD_JPY_H4_trades.csv\")"
   ]
  },
  {
   "cell_type": "code",
   "execution_count": 54,
   "metadata": {},
   "outputs": [],
   "source": [
    "pair = \"USD_JPY\"\n",
    "granularity = \"M5\""
   ]
  },
  {
   "cell_type": "code",
   "execution_count": 55,
   "metadata": {},
   "outputs": [
    {
     "data": {
      "text/plain": [
       "(223553, 16)"
      ]
     },
     "execution_count": 55,
     "metadata": {},
     "output_type": "execute_result"
    }
   ],
   "source": [
    "df_raw = pd.read_csv(utils.get_hist_data_filename(pair, granularity))\n",
    "df_raw.shape"
   ]
  },
  {
   "cell_type": "code",
   "execution_count": 56,
   "metadata": {},
   "outputs": [],
   "source": [
    "non_nums = ['ticker', 'time', 'volume']\n",
    "num_cols = [x for x in df_raw.columns if x not in non_nums]\n",
    "df_raw[num_cols] = df_raw[num_cols].apply(pd.to_numeric)"
   ]
  },
  {
   "cell_type": "code",
   "execution_count": 57,
   "metadata": {},
   "outputs": [],
   "source": [
    "df_trades[\"time\"] = [parse(x) for x in df_trades.time]\n",
    "df_raw[\"time\"] = [parse(x) for x in df_raw.time]"
   ]
  },
  {
   "cell_type": "markdown",
   "metadata": {},
   "source": [
    "We need to know the time of the next trade (shift), and the time of the last 5 minute trade in the 4 hour window (because the \"H4\" granularity data is what we're digging into).  So, that's why we're adding 03:55 to the start time of the 4 hour window."
   ]
  },
  {
   "cell_type": "code",
   "execution_count": 58,
   "metadata": {},
   "outputs": [
    {
     "data": {
      "text/html": [
       "<div>\n",
       "<style scoped>\n",
       "    .dataframe tbody tr th:only-of-type {\n",
       "        vertical-align: middle;\n",
       "    }\n",
       "\n",
       "    .dataframe tbody tr th {\n",
       "        vertical-align: top;\n",
       "    }\n",
       "\n",
       "    .dataframe thead th {\n",
       "        text-align: right;\n",
       "    }\n",
       "</style>\n",
       "<table border=\"1\" class=\"dataframe\">\n",
       "  <thead>\n",
       "    <tr style=\"text-align: right;\">\n",
       "      <th></th>\n",
       "      <th>time</th>\n",
       "      <th>next</th>\n",
       "      <th>trade_end</th>\n",
       "    </tr>\n",
       "  </thead>\n",
       "  <tbody>\n",
       "    <tr>\n",
       "      <th>0</th>\n",
       "      <td>2020-01-05 22:00:00+00:00</td>\n",
       "      <td>2020-01-06 22:00:00+00:00</td>\n",
       "      <td>2020-01-07 01:55:00+00:00</td>\n",
       "    </tr>\n",
       "    <tr>\n",
       "      <th>1</th>\n",
       "      <td>2020-01-06 22:00:00+00:00</td>\n",
       "      <td>2020-01-07 06:00:00+00:00</td>\n",
       "      <td>2020-01-07 09:55:00+00:00</td>\n",
       "    </tr>\n",
       "    <tr>\n",
       "      <th>2</th>\n",
       "      <td>2020-01-07 06:00:00+00:00</td>\n",
       "      <td>2020-01-09 18:00:00+00:00</td>\n",
       "      <td>2020-01-09 21:55:00+00:00</td>\n",
       "    </tr>\n",
       "    <tr>\n",
       "      <th>3</th>\n",
       "      <td>2020-01-09 18:00:00+00:00</td>\n",
       "      <td>2020-01-16 10:00:00+00:00</td>\n",
       "      <td>2020-01-16 13:55:00+00:00</td>\n",
       "    </tr>\n",
       "    <tr>\n",
       "      <th>4</th>\n",
       "      <td>2020-01-16 10:00:00+00:00</td>\n",
       "      <td>2020-01-20 14:00:00+00:00</td>\n",
       "      <td>2020-01-20 17:55:00+00:00</td>\n",
       "    </tr>\n",
       "  </tbody>\n",
       "</table>\n",
       "</div>"
      ],
      "text/plain": [
       "                       time                      next  \\\n",
       "0 2020-01-05 22:00:00+00:00 2020-01-06 22:00:00+00:00   \n",
       "1 2020-01-06 22:00:00+00:00 2020-01-07 06:00:00+00:00   \n",
       "2 2020-01-07 06:00:00+00:00 2020-01-09 18:00:00+00:00   \n",
       "3 2020-01-09 18:00:00+00:00 2020-01-16 10:00:00+00:00   \n",
       "4 2020-01-16 10:00:00+00:00 2020-01-20 14:00:00+00:00   \n",
       "\n",
       "                  trade_end  \n",
       "0 2020-01-07 01:55:00+00:00  \n",
       "1 2020-01-07 09:55:00+00:00  \n",
       "2 2020-01-09 21:55:00+00:00  \n",
       "3 2020-01-16 13:55:00+00:00  \n",
       "4 2020-01-20 17:55:00+00:00  "
      ]
     },
     "execution_count": 58,
     "metadata": {},
     "output_type": "execute_result"
    }
   ],
   "source": [
    "df_trades[\"next\"] =  df_trades[\"time\"].shift(-1)\n",
    "df_trades[\"trade_end\"] = df_trades.next + dt.timedelta(hours=3, minutes=55)\n",
    "df_trades[[\"time\", \"next\", \"trade_end\"]].head()"
   ]
  },
  {
   "cell_type": "code",
   "execution_count": 59,
   "metadata": {},
   "outputs": [],
   "source": [
    "def signal_text(signal):\n",
    "    if signal == 1:\n",
    "        return \"BUY\"\n",
    "    elif signal == -1:\n",
    "        return \"SELL\"\n",
    "    else:\n",
    "        return \"NONE\"\n",
    "    \n"
   ]
  },
  {
   "cell_type": "markdown",
   "metadata": {},
   "source": [
    "#### triggered function:  Receive Buy/Sell direction, get current price from a finer granularity against higher granularity entry(signal) price.\n",
    "\n",
    "Simplified example:\n",
    "* We have a Entry Price of 1.00, identified in a 4 hour candle\n",
    "* We meet 12 5 minute candles at < 1.00\n",
    "* On candle 13 (an hour in) we get a price of 2.99\n",
    "* We buy at 2.99, but our take profit is 3.00 - so this is a worthless trade.\n",
    "* Alternately, candle 13 had a price of 1.01.  If we hit our take profit, we done well. "
   ]
  },
  {
   "cell_type": "code",
   "execution_count": 60,
   "metadata": {},
   "outputs": [],
   "source": [
    "def triggered(direction, current_price, signal_price):\n",
    "    if direction == 1 and current_price > signal_price:\n",
    "        return True\n",
    "    elif direction == -1 and current_price < signal_price:\n",
    "        return True\n",
    "    else:\n",
    "        return False"
   ]
  },
  {
   "cell_type": "markdown",
   "metadata": {},
   "source": [
    "We've used iterrows to loop through DataFrames until now, but this can be slow.  The process_m5 function presents a faster alternative."
   ]
  },
  {
   "cell_type": "code",
   "execution_count": 61,
   "metadata": {},
   "outputs": [],
   "source": [
    "def process_m5(m5_df, row):\n",
    "    for price in m5_df.mid_c.values:\n",
    "        if triggered(row.SIGNAL, price, row.ENTRY) == True:\n",
    "            print(f\"   {signal_text(row.SIGNAL)} Signal at {price: 2f} from Entry: {row.ENTRY: 2f} \")           \n",
    "            break\n"
   ]
  },
  {
   "cell_type": "code",
   "execution_count": 62,
   "metadata": {},
   "outputs": [],
   "source": [
    "df_trades.dropna(inplace=True)\n",
    "df_trades.reset_index(drop=True, inplace=True)"
   ]
  },
  {
   "cell_type": "code",
   "execution_count": 63,
   "metadata": {},
   "outputs": [
    {
     "name": "stdout",
     "output_type": "stream",
     "text": [
      "0 2020-01-05 22:00:00+00:00 BUY  108.154400 (334, 16)\n",
      "   BUY Signal at  108.157000 from Entry:  108.154400 \n",
      "1 2020-01-06 22:00:00+00:00 BUY  108.522400 (142, 16)\n",
      "2 2020-01-07 06:00:00+00:00 BUY  108.514300 (768, 16)\n",
      "   BUY Signal at  108.537000 from Entry:  108.514300 \n",
      "3 2020-01-09 18:00:00+00:00 BUY  109.595100 (1380, 16)\n",
      "   BUY Signal at  109.596000 from Entry:  109.595100 \n",
      "4 2020-01-16 10:00:00+00:00 BUY  110.079400 (671, 16)\n",
      "   BUY Signal at  110.137000 from Entry:  110.079400 \n",
      "5 2020-01-20 14:00:00+00:00 BUY  110.204200 (2542, 16)\n",
      "   BUY Signal at  110.214000 from Entry:  110.204200 \n",
      "6 2020-01-31 06:00:00+00:00 BUY  109.137100 (528, 16)\n",
      "7 2020-02-03 22:00:00+00:00 BUY  108.760500 (335, 16)\n",
      "   BUY Signal at  108.766000 from Entry:  108.760500 \n",
      "8 2020-02-04 22:00:00+00:00 BUY  109.557600 (431, 16)\n",
      "   BUY Signal at  109.678000 from Entry:  109.557600 \n",
      "9 2020-02-06 06:00:00+00:00 BUY  109.996900 (718, 16)\n",
      "   BUY Signal at  110.020000 from Entry:  109.996900 \n",
      "10 2020-02-10 14:00:00+00:00 BUY  109.825000 (383, 16)\n",
      "   BUY Signal at  109.833000 from Entry:  109.825000 \n",
      "11 2020-02-11 18:00:00+00:00 BUY  109.987800 (382, 16)\n",
      "   BUY Signal at  110.074000 from Entry:  109.987800 \n"
     ]
    }
   ],
   "source": [
    "for index, row in df_trades.iterrows():\n",
    "    m5_data = df_raw[(df_raw.time >= row.time) & (df_raw.time <= row.trade_end)]\n",
    "    print(f\"{index} {row.time} {signal_text(row.SIGNAL)} {row.ENTRY: 2f} {m5_data.shape}\")\n",
    "    process_m5(m5_data, row)\n",
    "    if index > 10:\n",
    "        break"
   ]
  },
  {
   "cell_type": "code",
   "execution_count": 64,
   "metadata": {},
   "outputs": [
    {
     "data": {
      "text/html": [
       "<div>\n",
       "<style scoped>\n",
       "    .dataframe tbody tr th:only-of-type {\n",
       "        vertical-align: middle;\n",
       "    }\n",
       "\n",
       "    .dataframe tbody tr th {\n",
       "        vertical-align: top;\n",
       "    }\n",
       "\n",
       "    .dataframe thead th {\n",
       "        text-align: right;\n",
       "    }\n",
       "</style>\n",
       "<table border=\"1\" class=\"dataframe\">\n",
       "  <thead>\n",
       "    <tr style=\"text-align: right;\">\n",
       "      <th></th>\n",
       "      <th>Unnamed: 0</th>\n",
       "      <th>ticker</th>\n",
       "      <th>time</th>\n",
       "      <th>volume</th>\n",
       "      <th>bid_o</th>\n",
       "      <th>bid_h</th>\n",
       "      <th>bid_l</th>\n",
       "      <th>bid_c</th>\n",
       "      <th>mid_o</th>\n",
       "      <th>mid_h</th>\n",
       "      <th>mid_l</th>\n",
       "      <th>mid_c</th>\n",
       "      <th>ask_o</th>\n",
       "      <th>ask_h</th>\n",
       "      <th>ask_l</th>\n",
       "      <th>ask_c</th>\n",
       "    </tr>\n",
       "  </thead>\n",
       "  <tbody>\n",
       "    <tr>\n",
       "      <th>8283</th>\n",
       "      <td>24</td>\n",
       "      <td>USD_JPY</td>\n",
       "      <td>2020-02-11 18:00:00+00:00</td>\n",
       "      <td>148</td>\n",
       "      <td>109.808</td>\n",
       "      <td>109.826</td>\n",
       "      <td>109.798</td>\n",
       "      <td>109.824</td>\n",
       "      <td>109.814</td>\n",
       "      <td>109.832</td>\n",
       "      <td>109.804</td>\n",
       "      <td>109.830</td>\n",
       "      <td>109.820</td>\n",
       "      <td>109.839</td>\n",
       "      <td>109.810</td>\n",
       "      <td>109.837</td>\n",
       "    </tr>\n",
       "    <tr>\n",
       "      <th>8284</th>\n",
       "      <td>25</td>\n",
       "      <td>USD_JPY</td>\n",
       "      <td>2020-02-11 18:05:00+00:00</td>\n",
       "      <td>144</td>\n",
       "      <td>109.823</td>\n",
       "      <td>109.832</td>\n",
       "      <td>109.818</td>\n",
       "      <td>109.819</td>\n",
       "      <td>109.830</td>\n",
       "      <td>109.838</td>\n",
       "      <td>109.824</td>\n",
       "      <td>109.825</td>\n",
       "      <td>109.836</td>\n",
       "      <td>109.845</td>\n",
       "      <td>109.830</td>\n",
       "      <td>109.831</td>\n",
       "    </tr>\n",
       "    <tr>\n",
       "      <th>8285</th>\n",
       "      <td>26</td>\n",
       "      <td>USD_JPY</td>\n",
       "      <td>2020-02-11 18:10:00+00:00</td>\n",
       "      <td>85</td>\n",
       "      <td>109.817</td>\n",
       "      <td>109.828</td>\n",
       "      <td>109.816</td>\n",
       "      <td>109.825</td>\n",
       "      <td>109.824</td>\n",
       "      <td>109.834</td>\n",
       "      <td>109.822</td>\n",
       "      <td>109.831</td>\n",
       "      <td>109.830</td>\n",
       "      <td>109.839</td>\n",
       "      <td>109.828</td>\n",
       "      <td>109.837</td>\n",
       "    </tr>\n",
       "    <tr>\n",
       "      <th>8286</th>\n",
       "      <td>27</td>\n",
       "      <td>USD_JPY</td>\n",
       "      <td>2020-02-11 18:15:00+00:00</td>\n",
       "      <td>138</td>\n",
       "      <td>109.826</td>\n",
       "      <td>109.828</td>\n",
       "      <td>109.802</td>\n",
       "      <td>109.802</td>\n",
       "      <td>109.833</td>\n",
       "      <td>109.834</td>\n",
       "      <td>109.808</td>\n",
       "      <td>109.808</td>\n",
       "      <td>109.840</td>\n",
       "      <td>109.840</td>\n",
       "      <td>109.814</td>\n",
       "      <td>109.814</td>\n",
       "    </tr>\n",
       "    <tr>\n",
       "      <th>8287</th>\n",
       "      <td>28</td>\n",
       "      <td>USD_JPY</td>\n",
       "      <td>2020-02-11 18:20:00+00:00</td>\n",
       "      <td>120</td>\n",
       "      <td>109.803</td>\n",
       "      <td>109.807</td>\n",
       "      <td>109.794</td>\n",
       "      <td>109.798</td>\n",
       "      <td>109.809</td>\n",
       "      <td>109.812</td>\n",
       "      <td>109.800</td>\n",
       "      <td>109.804</td>\n",
       "      <td>109.815</td>\n",
       "      <td>109.818</td>\n",
       "      <td>109.806</td>\n",
       "      <td>109.809</td>\n",
       "    </tr>\n",
       "  </tbody>\n",
       "</table>\n",
       "</div>"
      ],
      "text/plain": [
       "      Unnamed: 0   ticker                      time  volume    bid_o    bid_h  \\\n",
       "8283          24  USD_JPY 2020-02-11 18:00:00+00:00     148  109.808  109.826   \n",
       "8284          25  USD_JPY 2020-02-11 18:05:00+00:00     144  109.823  109.832   \n",
       "8285          26  USD_JPY 2020-02-11 18:10:00+00:00      85  109.817  109.828   \n",
       "8286          27  USD_JPY 2020-02-11 18:15:00+00:00     138  109.826  109.828   \n",
       "8287          28  USD_JPY 2020-02-11 18:20:00+00:00     120  109.803  109.807   \n",
       "\n",
       "        bid_l    bid_c    mid_o    mid_h    mid_l    mid_c    ask_o    ask_h  \\\n",
       "8283  109.798  109.824  109.814  109.832  109.804  109.830  109.820  109.839   \n",
       "8284  109.818  109.819  109.830  109.838  109.824  109.825  109.836  109.845   \n",
       "8285  109.816  109.825  109.824  109.834  109.822  109.831  109.830  109.839   \n",
       "8286  109.802  109.802  109.833  109.834  109.808  109.808  109.840  109.840   \n",
       "8287  109.794  109.798  109.809  109.812  109.800  109.804  109.815  109.818   \n",
       "\n",
       "        ask_l    ask_c  \n",
       "8283  109.810  109.837  \n",
       "8284  109.830  109.831  \n",
       "8285  109.828  109.837  \n",
       "8286  109.814  109.814  \n",
       "8287  109.806  109.809  "
      ]
     },
     "execution_count": 64,
     "metadata": {},
     "output_type": "execute_result"
    }
   ],
   "source": [
    "m5_data.head()"
   ]
  },
  {
   "cell_type": "code",
   "execution_count": null,
   "metadata": {},
   "outputs": [],
   "source": []
  }
 ],
 "metadata": {
  "kernelspec": {
   "display_name": "Python 3",
   "language": "python",
   "name": "python3"
  },
  "language_info": {
   "codemirror_mode": {
    "name": "ipython",
    "version": 3
   },
   "file_extension": ".py",
   "mimetype": "text/x-python",
   "name": "python",
   "nbconvert_exporter": "python",
   "pygments_lexer": "ipython3",
   "version": "3.10.4"
  },
  "orig_nbformat": 4
 },
 "nbformat": 4,
 "nbformat_minor": 2
}
