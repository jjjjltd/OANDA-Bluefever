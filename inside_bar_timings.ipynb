{
 "cells": [
  {
   "cell_type": "markdown",
   "metadata": {},
   "source": [
    "This notebook is a - kind of - continuation from: inside_bar_explore.ipynb"
   ]
  },
  {
   "cell_type": "code",
   "execution_count": 1,
   "metadata": {},
   "outputs": [],
   "source": [
    "import pandas as pd\n",
    "import plotly.graph_objects as go\n",
    "import utils\n",
    "import datetime as dt\n",
    "from dateutil.parser import *"
   ]
  },
  {
   "cell_type": "code",
   "execution_count": 2,
   "metadata": {},
   "outputs": [],
   "source": [
    "df_trades = pd.read_csv(\"./Data/Pairs/USD_JPY_H4_trades.csv\")"
   ]
  },
  {
   "cell_type": "code",
   "execution_count": 3,
   "metadata": {},
   "outputs": [],
   "source": [
    "pair = \"USD_JPY\"\n",
    "granularity = \"M5\""
   ]
  },
  {
   "cell_type": "code",
   "execution_count": 4,
   "metadata": {},
   "outputs": [
    {
     "data": {
      "text/plain": [
       "(223553, 15)"
      ]
     },
     "execution_count": 4,
     "metadata": {},
     "output_type": "execute_result"
    }
   ],
   "source": [
    "df_raw = pd.read_csv(utils.get_hist_data_filename(pair, granularity))\n",
    "df_raw.shape"
   ]
  },
  {
   "cell_type": "code",
   "execution_count": 5,
   "metadata": {},
   "outputs": [],
   "source": [
    "non_nums = ['ticker', 'time', 'volume']\n",
    "num_cols = [x for x in df_raw.columns if x not in non_nums]\n",
    "df_raw[num_cols] = df_raw[num_cols].apply(pd.to_numeric)"
   ]
  },
  {
   "cell_type": "code",
   "execution_count": 6,
   "metadata": {},
   "outputs": [],
   "source": [
    "df_trades[\"time\"] = [parse(x) for x in df_trades.time]\n",
    "df_raw[\"time\"] = [parse(x) for x in df_raw.time]"
   ]
  },
  {
   "cell_type": "markdown",
   "metadata": {},
   "source": [
    "We need to know the time of the next trade (shift), and the time of the last 5 minute trade in the 4 hour window (because the \"H4\" granularity data is what we're digging into).  So, that's why we're adding 03:55 to the start time of the 4 hour window."
   ]
  },
  {
   "cell_type": "code",
   "execution_count": 7,
   "metadata": {},
   "outputs": [
    {
     "data": {
      "text/html": [
       "<div>\n",
       "<style scoped>\n",
       "    .dataframe tbody tr th:only-of-type {\n",
       "        vertical-align: middle;\n",
       "    }\n",
       "\n",
       "    .dataframe tbody tr th {\n",
       "        vertical-align: top;\n",
       "    }\n",
       "\n",
       "    .dataframe thead th {\n",
       "        text-align: right;\n",
       "    }\n",
       "</style>\n",
       "<table border=\"1\" class=\"dataframe\">\n",
       "  <thead>\n",
       "    <tr style=\"text-align: right;\">\n",
       "      <th></th>\n",
       "      <th>time</th>\n",
       "      <th>next</th>\n",
       "      <th>trade_end</th>\n",
       "      <th>trade_start</th>\n",
       "    </tr>\n",
       "  </thead>\n",
       "  <tbody>\n",
       "    <tr>\n",
       "      <th>0</th>\n",
       "      <td>2020-01-05 22:00:00+00:00</td>\n",
       "      <td>2020-01-06 22:00:00+00:00</td>\n",
       "      <td>2020-01-07 01:55:00+00:00</td>\n",
       "      <td>2020-01-06 02:00:00+00:00</td>\n",
       "    </tr>\n",
       "    <tr>\n",
       "      <th>1</th>\n",
       "      <td>2020-01-06 22:00:00+00:00</td>\n",
       "      <td>2020-01-07 06:00:00+00:00</td>\n",
       "      <td>2020-01-07 09:55:00+00:00</td>\n",
       "      <td>2020-01-07 02:00:00+00:00</td>\n",
       "    </tr>\n",
       "    <tr>\n",
       "      <th>2</th>\n",
       "      <td>2020-01-07 06:00:00+00:00</td>\n",
       "      <td>2020-01-09 18:00:00+00:00</td>\n",
       "      <td>2020-01-09 21:55:00+00:00</td>\n",
       "      <td>2020-01-07 10:00:00+00:00</td>\n",
       "    </tr>\n",
       "    <tr>\n",
       "      <th>3</th>\n",
       "      <td>2020-01-09 18:00:00+00:00</td>\n",
       "      <td>2020-01-16 10:00:00+00:00</td>\n",
       "      <td>2020-01-16 13:55:00+00:00</td>\n",
       "      <td>2020-01-09 22:00:00+00:00</td>\n",
       "    </tr>\n",
       "    <tr>\n",
       "      <th>4</th>\n",
       "      <td>2020-01-16 10:00:00+00:00</td>\n",
       "      <td>2020-01-20 14:00:00+00:00</td>\n",
       "      <td>2020-01-20 17:55:00+00:00</td>\n",
       "      <td>2020-01-16 14:00:00+00:00</td>\n",
       "    </tr>\n",
       "  </tbody>\n",
       "</table>\n",
       "</div>"
      ],
      "text/plain": [
       "                       time                      next  \\\n",
       "0 2020-01-05 22:00:00+00:00 2020-01-06 22:00:00+00:00   \n",
       "1 2020-01-06 22:00:00+00:00 2020-01-07 06:00:00+00:00   \n",
       "2 2020-01-07 06:00:00+00:00 2020-01-09 18:00:00+00:00   \n",
       "3 2020-01-09 18:00:00+00:00 2020-01-16 10:00:00+00:00   \n",
       "4 2020-01-16 10:00:00+00:00 2020-01-20 14:00:00+00:00   \n",
       "\n",
       "                  trade_end               trade_start  \n",
       "0 2020-01-07 01:55:00+00:00 2020-01-06 02:00:00+00:00  \n",
       "1 2020-01-07 09:55:00+00:00 2020-01-07 02:00:00+00:00  \n",
       "2 2020-01-09 21:55:00+00:00 2020-01-07 10:00:00+00:00  \n",
       "3 2020-01-16 13:55:00+00:00 2020-01-09 22:00:00+00:00  \n",
       "4 2020-01-20 17:55:00+00:00 2020-01-16 14:00:00+00:00  "
      ]
     },
     "execution_count": 7,
     "metadata": {},
     "output_type": "execute_result"
    }
   ],
   "source": [
    "df_trades[\"next\"] =  df_trades[\"time\"].shift(-1)\n",
    "df_trades[\"trade_end\"] = df_trades.next + dt.timedelta(hours=3, minutes=55)\n",
    "df_trades[\"trade_start\"] = df_trades.time + dt.timedelta(hours=4)\n",
    "df_trades[[\"time\", \"next\", \"trade_end\", \"trade_start\"]].head()"
   ]
  },
  {
   "cell_type": "code",
   "execution_count": 8,
   "metadata": {},
   "outputs": [
    {
     "name": "stdout",
     "output_type": "stream",
     "text": [
      "<class 'pandas.core.frame.DataFrame'>\n",
      "RangeIndex: 401 entries, 0 to 400\n",
      "Data columns (total 31 columns):\n",
      " #   Column          Non-Null Count  Dtype                  \n",
      "---  ------          --------------  -----                  \n",
      " 0   Unnamed: 0.1    401 non-null    int64                  \n",
      " 1   Unnamed: 0      401 non-null    int64                  \n",
      " 2   time            401 non-null    datetime64[ns, tzutc()]\n",
      " 3   volume          401 non-null    int64                  \n",
      " 4   bid_o           401 non-null    float64                \n",
      " 5   bid_h           401 non-null    float64                \n",
      " 6   bid_l           401 non-null    float64                \n",
      " 7   bid_c           401 non-null    float64                \n",
      " 8   mid_o           401 non-null    float64                \n",
      " 9   mid_h           401 non-null    float64                \n",
      " 10  mid_l           401 non-null    float64                \n",
      " 11  mid_c           401 non-null    float64                \n",
      " 12  ask_o           401 non-null    float64                \n",
      " 13  ask_h           401 non-null    float64                \n",
      " 14  ask_l           401 non-null    float64                \n",
      " 15  ask_c           401 non-null    float64                \n",
      " 16  RANGE           401 non-null    float64                \n",
      " 17  mid_h_prev      401 non-null    float64                \n",
      " 18  mid_l_prev      401 non-null    float64                \n",
      " 19  ask_h_prev      401 non-null    float64                \n",
      " 20  bid_l_prev      401 non-null    float64                \n",
      " 21  RANGE_prev      401 non-null    float64                \n",
      " 22  DIRECTION       401 non-null    int64                  \n",
      " 23  DIRECTION_prev  401 non-null    int64                  \n",
      " 24  SIGNAL          401 non-null    int64                  \n",
      " 25  ENTRY           401 non-null    float64                \n",
      " 26  STOPLOSS        401 non-null    float64                \n",
      " 27  TAKEPROFIT      401 non-null    float64                \n",
      " 28  next            400 non-null    datetime64[ns, tzutc()]\n",
      " 29  trade_end       400 non-null    datetime64[ns, tzutc()]\n",
      " 30  trade_start     401 non-null    datetime64[ns, tzutc()]\n",
      "dtypes: datetime64[ns, tzutc()](4), float64(21), int64(6)\n",
      "memory usage: 97.2 KB\n",
      "Debug, print df_trades info:  None\n"
     ]
    }
   ],
   "source": [
    "print(f\"Debug, print df_trades info:  {df_trades.info()}\")"
   ]
  },
  {
   "cell_type": "code",
   "execution_count": 9,
   "metadata": {},
   "outputs": [],
   "source": [
    "df_trades.dropna(inplace=True)\n",
    "df_trades.reset_index(drop=True, inplace=True)"
   ]
  },
  {
   "cell_type": "code",
   "execution_count": 10,
   "metadata": {},
   "outputs": [],
   "source": [
    "def signal_text(signal):\n",
    "    if signal == 1:\n",
    "        return \"BUY\"\n",
    "    elif signal == -1:\n",
    "        return \"SELL\"\n",
    "    else:\n",
    "        return \"NONE\"\n",
    "    \n"
   ]
  },
  {
   "cell_type": "markdown",
   "metadata": {},
   "source": [
    "#### triggered function:  Receive Buy/Sell direction, get current price from a finer granularity against higher granularity entry(signal) price.\n",
    "\n",
    "Simplified example:\n",
    "* We have a Entry Price of 1.00, identified in a 4 hour candle\n",
    "* We meet 12 5 minute candles at < 1.00\n",
    "* On candle 13 (an hour in) we get a price of 2.99\n",
    "* We buy at 2.99, but our take profit is 3.00 - so this is a worthless trade.\n",
    "* Alternately, candle 13 had a price of 1.01.  If we hit our take profit, we done well. "
   ]
  },
  {
   "cell_type": "code",
   "execution_count": 11,
   "metadata": {},
   "outputs": [],
   "source": [
    "def triggered(direction, current_price, signal_price):\n",
    "    if direction == 1 and current_price > signal_price:\n",
    "        return True\n",
    "    elif direction == -1 and current_price < signal_price:\n",
    "        return True\n",
    "    else:\n",
    "        return False"
   ]
  },
  {
   "cell_type": "code",
   "execution_count": 12,
   "metadata": {},
   "outputs": [],
   "source": [
    "def end_hit_calc(direction, SL, price, start_price):\n",
    "    \"\"\"  Return fractional impact accounting for Entry/Stoploss swing.  \"\"\"\n",
    "    delta = price - start_price\n",
    "    full_delta = start_price - SL\n",
    "    fraction = abs(delta / full_delta)\n",
    "\n",
    "    if direction == 1 and price >= start_price:\n",
    "        return fraction\n",
    "    elif direction == 1 and price <= start_price:\n",
    "        return -fraction\n",
    "    elif direction == -1 and price <= start_price:\n",
    "        return fraction\n",
    "    elif direction == -1 and price >= start_price:\n",
    "        return -fraction\n",
    "    \n",
    "    print(\"Error:  end_hit_calc should return something!!\")"
   ]
  },
  {
   "cell_type": "code",
   "execution_count": 13,
   "metadata": {},
   "outputs": [],
   "source": [
    "def process_buy(TP, SL, ask_prices, bid_prices, entry_price):\n",
    "    for index, price in enumerate(ask_prices):\n",
    "        if triggered(1, price, entry_price) == True:\n",
    "            for live_price in bid_prices[index:]:    \n",
    "                if live_price >= TP:\n",
    "                    return 2.0\n",
    "                elif live_price <= SL:\n",
    "                    return -1.0\n",
    "            return end_hit_calc(1, SL, live_price, entry_price)\n",
    "    return 0.0 \n",
    "\n",
    "def process_sell(TP, SL, ask_prices, bid_prices, entry_price):\n",
    "    for index, price in enumerate(bid_prices):\n",
    "        if triggered(-1, price, entry_price) == True:\n",
    "            for live_price in ask_prices[index:]:    \n",
    "                if live_price <= TP:\n",
    "                    return 2.0\n",
    "                elif live_price >= SL:\n",
    "                    return -1.0\n",
    "            return end_hit_calc(-1, SL, live_price, entry_price)   \n",
    "    return 0.0"
   ]
  },
  {
   "cell_type": "markdown",
   "metadata": {},
   "source": [
    "We've used iterrows to loop through DataFrames until now, but this can be slow.  The process_m5 function presents a faster alternative.\n",
    "\n",
    "Note:  in a later iteration of re-engineering (to factor in spread) we make this routine redundant.  I've commented out, because I still think it's useful reference."
   ]
  },
  {
   "cell_type": "code",
   "execution_count": 14,
   "metadata": {},
   "outputs": [],
   "source": [
    "# def process_m5(m5_df, row):\n",
    "#     \"\"\"  Process 5 minute (M5) candle data.  \"\"\"\n",
    "#     result = 0.0\n",
    "#     for index, price in enumerate(m5_df.mid_c.values):\n",
    "#         if triggered(row.SIGNAL, price, row.ENTRY) == True:\n",
    "#             # print(f\"   {signal_text(row.SIGNAL)} Signal at (index {index}) {price: 2f} from Entry: {row.ENTRY: 2f} \") \n",
    "#             result = process_trade(index, row.SIGNAL, row.TAKEPROFIT, row.STOPLOSS, m5_df.mid_c.values, row.ENTRY)          \n",
    "#             break\n",
    "    \n",
    "#     return  result\n"
   ]
  },
  {
   "cell_type": "markdown",
   "metadata": {},
   "source": [
    "### Important \n",
    "\n",
    "Remember at this this point in this notebook:  \n",
    "1. df_trades is built on h4 granularity (4 hour candles)\n",
    "2. df_raw is built on m5 granularity (5 minute candles)\n",
    "\n",
    "This is really obvious while working through a tutorial, but consider putting granularity in DF naming in future."
   ]
  },
  {
   "cell_type": "code",
   "execution_count": 15,
   "metadata": {},
   "outputs": [
    {
     "name": "stdout",
     "output_type": "stream",
     "text": [
      "Aggregated total on 2 vs -1 basis, now factoring bid/ask spread (end_hit_calc):  110.22222222222229\n"
     ]
    }
   ],
   "source": [
    "total = 0\n",
    "for index, row in df_trades.iterrows():\n",
    "    m5_data = df_raw[(df_raw.time >= row.trade_start) & (df_raw.time <= row.trade_end)]\n",
    "    if row.SIGNAL == 1:\n",
    "        r = process_buy(row.TAKEPROFIT, row.STOPLOSS, m5_data.ask_c.values, m5_data.bid_c.values, row.ENTRY)\n",
    "        total += r\n",
    "    elif row.SIGNAL == -1:\n",
    "        r = process_sell(row.TAKEPROFIT, row.STOPLOSS, m5_data.ask_c.values, m5_data.bid_c.values, row.ENTRY)\n",
    "        total += r            \n",
    "    # if index > 10:\n",
    "    #     break\n",
    "print(f\"Aggregated total on 2 vs -1 basis, now factoring bid/ask spread (end_hit_calc):  {total}\")"
   ]
  },
  {
   "cell_type": "code",
   "execution_count": 16,
   "metadata": {},
   "outputs": [
    {
     "data": {
      "text/plain": [
       "(384, 15)"
      ]
     },
     "execution_count": 16,
     "metadata": {},
     "output_type": "execute_result"
    }
   ],
   "source": [
    "m5_data.shape"
   ]
  },
  {
   "cell_type": "code",
   "execution_count": null,
   "metadata": {},
   "outputs": [],
   "source": []
  }
 ],
 "metadata": {
  "kernelspec": {
   "display_name": "Python 3",
   "language": "python",
   "name": "python3"
  },
  "language_info": {
   "codemirror_mode": {
    "name": "ipython",
    "version": 3
   },
   "file_extension": ".py",
   "mimetype": "text/x-python",
   "name": "python",
   "nbconvert_exporter": "python",
   "pygments_lexer": "ipython3",
   "version": "3.10.4"
  },
  "orig_nbformat": 4
 },
 "nbformat": 4,
 "nbformat_minor": 2
}
